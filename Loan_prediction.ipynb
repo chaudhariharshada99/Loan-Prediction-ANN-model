{
  "nbformat": 4,
  "nbformat_minor": 0,
  "metadata": {
    "colab": {
      "name": "Loan_prediction.ipynb",
      "provenance": []
    },
    "kernelspec": {
      "name": "python3",
      "display_name": "Python 3"
    },
    "language_info": {
      "name": "python"
    }
  },
  "cells": [
    {
      "cell_type": "markdown",
      "source": [
        "# DL Project on Loan_Prediction.csv "
      ],
      "metadata": {
        "id": "U4mVEs75Sf3-"
      }
    },
    {
      "cell_type": "code",
      "execution_count": 1,
      "metadata": {
        "id": "9pfap-94ZEVb"
      },
      "outputs": [],
      "source": [
        "import numpy as np\n",
        "import pandas as pd\n",
        "import matplotlib.pyplot as plt\n",
        "import seaborn as sns\n",
        "import warnings\n",
        "warnings.filterwarnings('ignore')\n",
        "\n",
        "import tensorflow as tf\n",
        "from tensorflow.keras import Sequential \n",
        "from tensorflow.keras.layers import Dense \n",
        "from sklearn.metrics import classification_report "
      ]
    },
    {
      "cell_type": "code",
      "source": [
        "df = pd.read_csv('Loan_Train.csv')"
      ],
      "metadata": {
        "id": "uyOWHuiwZIU-"
      },
      "execution_count": 2,
      "outputs": []
    },
    {
      "cell_type": "markdown",
      "source": [
        "## EDA:"
      ],
      "metadata": {
        "id": "vlDfB-6eCE9s"
      }
    },
    {
      "cell_type": "code",
      "source": [
        "df.head()"
      ],
      "metadata": {
        "colab": {
          "base_uri": "https://localhost:8080/",
          "height": 250
        },
        "id": "K_EEDERpZSgi",
        "outputId": "7db63284-58d6-4aea-8355-f6b692683fcd"
      },
      "execution_count": 3,
      "outputs": [
        {
          "output_type": "execute_result",
          "data": {
            "text/html": [
              "\n",
              "  <div id=\"df-7d65e749-1e64-4d4d-82f5-6c98c69ec86f\">\n",
              "    <div class=\"colab-df-container\">\n",
              "      <div>\n",
              "<style scoped>\n",
              "    .dataframe tbody tr th:only-of-type {\n",
              "        vertical-align: middle;\n",
              "    }\n",
              "\n",
              "    .dataframe tbody tr th {\n",
              "        vertical-align: top;\n",
              "    }\n",
              "\n",
              "    .dataframe thead th {\n",
              "        text-align: right;\n",
              "    }\n",
              "</style>\n",
              "<table border=\"1\" class=\"dataframe\">\n",
              "  <thead>\n",
              "    <tr style=\"text-align: right;\">\n",
              "      <th></th>\n",
              "      <th>Loan_ID</th>\n",
              "      <th>Gender</th>\n",
              "      <th>Married</th>\n",
              "      <th>Dependents</th>\n",
              "      <th>Education</th>\n",
              "      <th>Self_Employed</th>\n",
              "      <th>ApplicantIncome</th>\n",
              "      <th>CoapplicantIncome</th>\n",
              "      <th>LoanAmount</th>\n",
              "      <th>Loan_Amount_Term</th>\n",
              "      <th>Credit_History</th>\n",
              "      <th>Property_Area</th>\n",
              "      <th>Loan_Status</th>\n",
              "    </tr>\n",
              "  </thead>\n",
              "  <tbody>\n",
              "    <tr>\n",
              "      <th>0</th>\n",
              "      <td>LP001002</td>\n",
              "      <td>Male</td>\n",
              "      <td>No</td>\n",
              "      <td>0</td>\n",
              "      <td>Graduate</td>\n",
              "      <td>No</td>\n",
              "      <td>5849</td>\n",
              "      <td>0.0</td>\n",
              "      <td>NaN</td>\n",
              "      <td>360.0</td>\n",
              "      <td>1.0</td>\n",
              "      <td>Urban</td>\n",
              "      <td>Y</td>\n",
              "    </tr>\n",
              "    <tr>\n",
              "      <th>1</th>\n",
              "      <td>LP001003</td>\n",
              "      <td>Male</td>\n",
              "      <td>Yes</td>\n",
              "      <td>1</td>\n",
              "      <td>Graduate</td>\n",
              "      <td>No</td>\n",
              "      <td>4583</td>\n",
              "      <td>1508.0</td>\n",
              "      <td>128.0</td>\n",
              "      <td>360.0</td>\n",
              "      <td>1.0</td>\n",
              "      <td>Rural</td>\n",
              "      <td>N</td>\n",
              "    </tr>\n",
              "    <tr>\n",
              "      <th>2</th>\n",
              "      <td>LP001005</td>\n",
              "      <td>Male</td>\n",
              "      <td>Yes</td>\n",
              "      <td>0</td>\n",
              "      <td>Graduate</td>\n",
              "      <td>Yes</td>\n",
              "      <td>3000</td>\n",
              "      <td>0.0</td>\n",
              "      <td>66.0</td>\n",
              "      <td>360.0</td>\n",
              "      <td>1.0</td>\n",
              "      <td>Urban</td>\n",
              "      <td>Y</td>\n",
              "    </tr>\n",
              "    <tr>\n",
              "      <th>3</th>\n",
              "      <td>LP001006</td>\n",
              "      <td>Male</td>\n",
              "      <td>Yes</td>\n",
              "      <td>0</td>\n",
              "      <td>Not Graduate</td>\n",
              "      <td>No</td>\n",
              "      <td>2583</td>\n",
              "      <td>2358.0</td>\n",
              "      <td>120.0</td>\n",
              "      <td>360.0</td>\n",
              "      <td>1.0</td>\n",
              "      <td>Urban</td>\n",
              "      <td>Y</td>\n",
              "    </tr>\n",
              "    <tr>\n",
              "      <th>4</th>\n",
              "      <td>LP001008</td>\n",
              "      <td>Male</td>\n",
              "      <td>No</td>\n",
              "      <td>0</td>\n",
              "      <td>Graduate</td>\n",
              "      <td>No</td>\n",
              "      <td>6000</td>\n",
              "      <td>0.0</td>\n",
              "      <td>141.0</td>\n",
              "      <td>360.0</td>\n",
              "      <td>1.0</td>\n",
              "      <td>Urban</td>\n",
              "      <td>Y</td>\n",
              "    </tr>\n",
              "  </tbody>\n",
              "</table>\n",
              "</div>\n",
              "      <button class=\"colab-df-convert\" onclick=\"convertToInteractive('df-7d65e749-1e64-4d4d-82f5-6c98c69ec86f')\"\n",
              "              title=\"Convert this dataframe to an interactive table.\"\n",
              "              style=\"display:none;\">\n",
              "        \n",
              "  <svg xmlns=\"http://www.w3.org/2000/svg\" height=\"24px\"viewBox=\"0 0 24 24\"\n",
              "       width=\"24px\">\n",
              "    <path d=\"M0 0h24v24H0V0z\" fill=\"none\"/>\n",
              "    <path d=\"M18.56 5.44l.94 2.06.94-2.06 2.06-.94-2.06-.94-.94-2.06-.94 2.06-2.06.94zm-11 1L8.5 8.5l.94-2.06 2.06-.94-2.06-.94L8.5 2.5l-.94 2.06-2.06.94zm10 10l.94 2.06.94-2.06 2.06-.94-2.06-.94-.94-2.06-.94 2.06-2.06.94z\"/><path d=\"M17.41 7.96l-1.37-1.37c-.4-.4-.92-.59-1.43-.59-.52 0-1.04.2-1.43.59L10.3 9.45l-7.72 7.72c-.78.78-.78 2.05 0 2.83L4 21.41c.39.39.9.59 1.41.59.51 0 1.02-.2 1.41-.59l7.78-7.78 2.81-2.81c.8-.78.8-2.07 0-2.86zM5.41 20L4 18.59l7.72-7.72 1.47 1.35L5.41 20z\"/>\n",
              "  </svg>\n",
              "      </button>\n",
              "      \n",
              "  <style>\n",
              "    .colab-df-container {\n",
              "      display:flex;\n",
              "      flex-wrap:wrap;\n",
              "      gap: 12px;\n",
              "    }\n",
              "\n",
              "    .colab-df-convert {\n",
              "      background-color: #E8F0FE;\n",
              "      border: none;\n",
              "      border-radius: 50%;\n",
              "      cursor: pointer;\n",
              "      display: none;\n",
              "      fill: #1967D2;\n",
              "      height: 32px;\n",
              "      padding: 0 0 0 0;\n",
              "      width: 32px;\n",
              "    }\n",
              "\n",
              "    .colab-df-convert:hover {\n",
              "      background-color: #E2EBFA;\n",
              "      box-shadow: 0px 1px 2px rgba(60, 64, 67, 0.3), 0px 1px 3px 1px rgba(60, 64, 67, 0.15);\n",
              "      fill: #174EA6;\n",
              "    }\n",
              "\n",
              "    [theme=dark] .colab-df-convert {\n",
              "      background-color: #3B4455;\n",
              "      fill: #D2E3FC;\n",
              "    }\n",
              "\n",
              "    [theme=dark] .colab-df-convert:hover {\n",
              "      background-color: #434B5C;\n",
              "      box-shadow: 0px 1px 3px 1px rgba(0, 0, 0, 0.15);\n",
              "      filter: drop-shadow(0px 1px 2px rgba(0, 0, 0, 0.3));\n",
              "      fill: #FFFFFF;\n",
              "    }\n",
              "  </style>\n",
              "\n",
              "      <script>\n",
              "        const buttonEl =\n",
              "          document.querySelector('#df-7d65e749-1e64-4d4d-82f5-6c98c69ec86f button.colab-df-convert');\n",
              "        buttonEl.style.display =\n",
              "          google.colab.kernel.accessAllowed ? 'block' : 'none';\n",
              "\n",
              "        async function convertToInteractive(key) {\n",
              "          const element = document.querySelector('#df-7d65e749-1e64-4d4d-82f5-6c98c69ec86f');\n",
              "          const dataTable =\n",
              "            await google.colab.kernel.invokeFunction('convertToInteractive',\n",
              "                                                     [key], {});\n",
              "          if (!dataTable) return;\n",
              "\n",
              "          const docLinkHtml = 'Like what you see? Visit the ' +\n",
              "            '<a target=\"_blank\" href=https://colab.research.google.com/notebooks/data_table.ipynb>data table notebook</a>'\n",
              "            + ' to learn more about interactive tables.';\n",
              "          element.innerHTML = '';\n",
              "          dataTable['output_type'] = 'display_data';\n",
              "          await google.colab.output.renderOutput(dataTable, element);\n",
              "          const docLink = document.createElement('div');\n",
              "          docLink.innerHTML = docLinkHtml;\n",
              "          element.appendChild(docLink);\n",
              "        }\n",
              "      </script>\n",
              "    </div>\n",
              "  </div>\n",
              "  "
            ],
            "text/plain": [
              "    Loan_ID Gender Married  ... Credit_History Property_Area Loan_Status\n",
              "0  LP001002   Male      No  ...            1.0         Urban           Y\n",
              "1  LP001003   Male     Yes  ...            1.0         Rural           N\n",
              "2  LP001005   Male     Yes  ...            1.0         Urban           Y\n",
              "3  LP001006   Male     Yes  ...            1.0         Urban           Y\n",
              "4  LP001008   Male      No  ...            1.0         Urban           Y\n",
              "\n",
              "[5 rows x 13 columns]"
            ]
          },
          "metadata": {},
          "execution_count": 3
        }
      ]
    },
    {
      "cell_type": "code",
      "source": [
        " df.info()"
      ],
      "metadata": {
        "colab": {
          "base_uri": "https://localhost:8080/",
          "height": 0
        },
        "id": "5ck3De3iZUYD",
        "outputId": "fb2dfa41-3d07-4ac5-ddd8-516777556ca4"
      },
      "execution_count": 4,
      "outputs": [
        {
          "output_type": "stream",
          "name": "stdout",
          "text": [
            "<class 'pandas.core.frame.DataFrame'>\n",
            "RangeIndex: 614 entries, 0 to 613\n",
            "Data columns (total 13 columns):\n",
            " #   Column             Non-Null Count  Dtype  \n",
            "---  ------             --------------  -----  \n",
            " 0   Loan_ID            614 non-null    object \n",
            " 1   Gender             601 non-null    object \n",
            " 2   Married            611 non-null    object \n",
            " 3   Dependents         599 non-null    object \n",
            " 4   Education          614 non-null    object \n",
            " 5   Self_Employed      582 non-null    object \n",
            " 6   ApplicantIncome    614 non-null    int64  \n",
            " 7   CoapplicantIncome  614 non-null    float64\n",
            " 8   LoanAmount         592 non-null    float64\n",
            " 9   Loan_Amount_Term   600 non-null    float64\n",
            " 10  Credit_History     564 non-null    float64\n",
            " 11  Property_Area      614 non-null    object \n",
            " 12  Loan_Status        614 non-null    object \n",
            "dtypes: float64(4), int64(1), object(8)\n",
            "memory usage: 62.5+ KB\n"
          ]
        }
      ]
    },
    {
      "cell_type": "code",
      "source": [
        "df.describe()"
      ],
      "metadata": {
        "colab": {
          "base_uri": "https://localhost:8080/",
          "height": 300
        },
        "id": "2zMakCca-74f",
        "outputId": "b1499f05-b5d1-4667-9ae1-389ea25bdb39"
      },
      "execution_count": 5,
      "outputs": [
        {
          "output_type": "execute_result",
          "data": {
            "text/html": [
              "\n",
              "  <div id=\"df-7985f64c-dbc5-49c9-b61f-283fe850adfb\">\n",
              "    <div class=\"colab-df-container\">\n",
              "      <div>\n",
              "<style scoped>\n",
              "    .dataframe tbody tr th:only-of-type {\n",
              "        vertical-align: middle;\n",
              "    }\n",
              "\n",
              "    .dataframe tbody tr th {\n",
              "        vertical-align: top;\n",
              "    }\n",
              "\n",
              "    .dataframe thead th {\n",
              "        text-align: right;\n",
              "    }\n",
              "</style>\n",
              "<table border=\"1\" class=\"dataframe\">\n",
              "  <thead>\n",
              "    <tr style=\"text-align: right;\">\n",
              "      <th></th>\n",
              "      <th>ApplicantIncome</th>\n",
              "      <th>CoapplicantIncome</th>\n",
              "      <th>LoanAmount</th>\n",
              "      <th>Loan_Amount_Term</th>\n",
              "      <th>Credit_History</th>\n",
              "    </tr>\n",
              "  </thead>\n",
              "  <tbody>\n",
              "    <tr>\n",
              "      <th>count</th>\n",
              "      <td>614.000000</td>\n",
              "      <td>614.000000</td>\n",
              "      <td>592.000000</td>\n",
              "      <td>600.00000</td>\n",
              "      <td>564.000000</td>\n",
              "    </tr>\n",
              "    <tr>\n",
              "      <th>mean</th>\n",
              "      <td>5403.459283</td>\n",
              "      <td>1621.245798</td>\n",
              "      <td>146.412162</td>\n",
              "      <td>342.00000</td>\n",
              "      <td>0.842199</td>\n",
              "    </tr>\n",
              "    <tr>\n",
              "      <th>std</th>\n",
              "      <td>6109.041673</td>\n",
              "      <td>2926.248369</td>\n",
              "      <td>85.587325</td>\n",
              "      <td>65.12041</td>\n",
              "      <td>0.364878</td>\n",
              "    </tr>\n",
              "    <tr>\n",
              "      <th>min</th>\n",
              "      <td>150.000000</td>\n",
              "      <td>0.000000</td>\n",
              "      <td>9.000000</td>\n",
              "      <td>12.00000</td>\n",
              "      <td>0.000000</td>\n",
              "    </tr>\n",
              "    <tr>\n",
              "      <th>25%</th>\n",
              "      <td>2877.500000</td>\n",
              "      <td>0.000000</td>\n",
              "      <td>100.000000</td>\n",
              "      <td>360.00000</td>\n",
              "      <td>1.000000</td>\n",
              "    </tr>\n",
              "    <tr>\n",
              "      <th>50%</th>\n",
              "      <td>3812.500000</td>\n",
              "      <td>1188.500000</td>\n",
              "      <td>128.000000</td>\n",
              "      <td>360.00000</td>\n",
              "      <td>1.000000</td>\n",
              "    </tr>\n",
              "    <tr>\n",
              "      <th>75%</th>\n",
              "      <td>5795.000000</td>\n",
              "      <td>2297.250000</td>\n",
              "      <td>168.000000</td>\n",
              "      <td>360.00000</td>\n",
              "      <td>1.000000</td>\n",
              "    </tr>\n",
              "    <tr>\n",
              "      <th>max</th>\n",
              "      <td>81000.000000</td>\n",
              "      <td>41667.000000</td>\n",
              "      <td>700.000000</td>\n",
              "      <td>480.00000</td>\n",
              "      <td>1.000000</td>\n",
              "    </tr>\n",
              "  </tbody>\n",
              "</table>\n",
              "</div>\n",
              "      <button class=\"colab-df-convert\" onclick=\"convertToInteractive('df-7985f64c-dbc5-49c9-b61f-283fe850adfb')\"\n",
              "              title=\"Convert this dataframe to an interactive table.\"\n",
              "              style=\"display:none;\">\n",
              "        \n",
              "  <svg xmlns=\"http://www.w3.org/2000/svg\" height=\"24px\"viewBox=\"0 0 24 24\"\n",
              "       width=\"24px\">\n",
              "    <path d=\"M0 0h24v24H0V0z\" fill=\"none\"/>\n",
              "    <path d=\"M18.56 5.44l.94 2.06.94-2.06 2.06-.94-2.06-.94-.94-2.06-.94 2.06-2.06.94zm-11 1L8.5 8.5l.94-2.06 2.06-.94-2.06-.94L8.5 2.5l-.94 2.06-2.06.94zm10 10l.94 2.06.94-2.06 2.06-.94-2.06-.94-.94-2.06-.94 2.06-2.06.94z\"/><path d=\"M17.41 7.96l-1.37-1.37c-.4-.4-.92-.59-1.43-.59-.52 0-1.04.2-1.43.59L10.3 9.45l-7.72 7.72c-.78.78-.78 2.05 0 2.83L4 21.41c.39.39.9.59 1.41.59.51 0 1.02-.2 1.41-.59l7.78-7.78 2.81-2.81c.8-.78.8-2.07 0-2.86zM5.41 20L4 18.59l7.72-7.72 1.47 1.35L5.41 20z\"/>\n",
              "  </svg>\n",
              "      </button>\n",
              "      \n",
              "  <style>\n",
              "    .colab-df-container {\n",
              "      display:flex;\n",
              "      flex-wrap:wrap;\n",
              "      gap: 12px;\n",
              "    }\n",
              "\n",
              "    .colab-df-convert {\n",
              "      background-color: #E8F0FE;\n",
              "      border: none;\n",
              "      border-radius: 50%;\n",
              "      cursor: pointer;\n",
              "      display: none;\n",
              "      fill: #1967D2;\n",
              "      height: 32px;\n",
              "      padding: 0 0 0 0;\n",
              "      width: 32px;\n",
              "    }\n",
              "\n",
              "    .colab-df-convert:hover {\n",
              "      background-color: #E2EBFA;\n",
              "      box-shadow: 0px 1px 2px rgba(60, 64, 67, 0.3), 0px 1px 3px 1px rgba(60, 64, 67, 0.15);\n",
              "      fill: #174EA6;\n",
              "    }\n",
              "\n",
              "    [theme=dark] .colab-df-convert {\n",
              "      background-color: #3B4455;\n",
              "      fill: #D2E3FC;\n",
              "    }\n",
              "\n",
              "    [theme=dark] .colab-df-convert:hover {\n",
              "      background-color: #434B5C;\n",
              "      box-shadow: 0px 1px 3px 1px rgba(0, 0, 0, 0.15);\n",
              "      filter: drop-shadow(0px 1px 2px rgba(0, 0, 0, 0.3));\n",
              "      fill: #FFFFFF;\n",
              "    }\n",
              "  </style>\n",
              "\n",
              "      <script>\n",
              "        const buttonEl =\n",
              "          document.querySelector('#df-7985f64c-dbc5-49c9-b61f-283fe850adfb button.colab-df-convert');\n",
              "        buttonEl.style.display =\n",
              "          google.colab.kernel.accessAllowed ? 'block' : 'none';\n",
              "\n",
              "        async function convertToInteractive(key) {\n",
              "          const element = document.querySelector('#df-7985f64c-dbc5-49c9-b61f-283fe850adfb');\n",
              "          const dataTable =\n",
              "            await google.colab.kernel.invokeFunction('convertToInteractive',\n",
              "                                                     [key], {});\n",
              "          if (!dataTable) return;\n",
              "\n",
              "          const docLinkHtml = 'Like what you see? Visit the ' +\n",
              "            '<a target=\"_blank\" href=https://colab.research.google.com/notebooks/data_table.ipynb>data table notebook</a>'\n",
              "            + ' to learn more about interactive tables.';\n",
              "          element.innerHTML = '';\n",
              "          dataTable['output_type'] = 'display_data';\n",
              "          await google.colab.output.renderOutput(dataTable, element);\n",
              "          const docLink = document.createElement('div');\n",
              "          docLink.innerHTML = docLinkHtml;\n",
              "          element.appendChild(docLink);\n",
              "        }\n",
              "      </script>\n",
              "    </div>\n",
              "  </div>\n",
              "  "
            ],
            "text/plain": [
              "       ApplicantIncome  CoapplicantIncome  ...  Loan_Amount_Term  Credit_History\n",
              "count       614.000000         614.000000  ...         600.00000      564.000000\n",
              "mean       5403.459283        1621.245798  ...         342.00000        0.842199\n",
              "std        6109.041673        2926.248369  ...          65.12041        0.364878\n",
              "min         150.000000           0.000000  ...          12.00000        0.000000\n",
              "25%        2877.500000           0.000000  ...         360.00000        1.000000\n",
              "50%        3812.500000        1188.500000  ...         360.00000        1.000000\n",
              "75%        5795.000000        2297.250000  ...         360.00000        1.000000\n",
              "max       81000.000000       41667.000000  ...         480.00000        1.000000\n",
              "\n",
              "[8 rows x 5 columns]"
            ]
          },
          "metadata": {},
          "execution_count": 5
        }
      ]
    },
    {
      "cell_type": "markdown",
      "source": [
        "## Data Preprocessing:"
      ],
      "metadata": {
        "id": "-ZfHCBeUCPFh"
      }
    },
    {
      "cell_type": "markdown",
      "source": [
        "- Column Loan_ID, we can drop, as it will not help \n",
        "predicting Target."
      ],
      "metadata": {
        "id": "TbrZLPPYTgzU"
      }
    },
    {
      "cell_type": "code",
      "source": [
        "df.drop(columns='Loan_ID',axis=1, inplace=True)"
      ],
      "metadata": {
        "id": "Lq-6lh-FTfTm"
      },
      "execution_count": 6,
      "outputs": []
    },
    {
      "cell_type": "markdown",
      "source": [
        "- Now we have 12 columns in our dataframe.\n",
        "- In dependent column, values are numeric but datatype is showing Object. So, lets check the unique values it has. "
      ],
      "metadata": {
        "id": "WfBNDrzuUSk-"
      }
    },
    {
      "cell_type": "code",
      "source": [
        "df['Dependents'].value_counts()"
      ],
      "metadata": {
        "colab": {
          "base_uri": "https://localhost:8080/",
          "height": 0
        },
        "id": "PsNWNtKhUn72",
        "outputId": "e2e99605-185c-445b-b4e7-08abd09d6726"
      },
      "execution_count": 7,
      "outputs": [
        {
          "output_type": "execute_result",
          "data": {
            "text/plain": [
              "0     345\n",
              "1     102\n",
              "2     101\n",
              "3+     51\n",
              "Name: Dependents, dtype: int64"
            ]
          },
          "metadata": {},
          "execution_count": 7
        }
      ]
    },
    {
      "cell_type": "markdown",
      "source": [
        "- We can see here 3+ is not numeric value. So lets change this value to 3 and change the datatype of column to float."
      ],
      "metadata": {
        "id": "HzDufYJ6UtdV"
      }
    },
    {
      "cell_type": "code",
      "source": [
        "df.replace({\"Dependents\":{'3+':3},\"Loan_Status\":{'Y':1,'N':0}},inplace=True)"
      ],
      "metadata": {
        "id": "tKAhC36WUE3N"
      },
      "execution_count": 8,
      "outputs": []
    },
    {
      "cell_type": "code",
      "source": [
        "df['Dependents'].value_counts()"
      ],
      "metadata": {
        "colab": {
          "base_uri": "https://localhost:8080/",
          "height": 0
        },
        "id": "J0_D6WwIVpfU",
        "outputId": "6c9a8528-788e-47be-979b-eca95fb225b7"
      },
      "execution_count": 9,
      "outputs": [
        {
          "output_type": "execute_result",
          "data": {
            "text/plain": [
              "0    345\n",
              "1    102\n",
              "2    101\n",
              "3     51\n",
              "Name: Dependents, dtype: int64"
            ]
          },
          "metadata": {},
          "execution_count": 9
        }
      ]
    },
    {
      "cell_type": "code",
      "source": [
        "df['Dependents'].dtype"
      ],
      "metadata": {
        "colab": {
          "base_uri": "https://localhost:8080/",
          "height": 0
        },
        "id": "g_qOJSMbVpU0",
        "outputId": "0dd8c7e4-52dc-45c7-a30e-192c067524eb"
      },
      "execution_count": 10,
      "outputs": [
        {
          "output_type": "execute_result",
          "data": {
            "text/plain": [
              "dtype('O')"
            ]
          },
          "metadata": {},
          "execution_count": 10
        }
      ]
    },
    {
      "cell_type": "code",
      "source": [
        "df['Dependents'] = df['Dependents'].astype('float')"
      ],
      "metadata": {
        "id": "7YxuiPSXVpMG"
      },
      "execution_count": 11,
      "outputs": []
    },
    {
      "cell_type": "code",
      "source": [
        "df.info()"
      ],
      "metadata": {
        "colab": {
          "base_uri": "https://localhost:8080/",
          "height": 0
        },
        "id": "7iT9n_lGztAr",
        "outputId": "92979dc0-2f98-4994-ff24-e4888dc9ae5a"
      },
      "execution_count": 12,
      "outputs": [
        {
          "output_type": "stream",
          "name": "stdout",
          "text": [
            "<class 'pandas.core.frame.DataFrame'>\n",
            "RangeIndex: 614 entries, 0 to 613\n",
            "Data columns (total 12 columns):\n",
            " #   Column             Non-Null Count  Dtype  \n",
            "---  ------             --------------  -----  \n",
            " 0   Gender             601 non-null    object \n",
            " 1   Married            611 non-null    object \n",
            " 2   Dependents         599 non-null    float64\n",
            " 3   Education          614 non-null    object \n",
            " 4   Self_Employed      582 non-null    object \n",
            " 5   ApplicantIncome    614 non-null    int64  \n",
            " 6   CoapplicantIncome  614 non-null    float64\n",
            " 7   LoanAmount         592 non-null    float64\n",
            " 8   Loan_Amount_Term   600 non-null    float64\n",
            " 9   Credit_History     564 non-null    float64\n",
            " 10  Property_Area      614 non-null    object \n",
            " 11  Loan_Status        614 non-null    int64  \n",
            "dtypes: float64(5), int64(2), object(5)\n",
            "memory usage: 57.7+ KB\n"
          ]
        }
      ]
    },
    {
      "cell_type": "code",
      "source": [
        "df['Loan_Status'].value_counts()"
      ],
      "metadata": {
        "colab": {
          "base_uri": "https://localhost:8080/",
          "height": 0
        },
        "id": "brr-ceVYGJml",
        "outputId": "f625d1a8-85b0-4fba-ad16-4f104d94eef9"
      },
      "execution_count": 13,
      "outputs": [
        {
          "output_type": "execute_result",
          "data": {
            "text/plain": [
              "1    422\n",
              "0    192\n",
              "Name: Loan_Status, dtype: int64"
            ]
          },
          "metadata": {},
          "execution_count": 13
        }
      ]
    },
    {
      "cell_type": "code",
      "source": [
        "df.isnull().sum()"
      ],
      "metadata": {
        "colab": {
          "base_uri": "https://localhost:8080/",
          "height": 0
        },
        "id": "tgQlNsEPSHjd",
        "outputId": "a3eec07f-e149-4ddb-f640-f63079295551"
      },
      "execution_count": 14,
      "outputs": [
        {
          "output_type": "execute_result",
          "data": {
            "text/plain": [
              "Gender               13\n",
              "Married               3\n",
              "Dependents           15\n",
              "Education             0\n",
              "Self_Employed        32\n",
              "ApplicantIncome       0\n",
              "CoapplicantIncome     0\n",
              "LoanAmount           22\n",
              "Loan_Amount_Term     14\n",
              "Credit_History       50\n",
              "Property_Area         0\n",
              "Loan_Status           0\n",
              "dtype: int64"
            ]
          },
          "metadata": {},
          "execution_count": 14
        }
      ]
    },
    {
      "cell_type": "code",
      "source": [
        "df.isna().sum()/df.shape[0]*100"
      ],
      "metadata": {
        "colab": {
          "base_uri": "https://localhost:8080/",
          "height": 0
        },
        "id": "I08zAp23RbDK",
        "outputId": "b38fee16-17c0-4f63-ac37-147dd26483fa"
      },
      "execution_count": 15,
      "outputs": [
        {
          "output_type": "execute_result",
          "data": {
            "text/plain": [
              "Gender               2.117264\n",
              "Married              0.488599\n",
              "Dependents           2.442997\n",
              "Education            0.000000\n",
              "Self_Employed        5.211726\n",
              "ApplicantIncome      0.000000\n",
              "CoapplicantIncome    0.000000\n",
              "LoanAmount           3.583062\n",
              "Loan_Amount_Term     2.280130\n",
              "Credit_History       8.143322\n",
              "Property_Area        0.000000\n",
              "Loan_Status          0.000000\n",
              "dtype: float64"
            ]
          },
          "metadata": {},
          "execution_count": 15
        }
      ]
    },
    {
      "cell_type": "code",
      "source": [
        "df.corr()['Loan_Status']"
      ],
      "metadata": {
        "colab": {
          "base_uri": "https://localhost:8080/",
          "height": 0
        },
        "id": "TVMNIQEKFNxF",
        "outputId": "4cbdceed-212b-40fc-cfed-511bc6d9f6fa"
      },
      "execution_count": 16,
      "outputs": [
        {
          "output_type": "execute_result",
          "data": {
            "text/plain": [
              "Dependents           0.006781\n",
              "ApplicantIncome     -0.004710\n",
              "CoapplicantIncome   -0.059187\n",
              "LoanAmount          -0.037318\n",
              "Loan_Amount_Term    -0.021268\n",
              "Credit_History       0.561678\n",
              "Loan_Status          1.000000\n",
              "Name: Loan_Status, dtype: float64"
            ]
          },
          "metadata": {},
          "execution_count": 16
        }
      ]
    },
    {
      "cell_type": "markdown",
      "source": [
        "- Among numeric columns, credit history has the best correlation with Target.\n",
        "## Encoding"
      ],
      "metadata": {
        "id": "WVz2swFOCsOk"
      }
    },
    {
      "cell_type": "code",
      "source": [
        "df.tail(7)"
      ],
      "metadata": {
        "colab": {
          "base_uri": "https://localhost:8080/",
          "height": 268
        },
        "id": "Y4piHXhYEq2M",
        "outputId": "dd69355a-13d5-4162-bc7e-3a7da831ea2b"
      },
      "execution_count": 17,
      "outputs": [
        {
          "output_type": "execute_result",
          "data": {
            "text/html": [
              "\n",
              "  <div id=\"df-5d9f8a89-5319-4a81-b6f9-ce632feb6434\">\n",
              "    <div class=\"colab-df-container\">\n",
              "      <div>\n",
              "<style scoped>\n",
              "    .dataframe tbody tr th:only-of-type {\n",
              "        vertical-align: middle;\n",
              "    }\n",
              "\n",
              "    .dataframe tbody tr th {\n",
              "        vertical-align: top;\n",
              "    }\n",
              "\n",
              "    .dataframe thead th {\n",
              "        text-align: right;\n",
              "    }\n",
              "</style>\n",
              "<table border=\"1\" class=\"dataframe\">\n",
              "  <thead>\n",
              "    <tr style=\"text-align: right;\">\n",
              "      <th></th>\n",
              "      <th>Gender</th>\n",
              "      <th>Married</th>\n",
              "      <th>Dependents</th>\n",
              "      <th>Education</th>\n",
              "      <th>Self_Employed</th>\n",
              "      <th>ApplicantIncome</th>\n",
              "      <th>CoapplicantIncome</th>\n",
              "      <th>LoanAmount</th>\n",
              "      <th>Loan_Amount_Term</th>\n",
              "      <th>Credit_History</th>\n",
              "      <th>Property_Area</th>\n",
              "      <th>Loan_Status</th>\n",
              "    </tr>\n",
              "  </thead>\n",
              "  <tbody>\n",
              "    <tr>\n",
              "      <th>607</th>\n",
              "      <td>Male</td>\n",
              "      <td>Yes</td>\n",
              "      <td>2.0</td>\n",
              "      <td>Not Graduate</td>\n",
              "      <td>No</td>\n",
              "      <td>3987</td>\n",
              "      <td>1411.0</td>\n",
              "      <td>157.0</td>\n",
              "      <td>360.0</td>\n",
              "      <td>1.0</td>\n",
              "      <td>Rural</td>\n",
              "      <td>1</td>\n",
              "    </tr>\n",
              "    <tr>\n",
              "      <th>608</th>\n",
              "      <td>Male</td>\n",
              "      <td>Yes</td>\n",
              "      <td>0.0</td>\n",
              "      <td>Graduate</td>\n",
              "      <td>No</td>\n",
              "      <td>3232</td>\n",
              "      <td>1950.0</td>\n",
              "      <td>108.0</td>\n",
              "      <td>360.0</td>\n",
              "      <td>1.0</td>\n",
              "      <td>Rural</td>\n",
              "      <td>1</td>\n",
              "    </tr>\n",
              "    <tr>\n",
              "      <th>609</th>\n",
              "      <td>Female</td>\n",
              "      <td>No</td>\n",
              "      <td>0.0</td>\n",
              "      <td>Graduate</td>\n",
              "      <td>No</td>\n",
              "      <td>2900</td>\n",
              "      <td>0.0</td>\n",
              "      <td>71.0</td>\n",
              "      <td>360.0</td>\n",
              "      <td>1.0</td>\n",
              "      <td>Rural</td>\n",
              "      <td>1</td>\n",
              "    </tr>\n",
              "    <tr>\n",
              "      <th>610</th>\n",
              "      <td>Male</td>\n",
              "      <td>Yes</td>\n",
              "      <td>3.0</td>\n",
              "      <td>Graduate</td>\n",
              "      <td>No</td>\n",
              "      <td>4106</td>\n",
              "      <td>0.0</td>\n",
              "      <td>40.0</td>\n",
              "      <td>180.0</td>\n",
              "      <td>1.0</td>\n",
              "      <td>Rural</td>\n",
              "      <td>1</td>\n",
              "    </tr>\n",
              "    <tr>\n",
              "      <th>611</th>\n",
              "      <td>Male</td>\n",
              "      <td>Yes</td>\n",
              "      <td>1.0</td>\n",
              "      <td>Graduate</td>\n",
              "      <td>No</td>\n",
              "      <td>8072</td>\n",
              "      <td>240.0</td>\n",
              "      <td>253.0</td>\n",
              "      <td>360.0</td>\n",
              "      <td>1.0</td>\n",
              "      <td>Urban</td>\n",
              "      <td>1</td>\n",
              "    </tr>\n",
              "    <tr>\n",
              "      <th>612</th>\n",
              "      <td>Male</td>\n",
              "      <td>Yes</td>\n",
              "      <td>2.0</td>\n",
              "      <td>Graduate</td>\n",
              "      <td>No</td>\n",
              "      <td>7583</td>\n",
              "      <td>0.0</td>\n",
              "      <td>187.0</td>\n",
              "      <td>360.0</td>\n",
              "      <td>1.0</td>\n",
              "      <td>Urban</td>\n",
              "      <td>1</td>\n",
              "    </tr>\n",
              "    <tr>\n",
              "      <th>613</th>\n",
              "      <td>Female</td>\n",
              "      <td>No</td>\n",
              "      <td>0.0</td>\n",
              "      <td>Graduate</td>\n",
              "      <td>Yes</td>\n",
              "      <td>4583</td>\n",
              "      <td>0.0</td>\n",
              "      <td>133.0</td>\n",
              "      <td>360.0</td>\n",
              "      <td>0.0</td>\n",
              "      <td>Semiurban</td>\n",
              "      <td>0</td>\n",
              "    </tr>\n",
              "  </tbody>\n",
              "</table>\n",
              "</div>\n",
              "      <button class=\"colab-df-convert\" onclick=\"convertToInteractive('df-5d9f8a89-5319-4a81-b6f9-ce632feb6434')\"\n",
              "              title=\"Convert this dataframe to an interactive table.\"\n",
              "              style=\"display:none;\">\n",
              "        \n",
              "  <svg xmlns=\"http://www.w3.org/2000/svg\" height=\"24px\"viewBox=\"0 0 24 24\"\n",
              "       width=\"24px\">\n",
              "    <path d=\"M0 0h24v24H0V0z\" fill=\"none\"/>\n",
              "    <path d=\"M18.56 5.44l.94 2.06.94-2.06 2.06-.94-2.06-.94-.94-2.06-.94 2.06-2.06.94zm-11 1L8.5 8.5l.94-2.06 2.06-.94-2.06-.94L8.5 2.5l-.94 2.06-2.06.94zm10 10l.94 2.06.94-2.06 2.06-.94-2.06-.94-.94-2.06-.94 2.06-2.06.94z\"/><path d=\"M17.41 7.96l-1.37-1.37c-.4-.4-.92-.59-1.43-.59-.52 0-1.04.2-1.43.59L10.3 9.45l-7.72 7.72c-.78.78-.78 2.05 0 2.83L4 21.41c.39.39.9.59 1.41.59.51 0 1.02-.2 1.41-.59l7.78-7.78 2.81-2.81c.8-.78.8-2.07 0-2.86zM5.41 20L4 18.59l7.72-7.72 1.47 1.35L5.41 20z\"/>\n",
              "  </svg>\n",
              "      </button>\n",
              "      \n",
              "  <style>\n",
              "    .colab-df-container {\n",
              "      display:flex;\n",
              "      flex-wrap:wrap;\n",
              "      gap: 12px;\n",
              "    }\n",
              "\n",
              "    .colab-df-convert {\n",
              "      background-color: #E8F0FE;\n",
              "      border: none;\n",
              "      border-radius: 50%;\n",
              "      cursor: pointer;\n",
              "      display: none;\n",
              "      fill: #1967D2;\n",
              "      height: 32px;\n",
              "      padding: 0 0 0 0;\n",
              "      width: 32px;\n",
              "    }\n",
              "\n",
              "    .colab-df-convert:hover {\n",
              "      background-color: #E2EBFA;\n",
              "      box-shadow: 0px 1px 2px rgba(60, 64, 67, 0.3), 0px 1px 3px 1px rgba(60, 64, 67, 0.15);\n",
              "      fill: #174EA6;\n",
              "    }\n",
              "\n",
              "    [theme=dark] .colab-df-convert {\n",
              "      background-color: #3B4455;\n",
              "      fill: #D2E3FC;\n",
              "    }\n",
              "\n",
              "    [theme=dark] .colab-df-convert:hover {\n",
              "      background-color: #434B5C;\n",
              "      box-shadow: 0px 1px 3px 1px rgba(0, 0, 0, 0.15);\n",
              "      filter: drop-shadow(0px 1px 2px rgba(0, 0, 0, 0.3));\n",
              "      fill: #FFFFFF;\n",
              "    }\n",
              "  </style>\n",
              "\n",
              "      <script>\n",
              "        const buttonEl =\n",
              "          document.querySelector('#df-5d9f8a89-5319-4a81-b6f9-ce632feb6434 button.colab-df-convert');\n",
              "        buttonEl.style.display =\n",
              "          google.colab.kernel.accessAllowed ? 'block' : 'none';\n",
              "\n",
              "        async function convertToInteractive(key) {\n",
              "          const element = document.querySelector('#df-5d9f8a89-5319-4a81-b6f9-ce632feb6434');\n",
              "          const dataTable =\n",
              "            await google.colab.kernel.invokeFunction('convertToInteractive',\n",
              "                                                     [key], {});\n",
              "          if (!dataTable) return;\n",
              "\n",
              "          const docLinkHtml = 'Like what you see? Visit the ' +\n",
              "            '<a target=\"_blank\" href=https://colab.research.google.com/notebooks/data_table.ipynb>data table notebook</a>'\n",
              "            + ' to learn more about interactive tables.';\n",
              "          element.innerHTML = '';\n",
              "          dataTable['output_type'] = 'display_data';\n",
              "          await google.colab.output.renderOutput(dataTable, element);\n",
              "          const docLink = document.createElement('div');\n",
              "          docLink.innerHTML = docLinkHtml;\n",
              "          element.appendChild(docLink);\n",
              "        }\n",
              "      </script>\n",
              "    </div>\n",
              "  </div>\n",
              "  "
            ],
            "text/plain": [
              "     Gender Married  Dependents  ... Credit_History Property_Area  Loan_Status\n",
              "607    Male     Yes         2.0  ...            1.0         Rural            1\n",
              "608    Male     Yes         0.0  ...            1.0         Rural            1\n",
              "609  Female      No         0.0  ...            1.0         Rural            1\n",
              "610    Male     Yes         3.0  ...            1.0         Rural            1\n",
              "611    Male     Yes         1.0  ...            1.0         Urban            1\n",
              "612    Male     Yes         2.0  ...            1.0         Urban            1\n",
              "613  Female      No         0.0  ...            0.0     Semiurban            0\n",
              "\n",
              "[7 rows x 12 columns]"
            ]
          },
          "metadata": {},
          "execution_count": 17
        }
      ]
    },
    {
      "cell_type": "code",
      "source": [
        "df.replace({\"Gender\":{'Female':0,'Male':1},\"Married\":{'Yes':1,'No':0},\"Education\":{'Not Graduate':0,'Graduate':1},\n",
        "            \"Self_Employed\":{'No':0,'Yes':1},\"Property_Area\":{'Rural':0,'Semiurban':1,'Urban':2}},inplace=True)"
      ],
      "metadata": {
        "id": "FxGA5FbFD7Qd"
      },
      "execution_count": 18,
      "outputs": []
    },
    {
      "cell_type": "code",
      "source": [
        "df.head()"
      ],
      "metadata": {
        "id": "6aTQlbBrJryk",
        "colab": {
          "base_uri": "https://localhost:8080/",
          "height": 206
        },
        "outputId": "036440c8-d5a7-4828-d5a7-ed447c20d493"
      },
      "execution_count": 19,
      "outputs": [
        {
          "output_type": "execute_result",
          "data": {
            "text/html": [
              "\n",
              "  <div id=\"df-a225f7ba-ad46-4f4c-8eb7-9d7f9d1e30c3\">\n",
              "    <div class=\"colab-df-container\">\n",
              "      <div>\n",
              "<style scoped>\n",
              "    .dataframe tbody tr th:only-of-type {\n",
              "        vertical-align: middle;\n",
              "    }\n",
              "\n",
              "    .dataframe tbody tr th {\n",
              "        vertical-align: top;\n",
              "    }\n",
              "\n",
              "    .dataframe thead th {\n",
              "        text-align: right;\n",
              "    }\n",
              "</style>\n",
              "<table border=\"1\" class=\"dataframe\">\n",
              "  <thead>\n",
              "    <tr style=\"text-align: right;\">\n",
              "      <th></th>\n",
              "      <th>Gender</th>\n",
              "      <th>Married</th>\n",
              "      <th>Dependents</th>\n",
              "      <th>Education</th>\n",
              "      <th>Self_Employed</th>\n",
              "      <th>ApplicantIncome</th>\n",
              "      <th>CoapplicantIncome</th>\n",
              "      <th>LoanAmount</th>\n",
              "      <th>Loan_Amount_Term</th>\n",
              "      <th>Credit_History</th>\n",
              "      <th>Property_Area</th>\n",
              "      <th>Loan_Status</th>\n",
              "    </tr>\n",
              "  </thead>\n",
              "  <tbody>\n",
              "    <tr>\n",
              "      <th>0</th>\n",
              "      <td>1.0</td>\n",
              "      <td>0.0</td>\n",
              "      <td>0.0</td>\n",
              "      <td>1</td>\n",
              "      <td>0.0</td>\n",
              "      <td>5849</td>\n",
              "      <td>0.0</td>\n",
              "      <td>NaN</td>\n",
              "      <td>360.0</td>\n",
              "      <td>1.0</td>\n",
              "      <td>2</td>\n",
              "      <td>1</td>\n",
              "    </tr>\n",
              "    <tr>\n",
              "      <th>1</th>\n",
              "      <td>1.0</td>\n",
              "      <td>1.0</td>\n",
              "      <td>1.0</td>\n",
              "      <td>1</td>\n",
              "      <td>0.0</td>\n",
              "      <td>4583</td>\n",
              "      <td>1508.0</td>\n",
              "      <td>128.0</td>\n",
              "      <td>360.0</td>\n",
              "      <td>1.0</td>\n",
              "      <td>0</td>\n",
              "      <td>0</td>\n",
              "    </tr>\n",
              "    <tr>\n",
              "      <th>2</th>\n",
              "      <td>1.0</td>\n",
              "      <td>1.0</td>\n",
              "      <td>0.0</td>\n",
              "      <td>1</td>\n",
              "      <td>1.0</td>\n",
              "      <td>3000</td>\n",
              "      <td>0.0</td>\n",
              "      <td>66.0</td>\n",
              "      <td>360.0</td>\n",
              "      <td>1.0</td>\n",
              "      <td>2</td>\n",
              "      <td>1</td>\n",
              "    </tr>\n",
              "    <tr>\n",
              "      <th>3</th>\n",
              "      <td>1.0</td>\n",
              "      <td>1.0</td>\n",
              "      <td>0.0</td>\n",
              "      <td>0</td>\n",
              "      <td>0.0</td>\n",
              "      <td>2583</td>\n",
              "      <td>2358.0</td>\n",
              "      <td>120.0</td>\n",
              "      <td>360.0</td>\n",
              "      <td>1.0</td>\n",
              "      <td>2</td>\n",
              "      <td>1</td>\n",
              "    </tr>\n",
              "    <tr>\n",
              "      <th>4</th>\n",
              "      <td>1.0</td>\n",
              "      <td>0.0</td>\n",
              "      <td>0.0</td>\n",
              "      <td>1</td>\n",
              "      <td>0.0</td>\n",
              "      <td>6000</td>\n",
              "      <td>0.0</td>\n",
              "      <td>141.0</td>\n",
              "      <td>360.0</td>\n",
              "      <td>1.0</td>\n",
              "      <td>2</td>\n",
              "      <td>1</td>\n",
              "    </tr>\n",
              "  </tbody>\n",
              "</table>\n",
              "</div>\n",
              "      <button class=\"colab-df-convert\" onclick=\"convertToInteractive('df-a225f7ba-ad46-4f4c-8eb7-9d7f9d1e30c3')\"\n",
              "              title=\"Convert this dataframe to an interactive table.\"\n",
              "              style=\"display:none;\">\n",
              "        \n",
              "  <svg xmlns=\"http://www.w3.org/2000/svg\" height=\"24px\"viewBox=\"0 0 24 24\"\n",
              "       width=\"24px\">\n",
              "    <path d=\"M0 0h24v24H0V0z\" fill=\"none\"/>\n",
              "    <path d=\"M18.56 5.44l.94 2.06.94-2.06 2.06-.94-2.06-.94-.94-2.06-.94 2.06-2.06.94zm-11 1L8.5 8.5l.94-2.06 2.06-.94-2.06-.94L8.5 2.5l-.94 2.06-2.06.94zm10 10l.94 2.06.94-2.06 2.06-.94-2.06-.94-.94-2.06-.94 2.06-2.06.94z\"/><path d=\"M17.41 7.96l-1.37-1.37c-.4-.4-.92-.59-1.43-.59-.52 0-1.04.2-1.43.59L10.3 9.45l-7.72 7.72c-.78.78-.78 2.05 0 2.83L4 21.41c.39.39.9.59 1.41.59.51 0 1.02-.2 1.41-.59l7.78-7.78 2.81-2.81c.8-.78.8-2.07 0-2.86zM5.41 20L4 18.59l7.72-7.72 1.47 1.35L5.41 20z\"/>\n",
              "  </svg>\n",
              "      </button>\n",
              "      \n",
              "  <style>\n",
              "    .colab-df-container {\n",
              "      display:flex;\n",
              "      flex-wrap:wrap;\n",
              "      gap: 12px;\n",
              "    }\n",
              "\n",
              "    .colab-df-convert {\n",
              "      background-color: #E8F0FE;\n",
              "      border: none;\n",
              "      border-radius: 50%;\n",
              "      cursor: pointer;\n",
              "      display: none;\n",
              "      fill: #1967D2;\n",
              "      height: 32px;\n",
              "      padding: 0 0 0 0;\n",
              "      width: 32px;\n",
              "    }\n",
              "\n",
              "    .colab-df-convert:hover {\n",
              "      background-color: #E2EBFA;\n",
              "      box-shadow: 0px 1px 2px rgba(60, 64, 67, 0.3), 0px 1px 3px 1px rgba(60, 64, 67, 0.15);\n",
              "      fill: #174EA6;\n",
              "    }\n",
              "\n",
              "    [theme=dark] .colab-df-convert {\n",
              "      background-color: #3B4455;\n",
              "      fill: #D2E3FC;\n",
              "    }\n",
              "\n",
              "    [theme=dark] .colab-df-convert:hover {\n",
              "      background-color: #434B5C;\n",
              "      box-shadow: 0px 1px 3px 1px rgba(0, 0, 0, 0.15);\n",
              "      filter: drop-shadow(0px 1px 2px rgba(0, 0, 0, 0.3));\n",
              "      fill: #FFFFFF;\n",
              "    }\n",
              "  </style>\n",
              "\n",
              "      <script>\n",
              "        const buttonEl =\n",
              "          document.querySelector('#df-a225f7ba-ad46-4f4c-8eb7-9d7f9d1e30c3 button.colab-df-convert');\n",
              "        buttonEl.style.display =\n",
              "          google.colab.kernel.accessAllowed ? 'block' : 'none';\n",
              "\n",
              "        async function convertToInteractive(key) {\n",
              "          const element = document.querySelector('#df-a225f7ba-ad46-4f4c-8eb7-9d7f9d1e30c3');\n",
              "          const dataTable =\n",
              "            await google.colab.kernel.invokeFunction('convertToInteractive',\n",
              "                                                     [key], {});\n",
              "          if (!dataTable) return;\n",
              "\n",
              "          const docLinkHtml = 'Like what you see? Visit the ' +\n",
              "            '<a target=\"_blank\" href=https://colab.research.google.com/notebooks/data_table.ipynb>data table notebook</a>'\n",
              "            + ' to learn more about interactive tables.';\n",
              "          element.innerHTML = '';\n",
              "          dataTable['output_type'] = 'display_data';\n",
              "          await google.colab.output.renderOutput(dataTable, element);\n",
              "          const docLink = document.createElement('div');\n",
              "          docLink.innerHTML = docLinkHtml;\n",
              "          element.appendChild(docLink);\n",
              "        }\n",
              "      </script>\n",
              "    </div>\n",
              "  </div>\n",
              "  "
            ],
            "text/plain": [
              "   Gender  Married  Dependents  ...  Credit_History  Property_Area  Loan_Status\n",
              "0     1.0      0.0         0.0  ...             1.0              2            1\n",
              "1     1.0      1.0         1.0  ...             1.0              0            0\n",
              "2     1.0      1.0         0.0  ...             1.0              2            1\n",
              "3     1.0      1.0         0.0  ...             1.0              2            1\n",
              "4     1.0      0.0         0.0  ...             1.0              2            1\n",
              "\n",
              "[5 rows x 12 columns]"
            ]
          },
          "metadata": {},
          "execution_count": 19
        }
      ]
    },
    {
      "cell_type": "code",
      "source": [
        "sns.countplot(data = df, x='Loan_Status',hue='Gender')"
      ],
      "metadata": {
        "colab": {
          "base_uri": "https://localhost:8080/",
          "height": 300
        },
        "id": "bzHY4rVlA_ND",
        "outputId": "bf5a9d95-a402-4622-8ebe-0a4b5d4b3046"
      },
      "execution_count": 20,
      "outputs": [
        {
          "output_type": "execute_result",
          "data": {
            "text/plain": [
              "<matplotlib.axes._subplots.AxesSubplot at 0x7f3f518471d0>"
            ]
          },
          "metadata": {},
          "execution_count": 20
        },
        {
          "output_type": "display_data",
          "data": {
            "image/png": "[encoded data removed]",
            "text/plain": [
              "<Figure size 432x288 with 1 Axes>"
            ]
          },
          "metadata": {
            "needs_background": "light"
          }
        }
      ]
    },
    {
      "cell_type": "code",
      "source": [
        "sns.countplot(data = df, x='Loan_Status',hue='Married')"
      ],
      "metadata": {
        "colab": {
          "base_uri": "https://localhost:8080/",
          "height": 298
        },
        "id": "SA4co1OSEyGD",
        "outputId": "24d7d696-2470-49af-f0f9-e53c844ad6b9"
      },
      "execution_count": 21,
      "outputs": [
        {
          "output_type": "execute_result",
          "data": {
            "text/plain": [
              "<matplotlib.axes._subplots.AxesSubplot at 0x7f3f50fbe410>"
            ]
          },
          "metadata": {},
          "execution_count": 21
        },
        {
          "output_type": "display_data",
          "data": {
            "image/png": "[encoded data removed]",
            "text/plain": [
              "<Figure size 432x288 with 1 Axes>"
            ]
          },
          "metadata": {
            "needs_background": "light"
          }
        }
      ]
    },
    {
      "cell_type": "code",
      "source": [
        "sns.countplot(data = df, x='Loan_Status',hue='Education')"
      ],
      "metadata": {
        "colab": {
          "base_uri": "https://localhost:8080/",
          "height": 298
        },
        "id": "VliwlnZNEh9v",
        "outputId": "2905654c-a6af-45ee-973c-98e0b7388193"
      },
      "execution_count": 22,
      "outputs": [
        {
          "output_type": "execute_result",
          "data": {
            "text/plain": [
              "<matplotlib.axes._subplots.AxesSubplot at 0x7f3f50a4d210>"
            ]
          },
          "metadata": {},
          "execution_count": 22
        },
        {
          "output_type": "display_data",
          "data": {
            "image/png": "[encoded data removed]",
            "text/plain": [
              "<Figure size 432x288 with 1 Axes>"
            ]
          },
          "metadata": {
            "needs_background": "light"
          }
        }
      ]
    },
    {
      "cell_type": "code",
      "source": [
        "sns.scatterplot(data = df, x='ApplicantIncome',y='LoanAmount')          "
      ],
      "metadata": {
        "colab": {
          "base_uri": "https://localhost:8080/",
          "height": 297
        },
        "id": "5UbrGM8BFN0e",
        "outputId": "d97cb42a-6cc5-4ecb-e6ee-044e62e917a7"
      },
      "execution_count": 23,
      "outputs": [
        {
          "output_type": "execute_result",
          "data": {
            "text/plain": [
              "<matplotlib.axes._subplots.AxesSubplot at 0x7f3f509cc6d0>"
            ]
          },
          "metadata": {},
          "execution_count": 23
        },
        {
          "output_type": "display_data",
          "data": {
            "image/png": "[encoded data removed]",
            "text/plain": [
              "<Figure size 432x288 with 1 Axes>"
            ]
          },
          "metadata": {
            "needs_background": "light"
          }
        }
      ]
    },
    {
      "cell_type": "code",
      "source": [
        "sns.countplot(data = df, x='Loan_Status',hue='Property_Area')"
      ],
      "metadata": {
        "colab": {
          "base_uri": "https://localhost:8080/",
          "height": 298
        },
        "id": "CJmD_PFKGJE1",
        "outputId": "342a8f37-8faf-4660-9ca4-a7fe1f7e1015"
      },
      "execution_count": 24,
      "outputs": [
        {
          "output_type": "execute_result",
          "data": {
            "text/plain": [
              "<matplotlib.axes._subplots.AxesSubplot at 0x7f3f509613d0>"
            ]
          },
          "metadata": {},
          "execution_count": 24
        },
        {
          "output_type": "display_data",
          "data": {
            "image/png": "[encoded data removed]",
            "text/plain": [
              "<Figure size 432x288 with 1 Axes>"
            ]
          },
          "metadata": {
            "needs_background": "light"
          }
        }
      ]
    },
    {
      "cell_type": "code",
      "source": [
        "sns.countplot(data = df, x='Loan_Status',hue='Self_Employed')"
      ],
      "metadata": {
        "colab": {
          "base_uri": "https://localhost:8080/",
          "height": 298
        },
        "id": "-CFAK3L0GqRr",
        "outputId": "e30335b5-0860-4261-8f1c-ef2d44cce6bf"
      },
      "execution_count": 25,
      "outputs": [
        {
          "output_type": "execute_result",
          "data": {
            "text/plain": [
              "<matplotlib.axes._subplots.AxesSubplot at 0x7f3f508e6f90>"
            ]
          },
          "metadata": {},
          "execution_count": 25
        },
        {
          "output_type": "display_data",
          "data": {
            "image/png": "[encoded data removed]",
            "text/plain": [
              "<Figure size 432x288 with 1 Axes>"
            ]
          },
          "metadata": {
            "needs_background": "light"
          }
        }
      ]
    },
    {
      "cell_type": "code",
      "source": [
        "sns.countplot(data = df, x='Loan_Status',hue='Credit_History')"
      ],
      "metadata": {
        "colab": {
          "base_uri": "https://localhost:8080/",
          "height": 298
        },
        "id": "E5KBXK7VGPFk",
        "outputId": "88ddfc1a-528a-44be-dd2e-34c5c9f9dc68"
      },
      "execution_count": 26,
      "outputs": [
        {
          "output_type": "execute_result",
          "data": {
            "text/plain": [
              "<matplotlib.axes._subplots.AxesSubplot at 0x7f3f50854d90>"
            ]
          },
          "metadata": {},
          "execution_count": 26
        },
        {
          "output_type": "display_data",
          "data": {
            "image/png": "[encoded data removed]",
            "text/plain": [
              "<Figure size 432x288 with 1 Axes>"
            ]
          },
          "metadata": {
            "needs_background": "light"
          }
        }
      ]
    },
    {
      "cell_type": "code",
      "source": [
        "df.corr()['Loan_Status']"
      ],
      "metadata": {
        "colab": {
          "base_uri": "https://localhost:8080/",
          "height": 0
        },
        "id": "TvLSSHLcGfmb",
        "outputId": "e7910133-d5ef-4a89-cebb-9c48d32723b1"
      },
      "execution_count": 27,
      "outputs": [
        {
          "output_type": "execute_result",
          "data": {
            "text/plain": [
              "Gender               0.019857\n",
              "Married              0.089280\n",
              "Dependents           0.006781\n",
              "Education            0.085884\n",
              "Self_Employed       -0.002303\n",
              "ApplicantIncome     -0.004710\n",
              "CoapplicantIncome   -0.059187\n",
              "LoanAmount          -0.037318\n",
              "Loan_Amount_Term    -0.021268\n",
              "Credit_History       0.561678\n",
              "Property_Area        0.032112\n",
              "Loan_Status          1.000000\n",
              "Name: Loan_Status, dtype: float64"
            ]
          },
          "metadata": {},
          "execution_count": 27
        }
      ]
    },
    {
      "cell_type": "code",
      "source": [
        "df.isna().sum()"
      ],
      "metadata": {
        "id": "2mRAUb7KD7Nu",
        "colab": {
          "base_uri": "https://localhost:8080/",
          "height": 0
        },
        "outputId": "ee8bb909-560e-473b-8dad-318eef059aac"
      },
      "execution_count": 28,
      "outputs": [
        {
          "output_type": "execute_result",
          "data": {
            "text/plain": [
              "Gender               13\n",
              "Married               3\n",
              "Dependents           15\n",
              "Education             0\n",
              "Self_Employed        32\n",
              "ApplicantIncome       0\n",
              "CoapplicantIncome     0\n",
              "LoanAmount           22\n",
              "Loan_Amount_Term     14\n",
              "Credit_History       50\n",
              "Property_Area         0\n",
              "Loan_Status           0\n",
              "dtype: int64"
            ]
          },
          "metadata": {},
          "execution_count": 28
        }
      ]
    },
    {
      "cell_type": "markdown",
      "source": [
        "- Now, we have all columns in numeric datatype.\n",
        "## Handling Null Values:\n",
        "1. Gender, married, dependent, loan amount term columns has less than 3% null values so we can delete the rows having null values.\n",
        "2. Loan_ID, Education, Applicant Income, Coapplicant income, property area, loan_status are the columns with No null values.\n",
        "3. We will have to fill null values of columns: Self_Employed, Loan Amount, Credit_History. As there are 5.21,3.58,8.14 percent null values accordingly.\n"
      ],
      "metadata": {
        "id": "IBDNI59KfKdN"
      }
    },
    {
      "cell_type": "code",
      "source": [
        "#Dropping null rows of column Gender\n",
        "df[df['Gender'].isna()]"
      ],
      "metadata": {
        "colab": {
          "base_uri": "https://localhost:8080/",
          "height": 456
        },
        "id": "kI0UX_Zo6wKM",
        "outputId": "59b55b15-2c85-44a8-9acd-e8deb93a904c"
      },
      "execution_count": 29,
      "outputs": [
        {
          "output_type": "execute_result",
          "data": {
            "text/html": [
              "\n",
              "  <div id=\"df-4948217e-33ee-474b-a0e0-9f22172e6e51\">\n",
              "    <div class=\"colab-df-container\">\n",
              "      <div>\n",
              "<style scoped>\n",
              "    .dataframe tbody tr th:only-of-type {\n",
              "        vertical-align: middle;\n",
              "    }\n",
              "\n",
              "    .dataframe tbody tr th {\n",
              "        vertical-align: top;\n",
              "    }\n",
              "\n",
              "    .dataframe thead th {\n",
              "        text-align: right;\n",
              "    }\n",
              "</style>\n",
              "<table border=\"1\" class=\"dataframe\">\n",
              "  <thead>\n",
              "    <tr style=\"text-align: right;\">\n",
              "      <th></th>\n",
              "      <th>Gender</th>\n",
              "      <th>Married</th>\n",
              "      <th>Dependents</th>\n",
              "      <th>Education</th>\n",
              "      <th>Self_Employed</th>\n",
              "      <th>ApplicantIncome</th>\n",
              "      <th>CoapplicantIncome</th>\n",
              "      <th>LoanAmount</th>\n",
              "      <th>Loan_Amount_Term</th>\n",
              "      <th>Credit_History</th>\n",
              "      <th>Property_Area</th>\n",
              "      <th>Loan_Status</th>\n",
              "    </tr>\n",
              "  </thead>\n",
              "  <tbody>\n",
              "    <tr>\n",
              "      <th>23</th>\n",
              "      <td>NaN</td>\n",
              "      <td>1.0</td>\n",
              "      <td>2.0</td>\n",
              "      <td>0</td>\n",
              "      <td>0.0</td>\n",
              "      <td>3365</td>\n",
              "      <td>1917.0</td>\n",
              "      <td>112.0</td>\n",
              "      <td>360.0</td>\n",
              "      <td>0.0</td>\n",
              "      <td>0</td>\n",
              "      <td>0</td>\n",
              "    </tr>\n",
              "    <tr>\n",
              "      <th>126</th>\n",
              "      <td>NaN</td>\n",
              "      <td>1.0</td>\n",
              "      <td>3.0</td>\n",
              "      <td>1</td>\n",
              "      <td>0.0</td>\n",
              "      <td>23803</td>\n",
              "      <td>0.0</td>\n",
              "      <td>370.0</td>\n",
              "      <td>360.0</td>\n",
              "      <td>1.0</td>\n",
              "      <td>0</td>\n",
              "      <td>1</td>\n",
              "    </tr>\n",
              "    <tr>\n",
              "      <th>171</th>\n",
              "      <td>NaN</td>\n",
              "      <td>1.0</td>\n",
              "      <td>3.0</td>\n",
              "      <td>1</td>\n",
              "      <td>0.0</td>\n",
              "      <td>51763</td>\n",
              "      <td>0.0</td>\n",
              "      <td>700.0</td>\n",
              "      <td>300.0</td>\n",
              "      <td>1.0</td>\n",
              "      <td>2</td>\n",
              "      <td>1</td>\n",
              "    </tr>\n",
              "    <tr>\n",
              "      <th>188</th>\n",
              "      <td>NaN</td>\n",
              "      <td>1.0</td>\n",
              "      <td>0.0</td>\n",
              "      <td>1</td>\n",
              "      <td>1.0</td>\n",
              "      <td>674</td>\n",
              "      <td>5296.0</td>\n",
              "      <td>168.0</td>\n",
              "      <td>360.0</td>\n",
              "      <td>1.0</td>\n",
              "      <td>0</td>\n",
              "      <td>1</td>\n",
              "    </tr>\n",
              "    <tr>\n",
              "      <th>314</th>\n",
              "      <td>NaN</td>\n",
              "      <td>1.0</td>\n",
              "      <td>0.0</td>\n",
              "      <td>1</td>\n",
              "      <td>0.0</td>\n",
              "      <td>2473</td>\n",
              "      <td>1843.0</td>\n",
              "      <td>159.0</td>\n",
              "      <td>360.0</td>\n",
              "      <td>1.0</td>\n",
              "      <td>0</td>\n",
              "      <td>0</td>\n",
              "    </tr>\n",
              "    <tr>\n",
              "      <th>334</th>\n",
              "      <td>NaN</td>\n",
              "      <td>1.0</td>\n",
              "      <td>1.0</td>\n",
              "      <td>1</td>\n",
              "      <td>1.0</td>\n",
              "      <td>9833</td>\n",
              "      <td>1833.0</td>\n",
              "      <td>182.0</td>\n",
              "      <td>180.0</td>\n",
              "      <td>1.0</td>\n",
              "      <td>2</td>\n",
              "      <td>1</td>\n",
              "    </tr>\n",
              "    <tr>\n",
              "      <th>460</th>\n",
              "      <td>NaN</td>\n",
              "      <td>1.0</td>\n",
              "      <td>0.0</td>\n",
              "      <td>1</td>\n",
              "      <td>1.0</td>\n",
              "      <td>2083</td>\n",
              "      <td>4083.0</td>\n",
              "      <td>160.0</td>\n",
              "      <td>360.0</td>\n",
              "      <td>NaN</td>\n",
              "      <td>1</td>\n",
              "      <td>1</td>\n",
              "    </tr>\n",
              "    <tr>\n",
              "      <th>467</th>\n",
              "      <td>NaN</td>\n",
              "      <td>1.0</td>\n",
              "      <td>0.0</td>\n",
              "      <td>1</td>\n",
              "      <td>0.0</td>\n",
              "      <td>16692</td>\n",
              "      <td>0.0</td>\n",
              "      <td>110.0</td>\n",
              "      <td>360.0</td>\n",
              "      <td>1.0</td>\n",
              "      <td>1</td>\n",
              "      <td>1</td>\n",
              "    </tr>\n",
              "    <tr>\n",
              "      <th>477</th>\n",
              "      <td>NaN</td>\n",
              "      <td>1.0</td>\n",
              "      <td>2.0</td>\n",
              "      <td>1</td>\n",
              "      <td>0.0</td>\n",
              "      <td>2873</td>\n",
              "      <td>1872.0</td>\n",
              "      <td>132.0</td>\n",
              "      <td>360.0</td>\n",
              "      <td>0.0</td>\n",
              "      <td>1</td>\n",
              "      <td>0</td>\n",
              "    </tr>\n",
              "    <tr>\n",
              "      <th>507</th>\n",
              "      <td>NaN</td>\n",
              "      <td>0.0</td>\n",
              "      <td>0.0</td>\n",
              "      <td>1</td>\n",
              "      <td>0.0</td>\n",
              "      <td>3583</td>\n",
              "      <td>0.0</td>\n",
              "      <td>96.0</td>\n",
              "      <td>360.0</td>\n",
              "      <td>1.0</td>\n",
              "      <td>2</td>\n",
              "      <td>0</td>\n",
              "    </tr>\n",
              "    <tr>\n",
              "      <th>576</th>\n",
              "      <td>NaN</td>\n",
              "      <td>1.0</td>\n",
              "      <td>0.0</td>\n",
              "      <td>1</td>\n",
              "      <td>0.0</td>\n",
              "      <td>3087</td>\n",
              "      <td>2210.0</td>\n",
              "      <td>136.0</td>\n",
              "      <td>360.0</td>\n",
              "      <td>0.0</td>\n",
              "      <td>1</td>\n",
              "      <td>0</td>\n",
              "    </tr>\n",
              "    <tr>\n",
              "      <th>588</th>\n",
              "      <td>NaN</td>\n",
              "      <td>0.0</td>\n",
              "      <td>0.0</td>\n",
              "      <td>1</td>\n",
              "      <td>0.0</td>\n",
              "      <td>4750</td>\n",
              "      <td>0.0</td>\n",
              "      <td>94.0</td>\n",
              "      <td>360.0</td>\n",
              "      <td>1.0</td>\n",
              "      <td>1</td>\n",
              "      <td>1</td>\n",
              "    </tr>\n",
              "    <tr>\n",
              "      <th>592</th>\n",
              "      <td>NaN</td>\n",
              "      <td>0.0</td>\n",
              "      <td>3.0</td>\n",
              "      <td>1</td>\n",
              "      <td>1.0</td>\n",
              "      <td>9357</td>\n",
              "      <td>0.0</td>\n",
              "      <td>292.0</td>\n",
              "      <td>360.0</td>\n",
              "      <td>1.0</td>\n",
              "      <td>1</td>\n",
              "      <td>1</td>\n",
              "    </tr>\n",
              "  </tbody>\n",
              "</table>\n",
              "</div>\n",
              "      <button class=\"colab-df-convert\" onclick=\"convertToInteractive('df-4948217e-33ee-474b-a0e0-9f22172e6e51')\"\n",
              "              title=\"Convert this dataframe to an interactive table.\"\n",
              "              style=\"display:none;\">\n",
              "        \n",
              "  <svg xmlns=\"http://www.w3.org/2000/svg\" height=\"24px\"viewBox=\"0 0 24 24\"\n",
              "       width=\"24px\">\n",
              "    <path d=\"M0 0h24v24H0V0z\" fill=\"none\"/>\n",
              "    <path d=\"M18.56 5.44l.94 2.06.94-2.06 2.06-.94-2.06-.94-.94-2.06-.94 2.06-2.06.94zm-11 1L8.5 8.5l.94-2.06 2.06-.94-2.06-.94L8.5 2.5l-.94 2.06-2.06.94zm10 10l.94 2.06.94-2.06 2.06-.94-2.06-.94-.94-2.06-.94 2.06-2.06.94z\"/><path d=\"M17.41 7.96l-1.37-1.37c-.4-.4-.92-.59-1.43-.59-.52 0-1.04.2-1.43.59L10.3 9.45l-7.72 7.72c-.78.78-.78 2.05 0 2.83L4 21.41c.39.39.9.59 1.41.59.51 0 1.02-.2 1.41-.59l7.78-7.78 2.81-2.81c.8-.78.8-2.07 0-2.86zM5.41 20L4 18.59l7.72-7.72 1.47 1.35L5.41 20z\"/>\n",
              "  </svg>\n",
              "      </button>\n",
              "      \n",
              "  <style>\n",
              "    .colab-df-container {\n",
              "      display:flex;\n",
              "      flex-wrap:wrap;\n",
              "      gap: 12px;\n",
              "    }\n",
              "\n",
              "    .colab-df-convert {\n",
              "      background-color: #E8F0FE;\n",
              "      border: none;\n",
              "      border-radius: 50%;\n",
              "      cursor: pointer;\n",
              "      display: none;\n",
              "      fill: #1967D2;\n",
              "      height: 32px;\n",
              "      padding: 0 0 0 0;\n",
              "      width: 32px;\n",
              "    }\n",
              "\n",
              "    .colab-df-convert:hover {\n",
              "      background-color: #E2EBFA;\n",
              "      box-shadow: 0px 1px 2px rgba(60, 64, 67, 0.3), 0px 1px 3px 1px rgba(60, 64, 67, 0.15);\n",
              "      fill: #174EA6;\n",
              "    }\n",
              "\n",
              "    [theme=dark] .colab-df-convert {\n",
              "      background-color: #3B4455;\n",
              "      fill: #D2E3FC;\n",
              "    }\n",
              "\n",
              "    [theme=dark] .colab-df-convert:hover {\n",
              "      background-color: #434B5C;\n",
              "      box-shadow: 0px 1px 3px 1px rgba(0, 0, 0, 0.15);\n",
              "      filter: drop-shadow(0px 1px 2px rgba(0, 0, 0, 0.3));\n",
              "      fill: #FFFFFF;\n",
              "    }\n",
              "  </style>\n",
              "\n",
              "      <script>\n",
              "        const buttonEl =\n",
              "          document.querySelector('#df-4948217e-33ee-474b-a0e0-9f22172e6e51 button.colab-df-convert');\n",
              "        buttonEl.style.display =\n",
              "          google.colab.kernel.accessAllowed ? 'block' : 'none';\n",
              "\n",
              "        async function convertToInteractive(key) {\n",
              "          const element = document.querySelector('#df-4948217e-33ee-474b-a0e0-9f22172e6e51');\n",
              "          const dataTable =\n",
              "            await google.colab.kernel.invokeFunction('convertToInteractive',\n",
              "                                                     [key], {});\n",
              "          if (!dataTable) return;\n",
              "\n",
              "          const docLinkHtml = 'Like what you see? Visit the ' +\n",
              "            '<a target=\"_blank\" href=https://colab.research.google.com/notebooks/data_table.ipynb>data table notebook</a>'\n",
              "            + ' to learn more about interactive tables.';\n",
              "          element.innerHTML = '';\n",
              "          dataTable['output_type'] = 'display_data';\n",
              "          await google.colab.output.renderOutput(dataTable, element);\n",
              "          const docLink = document.createElement('div');\n",
              "          docLink.innerHTML = docLinkHtml;\n",
              "          element.appendChild(docLink);\n",
              "        }\n",
              "      </script>\n",
              "    </div>\n",
              "  </div>\n",
              "  "
            ],
            "text/plain": [
              "     Gender  Married  Dependents  ...  Credit_History  Property_Area  Loan_Status\n",
              "23      NaN      1.0         2.0  ...             0.0              0            0\n",
              "126     NaN      1.0         3.0  ...             1.0              0            1\n",
              "171     NaN      1.0         3.0  ...             1.0              2            1\n",
              "188     NaN      1.0         0.0  ...             1.0              0            1\n",
              "314     NaN      1.0         0.0  ...             1.0              0            0\n",
              "334     NaN      1.0         1.0  ...             1.0              2            1\n",
              "460     NaN      1.0         0.0  ...             NaN              1            1\n",
              "467     NaN      1.0         0.0  ...             1.0              1            1\n",
              "477     NaN      1.0         2.0  ...             0.0              1            0\n",
              "507     NaN      0.0         0.0  ...             1.0              2            0\n",
              "576     NaN      1.0         0.0  ...             0.0              1            0\n",
              "588     NaN      0.0         0.0  ...             1.0              1            1\n",
              "592     NaN      0.0         3.0  ...             1.0              1            1\n",
              "\n",
              "[13 rows x 12 columns]"
            ]
          },
          "metadata": {},
          "execution_count": 29
        }
      ]
    },
    {
      "cell_type": "code",
      "source": [
        "df.drop([23,126,171,188,314,334,460,467,477,507,576,588,592],inplace=True)"
      ],
      "metadata": {
        "id": "Z2pC2TAo74eW"
      },
      "execution_count": 30,
      "outputs": []
    },
    {
      "cell_type": "code",
      "source": [
        "df['Gender'].isna().sum()"
      ],
      "metadata": {
        "id": "Cb6AYpjg8NuE",
        "colab": {
          "base_uri": "https://localhost:8080/",
          "height": 0
        },
        "outputId": "1ad60400-af55-4131-8907-ed6355905796"
      },
      "execution_count": 31,
      "outputs": [
        {
          "output_type": "execute_result",
          "data": {
            "text/plain": [
              "0"
            ]
          },
          "metadata": {},
          "execution_count": 31
        }
      ]
    },
    {
      "cell_type": "code",
      "source": [
        "#Dropping null rows of column married\n",
        "df[df['Married'].isna()]"
      ],
      "metadata": {
        "id": "cbwnevYM8Uec",
        "colab": {
          "base_uri": "https://localhost:8080/",
          "height": 143
        },
        "outputId": "96ffe118-cb64-4685-af8f-ab2f1e04edd6"
      },
      "execution_count": 32,
      "outputs": [
        {
          "output_type": "execute_result",
          "data": {
            "text/html": [
              "\n",
              "  <div id=\"df-25869acf-7a2d-4e3f-a176-fcf585e02a67\">\n",
              "    <div class=\"colab-df-container\">\n",
              "      <div>\n",
              "<style scoped>\n",
              "    .dataframe tbody tr th:only-of-type {\n",
              "        vertical-align: middle;\n",
              "    }\n",
              "\n",
              "    .dataframe tbody tr th {\n",
              "        vertical-align: top;\n",
              "    }\n",
              "\n",
              "    .dataframe thead th {\n",
              "        text-align: right;\n",
              "    }\n",
              "</style>\n",
              "<table border=\"1\" class=\"dataframe\">\n",
              "  <thead>\n",
              "    <tr style=\"text-align: right;\">\n",
              "      <th></th>\n",
              "      <th>Gender</th>\n",
              "      <th>Married</th>\n",
              "      <th>Dependents</th>\n",
              "      <th>Education</th>\n",
              "      <th>Self_Employed</th>\n",
              "      <th>ApplicantIncome</th>\n",
              "      <th>CoapplicantIncome</th>\n",
              "      <th>LoanAmount</th>\n",
              "      <th>Loan_Amount_Term</th>\n",
              "      <th>Credit_History</th>\n",
              "      <th>Property_Area</th>\n",
              "      <th>Loan_Status</th>\n",
              "    </tr>\n",
              "  </thead>\n",
              "  <tbody>\n",
              "    <tr>\n",
              "      <th>104</th>\n",
              "      <td>1.0</td>\n",
              "      <td>NaN</td>\n",
              "      <td>NaN</td>\n",
              "      <td>1</td>\n",
              "      <td>0.0</td>\n",
              "      <td>3816</td>\n",
              "      <td>754.0</td>\n",
              "      <td>160.0</td>\n",
              "      <td>360.0</td>\n",
              "      <td>1.0</td>\n",
              "      <td>2</td>\n",
              "      <td>1</td>\n",
              "    </tr>\n",
              "    <tr>\n",
              "      <th>228</th>\n",
              "      <td>1.0</td>\n",
              "      <td>NaN</td>\n",
              "      <td>NaN</td>\n",
              "      <td>1</td>\n",
              "      <td>0.0</td>\n",
              "      <td>4758</td>\n",
              "      <td>0.0</td>\n",
              "      <td>158.0</td>\n",
              "      <td>480.0</td>\n",
              "      <td>1.0</td>\n",
              "      <td>1</td>\n",
              "      <td>1</td>\n",
              "    </tr>\n",
              "    <tr>\n",
              "      <th>435</th>\n",
              "      <td>0.0</td>\n",
              "      <td>NaN</td>\n",
              "      <td>NaN</td>\n",
              "      <td>1</td>\n",
              "      <td>0.0</td>\n",
              "      <td>10047</td>\n",
              "      <td>0.0</td>\n",
              "      <td>NaN</td>\n",
              "      <td>240.0</td>\n",
              "      <td>1.0</td>\n",
              "      <td>1</td>\n",
              "      <td>1</td>\n",
              "    </tr>\n",
              "  </tbody>\n",
              "</table>\n",
              "</div>\n",
              "      <button class=\"colab-df-convert\" onclick=\"convertToInteractive('df-25869acf-7a2d-4e3f-a176-fcf585e02a67')\"\n",
              "              title=\"Convert this dataframe to an interactive table.\"\n",
              "              style=\"display:none;\">\n",
              "        \n",
              "  <svg xmlns=\"http://www.w3.org/2000/svg\" height=\"24px\"viewBox=\"0 0 24 24\"\n",
              "       width=\"24px\">\n",
              "    <path d=\"M0 0h24v24H0V0z\" fill=\"none\"/>\n",
              "    <path d=\"M18.56 5.44l.94 2.06.94-2.06 2.06-.94-2.06-.94-.94-2.06-.94 2.06-2.06.94zm-11 1L8.5 8.5l.94-2.06 2.06-.94-2.06-.94L8.5 2.5l-.94 2.06-2.06.94zm10 10l.94 2.06.94-2.06 2.06-.94-2.06-.94-.94-2.06-.94 2.06-2.06.94z\"/><path d=\"M17.41 7.96l-1.37-1.37c-.4-.4-.92-.59-1.43-.59-.52 0-1.04.2-1.43.59L10.3 9.45l-7.72 7.72c-.78.78-.78 2.05 0 2.83L4 21.41c.39.39.9.59 1.41.59.51 0 1.02-.2 1.41-.59l7.78-7.78 2.81-2.81c.8-.78.8-2.07 0-2.86zM5.41 20L4 18.59l7.72-7.72 1.47 1.35L5.41 20z\"/>\n",
              "  </svg>\n",
              "      </button>\n",
              "      \n",
              "  <style>\n",
              "    .colab-df-container {\n",
              "      display:flex;\n",
              "      flex-wrap:wrap;\n",
              "      gap: 12px;\n",
              "    }\n",
              "\n",
              "    .colab-df-convert {\n",
              "      background-color: #E8F0FE;\n",
              "      border: none;\n",
              "      border-radius: 50%;\n",
              "      cursor: pointer;\n",
              "      display: none;\n",
              "      fill: #1967D2;\n",
              "      height: 32px;\n",
              "      padding: 0 0 0 0;\n",
              "      width: 32px;\n",
              "    }\n",
              "\n",
              "    .colab-df-convert:hover {\n",
              "      background-color: #E2EBFA;\n",
              "      box-shadow: 0px 1px 2px rgba(60, 64, 67, 0.3), 0px 1px 3px 1px rgba(60, 64, 67, 0.15);\n",
              "      fill: #174EA6;\n",
              "    }\n",
              "\n",
              "    [theme=dark] .colab-df-convert {\n",
              "      background-color: #3B4455;\n",
              "      fill: #D2E3FC;\n",
              "    }\n",
              "\n",
              "    [theme=dark] .colab-df-convert:hover {\n",
              "      background-color: #434B5C;\n",
              "      box-shadow: 0px 1px 3px 1px rgba(0, 0, 0, 0.15);\n",
              "      filter: drop-shadow(0px 1px 2px rgba(0, 0, 0, 0.3));\n",
              "      fill: #FFFFFF;\n",
              "    }\n",
              "  </style>\n",
              "\n",
              "      <script>\n",
              "        const buttonEl =\n",
              "          document.querySelector('#df-25869acf-7a2d-4e3f-a176-fcf585e02a67 button.colab-df-convert');\n",
              "        buttonEl.style.display =\n",
              "          google.colab.kernel.accessAllowed ? 'block' : 'none';\n",
              "\n",
              "        async function convertToInteractive(key) {\n",
              "          const element = document.querySelector('#df-25869acf-7a2d-4e3f-a176-fcf585e02a67');\n",
              "          const dataTable =\n",
              "            await google.colab.kernel.invokeFunction('convertToInteractive',\n",
              "                                                     [key], {});\n",
              "          if (!dataTable) return;\n",
              "\n",
              "          const docLinkHtml = 'Like what you see? Visit the ' +\n",
              "            '<a target=\"_blank\" href=https://colab.research.google.com/notebooks/data_table.ipynb>data table notebook</a>'\n",
              "            + ' to learn more about interactive tables.';\n",
              "          element.innerHTML = '';\n",
              "          dataTable['output_type'] = 'display_data';\n",
              "          await google.colab.output.renderOutput(dataTable, element);\n",
              "          const docLink = document.createElement('div');\n",
              "          docLink.innerHTML = docLinkHtml;\n",
              "          element.appendChild(docLink);\n",
              "        }\n",
              "      </script>\n",
              "    </div>\n",
              "  </div>\n",
              "  "
            ],
            "text/plain": [
              "     Gender  Married  Dependents  ...  Credit_History  Property_Area  Loan_Status\n",
              "104     1.0      NaN         NaN  ...             1.0              2            1\n",
              "228     1.0      NaN         NaN  ...             1.0              1            1\n",
              "435     0.0      NaN         NaN  ...             1.0              1            1\n",
              "\n",
              "[3 rows x 12 columns]"
            ]
          },
          "metadata": {},
          "execution_count": 32
        }
      ]
    },
    {
      "cell_type": "code",
      "source": [
        "df.drop([104,228,435],inplace=True)"
      ],
      "metadata": {
        "id": "0V5-rSng8im6"
      },
      "execution_count": 33,
      "outputs": []
    },
    {
      "cell_type": "code",
      "source": [
        "df['Married'].isna().sum()"
      ],
      "metadata": {
        "id": "TVzCE9jb8ikf",
        "colab": {
          "base_uri": "https://localhost:8080/",
          "height": 0
        },
        "outputId": "34040fc3-4e5a-4d92-9199-b04224838545"
      },
      "execution_count": 34,
      "outputs": [
        {
          "output_type": "execute_result",
          "data": {
            "text/plain": [
              "0"
            ]
          },
          "metadata": {},
          "execution_count": 34
        }
      ]
    },
    {
      "cell_type": "code",
      "source": [
        "#Dropping null rows of column Dependents           \n",
        "df[df['Dependents'].isna()]"
      ],
      "metadata": {
        "id": "IURqQz3J8iiB",
        "colab": {
          "base_uri": "https://localhost:8080/",
          "height": 425
        },
        "outputId": "1e864deb-5212-4d80-e9e1-06021075a67c"
      },
      "execution_count": 35,
      "outputs": [
        {
          "output_type": "execute_result",
          "data": {
            "text/html": [
              "\n",
              "  <div id=\"df-263e038e-d3aa-40c7-bfd1-ef17137243a4\">\n",
              "    <div class=\"colab-df-container\">\n",
              "      <div>\n",
              "<style scoped>\n",
              "    .dataframe tbody tr th:only-of-type {\n",
              "        vertical-align: middle;\n",
              "    }\n",
              "\n",
              "    .dataframe tbody tr th {\n",
              "        vertical-align: top;\n",
              "    }\n",
              "\n",
              "    .dataframe thead th {\n",
              "        text-align: right;\n",
              "    }\n",
              "</style>\n",
              "<table border=\"1\" class=\"dataframe\">\n",
              "  <thead>\n",
              "    <tr style=\"text-align: right;\">\n",
              "      <th></th>\n",
              "      <th>Gender</th>\n",
              "      <th>Married</th>\n",
              "      <th>Dependents</th>\n",
              "      <th>Education</th>\n",
              "      <th>Self_Employed</th>\n",
              "      <th>ApplicantIncome</th>\n",
              "      <th>CoapplicantIncome</th>\n",
              "      <th>LoanAmount</th>\n",
              "      <th>Loan_Amount_Term</th>\n",
              "      <th>Credit_History</th>\n",
              "      <th>Property_Area</th>\n",
              "      <th>Loan_Status</th>\n",
              "    </tr>\n",
              "  </thead>\n",
              "  <tbody>\n",
              "    <tr>\n",
              "      <th>102</th>\n",
              "      <td>1.0</td>\n",
              "      <td>1.0</td>\n",
              "      <td>NaN</td>\n",
              "      <td>1</td>\n",
              "      <td>0.0</td>\n",
              "      <td>13650</td>\n",
              "      <td>0.0</td>\n",
              "      <td>NaN</td>\n",
              "      <td>360.0</td>\n",
              "      <td>1.0</td>\n",
              "      <td>2</td>\n",
              "      <td>1</td>\n",
              "    </tr>\n",
              "    <tr>\n",
              "      <th>120</th>\n",
              "      <td>1.0</td>\n",
              "      <td>1.0</td>\n",
              "      <td>NaN</td>\n",
              "      <td>1</td>\n",
              "      <td>0.0</td>\n",
              "      <td>5667</td>\n",
              "      <td>2667.0</td>\n",
              "      <td>180.0</td>\n",
              "      <td>360.0</td>\n",
              "      <td>1.0</td>\n",
              "      <td>0</td>\n",
              "      <td>1</td>\n",
              "    </tr>\n",
              "    <tr>\n",
              "      <th>226</th>\n",
              "      <td>1.0</td>\n",
              "      <td>1.0</td>\n",
              "      <td>NaN</td>\n",
              "      <td>0</td>\n",
              "      <td>1.0</td>\n",
              "      <td>4735</td>\n",
              "      <td>0.0</td>\n",
              "      <td>138.0</td>\n",
              "      <td>360.0</td>\n",
              "      <td>1.0</td>\n",
              "      <td>2</td>\n",
              "      <td>0</td>\n",
              "    </tr>\n",
              "    <tr>\n",
              "      <th>293</th>\n",
              "      <td>0.0</td>\n",
              "      <td>0.0</td>\n",
              "      <td>NaN</td>\n",
              "      <td>1</td>\n",
              "      <td>0.0</td>\n",
              "      <td>5417</td>\n",
              "      <td>0.0</td>\n",
              "      <td>143.0</td>\n",
              "      <td>480.0</td>\n",
              "      <td>0.0</td>\n",
              "      <td>2</td>\n",
              "      <td>0</td>\n",
              "    </tr>\n",
              "    <tr>\n",
              "      <th>301</th>\n",
              "      <td>1.0</td>\n",
              "      <td>1.0</td>\n",
              "      <td>NaN</td>\n",
              "      <td>0</td>\n",
              "      <td>0.0</td>\n",
              "      <td>2875</td>\n",
              "      <td>1750.0</td>\n",
              "      <td>105.0</td>\n",
              "      <td>360.0</td>\n",
              "      <td>1.0</td>\n",
              "      <td>1</td>\n",
              "      <td>1</td>\n",
              "    </tr>\n",
              "    <tr>\n",
              "      <th>332</th>\n",
              "      <td>1.0</td>\n",
              "      <td>0.0</td>\n",
              "      <td>NaN</td>\n",
              "      <td>1</td>\n",
              "      <td>0.0</td>\n",
              "      <td>2833</td>\n",
              "      <td>0.0</td>\n",
              "      <td>71.0</td>\n",
              "      <td>360.0</td>\n",
              "      <td>1.0</td>\n",
              "      <td>2</td>\n",
              "      <td>1</td>\n",
              "    </tr>\n",
              "    <tr>\n",
              "      <th>335</th>\n",
              "      <td>1.0</td>\n",
              "      <td>1.0</td>\n",
              "      <td>NaN</td>\n",
              "      <td>1</td>\n",
              "      <td>1.0</td>\n",
              "      <td>5503</td>\n",
              "      <td>4490.0</td>\n",
              "      <td>70.0</td>\n",
              "      <td>NaN</td>\n",
              "      <td>1.0</td>\n",
              "      <td>1</td>\n",
              "      <td>1</td>\n",
              "    </tr>\n",
              "    <tr>\n",
              "      <th>346</th>\n",
              "      <td>1.0</td>\n",
              "      <td>1.0</td>\n",
              "      <td>NaN</td>\n",
              "      <td>0</td>\n",
              "      <td>0.0</td>\n",
              "      <td>3523</td>\n",
              "      <td>3230.0</td>\n",
              "      <td>152.0</td>\n",
              "      <td>360.0</td>\n",
              "      <td>0.0</td>\n",
              "      <td>0</td>\n",
              "      <td>0</td>\n",
              "    </tr>\n",
              "    <tr>\n",
              "      <th>355</th>\n",
              "      <td>0.0</td>\n",
              "      <td>0.0</td>\n",
              "      <td>NaN</td>\n",
              "      <td>1</td>\n",
              "      <td>0.0</td>\n",
              "      <td>3813</td>\n",
              "      <td>0.0</td>\n",
              "      <td>116.0</td>\n",
              "      <td>180.0</td>\n",
              "      <td>1.0</td>\n",
              "      <td>2</td>\n",
              "      <td>1</td>\n",
              "    </tr>\n",
              "    <tr>\n",
              "      <th>517</th>\n",
              "      <td>1.0</td>\n",
              "      <td>1.0</td>\n",
              "      <td>NaN</td>\n",
              "      <td>0</td>\n",
              "      <td>0.0</td>\n",
              "      <td>3074</td>\n",
              "      <td>1800.0</td>\n",
              "      <td>123.0</td>\n",
              "      <td>360.0</td>\n",
              "      <td>0.0</td>\n",
              "      <td>1</td>\n",
              "      <td>0</td>\n",
              "    </tr>\n",
              "    <tr>\n",
              "      <th>571</th>\n",
              "      <td>1.0</td>\n",
              "      <td>1.0</td>\n",
              "      <td>NaN</td>\n",
              "      <td>1</td>\n",
              "      <td>0.0</td>\n",
              "      <td>5116</td>\n",
              "      <td>1451.0</td>\n",
              "      <td>165.0</td>\n",
              "      <td>360.0</td>\n",
              "      <td>0.0</td>\n",
              "      <td>2</td>\n",
              "      <td>0</td>\n",
              "    </tr>\n",
              "    <tr>\n",
              "      <th>597</th>\n",
              "      <td>1.0</td>\n",
              "      <td>0.0</td>\n",
              "      <td>NaN</td>\n",
              "      <td>1</td>\n",
              "      <td>0.0</td>\n",
              "      <td>2987</td>\n",
              "      <td>0.0</td>\n",
              "      <td>88.0</td>\n",
              "      <td>360.0</td>\n",
              "      <td>0.0</td>\n",
              "      <td>1</td>\n",
              "      <td>0</td>\n",
              "    </tr>\n",
              "  </tbody>\n",
              "</table>\n",
              "</div>\n",
              "      <button class=\"colab-df-convert\" onclick=\"convertToInteractive('df-263e038e-d3aa-40c7-bfd1-ef17137243a4')\"\n",
              "              title=\"Convert this dataframe to an interactive table.\"\n",
              "              style=\"display:none;\">\n",
              "        \n",
              "  <svg xmlns=\"http://www.w3.org/2000/svg\" height=\"24px\"viewBox=\"0 0 24 24\"\n",
              "       width=\"24px\">\n",
              "    <path d=\"M0 0h24v24H0V0z\" fill=\"none\"/>\n",
              "    <path d=\"M18.56 5.44l.94 2.06.94-2.06 2.06-.94-2.06-.94-.94-2.06-.94 2.06-2.06.94zm-11 1L8.5 8.5l.94-2.06 2.06-.94-2.06-.94L8.5 2.5l-.94 2.06-2.06.94zm10 10l.94 2.06.94-2.06 2.06-.94-2.06-.94-.94-2.06-.94 2.06-2.06.94z\"/><path d=\"M17.41 7.96l-1.37-1.37c-.4-.4-.92-.59-1.43-.59-.52 0-1.04.2-1.43.59L10.3 9.45l-7.72 7.72c-.78.78-.78 2.05 0 2.83L4 21.41c.39.39.9.59 1.41.59.51 0 1.02-.2 1.41-.59l7.78-7.78 2.81-2.81c.8-.78.8-2.07 0-2.86zM5.41 20L4 18.59l7.72-7.72 1.47 1.35L5.41 20z\"/>\n",
              "  </svg>\n",
              "      </button>\n",
              "      \n",
              "  <style>\n",
              "    .colab-df-container {\n",
              "      display:flex;\n",
              "      flex-wrap:wrap;\n",
              "      gap: 12px;\n",
              "    }\n",
              "\n",
              "    .colab-df-convert {\n",
              "      background-color: #E8F0FE;\n",
              "      border: none;\n",
              "      border-radius: 50%;\n",
              "      cursor: pointer;\n",
              "      display: none;\n",
              "      fill: #1967D2;\n",
              "      height: 32px;\n",
              "      padding: 0 0 0 0;\n",
              "      width: 32px;\n",
              "    }\n",
              "\n",
              "    .colab-df-convert:hover {\n",
              "      background-color: #E2EBFA;\n",
              "      box-shadow: 0px 1px 2px rgba(60, 64, 67, 0.3), 0px 1px 3px 1px rgba(60, 64, 67, 0.15);\n",
              "      fill: #174EA6;\n",
              "    }\n",
              "\n",
              "    [theme=dark] .colab-df-convert {\n",
              "      background-color: #3B4455;\n",
              "      fill: #D2E3FC;\n",
              "    }\n",
              "\n",
              "    [theme=dark] .colab-df-convert:hover {\n",
              "      background-color: #434B5C;\n",
              "      box-shadow: 0px 1px 3px 1px rgba(0, 0, 0, 0.15);\n",
              "      filter: drop-shadow(0px 1px 2px rgba(0, 0, 0, 0.3));\n",
              "      fill: #FFFFFF;\n",
              "    }\n",
              "  </style>\n",
              "\n",
              "      <script>\n",
              "        const buttonEl =\n",
              "          document.querySelector('#df-263e038e-d3aa-40c7-bfd1-ef17137243a4 button.colab-df-convert');\n",
              "        buttonEl.style.display =\n",
              "          google.colab.kernel.accessAllowed ? 'block' : 'none';\n",
              "\n",
              "        async function convertToInteractive(key) {\n",
              "          const element = document.querySelector('#df-263e038e-d3aa-40c7-bfd1-ef17137243a4');\n",
              "          const dataTable =\n",
              "            await google.colab.kernel.invokeFunction('convertToInteractive',\n",
              "                                                     [key], {});\n",
              "          if (!dataTable) return;\n",
              "\n",
              "          const docLinkHtml = 'Like what you see? Visit the ' +\n",
              "            '<a target=\"_blank\" href=https://colab.research.google.com/notebooks/data_table.ipynb>data table notebook</a>'\n",
              "            + ' to learn more about interactive tables.';\n",
              "          element.innerHTML = '';\n",
              "          dataTable['output_type'] = 'display_data';\n",
              "          await google.colab.output.renderOutput(dataTable, element);\n",
              "          const docLink = document.createElement('div');\n",
              "          docLink.innerHTML = docLinkHtml;\n",
              "          element.appendChild(docLink);\n",
              "        }\n",
              "      </script>\n",
              "    </div>\n",
              "  </div>\n",
              "  "
            ],
            "text/plain": [
              "     Gender  Married  Dependents  ...  Credit_History  Property_Area  Loan_Status\n",
              "102     1.0      1.0         NaN  ...             1.0              2            1\n",
              "120     1.0      1.0         NaN  ...             1.0              0            1\n",
              "226     1.0      1.0         NaN  ...             1.0              2            0\n",
              "293     0.0      0.0         NaN  ...             0.0              2            0\n",
              "301     1.0      1.0         NaN  ...             1.0              1            1\n",
              "332     1.0      0.0         NaN  ...             1.0              2            1\n",
              "335     1.0      1.0         NaN  ...             1.0              1            1\n",
              "346     1.0      1.0         NaN  ...             0.0              0            0\n",
              "355     0.0      0.0         NaN  ...             1.0              2            1\n",
              "517     1.0      1.0         NaN  ...             0.0              1            0\n",
              "571     1.0      1.0         NaN  ...             0.0              2            0\n",
              "597     1.0      0.0         NaN  ...             0.0              1            0\n",
              "\n",
              "[12 rows x 12 columns]"
            ]
          },
          "metadata": {},
          "execution_count": 35
        }
      ]
    },
    {
      "cell_type": "code",
      "source": [
        "df.drop([102,120,226,293,301,332,335,346,355,517,571,597],inplace=True)"
      ],
      "metadata": {
        "id": "OKK7npsV8ifm"
      },
      "execution_count": 36,
      "outputs": []
    },
    {
      "cell_type": "code",
      "source": [
        "df['Dependents'].isna().sum()"
      ],
      "metadata": {
        "id": "Cc6fML_j8ibH",
        "colab": {
          "base_uri": "https://localhost:8080/",
          "height": 0
        },
        "outputId": "61a92423-9668-40f5-f941-04e34e4cb9f5"
      },
      "execution_count": 37,
      "outputs": [
        {
          "output_type": "execute_result",
          "data": {
            "text/plain": [
              "0"
            ]
          },
          "metadata": {},
          "execution_count": 37
        }
      ]
    },
    {
      "cell_type": "code",
      "source": [
        "#Dropping null rows of Loan_Amount_Term                \n",
        "df[df['Loan_Amount_Term'].isna()]"
      ],
      "metadata": {
        "id": "pYhjSnUU8iY1",
        "colab": {
          "base_uri": "https://localhost:8080/",
          "height": 456
        },
        "outputId": "d4b3e04d-e363-400b-f061-ae2bb44c42ba"
      },
      "execution_count": 38,
      "outputs": [
        {
          "output_type": "execute_result",
          "data": {
            "text/html": [
              "\n",
              "  <div id=\"df-33e01da2-9e8b-40d9-ae2b-540525a9ea6e\">\n",
              "    <div class=\"colab-df-container\">\n",
              "      <div>\n",
              "<style scoped>\n",
              "    .dataframe tbody tr th:only-of-type {\n",
              "        vertical-align: middle;\n",
              "    }\n",
              "\n",
              "    .dataframe tbody tr th {\n",
              "        vertical-align: top;\n",
              "    }\n",
              "\n",
              "    .dataframe thead th {\n",
              "        text-align: right;\n",
              "    }\n",
              "</style>\n",
              "<table border=\"1\" class=\"dataframe\">\n",
              "  <thead>\n",
              "    <tr style=\"text-align: right;\">\n",
              "      <th></th>\n",
              "      <th>Gender</th>\n",
              "      <th>Married</th>\n",
              "      <th>Dependents</th>\n",
              "      <th>Education</th>\n",
              "      <th>Self_Employed</th>\n",
              "      <th>ApplicantIncome</th>\n",
              "      <th>CoapplicantIncome</th>\n",
              "      <th>LoanAmount</th>\n",
              "      <th>Loan_Amount_Term</th>\n",
              "      <th>Credit_History</th>\n",
              "      <th>Property_Area</th>\n",
              "      <th>Loan_Status</th>\n",
              "    </tr>\n",
              "  </thead>\n",
              "  <tbody>\n",
              "    <tr>\n",
              "      <th>19</th>\n",
              "      <td>1.0</td>\n",
              "      <td>1.0</td>\n",
              "      <td>0.0</td>\n",
              "      <td>1</td>\n",
              "      <td>NaN</td>\n",
              "      <td>2600</td>\n",
              "      <td>3500.0</td>\n",
              "      <td>115.0</td>\n",
              "      <td>NaN</td>\n",
              "      <td>1.0</td>\n",
              "      <td>2</td>\n",
              "      <td>1</td>\n",
              "    </tr>\n",
              "    <tr>\n",
              "      <th>36</th>\n",
              "      <td>1.0</td>\n",
              "      <td>1.0</td>\n",
              "      <td>0.0</td>\n",
              "      <td>1</td>\n",
              "      <td>0.0</td>\n",
              "      <td>1828</td>\n",
              "      <td>1330.0</td>\n",
              "      <td>100.0</td>\n",
              "      <td>NaN</td>\n",
              "      <td>0.0</td>\n",
              "      <td>2</td>\n",
              "      <td>0</td>\n",
              "    </tr>\n",
              "    <tr>\n",
              "      <th>44</th>\n",
              "      <td>1.0</td>\n",
              "      <td>1.0</td>\n",
              "      <td>0.0</td>\n",
              "      <td>0</td>\n",
              "      <td>1.0</td>\n",
              "      <td>4695</td>\n",
              "      <td>0.0</td>\n",
              "      <td>96.0</td>\n",
              "      <td>NaN</td>\n",
              "      <td>1.0</td>\n",
              "      <td>2</td>\n",
              "      <td>1</td>\n",
              "    </tr>\n",
              "    <tr>\n",
              "      <th>45</th>\n",
              "      <td>0.0</td>\n",
              "      <td>0.0</td>\n",
              "      <td>0.0</td>\n",
              "      <td>1</td>\n",
              "      <td>0.0</td>\n",
              "      <td>3410</td>\n",
              "      <td>0.0</td>\n",
              "      <td>88.0</td>\n",
              "      <td>NaN</td>\n",
              "      <td>1.0</td>\n",
              "      <td>2</td>\n",
              "      <td>1</td>\n",
              "    </tr>\n",
              "    <tr>\n",
              "      <th>73</th>\n",
              "      <td>1.0</td>\n",
              "      <td>1.0</td>\n",
              "      <td>3.0</td>\n",
              "      <td>0</td>\n",
              "      <td>0.0</td>\n",
              "      <td>4755</td>\n",
              "      <td>0.0</td>\n",
              "      <td>95.0</td>\n",
              "      <td>NaN</td>\n",
              "      <td>0.0</td>\n",
              "      <td>1</td>\n",
              "      <td>0</td>\n",
              "    </tr>\n",
              "    <tr>\n",
              "      <th>112</th>\n",
              "      <td>1.0</td>\n",
              "      <td>1.0</td>\n",
              "      <td>0.0</td>\n",
              "      <td>0</td>\n",
              "      <td>0.0</td>\n",
              "      <td>3572</td>\n",
              "      <td>4114.0</td>\n",
              "      <td>152.0</td>\n",
              "      <td>NaN</td>\n",
              "      <td>0.0</td>\n",
              "      <td>0</td>\n",
              "      <td>0</td>\n",
              "    </tr>\n",
              "    <tr>\n",
              "      <th>165</th>\n",
              "      <td>1.0</td>\n",
              "      <td>1.0</td>\n",
              "      <td>0.0</td>\n",
              "      <td>1</td>\n",
              "      <td>0.0</td>\n",
              "      <td>3707</td>\n",
              "      <td>3166.0</td>\n",
              "      <td>182.0</td>\n",
              "      <td>NaN</td>\n",
              "      <td>1.0</td>\n",
              "      <td>0</td>\n",
              "      <td>1</td>\n",
              "    </tr>\n",
              "    <tr>\n",
              "      <th>197</th>\n",
              "      <td>0.0</td>\n",
              "      <td>0.0</td>\n",
              "      <td>0.0</td>\n",
              "      <td>0</td>\n",
              "      <td>0.0</td>\n",
              "      <td>1907</td>\n",
              "      <td>2365.0</td>\n",
              "      <td>120.0</td>\n",
              "      <td>NaN</td>\n",
              "      <td>1.0</td>\n",
              "      <td>2</td>\n",
              "      <td>1</td>\n",
              "    </tr>\n",
              "    <tr>\n",
              "      <th>223</th>\n",
              "      <td>1.0</td>\n",
              "      <td>1.0</td>\n",
              "      <td>0.0</td>\n",
              "      <td>1</td>\n",
              "      <td>0.0</td>\n",
              "      <td>7578</td>\n",
              "      <td>1010.0</td>\n",
              "      <td>175.0</td>\n",
              "      <td>NaN</td>\n",
              "      <td>1.0</td>\n",
              "      <td>1</td>\n",
              "      <td>1</td>\n",
              "    </tr>\n",
              "    <tr>\n",
              "      <th>232</th>\n",
              "      <td>1.0</td>\n",
              "      <td>0.0</td>\n",
              "      <td>0.0</td>\n",
              "      <td>0</td>\n",
              "      <td>0.0</td>\n",
              "      <td>3189</td>\n",
              "      <td>2598.0</td>\n",
              "      <td>120.0</td>\n",
              "      <td>NaN</td>\n",
              "      <td>1.0</td>\n",
              "      <td>0</td>\n",
              "      <td>1</td>\n",
              "    </tr>\n",
              "    <tr>\n",
              "      <th>367</th>\n",
              "      <td>1.0</td>\n",
              "      <td>0.0</td>\n",
              "      <td>0.0</td>\n",
              "      <td>1</td>\n",
              "      <td>0.0</td>\n",
              "      <td>5124</td>\n",
              "      <td>0.0</td>\n",
              "      <td>124.0</td>\n",
              "      <td>NaN</td>\n",
              "      <td>0.0</td>\n",
              "      <td>0</td>\n",
              "      <td>0</td>\n",
              "    </tr>\n",
              "    <tr>\n",
              "      <th>421</th>\n",
              "      <td>0.0</td>\n",
              "      <td>0.0</td>\n",
              "      <td>0.0</td>\n",
              "      <td>0</td>\n",
              "      <td>0.0</td>\n",
              "      <td>2720</td>\n",
              "      <td>0.0</td>\n",
              "      <td>80.0</td>\n",
              "      <td>NaN</td>\n",
              "      <td>0.0</td>\n",
              "      <td>2</td>\n",
              "      <td>0</td>\n",
              "    </tr>\n",
              "    <tr>\n",
              "      <th>423</th>\n",
              "      <td>1.0</td>\n",
              "      <td>1.0</td>\n",
              "      <td>1.0</td>\n",
              "      <td>1</td>\n",
              "      <td>0.0</td>\n",
              "      <td>7250</td>\n",
              "      <td>1667.0</td>\n",
              "      <td>110.0</td>\n",
              "      <td>NaN</td>\n",
              "      <td>0.0</td>\n",
              "      <td>2</td>\n",
              "      <td>0</td>\n",
              "    </tr>\n",
              "  </tbody>\n",
              "</table>\n",
              "</div>\n",
              "      <button class=\"colab-df-convert\" onclick=\"convertToInteractive('df-33e01da2-9e8b-40d9-ae2b-540525a9ea6e')\"\n",
              "              title=\"Convert this dataframe to an interactive table.\"\n",
              "              style=\"display:none;\">\n",
              "        \n",
              "  <svg xmlns=\"http://www.w3.org/2000/svg\" height=\"24px\"viewBox=\"0 0 24 24\"\n",
              "       width=\"24px\">\n",
              "    <path d=\"M0 0h24v24H0V0z\" fill=\"none\"/>\n",
              "    <path d=\"M18.56 5.44l.94 2.06.94-2.06 2.06-.94-2.06-.94-.94-2.06-.94 2.06-2.06.94zm-11 1L8.5 8.5l.94-2.06 2.06-.94-2.06-.94L8.5 2.5l-.94 2.06-2.06.94zm10 10l.94 2.06.94-2.06 2.06-.94-2.06-.94-.94-2.06-.94 2.06-2.06.94z\"/><path d=\"M17.41 7.96l-1.37-1.37c-.4-.4-.92-.59-1.43-.59-.52 0-1.04.2-1.43.59L10.3 9.45l-7.72 7.72c-.78.78-.78 2.05 0 2.83L4 21.41c.39.39.9.59 1.41.59.51 0 1.02-.2 1.41-.59l7.78-7.78 2.81-2.81c.8-.78.8-2.07 0-2.86zM5.41 20L4 18.59l7.72-7.72 1.47 1.35L5.41 20z\"/>\n",
              "  </svg>\n",
              "      </button>\n",
              "      \n",
              "  <style>\n",
              "    .colab-df-container {\n",
              "      display:flex;\n",
              "      flex-wrap:wrap;\n",
              "      gap: 12px;\n",
              "    }\n",
              "\n",
              "    .colab-df-convert {\n",
              "      background-color: #E8F0FE;\n",
              "      border: none;\n",
              "      border-radius: 50%;\n",
              "      cursor: pointer;\n",
              "      display: none;\n",
              "      fill: #1967D2;\n",
              "      height: 32px;\n",
              "      padding: 0 0 0 0;\n",
              "      width: 32px;\n",
              "    }\n",
              "\n",
              "    .colab-df-convert:hover {\n",
              "      background-color: #E2EBFA;\n",
              "      box-shadow: 0px 1px 2px rgba(60, 64, 67, 0.3), 0px 1px 3px 1px rgba(60, 64, 67, 0.15);\n",
              "      fill: #174EA6;\n",
              "    }\n",
              "\n",
              "    [theme=dark] .colab-df-convert {\n",
              "      background-color: #3B4455;\n",
              "      fill: #D2E3FC;\n",
              "    }\n",
              "\n",
              "    [theme=dark] .colab-df-convert:hover {\n",
              "      background-color: #434B5C;\n",
              "      box-shadow: 0px 1px 3px 1px rgba(0, 0, 0, 0.15);\n",
              "      filter: drop-shadow(0px 1px 2px rgba(0, 0, 0, 0.3));\n",
              "      fill: #FFFFFF;\n",
              "    }\n",
              "  </style>\n",
              "\n",
              "      <script>\n",
              "        const buttonEl =\n",
              "          document.querySelector('#df-33e01da2-9e8b-40d9-ae2b-540525a9ea6e button.colab-df-convert');\n",
              "        buttonEl.style.display =\n",
              "          google.colab.kernel.accessAllowed ? 'block' : 'none';\n",
              "\n",
              "        async function convertToInteractive(key) {\n",
              "          const element = document.querySelector('#df-33e01da2-9e8b-40d9-ae2b-540525a9ea6e');\n",
              "          const dataTable =\n",
              "            await google.colab.kernel.invokeFunction('convertToInteractive',\n",
              "                                                     [key], {});\n",
              "          if (!dataTable) return;\n",
              "\n",
              "          const docLinkHtml = 'Like what you see? Visit the ' +\n",
              "            '<a target=\"_blank\" href=https://colab.research.google.com/notebooks/data_table.ipynb>data table notebook</a>'\n",
              "            + ' to learn more about interactive tables.';\n",
              "          element.innerHTML = '';\n",
              "          dataTable['output_type'] = 'display_data';\n",
              "          await google.colab.output.renderOutput(dataTable, element);\n",
              "          const docLink = document.createElement('div');\n",
              "          docLink.innerHTML = docLinkHtml;\n",
              "          element.appendChild(docLink);\n",
              "        }\n",
              "      </script>\n",
              "    </div>\n",
              "  </div>\n",
              "  "
            ],
            "text/plain": [
              "     Gender  Married  Dependents  ...  Credit_History  Property_Area  Loan_Status\n",
              "19      1.0      1.0         0.0  ...             1.0              2            1\n",
              "36      1.0      1.0         0.0  ...             0.0              2            0\n",
              "44      1.0      1.0         0.0  ...             1.0              2            1\n",
              "45      0.0      0.0         0.0  ...             1.0              2            1\n",
              "73      1.0      1.0         3.0  ...             0.0              1            0\n",
              "112     1.0      1.0         0.0  ...             0.0              0            0\n",
              "165     1.0      1.0         0.0  ...             1.0              0            1\n",
              "197     0.0      0.0         0.0  ...             1.0              2            1\n",
              "223     1.0      1.0         0.0  ...             1.0              1            1\n",
              "232     1.0      0.0         0.0  ...             1.0              0            1\n",
              "367     1.0      0.0         0.0  ...             0.0              0            0\n",
              "421     0.0      0.0         0.0  ...             0.0              2            0\n",
              "423     1.0      1.0         1.0  ...             0.0              2            0\n",
              "\n",
              "[13 rows x 12 columns]"
            ]
          },
          "metadata": {},
          "execution_count": 38
        }
      ]
    },
    {
      "cell_type": "code",
      "source": [
        "df.drop([19,36,44,45,73,112,165,197,223,232,367,421,423],inplace=True)"
      ],
      "metadata": {
        "id": "L5nb6_pl8iWc"
      },
      "execution_count": 39,
      "outputs": []
    },
    {
      "cell_type": "code",
      "source": [
        "df['Loan_Amount_Term'].isna().sum()"
      ],
      "metadata": {
        "id": "ky-KTdbh9MIU",
        "colab": {
          "base_uri": "https://localhost:8080/",
          "height": 0
        },
        "outputId": "b9b87a09-7e04-491f-ce63-ea5034630ec7"
      },
      "execution_count": 40,
      "outputs": [
        {
          "output_type": "execute_result",
          "data": {
            "text/plain": [
              "0"
            ]
          },
          "metadata": {},
          "execution_count": 40
        }
      ]
    },
    {
      "cell_type": "markdown",
      "source": [
        "#### Filling null values of column LoanAmount by mean\n",
        "\n"
      ],
      "metadata": {
        "id": "wNnFgnlnHGEE"
      }
    },
    {
      "cell_type": "code",
      "source": [
        "#Imputing column LoanAmount\n",
        "df['LoanAmount'].isna().sum()"
      ],
      "metadata": {
        "id": "os6mfvE_KIky",
        "colab": {
          "base_uri": "https://localhost:8080/",
          "height": 0
        },
        "outputId": "ab56b2b6-61ee-4db0-d8be-796048ef5d2d"
      },
      "execution_count": 41,
      "outputs": [
        {
          "output_type": "execute_result",
          "data": {
            "text/plain": [
              "20"
            ]
          },
          "metadata": {},
          "execution_count": 41
        }
      ]
    },
    {
      "cell_type": "code",
      "source": [
        "LAmean = df['LoanAmount'].mean()\n",
        "df['LoanAmount'].fillna(LAmean, inplace=True)"
      ],
      "metadata": {
        "id": "feYdHMMFKIf2"
      },
      "execution_count": 42,
      "outputs": []
    },
    {
      "cell_type": "code",
      "source": [
        "df['LoanAmount'].isna().sum()"
      ],
      "metadata": {
        "id": "STvVP-AYKS5k",
        "colab": {
          "base_uri": "https://localhost:8080/",
          "height": 0
        },
        "outputId": "e5fcbed0-5524-46af-8770-2e04f54d58ac"
      },
      "execution_count": 43,
      "outputs": [
        {
          "output_type": "execute_result",
          "data": {
            "text/plain": [
              "0"
            ]
          },
          "metadata": {},
          "execution_count": 43
        }
      ]
    },
    {
      "cell_type": "code",
      "source": [
        "df = df.dropna(axis=0, subset=['Self_Employed'])"
      ],
      "metadata": {
        "id": "p-TUuAcxkLxd"
      },
      "execution_count": 44,
      "outputs": []
    },
    {
      "cell_type": "code",
      "source": [
        "df.isna().sum()"
      ],
      "metadata": {
        "id": "ncm0NyGl9MGY",
        "colab": {
          "base_uri": "https://localhost:8080/",
          "height": 0
        },
        "outputId": "4452f2f8-3ef2-4a4d-ca71-16279b75cbbe"
      },
      "execution_count": 45,
      "outputs": [
        {
          "output_type": "execute_result",
          "data": {
            "text/plain": [
              "Gender                0\n",
              "Married               0\n",
              "Dependents            0\n",
              "Education             0\n",
              "Self_Employed         0\n",
              "ApplicantIncome       0\n",
              "CoapplicantIncome     0\n",
              "LoanAmount            0\n",
              "Loan_Amount_Term      0\n",
              "Credit_History       43\n",
              "Property_Area         0\n",
              "Loan_Status           0\n",
              "dtype: int64"
            ]
          },
          "metadata": {},
          "execution_count": 45
        }
      ]
    },
    {
      "cell_type": "markdown",
      "source": [
        "- Credit_History has highest corr value with target.\n",
        "- There are 8.14 % null values in the column, so will should fill null values instead of dropping rows. Also, this column has categorical data.\n",
        "- Trying to fill null values by predicting them using KNN model.\n",
        "#### Filling null values of Crdit_History column by prediction using KNN algorithm"
      ],
      "metadata": {
        "id": "TvkZmKUzldU-"
      }
    },
    {
      "cell_type": "code",
      "source": [
        "# Created new dataframe without null values of credit_history\n",
        "df_CRHS = df.dropna(axis=0, subset=['Credit_History'])"
      ],
      "metadata": {
        "id": "LmSw5QCrQ8I1"
      },
      "execution_count": 46,
      "outputs": []
    },
    {
      "cell_type": "code",
      "source": [
        "df_CRHS.isna().sum()"
      ],
      "metadata": {
        "id": "UopgrS79TQKs",
        "colab": {
          "base_uri": "https://localhost:8080/",
          "height": 0
        },
        "outputId": "697ee06c-2f74-48e5-d5b9-e23d7fdac0a4"
      },
      "execution_count": 47,
      "outputs": [
        {
          "output_type": "execute_result",
          "data": {
            "text/plain": [
              "Gender               0\n",
              "Married              0\n",
              "Dependents           0\n",
              "Education            0\n",
              "Self_Employed        0\n",
              "ApplicantIncome      0\n",
              "CoapplicantIncome    0\n",
              "LoanAmount           0\n",
              "Loan_Amount_Term     0\n",
              "Credit_History       0\n",
              "Property_Area        0\n",
              "Loan_Status          0\n",
              "dtype: int64"
            ]
          },
          "metadata": {},
          "execution_count": 47
        }
      ]
    },
    {
      "cell_type": "code",
      "source": [
        "# Seperated Credit_History column for making predictions\n",
        "x_crhs = df_CRHS.iloc[:,[0,1,2,3,4,5,6,7,8,10,11]]\n",
        "y_crhs = df_CRHS.iloc[:,9]"
      ],
      "metadata": {
        "id": "zoDD-4sr9L7C"
      },
      "execution_count": 48,
      "outputs": []
    },
    {
      "cell_type": "code",
      "source": [
        "from sklearn.model_selection import train_test_split\n",
        "x_ctrain, x_ctest, y_ctrain, y_ctest = train_test_split(x_crhs,y_crhs, test_size = 0.3, random_state=1)"
      ],
      "metadata": {
        "id": "_LtPvkHc9L4n"
      },
      "execution_count": 49,
      "outputs": []
    },
    {
      "cell_type": "code",
      "source": [
        "from sklearn.neighbors import KNeighborsClassifier\n",
        "knn_c = KNeighborsClassifier(n_neighbors=9)\n",
        "knn_c.fit(x_ctrain,y_ctrain)\n",
        "y_cpred = knn_c.predict(x_ctest)  \n",
        "\n",
        "from sklearn.metrics import accuracy_score,classification_report\n",
        "print(f\"Accuracy Score:{accuracy_score(y_ctest,y_cpred)}\\n\\n\")\n",
        "print(classification_report(y_ctest,y_cpred))"
      ],
      "metadata": {
        "id": "vuhhjj849L2k",
        "colab": {
          "base_uri": "https://localhost:8080/",
          "height": 0
        },
        "outputId": "6bd56b08-e8fd-49b9-d7c8-cae6f57864f2"
      },
      "execution_count": 50,
      "outputs": [
        {
          "output_type": "stream",
          "name": "stdout",
          "text": [
            "Accuracy Score:0.8466666666666667\n",
            "\n",
            "\n",
            "              precision    recall  f1-score   support\n",
            "\n",
            "         0.0       0.00      0.00      0.00        23\n",
            "         1.0       0.85      1.00      0.92       127\n",
            "\n",
            "    accuracy                           0.85       150\n",
            "   macro avg       0.42      0.50      0.46       150\n",
            "weighted avg       0.72      0.85      0.78       150\n",
            "\n"
          ]
        }
      ]
    },
    {
      "cell_type": "code",
      "source": [
        "#Predicting Null values of credit_history\n",
        "df_CRHS_new = df.iloc[:,:]"
      ],
      "metadata": {
        "id": "HSwLvHvaTyMS"
      },
      "execution_count": 51,
      "outputs": []
    },
    {
      "cell_type": "code",
      "source": [
        "df_CRHS_new.isna().sum()"
      ],
      "metadata": {
        "id": "PyVvW-xRT4Hq",
        "colab": {
          "base_uri": "https://localhost:8080/",
          "height": 0
        },
        "outputId": "c087b144-6c35-4c83-f49f-5c36783f3f00"
      },
      "execution_count": 52,
      "outputs": [
        {
          "output_type": "execute_result",
          "data": {
            "text/plain": [
              "Gender                0\n",
              "Married               0\n",
              "Dependents            0\n",
              "Education             0\n",
              "Self_Employed         0\n",
              "ApplicantIncome       0\n",
              "CoapplicantIncome     0\n",
              "LoanAmount            0\n",
              "Loan_Amount_Term      0\n",
              "Credit_History       43\n",
              "Property_Area         0\n",
              "Loan_Status           0\n",
              "dtype: int64"
            ]
          },
          "metadata": {},
          "execution_count": 52
        }
      ]
    },
    {
      "cell_type": "code",
      "source": [
        "df_CRHS_new_test = df_CRHS_new[df_CRHS_new['Credit_History'].isna()]"
      ],
      "metadata": {
        "id": "A_fAvuRzT44n"
      },
      "execution_count": 53,
      "outputs": []
    },
    {
      "cell_type": "code",
      "source": [
        "x_df_CRHS_test = df_CRHS_new_test.iloc[:,[0,1,2,3,4,5,6,7,8,10,11]]\n",
        "y_df_CRHS_test = pd.DataFrame(df_CRHS_new_test.iloc[:,9])"
      ],
      "metadata": {
        "id": "-GZyAvf4VK_F"
      },
      "execution_count": 54,
      "outputs": []
    },
    {
      "cell_type": "code",
      "source": [
        "#Predicted NULL Values of Credit history\n",
        "y_df_CRHS_pred = knn_c.predict(x_df_CRHS_test)"
      ],
      "metadata": {
        "id": "bfkeoT3gViVA"
      },
      "execution_count": 55,
      "outputs": []
    },
    {
      "cell_type": "code",
      "source": [
        "y_df_CRHS_test['Credit_History'] = y_df_CRHS_pred"
      ],
      "metadata": {
        "id": "1idqdEAvbIAD"
      },
      "execution_count": 56,
      "outputs": []
    },
    {
      "cell_type": "code",
      "source": [
        "df_CRHS_fna = pd.concat( [x_df_CRHS_test, y_df_CRHS_test] , axis=1) #this is the dataset of Credit History without null values"
      ],
      "metadata": {
        "id": "6uX2XBftYKXS"
      },
      "execution_count": 57,
      "outputs": []
    },
    {
      "cell_type": "code",
      "source": [
        "x_df_CRHS_test.shape"
      ],
      "metadata": {
        "id": "A8osFcF9YyXr",
        "colab": {
          "base_uri": "https://localhost:8080/",
          "height": 0
        },
        "outputId": "697f67b0-dda6-4b00-c249-4406a6d81749"
      },
      "execution_count": 58,
      "outputs": [
        {
          "output_type": "execute_result",
          "data": {
            "text/plain": [
              "(43, 11)"
            ]
          },
          "metadata": {},
          "execution_count": 58
        }
      ]
    },
    {
      "cell_type": "code",
      "source": [
        "y_df_CRHS_test.shape"
      ],
      "metadata": {
        "id": "i-qyobBjb3dB",
        "colab": {
          "base_uri": "https://localhost:8080/",
          "height": 0
        },
        "outputId": "8cb6c1fa-d19f-4c90-8133-aa7251307863"
      },
      "execution_count": 59,
      "outputs": [
        {
          "output_type": "execute_result",
          "data": {
            "text/plain": [
              "(43, 1)"
            ]
          },
          "metadata": {},
          "execution_count": 59
        }
      ]
    },
    {
      "cell_type": "code",
      "source": [
        "df.shape"
      ],
      "metadata": {
        "id": "jaOoV97tv6cL",
        "colab": {
          "base_uri": "https://localhost:8080/",
          "height": 0
        },
        "outputId": "840938fd-a911-4bfc-a75e-825ee900ae5a"
      },
      "execution_count": 60,
      "outputs": [
        {
          "output_type": "execute_result",
          "data": {
            "text/plain": [
              "(542, 12)"
            ]
          },
          "metadata": {},
          "execution_count": 60
        }
      ]
    },
    {
      "cell_type": "markdown",
      "source": [
        "- Splitting dataframe"
      ],
      "metadata": {
        "id": "v-g4tuy9chdB"
      }
    },
    {
      "cell_type": "code",
      "source": [
        "df_null = df[df['Credit_History'].isna()]"
      ],
      "metadata": {
        "id": "JgMGZ-i1clhW"
      },
      "execution_count": 61,
      "outputs": []
    },
    {
      "cell_type": "code",
      "source": [
        "mask = df.notnull() # this gives boolean values w.r.t null\n",
        "\n",
        "df_all = df.where(mask).dropna()"
      ],
      "metadata": {
        "id": "5IUszNiMfJcN"
      },
      "execution_count": 62,
      "outputs": []
    },
    {
      "cell_type": "code",
      "source": [
        "df_new = pd.concat([df_all, df_CRHS_fna], axis=0)"
      ],
      "metadata": {
        "id": "qAK3gLs_gCut"
      },
      "execution_count": 63,
      "outputs": []
    },
    {
      "cell_type": "code",
      "source": [
        "df_new.isna().sum()"
      ],
      "metadata": {
        "id": "nXOTBJcuhlW9",
        "colab": {
          "base_uri": "https://localhost:8080/",
          "height": 0
        },
        "outputId": "e5342f2f-545e-4338-ea6e-a49e48715c74"
      },
      "execution_count": 64,
      "outputs": [
        {
          "output_type": "execute_result",
          "data": {
            "text/plain": [
              "Gender               0\n",
              "Married              0\n",
              "Dependents           0\n",
              "Education            0\n",
              "Self_Employed        0\n",
              "ApplicantIncome      0\n",
              "CoapplicantIncome    0\n",
              "LoanAmount           0\n",
              "Loan_Amount_Term     0\n",
              "Credit_History       0\n",
              "Property_Area        0\n",
              "Loan_Status          0\n",
              "dtype: int64"
            ]
          },
          "metadata": {},
          "execution_count": 64
        }
      ]
    },
    {
      "cell_type": "markdown",
      "source": [
        "#### - Finally we got dataframe without null values"
      ],
      "metadata": {
        "id": "9WThCMC1iEwK"
      }
    },
    {
      "cell_type": "code",
      "source": [
        "# Splitting data for training and testing\n",
        "x = df_new.iloc[:,:-1]\n",
        "y = df_new.iloc[:,-1]"
      ],
      "metadata": {
        "id": "ps00yLXawzNj"
      },
      "execution_count": 65,
      "outputs": []
    },
    {
      "cell_type": "code",
      "source": [
        "from sklearn.preprocessing import StandardScaler\n",
        "sc = StandardScaler()\n",
        "x = sc.fit_transform(x)"
      ],
      "metadata": {
        "id": "_h__5-oou2Ya"
      },
      "execution_count": 66,
      "outputs": []
    },
    {
      "cell_type": "code",
      "source": [
        "xtrain, xtest, ytrain, ytest = train_test_split (x, y, test_size=0.25, random_state=1)"
      ],
      "metadata": {
        "id": "j86mFGLjwSWc"
      },
      "execution_count": 67,
      "outputs": []
    },
    {
      "cell_type": "markdown",
      "source": [
        "## Applying ANN on dataset"
      ],
      "metadata": {
        "id": "LXywnfLY7BMk"
      }
    },
    {
      "cell_type": "code",
      "source": [
        "#step1: Initialise ANN model\n",
        "ann = Sequential()\n",
        "\n",
        "#step2: Add layers\n",
        "ann.add (Dense (units = 12, activation ='relu')) #hidden layer: relu=rectified linear unit\n",
        "ann.add (Dense (units = 12, activation ='relu'))\n",
        "ann.add (Dense (units = 1, activation ='sigmoid')) #output layer:\n",
        "\n",
        "#step3: Establish connection between layers\n",
        "ann.compile (optimizer ='adam', loss='binary_crossentropy') #adam=advance version of gradient descent\n",
        "\n",
        "#step4: train the model\n",
        "ann.fit (xtrain, ytrain, batch_size = 10, epochs = 100,validation_data= (xtest, ytest))"
      ],
      "metadata": {
        "id": "ZghzqVGmxFKR",
        "colab": {
          "base_uri": "https://localhost:8080/",
          "height": 0
        },
        "outputId": "dd96f294-2ab7-4d02-a3a8-09a235c57267"
      },
      "execution_count": 68,
      "outputs": [
        {
          "output_type": "stream",
          "name": "stdout",
          "text": [
            "Epoch 1/100\n",
            "41/41 [==============================] - 1s 7ms/step - loss: 0.6683 - val_loss: 0.6533\n",
            "Epoch 2/100\n",
            "41/41 [==============================] - 0s 3ms/step - loss: 0.6190 - val_loss: 0.6524\n",
            "Epoch 3/100\n",
            "41/41 [==============================] - 0s 3ms/step - loss: 0.5909 - val_loss: 0.6572\n",
            "Epoch 4/100\n",
            "41/41 [==============================] - 0s 3ms/step - loss: 0.5708 - val_loss: 0.6574\n",
            "Epoch 5/100\n",
            "41/41 [==============================] - 0s 3ms/step - loss: 0.5558 - val_loss: 0.6634\n",
            "Epoch 6/100\n",
            "41/41 [==============================] - 0s 3ms/step - loss: 0.5425 - val_loss: 0.6595\n",
            "Epoch 7/100\n",
            "41/41 [==============================] - 0s 3ms/step - loss: 0.5310 - val_loss: 0.6553\n",
            "Epoch 8/100\n",
            "41/41 [==============================] - 0s 3ms/step - loss: 0.5192 - val_loss: 0.6503\n",
            "Epoch 9/100\n",
            "41/41 [==============================] - 0s 3ms/step - loss: 0.5083 - val_loss: 0.6424\n",
            "Epoch 10/100\n",
            "41/41 [==============================] - 0s 3ms/step - loss: 0.4987 - val_loss: 0.6393\n",
            "Epoch 11/100\n",
            "41/41 [==============================] - 0s 2ms/step - loss: 0.4898 - val_loss: 0.6337\n",
            "Epoch 12/100\n",
            "41/41 [==============================] - 0s 3ms/step - loss: 0.4825 - val_loss: 0.6287\n",
            "Epoch 13/100\n",
            "41/41 [==============================] - 0s 4ms/step - loss: 0.4759 - val_loss: 0.6314\n",
            "Epoch 14/100\n",
            "41/41 [==============================] - 0s 3ms/step - loss: 0.4700 - val_loss: 0.6263\n",
            "Epoch 15/100\n",
            "41/41 [==============================] - 0s 3ms/step - loss: 0.4650 - val_loss: 0.6286\n",
            "Epoch 16/100\n",
            "41/41 [==============================] - 0s 3ms/step - loss: 0.4619 - val_loss: 0.6287\n",
            "Epoch 17/100\n",
            "41/41 [==============================] - 0s 3ms/step - loss: 0.4577 - val_loss: 0.6230\n",
            "Epoch 18/100\n",
            "41/41 [==============================] - 0s 3ms/step - loss: 0.4551 - val_loss: 0.6300\n",
            "Epoch 19/100\n",
            "41/41 [==============================] - 0s 3ms/step - loss: 0.4522 - val_loss: 0.6301\n",
            "Epoch 20/100\n",
            "41/41 [==============================] - 0s 3ms/step - loss: 0.4497 - val_loss: 0.6311\n",
            "Epoch 21/100\n",
            "41/41 [==============================] - 0s 3ms/step - loss: 0.4474 - val_loss: 0.6271\n",
            "Epoch 22/100\n",
            "41/41 [==============================] - 0s 3ms/step - loss: 0.4462 - val_loss: 0.6421\n",
            "Epoch 23/100\n",
            "41/41 [==============================] - 0s 7ms/step - loss: 0.4440 - val_loss: 0.6330\n",
            "Epoch 24/100\n",
            "41/41 [==============================] - 0s 3ms/step - loss: 0.4425 - val_loss: 0.6395\n",
            "Epoch 25/100\n",
            "41/41 [==============================] - 0s 3ms/step - loss: 0.4411 - val_loss: 0.6420\n",
            "Epoch 26/100\n",
            "41/41 [==============================] - 0s 3ms/step - loss: 0.4368 - val_loss: 0.6418\n",
            "Epoch 27/100\n",
            "41/41 [==============================] - 0s 2ms/step - loss: 0.4367 - val_loss: 0.6414\n",
            "Epoch 28/100\n",
            "41/41 [==============================] - 0s 3ms/step - loss: 0.4345 - val_loss: 0.6404\n",
            "Epoch 29/100\n",
            "41/41 [==============================] - 0s 4ms/step - loss: 0.4331 - val_loss: 0.6401\n",
            "Epoch 30/100\n",
            "41/41 [==============================] - 0s 3ms/step - loss: 0.4309 - val_loss: 0.6417\n",
            "Epoch 31/100\n",
            "41/41 [==============================] - 0s 3ms/step - loss: 0.4300 - val_loss: 0.6472\n",
            "Epoch 32/100\n",
            "41/41 [==============================] - 0s 3ms/step - loss: 0.4282 - val_loss: 0.6430\n",
            "Epoch 33/100\n",
            "41/41 [==============================] - 0s 3ms/step - loss: 0.4267 - val_loss: 0.6464\n",
            "Epoch 34/100\n",
            "41/41 [==============================] - 0s 3ms/step - loss: 0.4252 - val_loss: 0.6511\n",
            "Epoch 35/100\n",
            "41/41 [==============================] - 0s 3ms/step - loss: 0.4252 - val_loss: 0.6572\n",
            "Epoch 36/100\n",
            "41/41 [==============================] - 0s 3ms/step - loss: 0.4232 - val_loss: 0.6519\n",
            "Epoch 37/100\n",
            "41/41 [==============================] - 0s 3ms/step - loss: 0.4222 - val_loss: 0.6570\n",
            "Epoch 38/100\n",
            "41/41 [==============================] - 0s 3ms/step - loss: 0.4214 - val_loss: 0.6553\n",
            "Epoch 39/100\n",
            "41/41 [==============================] - 0s 3ms/step - loss: 0.4201 - val_loss: 0.6627\n",
            "Epoch 40/100\n",
            "41/41 [==============================] - 0s 3ms/step - loss: 0.4178 - val_loss: 0.6601\n",
            "Epoch 41/100\n",
            "41/41 [==============================] - 0s 3ms/step - loss: 0.4160 - val_loss: 0.6635\n",
            "Epoch 42/100\n",
            "41/41 [==============================] - 0s 3ms/step - loss: 0.4157 - val_loss: 0.6633\n",
            "Epoch 43/100\n",
            "41/41 [==============================] - 0s 3ms/step - loss: 0.4147 - val_loss: 0.6644\n",
            "Epoch 44/100\n",
            "41/41 [==============================] - 0s 3ms/step - loss: 0.4137 - val_loss: 0.6697\n",
            "Epoch 45/100\n",
            "41/41 [==============================] - 0s 3ms/step - loss: 0.4134 - val_loss: 0.6712\n",
            "Epoch 46/100\n",
            "41/41 [==============================] - 0s 3ms/step - loss: 0.4112 - val_loss: 0.6744\n",
            "Epoch 47/100\n",
            "41/41 [==============================] - 0s 3ms/step - loss: 0.4117 - val_loss: 0.6745\n",
            "Epoch 48/100\n",
            "41/41 [==============================] - 0s 3ms/step - loss: 0.4106 - val_loss: 0.6710\n",
            "Epoch 49/100\n",
            "41/41 [==============================] - 0s 3ms/step - loss: 0.4089 - val_loss: 0.6789\n",
            "Epoch 50/100\n",
            "41/41 [==============================] - 0s 3ms/step - loss: 0.4081 - val_loss: 0.6789\n",
            "Epoch 51/100\n",
            "41/41 [==============================] - 0s 3ms/step - loss: 0.4068 - val_loss: 0.6846\n",
            "Epoch 52/100\n",
            "41/41 [==============================] - 0s 3ms/step - loss: 0.4061 - val_loss: 0.6764\n",
            "Epoch 53/100\n",
            "41/41 [==============================] - 0s 3ms/step - loss: 0.4060 - val_loss: 0.6771\n",
            "Epoch 54/100\n",
            "41/41 [==============================] - 0s 3ms/step - loss: 0.4044 - val_loss: 0.6845\n",
            "Epoch 55/100\n",
            "41/41 [==============================] - 0s 3ms/step - loss: 0.4037 - val_loss: 0.6800\n",
            "Epoch 56/100\n",
            "41/41 [==============================] - 0s 3ms/step - loss: 0.4022 - val_loss: 0.6803\n",
            "Epoch 57/100\n",
            "41/41 [==============================] - 0s 3ms/step - loss: 0.4022 - val_loss: 0.6851\n",
            "Epoch 58/100\n",
            "41/41 [==============================] - 0s 3ms/step - loss: 0.4015 - val_loss: 0.6888\n",
            "Epoch 59/100\n",
            "41/41 [==============================] - 0s 3ms/step - loss: 0.3994 - val_loss: 0.6918\n",
            "Epoch 60/100\n",
            "41/41 [==============================] - 0s 3ms/step - loss: 0.3984 - val_loss: 0.6901\n",
            "Epoch 61/100\n",
            "41/41 [==============================] - 0s 2ms/step - loss: 0.3972 - val_loss: 0.6946\n",
            "Epoch 62/100\n",
            "41/41 [==============================] - 0s 3ms/step - loss: 0.3973 - val_loss: 0.6991\n",
            "Epoch 63/100\n",
            "41/41 [==============================] - 0s 3ms/step - loss: 0.3965 - val_loss: 0.6912\n",
            "Epoch 64/100\n",
            "41/41 [==============================] - 0s 3ms/step - loss: 0.3942 - val_loss: 0.6984\n",
            "Epoch 65/100\n",
            "41/41 [==============================] - 0s 3ms/step - loss: 0.3932 - val_loss: 0.7045\n",
            "Epoch 66/100\n",
            "41/41 [==============================] - 0s 3ms/step - loss: 0.3937 - val_loss: 0.6951\n",
            "Epoch 67/100\n",
            "41/41 [==============================] - 0s 3ms/step - loss: 0.3923 - val_loss: 0.6975\n",
            "Epoch 68/100\n",
            "41/41 [==============================] - 0s 3ms/step - loss: 0.3911 - val_loss: 0.7050\n",
            "Epoch 69/100\n",
            "41/41 [==============================] - 0s 3ms/step - loss: 0.3905 - val_loss: 0.7052\n",
            "Epoch 70/100\n",
            "41/41 [==============================] - 0s 3ms/step - loss: 0.3887 - val_loss: 0.7085\n",
            "Epoch 71/100\n",
            "41/41 [==============================] - 0s 3ms/step - loss: 0.3881 - val_loss: 0.7165\n",
            "Epoch 72/100\n",
            "41/41 [==============================] - 0s 3ms/step - loss: 0.3868 - val_loss: 0.7135\n",
            "Epoch 73/100\n",
            "41/41 [==============================] - 0s 3ms/step - loss: 0.3855 - val_loss: 0.7110\n",
            "Epoch 74/100\n",
            "41/41 [==============================] - 0s 3ms/step - loss: 0.3850 - val_loss: 0.7133\n",
            "Epoch 75/100\n",
            "41/41 [==============================] - 0s 3ms/step - loss: 0.3843 - val_loss: 0.7211\n",
            "Epoch 76/100\n",
            "41/41 [==============================] - 0s 3ms/step - loss: 0.3848 - val_loss: 0.7173\n",
            "Epoch 77/100\n",
            "41/41 [==============================] - 0s 3ms/step - loss: 0.3830 - val_loss: 0.7177\n",
            "Epoch 78/100\n",
            "41/41 [==============================] - 0s 3ms/step - loss: 0.3826 - val_loss: 0.7286\n",
            "Epoch 79/100\n",
            "41/41 [==============================] - 0s 3ms/step - loss: 0.3811 - val_loss: 0.7231\n",
            "Epoch 80/100\n",
            "41/41 [==============================] - 0s 3ms/step - loss: 0.3812 - val_loss: 0.7226\n",
            "Epoch 81/100\n",
            "41/41 [==============================] - 0s 3ms/step - loss: 0.3801 - val_loss: 0.7266\n",
            "Epoch 82/100\n",
            "41/41 [==============================] - 0s 3ms/step - loss: 0.3784 - val_loss: 0.7260\n",
            "Epoch 83/100\n",
            "41/41 [==============================] - 0s 2ms/step - loss: 0.3781 - val_loss: 0.7303\n",
            "Epoch 84/100\n",
            "41/41 [==============================] - 0s 3ms/step - loss: 0.3774 - val_loss: 0.7284\n",
            "Epoch 85/100\n",
            "41/41 [==============================] - 0s 2ms/step - loss: 0.3761 - val_loss: 0.7323\n",
            "Epoch 86/100\n",
            "41/41 [==============================] - 0s 3ms/step - loss: 0.3759 - val_loss: 0.7347\n",
            "Epoch 87/100\n",
            "41/41 [==============================] - 0s 3ms/step - loss: 0.3756 - val_loss: 0.7295\n",
            "Epoch 88/100\n",
            "41/41 [==============================] - 0s 3ms/step - loss: 0.3736 - val_loss: 0.7374\n",
            "Epoch 89/100\n",
            "41/41 [==============================] - 0s 3ms/step - loss: 0.3736 - val_loss: 0.7345\n",
            "Epoch 90/100\n",
            "41/41 [==============================] - 0s 3ms/step - loss: 0.3721 - val_loss: 0.7354\n",
            "Epoch 91/100\n",
            "41/41 [==============================] - 0s 3ms/step - loss: 0.3713 - val_loss: 0.7394\n",
            "Epoch 92/100\n",
            "41/41 [==============================] - 0s 3ms/step - loss: 0.3710 - val_loss: 0.7385\n",
            "Epoch 93/100\n",
            "41/41 [==============================] - 0s 3ms/step - loss: 0.3701 - val_loss: 0.7293\n",
            "Epoch 94/100\n",
            "41/41 [==============================] - 0s 3ms/step - loss: 0.3701 - val_loss: 0.7352\n",
            "Epoch 95/100\n",
            "41/41 [==============================] - 0s 3ms/step - loss: 0.3676 - val_loss: 0.7294\n",
            "Epoch 96/100\n",
            "41/41 [==============================] - 0s 3ms/step - loss: 0.3676 - val_loss: 0.7364\n",
            "Epoch 97/100\n",
            "41/41 [==============================] - 0s 3ms/step - loss: 0.3660 - val_loss: 0.7341\n",
            "Epoch 98/100\n",
            "41/41 [==============================] - 0s 3ms/step - loss: 0.3662 - val_loss: 0.7382\n",
            "Epoch 99/100\n",
            "41/41 [==============================] - 0s 3ms/step - loss: 0.3645 - val_loss: 0.7332\n",
            "Epoch 100/100\n",
            "41/41 [==============================] - 0s 3ms/step - loss: 0.3635 - val_loss: 0.7345\n"
          ]
        },
        {
          "output_type": "execute_result",
          "data": {
            "text/plain": [
              "<keras.callbacks.History at 0x7f3f4c136290>"
            ]
          },
          "metadata": {},
          "execution_count": 68
        }
      ]
    },
    {
      "cell_type": "code",
      "source": [
        "lossdf = pd.DataFrame(ann.history.history)\n",
        "lossdf.plot()"
      ],
      "metadata": {
        "colab": {
          "base_uri": "https://localhost:8080/",
          "height": 283
        },
        "id": "qjZjDdlyAI1U",
        "outputId": "56d7b905-93d4-4893-ad13-0341b11d2980"
      },
      "execution_count": 69,
      "outputs": [
        {
          "output_type": "execute_result",
          "data": {
            "text/plain": [
              "<matplotlib.axes._subplots.AxesSubplot at 0x7f3f478be7d0>"
            ]
          },
          "metadata": {},
          "execution_count": 69
        },
        {
          "output_type": "display_data",
          "data": {
            "image/png": "[encoded data removed]",
            "text/plain": [
              "<Figure size 432x288 with 1 Axes>"
            ]
          },
          "metadata": {
            "needs_background": "light"
          }
        }
      ]
    },
    {
      "cell_type": "code",
      "source": [
        "#step5: make predictions\n",
        "ypred = ann.predict(xtest)\n",
        "\n",
        "#step6: set the threshold\n",
        "ypred = ypred > 0.5"
      ],
      "metadata": {
        "id": "I9IZxFHAAoUF"
      },
      "execution_count": 70,
      "outputs": []
    },
    {
      "cell_type": "code",
      "source": [
        "print(classification_report(ytest,ypred))"
      ],
      "metadata": {
        "id": "KRgM8bJ4xaXU",
        "colab": {
          "base_uri": "https://localhost:8080/",
          "height": 0
        },
        "outputId": "e7757f40-63bc-40eb-d1d5-05ff580d2ca6"
      },
      "execution_count": 71,
      "outputs": [
        {
          "output_type": "stream",
          "name": "stdout",
          "text": [
            "              precision    recall  f1-score   support\n",
            "\n",
            "           0       0.89      0.45      0.60        55\n",
            "           1       0.72      0.96      0.83        81\n",
            "\n",
            "    accuracy                           0.76       136\n",
            "   macro avg       0.81      0.71      0.71       136\n",
            "weighted avg       0.79      0.76      0.74       136\n",
            "\n"
          ]
        }
      ]
    },
    {
      "cell_type": "code",
      "source": [
        "df_new['Loan_Status'].value_counts()"
      ],
      "metadata": {
        "colab": {
          "base_uri": "https://localhost:8080/",
          "height": 0
        },
        "id": "E02rmxvR9VDx",
        "outputId": "094b0fa0-f762-40a3-d513-b1979d2624a8"
      },
      "execution_count": 72,
      "outputs": [
        {
          "output_type": "execute_result",
          "data": {
            "text/plain": [
              "1    376\n",
              "0    166\n",
              "Name: Loan_Status, dtype: int64"
            ]
          },
          "metadata": {},
          "execution_count": 72
        }
      ]
    },
    {
      "cell_type": "code",
      "source": [
        "sns.countplot(data=df,x=\"Loan_Status\")\n",
        "c=df[\"Loan_Status\"].value_counts()\n",
        "plt.yticks(c)\n",
        "plt.show()"
      ],
      "metadata": {
        "colab": {
          "base_uri": "https://localhost:8080/",
          "height": 280
        },
        "id": "C9KiSFvV9U29",
        "outputId": "4f5b4677-f094-437b-b085-3a5685bb273c"
      },
      "execution_count": 73,
      "outputs": [
        {
          "output_type": "display_data",
          "data": {
            "image/png": "[encoded data removed]",
            "text/plain": [
              "<Figure size 432x288 with 1 Axes>"
            ]
          },
          "metadata": {
            "needs_background": "light"
          }
        }
      ]
    },
    {
      "cell_type": "code",
      "source": [
        "from imblearn.over_sampling import RandomOverSampler"
      ],
      "metadata": {
        "id": "122-HEn-9T5K"
      },
      "execution_count": 74,
      "outputs": []
    },
    {
      "cell_type": "code",
      "source": [
        "#apply sampling technique \n",
        "#Oversampler\n",
        "#create object of  RandomOverSampler() class\n",
        "ros = RandomOverSampler() \n",
        "#increase records of minority class here yes is minority class "
      ],
      "metadata": {
        "id": "Pzh-YtFw8tu_"
      },
      "execution_count": 75,
      "outputs": []
    },
    {
      "cell_type": "code",
      "source": [
        "#apply randomoversampling for balance\n",
        "xtrain1,ytrain1=ros.fit_resample(xtrain,ytrain)"
      ],
      "metadata": {
        "id": "jQ4ef-sK8yqg"
      },
      "execution_count": 76,
      "outputs": []
    },
    {
      "cell_type": "code",
      "source": [
        "pd.Series(ytrain1).value_counts()"
      ],
      "metadata": {
        "colab": {
          "base_uri": "https://localhost:8080/",
          "height": 0
        },
        "id": "6F_mlj8I858q",
        "outputId": "4c9bb451-f05f-4fb1-e90f-034d99928316"
      },
      "execution_count": 77,
      "outputs": [
        {
          "output_type": "execute_result",
          "data": {
            "text/plain": [
              "1    295\n",
              "0    295\n",
              "Name: Loan_Status, dtype: int64"
            ]
          },
          "metadata": {},
          "execution_count": 77
        }
      ]
    },
    {
      "cell_type": "code",
      "source": [
        "#step1: Initialise ANN model\n",
        "ann = Sequential()\n",
        "\n",
        "#step2: Add layers\n",
        "ann.add (Dense (units = 5, activation ='relu')) #hidden layer: relu=rectified linear unit\n",
        "ann.add (Dense (units = 5, activation ='relu'))\n",
        "ann.add (Dense (units = 1, activation ='sigmoid')) #output layer:\n",
        "\n",
        "#step3: Establish connection between layers\n",
        "ann.compile (optimizer ='adam', loss='binary_crossentropy') #adam=advance version of gradient descent\n",
        "\n",
        "#step4: train the model\n",
        "ann.fit (xtrain1, ytrain1, batch_size = 10, epochs = 100,validation_data=(xtest,ytest))"
      ],
      "metadata": {
        "colab": {
          "base_uri": "https://localhost:8080/",
          "height": 0
        },
        "id": "StWHBXjB9lUt",
        "outputId": "066d027f-8dda-4e65-9e64-653fd1da5c3a"
      },
      "execution_count": 78,
      "outputs": [
        {
          "output_type": "stream",
          "name": "stdout",
          "text": [
            "Epoch 1/100\n",
            "59/59 [==============================] - 1s 4ms/step - loss: 0.7014 - val_loss: 0.6842\n",
            "Epoch 2/100\n",
            "59/59 [==============================] - 0s 2ms/step - loss: 0.6952 - val_loss: 0.6829\n",
            "Epoch 3/100\n",
            "59/59 [==============================] - 0s 2ms/step - loss: 0.6910 - val_loss: 0.6822\n",
            "Epoch 4/100\n",
            "59/59 [==============================] - 0s 2ms/step - loss: 0.6873 - val_loss: 0.6813\n",
            "Epoch 5/100\n",
            "59/59 [==============================] - 0s 2ms/step - loss: 0.6838 - val_loss: 0.6784\n",
            "Epoch 6/100\n",
            "59/59 [==============================] - 0s 2ms/step - loss: 0.6805 - val_loss: 0.6753\n",
            "Epoch 7/100\n",
            "59/59 [==============================] - 0s 2ms/step - loss: 0.6768 - val_loss: 0.6713\n",
            "Epoch 8/100\n",
            "59/59 [==============================] - 0s 2ms/step - loss: 0.6733 - val_loss: 0.6685\n",
            "Epoch 9/100\n",
            "59/59 [==============================] - 0s 2ms/step - loss: 0.6696 - val_loss: 0.6650\n",
            "Epoch 10/100\n",
            "59/59 [==============================] - 0s 2ms/step - loss: 0.6658 - val_loss: 0.6614\n",
            "Epoch 11/100\n",
            "59/59 [==============================] - 0s 2ms/step - loss: 0.6623 - val_loss: 0.6575\n",
            "Epoch 12/100\n",
            "59/59 [==============================] - 0s 3ms/step - loss: 0.6581 - val_loss: 0.6519\n",
            "Epoch 13/100\n",
            "59/59 [==============================] - 0s 2ms/step - loss: 0.6529 - val_loss: 0.6453\n",
            "Epoch 14/100\n",
            "59/59 [==============================] - 0s 2ms/step - loss: 0.6474 - val_loss: 0.6406\n",
            "Epoch 15/100\n",
            "59/59 [==============================] - 0s 2ms/step - loss: 0.6407 - val_loss: 0.6347\n",
            "Epoch 16/100\n",
            "59/59 [==============================] - 0s 2ms/step - loss: 0.6345 - val_loss: 0.6321\n",
            "Epoch 17/100\n",
            "59/59 [==============================] - 0s 2ms/step - loss: 0.6283 - val_loss: 0.6274\n",
            "Epoch 18/100\n",
            "59/59 [==============================] - 0s 2ms/step - loss: 0.6233 - val_loss: 0.6259\n",
            "Epoch 19/100\n",
            "59/59 [==============================] - 0s 2ms/step - loss: 0.6185 - val_loss: 0.6208\n",
            "Epoch 20/100\n",
            "59/59 [==============================] - 0s 3ms/step - loss: 0.6138 - val_loss: 0.6192\n",
            "Epoch 21/100\n",
            "59/59 [==============================] - 0s 2ms/step - loss: 0.6088 - val_loss: 0.6193\n",
            "Epoch 22/100\n",
            "59/59 [==============================] - 0s 2ms/step - loss: 0.6054 - val_loss: 0.6177\n",
            "Epoch 23/100\n",
            "59/59 [==============================] - 0s 2ms/step - loss: 0.6014 - val_loss: 0.6163\n",
            "Epoch 24/100\n",
            "59/59 [==============================] - 0s 2ms/step - loss: 0.5966 - val_loss: 0.6129\n",
            "Epoch 25/100\n",
            "59/59 [==============================] - 0s 2ms/step - loss: 0.5927 - val_loss: 0.6114\n",
            "Epoch 26/100\n",
            "59/59 [==============================] - 0s 2ms/step - loss: 0.5889 - val_loss: 0.6102\n",
            "Epoch 27/100\n",
            "59/59 [==============================] - 0s 2ms/step - loss: 0.5852 - val_loss: 0.6094\n",
            "Epoch 28/100\n",
            "59/59 [==============================] - 0s 2ms/step - loss: 0.5817 - val_loss: 0.6071\n",
            "Epoch 29/100\n",
            "59/59 [==============================] - 0s 2ms/step - loss: 0.5781 - val_loss: 0.6055\n",
            "Epoch 30/100\n",
            "59/59 [==============================] - 0s 2ms/step - loss: 0.5747 - val_loss: 0.6046\n",
            "Epoch 31/100\n",
            "59/59 [==============================] - 0s 2ms/step - loss: 0.5717 - val_loss: 0.6028\n",
            "Epoch 32/100\n",
            "59/59 [==============================] - 0s 2ms/step - loss: 0.5688 - val_loss: 0.6016\n",
            "Epoch 33/100\n",
            "59/59 [==============================] - 0s 2ms/step - loss: 0.5658 - val_loss: 0.5998\n",
            "Epoch 34/100\n",
            "59/59 [==============================] - 0s 2ms/step - loss: 0.5633 - val_loss: 0.5976\n",
            "Epoch 35/100\n",
            "59/59 [==============================] - 0s 2ms/step - loss: 0.5601 - val_loss: 0.5996\n",
            "Epoch 36/100\n",
            "59/59 [==============================] - 0s 2ms/step - loss: 0.5579 - val_loss: 0.5998\n",
            "Epoch 37/100\n",
            "59/59 [==============================] - 0s 2ms/step - loss: 0.5553 - val_loss: 0.5990\n",
            "Epoch 38/100\n",
            "59/59 [==============================] - 0s 2ms/step - loss: 0.5531 - val_loss: 0.5979\n",
            "Epoch 39/100\n",
            "59/59 [==============================] - 0s 2ms/step - loss: 0.5513 - val_loss: 0.5993\n",
            "Epoch 40/100\n",
            "59/59 [==============================] - 0s 2ms/step - loss: 0.5505 - val_loss: 0.6023\n",
            "Epoch 41/100\n",
            "59/59 [==============================] - 0s 2ms/step - loss: 0.5478 - val_loss: 0.5969\n",
            "Epoch 42/100\n",
            "59/59 [==============================] - 0s 2ms/step - loss: 0.5451 - val_loss: 0.5990\n",
            "Epoch 43/100\n",
            "59/59 [==============================] - 0s 2ms/step - loss: 0.5433 - val_loss: 0.5997\n",
            "Epoch 44/100\n",
            "59/59 [==============================] - 0s 2ms/step - loss: 0.5406 - val_loss: 0.5988\n",
            "Epoch 45/100\n",
            "59/59 [==============================] - 0s 2ms/step - loss: 0.5377 - val_loss: 0.6021\n",
            "Epoch 46/100\n",
            "59/59 [==============================] - 0s 2ms/step - loss: 0.5353 - val_loss: 0.5990\n",
            "Epoch 47/100\n",
            "59/59 [==============================] - 0s 2ms/step - loss: 0.5332 - val_loss: 0.5981\n",
            "Epoch 48/100\n",
            "59/59 [==============================] - 0s 2ms/step - loss: 0.5320 - val_loss: 0.5916\n",
            "Epoch 49/100\n",
            "59/59 [==============================] - 0s 2ms/step - loss: 0.5298 - val_loss: 0.5931\n",
            "Epoch 50/100\n",
            "59/59 [==============================] - 0s 2ms/step - loss: 0.5273 - val_loss: 0.5918\n",
            "Epoch 51/100\n",
            "59/59 [==============================] - 0s 2ms/step - loss: 0.5255 - val_loss: 0.5940\n",
            "Epoch 52/100\n",
            "59/59 [==============================] - 0s 2ms/step - loss: 0.5243 - val_loss: 0.5930\n",
            "Epoch 53/100\n",
            "59/59 [==============================] - 0s 2ms/step - loss: 0.5220 - val_loss: 0.5883\n",
            "Epoch 54/100\n",
            "59/59 [==============================] - 0s 2ms/step - loss: 0.5208 - val_loss: 0.5882\n",
            "Epoch 55/100\n",
            "59/59 [==============================] - 0s 2ms/step - loss: 0.5184 - val_loss: 0.5884\n",
            "Epoch 56/100\n",
            "59/59 [==============================] - 0s 2ms/step - loss: 0.5179 - val_loss: 0.5888\n",
            "Epoch 57/100\n",
            "59/59 [==============================] - 0s 2ms/step - loss: 0.5161 - val_loss: 0.5901\n",
            "Epoch 58/100\n",
            "59/59 [==============================] - 0s 2ms/step - loss: 0.5158 - val_loss: 0.5881\n",
            "Epoch 59/100\n",
            "59/59 [==============================] - 0s 2ms/step - loss: 0.5133 - val_loss: 0.5902\n",
            "Epoch 60/100\n",
            "59/59 [==============================] - 0s 2ms/step - loss: 0.5120 - val_loss: 0.5924\n",
            "Epoch 61/100\n",
            "59/59 [==============================] - 0s 2ms/step - loss: 0.5107 - val_loss: 0.5907\n",
            "Epoch 62/100\n",
            "59/59 [==============================] - 0s 2ms/step - loss: 0.5093 - val_loss: 0.5897\n",
            "Epoch 63/100\n",
            "59/59 [==============================] - 0s 2ms/step - loss: 0.5091 - val_loss: 0.5891\n",
            "Epoch 64/100\n",
            "59/59 [==============================] - 0s 2ms/step - loss: 0.5071 - val_loss: 0.5912\n",
            "Epoch 65/100\n",
            "59/59 [==============================] - 0s 2ms/step - loss: 0.5061 - val_loss: 0.5909\n",
            "Epoch 66/100\n",
            "59/59 [==============================] - 0s 2ms/step - loss: 0.5051 - val_loss: 0.5897\n",
            "Epoch 67/100\n",
            "59/59 [==============================] - 0s 2ms/step - loss: 0.5039 - val_loss: 0.5899\n",
            "Epoch 68/100\n",
            "59/59 [==============================] - 0s 2ms/step - loss: 0.5023 - val_loss: 0.5910\n",
            "Epoch 69/100\n",
            "59/59 [==============================] - 0s 2ms/step - loss: 0.5024 - val_loss: 0.5911\n",
            "Epoch 70/100\n",
            "59/59 [==============================] - 0s 2ms/step - loss: 0.5008 - val_loss: 0.5911\n",
            "Epoch 71/100\n",
            "59/59 [==============================] - 0s 2ms/step - loss: 0.5001 - val_loss: 0.5919\n",
            "Epoch 72/100\n",
            "59/59 [==============================] - 0s 2ms/step - loss: 0.5001 - val_loss: 0.5917\n",
            "Epoch 73/100\n",
            "59/59 [==============================] - 0s 2ms/step - loss: 0.4978 - val_loss: 0.5925\n",
            "Epoch 74/100\n",
            "59/59 [==============================] - 0s 2ms/step - loss: 0.4969 - val_loss: 0.5917\n",
            "Epoch 75/100\n",
            "59/59 [==============================] - 0s 2ms/step - loss: 0.4962 - val_loss: 0.5927\n",
            "Epoch 76/100\n",
            "59/59 [==============================] - 0s 2ms/step - loss: 0.4955 - val_loss: 0.5938\n",
            "Epoch 77/100\n",
            "59/59 [==============================] - 0s 2ms/step - loss: 0.4948 - val_loss: 0.5928\n",
            "Epoch 78/100\n",
            "59/59 [==============================] - 0s 2ms/step - loss: 0.4943 - val_loss: 0.5936\n",
            "Epoch 79/100\n",
            "59/59 [==============================] - 0s 2ms/step - loss: 0.4928 - val_loss: 0.5944\n",
            "Epoch 80/100\n",
            "59/59 [==============================] - 0s 2ms/step - loss: 0.4923 - val_loss: 0.5940\n",
            "Epoch 81/100\n",
            "59/59 [==============================] - 0s 2ms/step - loss: 0.4913 - val_loss: 0.5946\n",
            "Epoch 82/100\n",
            "59/59 [==============================] - 0s 2ms/step - loss: 0.4916 - val_loss: 0.5952\n",
            "Epoch 83/100\n",
            "59/59 [==============================] - 0s 2ms/step - loss: 0.4902 - val_loss: 0.5953\n",
            "Epoch 84/100\n",
            "59/59 [==============================] - 0s 2ms/step - loss: 0.4898 - val_loss: 0.5962\n",
            "Epoch 85/100\n",
            "59/59 [==============================] - 0s 2ms/step - loss: 0.4894 - val_loss: 0.5961\n",
            "Epoch 86/100\n",
            "59/59 [==============================] - 0s 2ms/step - loss: 0.4887 - val_loss: 0.5975\n",
            "Epoch 87/100\n",
            "59/59 [==============================] - 0s 2ms/step - loss: 0.4878 - val_loss: 0.5955\n",
            "Epoch 88/100\n",
            "59/59 [==============================] - 0s 2ms/step - loss: 0.4876 - val_loss: 0.5970\n",
            "Epoch 89/100\n",
            "59/59 [==============================] - 0s 2ms/step - loss: 0.4860 - val_loss: 0.5962\n",
            "Epoch 90/100\n",
            "59/59 [==============================] - 0s 2ms/step - loss: 0.4852 - val_loss: 0.5977\n",
            "Epoch 91/100\n",
            "59/59 [==============================] - 0s 2ms/step - loss: 0.4851 - val_loss: 0.5967\n",
            "Epoch 92/100\n",
            "59/59 [==============================] - 0s 2ms/step - loss: 0.4839 - val_loss: 0.5997\n",
            "Epoch 93/100\n",
            "59/59 [==============================] - 0s 2ms/step - loss: 0.4829 - val_loss: 0.5978\n",
            "Epoch 94/100\n",
            "59/59 [==============================] - 0s 2ms/step - loss: 0.4835 - val_loss: 0.5973\n",
            "Epoch 95/100\n",
            "59/59 [==============================] - 0s 2ms/step - loss: 0.4823 - val_loss: 0.5984\n",
            "Epoch 96/100\n",
            "59/59 [==============================] - 0s 2ms/step - loss: 0.4821 - val_loss: 0.5980\n",
            "Epoch 97/100\n",
            "59/59 [==============================] - 0s 2ms/step - loss: 0.4807 - val_loss: 0.6000\n",
            "Epoch 98/100\n",
            "59/59 [==============================] - 0s 2ms/step - loss: 0.4805 - val_loss: 0.5997\n",
            "Epoch 99/100\n",
            "59/59 [==============================] - 0s 2ms/step - loss: 0.4796 - val_loss: 0.6012\n",
            "Epoch 100/100\n",
            "59/59 [==============================] - 0s 2ms/step - loss: 0.4792 - val_loss: 0.6009\n"
          ]
        },
        {
          "output_type": "execute_result",
          "data": {
            "text/plain": [
              "<keras.callbacks.History at 0x7f3f4901ec10>"
            ]
          },
          "metadata": {},
          "execution_count": 78
        }
      ]
    },
    {
      "cell_type": "code",
      "source": [
        "lossdf = pd.DataFrame(ann.history.history)\n",
        "lossdf.plot()"
      ],
      "metadata": {
        "colab": {
          "base_uri": "https://localhost:8080/",
          "height": 283
        },
        "id": "50F9hrtcIfBi",
        "outputId": "d023ce00-5361-4b63-d0c3-02e04649674b"
      },
      "execution_count": 79,
      "outputs": [
        {
          "output_type": "execute_result",
          "data": {
            "text/plain": [
              "<matplotlib.axes._subplots.AxesSubplot at 0x7f3f450799d0>"
            ]
          },
          "metadata": {},
          "execution_count": 79
        },
        {
          "output_type": "display_data",
          "data": {
            "image/png": "[encoded data removed]",
            "text/plain": [
              "<Figure size 432x288 with 1 Axes>"
            ]
          },
          "metadata": {
            "needs_background": "light"
          }
        }
      ]
    },
    {
      "cell_type": "code",
      "source": [
        "#step5: make predictions\n",
        "ypred = ann.predict(xtest)\n",
        "\n",
        "#step6: set the threshold\n",
        "ypred = ypred > 0.5"
      ],
      "metadata": {
        "id": "yH4kWWKCIwK0"
      },
      "execution_count": 80,
      "outputs": []
    },
    {
      "cell_type": "code",
      "source": [
        "print(classification_report(ytest,ypred))"
      ],
      "metadata": {
        "colab": {
          "base_uri": "https://localhost:8080/",
          "height": 0
        },
        "id": "xHaR8lBb9viJ",
        "outputId": "9884a9bf-f874-4fe6-96ae-3df60faf5ccb"
      },
      "execution_count": 81,
      "outputs": [
        {
          "output_type": "stream",
          "name": "stdout",
          "text": [
            "              precision    recall  f1-score   support\n",
            "\n",
            "           0       0.72      0.56      0.63        55\n",
            "           1       0.74      0.85      0.79        81\n",
            "\n",
            "    accuracy                           0.74       136\n",
            "   macro avg       0.73      0.71      0.71       136\n",
            "weighted avg       0.73      0.74      0.73       136\n",
            "\n"
          ]
        }
      ]
    },
    {
      "cell_type": "markdown",
      "source": [
        "## Using Earlystop"
      ],
      "metadata": {
        "id": "iVl-3-d-7Hdg"
      }
    },
    {
      "cell_type": "code",
      "source": [
        "from tensorflow.keras.callbacks import EarlyStopping\n",
        "\n",
        "earlystop = EarlyStopping(monitor='val_loss', mode='min', verbose=3, patience= 25)\n",
        "ann.fit(xtrain1, ytrain1, epochs=300,  validation_data=(xtest,ytest),callbacks=[earlystop])"
      ],
      "metadata": {
        "id": "fqayWleWxyyR",
        "colab": {
          "base_uri": "https://localhost:8080/",
          "height": 0
        },
        "outputId": "91f204a5-ddf5-4e6e-ca7d-1b9591cb128b"
      },
      "execution_count": 82,
      "outputs": [
        {
          "output_type": "stream",
          "name": "stdout",
          "text": [
            "Epoch 1/300\n",
            "19/19 [==============================] - 0s 5ms/step - loss: 0.4760 - val_loss: 0.6000\n",
            "Epoch 2/300\n",
            "19/19 [==============================] - 0s 4ms/step - loss: 0.4758 - val_loss: 0.6000\n",
            "Epoch 3/300\n",
            "19/19 [==============================] - 0s 5ms/step - loss: 0.4757 - val_loss: 0.6005\n",
            "Epoch 4/300\n",
            "19/19 [==============================] - 0s 3ms/step - loss: 0.4757 - val_loss: 0.6012\n",
            "Epoch 5/300\n",
            "19/19 [==============================] - 0s 4ms/step - loss: 0.4756 - val_loss: 0.6023\n",
            "Epoch 6/300\n",
            "19/19 [==============================] - 0s 4ms/step - loss: 0.4755 - val_loss: 0.6028\n",
            "Epoch 7/300\n",
            "19/19 [==============================] - 0s 4ms/step - loss: 0.4753 - val_loss: 0.6035\n",
            "Epoch 8/300\n",
            "19/19 [==============================] - 0s 4ms/step - loss: 0.4749 - val_loss: 0.6036\n",
            "Epoch 9/300\n",
            "19/19 [==============================] - 0s 3ms/step - loss: 0.4751 - val_loss: 0.6029\n",
            "Epoch 10/300\n",
            "19/19 [==============================] - 0s 4ms/step - loss: 0.4745 - val_loss: 0.6037\n",
            "Epoch 11/300\n",
            "19/19 [==============================] - 0s 4ms/step - loss: 0.4743 - val_loss: 0.6034\n",
            "Epoch 12/300\n",
            "19/19 [==============================] - 0s 3ms/step - loss: 0.4744 - val_loss: 0.6043\n",
            "Epoch 13/300\n",
            "19/19 [==============================] - 0s 4ms/step - loss: 0.4741 - val_loss: 0.6042\n",
            "Epoch 14/300\n",
            "19/19 [==============================] - 0s 3ms/step - loss: 0.4737 - val_loss: 0.6042\n",
            "Epoch 15/300\n",
            "19/19 [==============================] - 0s 4ms/step - loss: 0.4740 - val_loss: 0.6041\n",
            "Epoch 16/300\n",
            "19/19 [==============================] - 0s 4ms/step - loss: 0.4741 - val_loss: 0.6043\n",
            "Epoch 17/300\n",
            "19/19 [==============================] - 0s 3ms/step - loss: 0.4732 - val_loss: 0.6050\n",
            "Epoch 18/300\n",
            "19/19 [==============================] - 0s 3ms/step - loss: 0.4729 - val_loss: 0.6054\n",
            "Epoch 19/300\n",
            "19/19 [==============================] - 0s 4ms/step - loss: 0.4729 - val_loss: 0.6065\n",
            "Epoch 20/300\n",
            "19/19 [==============================] - 0s 3ms/step - loss: 0.4727 - val_loss: 0.6059\n",
            "Epoch 21/300\n",
            "19/19 [==============================] - 0s 5ms/step - loss: 0.4729 - val_loss: 0.6064\n",
            "Epoch 22/300\n",
            "19/19 [==============================] - 0s 3ms/step - loss: 0.4726 - val_loss: 0.6060\n",
            "Epoch 23/300\n",
            "19/19 [==============================] - 0s 4ms/step - loss: 0.4720 - val_loss: 0.6060\n",
            "Epoch 24/300\n",
            "19/19 [==============================] - 0s 3ms/step - loss: 0.4720 - val_loss: 0.6070\n",
            "Epoch 25/300\n",
            "19/19 [==============================] - 0s 4ms/step - loss: 0.4716 - val_loss: 0.6072\n",
            "Epoch 26/300\n",
            "19/19 [==============================] - 0s 4ms/step - loss: 0.4718 - val_loss: 0.6071\n",
            "Epoch 00026: early stopping\n"
          ]
        },
        {
          "output_type": "execute_result",
          "data": {
            "text/plain": [
              "<keras.callbacks.History at 0x7f3f4805b990>"
            ]
          },
          "metadata": {},
          "execution_count": 82
        }
      ]
    },
    {
      "cell_type": "code",
      "source": [
        "lossdf = pd.DataFrame(ann.history.history)\n",
        "lossdf.plot()"
      ],
      "metadata": {
        "colab": {
          "base_uri": "https://localhost:8080/",
          "height": 283
        },
        "id": "sdP9UVLhJRDj",
        "outputId": "da9f50c9-0051-48fe-f2ba-eba5820faaeb"
      },
      "execution_count": 83,
      "outputs": [
        {
          "output_type": "execute_result",
          "data": {
            "text/plain": [
              "<matplotlib.axes._subplots.AxesSubplot at 0x7f3f48ec3390>"
            ]
          },
          "metadata": {},
          "execution_count": 83
        },
        {
          "output_type": "display_data",
          "data": {
            "image/png": "[encoded data removed]",
            "text/plain": [
              "<Figure size 432x288 with 1 Axes>"
            ]
          },
          "metadata": {
            "needs_background": "light"
          }
        }
      ]
    },
    {
      "cell_type": "code",
      "source": [
        "print(classification_report(ytest,ypred))"
      ],
      "metadata": {
        "id": "KnJIZ5uwzgqP",
        "colab": {
          "base_uri": "https://localhost:8080/",
          "height": 0
        },
        "outputId": "40165c7c-6fe9-49d2-c3dc-66549ed83f5d"
      },
      "execution_count": 84,
      "outputs": [
        {
          "output_type": "stream",
          "name": "stdout",
          "text": [
            "              precision    recall  f1-score   support\n",
            "\n",
            "           0       0.72      0.56      0.63        55\n",
            "           1       0.74      0.85      0.79        81\n",
            "\n",
            "    accuracy                           0.74       136\n",
            "   macro avg       0.73      0.71      0.71       136\n",
            "weighted avg       0.73      0.74      0.73       136\n",
            "\n"
          ]
        }
      ]
    },
    {
      "cell_type": "code",
      "source": [
        "from tensorflow.keras.layers import Dropout"
      ],
      "metadata": {
        "id": "lrTCnGHizyyE"
      },
      "execution_count": 85,
      "outputs": []
    },
    {
      "cell_type": "code",
      "source": [
        "#step1: Initialise ANN model\n",
        "ann = Sequential()\n",
        "\n",
        "#step2: Add layers\n",
        "ann.add (Dense (units = 40, activation ='relu')) #hidden layer: relu=rectified linear unit\n",
        "ann.add(Dropout(rate=0.2))\n",
        "\n",
        "ann.add (Dense (units = 20, activation ='relu'))\n",
        "ann.add(Dropout(rate=0.2))\n",
        "\n",
        "ann.add (Dense (units = 20, activation ='relu'))\n",
        "ann.add(Dropout(rate=0.2))\n",
        "\n",
        "ann.add (Dense (units = 12, activation ='relu'))\n",
        "ann.add(Dropout(rate=0.2))\n",
        "\n",
        "\n",
        "ann.add (Dense (units = 1, activation ='sigmoid')) #output layer:\n",
        "\n",
        "#step3: Establish connection between layers\n",
        "ann.compile (optimizer ='rmsprop', loss='binary_crossentropy') #adam=advance version of gradient descent\n",
        "\n",
        "#step4: train the model\n",
        "ann.fit (xtrain1, ytrain1, batch_size = 5, epochs = 50,validation_data=(xtest,ytest))"
      ],
      "metadata": {
        "id": "Gmys-wz7z3g-",
        "colab": {
          "base_uri": "https://localhost:8080/",
          "height": 0
        },
        "outputId": "409c11c4-55a5-4e54-e785-6d37ca9ada28"
      },
      "execution_count": 86,
      "outputs": [
        {
          "output_type": "stream",
          "name": "stdout",
          "text": [
            "Epoch 1/50\n",
            "118/118 [==============================] - 1s 3ms/step - loss: 0.7033 - val_loss: 0.6933\n",
            "Epoch 2/50\n",
            "118/118 [==============================] - 0s 3ms/step - loss: 0.6925 - val_loss: 0.6835\n",
            "Epoch 3/50\n",
            "118/118 [==============================] - 0s 2ms/step - loss: 0.6682 - val_loss: 0.6586\n",
            "Epoch 4/50\n",
            "118/118 [==============================] - 0s 2ms/step - loss: 0.6511 - val_loss: 0.6215\n",
            "Epoch 5/50\n",
            "118/118 [==============================] - 0s 3ms/step - loss: 0.6118 - val_loss: 0.5850\n",
            "Epoch 6/50\n",
            "118/118 [==============================] - 0s 3ms/step - loss: 0.5882 - val_loss: 0.5696\n",
            "Epoch 7/50\n",
            "118/118 [==============================] - 0s 2ms/step - loss: 0.5749 - val_loss: 0.5661\n",
            "Epoch 8/50\n",
            "118/118 [==============================] - 0s 2ms/step - loss: 0.5689 - val_loss: 0.5689\n",
            "Epoch 9/50\n",
            "118/118 [==============================] - 0s 2ms/step - loss: 0.5790 - val_loss: 0.5593\n",
            "Epoch 10/50\n",
            "118/118 [==============================] - 0s 2ms/step - loss: 0.5605 - val_loss: 0.5615\n",
            "Epoch 11/50\n",
            "118/118 [==============================] - 0s 2ms/step - loss: 0.5761 - val_loss: 0.5665\n",
            "Epoch 12/50\n",
            "118/118 [==============================] - 0s 2ms/step - loss: 0.5318 - val_loss: 0.5704\n",
            "Epoch 13/50\n",
            "118/118 [==============================] - 0s 2ms/step - loss: 0.5711 - val_loss: 0.5735\n",
            "Epoch 14/50\n",
            "118/118 [==============================] - 0s 2ms/step - loss: 0.5477 - val_loss: 0.5820\n",
            "Epoch 15/50\n",
            "118/118 [==============================] - 0s 2ms/step - loss: 0.5359 - val_loss: 0.5932\n",
            "Epoch 16/50\n",
            "118/118 [==============================] - 0s 2ms/step - loss: 0.5472 - val_loss: 0.6086\n",
            "Epoch 17/50\n",
            "118/118 [==============================] - 0s 2ms/step - loss: 0.5568 - val_loss: 0.6114\n",
            "Epoch 18/50\n",
            "118/118 [==============================] - 0s 2ms/step - loss: 0.5464 - val_loss: 0.6060\n",
            "Epoch 19/50\n",
            "118/118 [==============================] - 0s 2ms/step - loss: 0.5696 - val_loss: 0.6101\n",
            "Epoch 20/50\n",
            "118/118 [==============================] - 0s 2ms/step - loss: 0.5167 - val_loss: 0.6305\n",
            "Epoch 21/50\n",
            "118/118 [==============================] - 0s 2ms/step - loss: 0.5509 - val_loss: 0.6136\n",
            "Epoch 22/50\n",
            "118/118 [==============================] - 0s 2ms/step - loss: 0.5224 - val_loss: 0.6272\n",
            "Epoch 23/50\n",
            "118/118 [==============================] - 0s 2ms/step - loss: 0.5545 - val_loss: 0.6164\n",
            "Epoch 24/50\n",
            "118/118 [==============================] - 0s 2ms/step - loss: 0.5185 - val_loss: 0.6286\n",
            "Epoch 25/50\n",
            "118/118 [==============================] - 0s 2ms/step - loss: 0.5068 - val_loss: 0.6399\n",
            "Epoch 26/50\n",
            "118/118 [==============================] - 0s 2ms/step - loss: 0.5349 - val_loss: 0.6334\n",
            "Epoch 27/50\n",
            "118/118 [==============================] - 0s 2ms/step - loss: 0.5037 - val_loss: 0.6489\n",
            "Epoch 28/50\n",
            "118/118 [==============================] - 0s 3ms/step - loss: 0.5042 - val_loss: 0.6644\n",
            "Epoch 29/50\n",
            "118/118 [==============================] - 0s 2ms/step - loss: 0.5131 - val_loss: 0.6469\n",
            "Epoch 30/50\n",
            "118/118 [==============================] - 0s 2ms/step - loss: 0.5241 - val_loss: 0.6557\n",
            "Epoch 31/50\n",
            "118/118 [==============================] - 0s 3ms/step - loss: 0.5151 - val_loss: 0.6310\n",
            "Epoch 32/50\n",
            "118/118 [==============================] - 0s 2ms/step - loss: 0.5075 - val_loss: 0.6545\n",
            "Epoch 33/50\n",
            "118/118 [==============================] - 0s 2ms/step - loss: 0.4984 - val_loss: 0.6539\n",
            "Epoch 34/50\n",
            "118/118 [==============================] - 0s 2ms/step - loss: 0.4955 - val_loss: 0.6719\n",
            "Epoch 35/50\n",
            "118/118 [==============================] - 0s 2ms/step - loss: 0.4934 - val_loss: 0.6841\n",
            "Epoch 36/50\n",
            "118/118 [==============================] - 0s 2ms/step - loss: 0.4962 - val_loss: 0.6974\n",
            "Epoch 37/50\n",
            "118/118 [==============================] - 0s 3ms/step - loss: 0.5129 - val_loss: 0.6961\n",
            "Epoch 38/50\n",
            "118/118 [==============================] - 0s 2ms/step - loss: 0.4718 - val_loss: 0.7226\n",
            "Epoch 39/50\n",
            "118/118 [==============================] - 0s 2ms/step - loss: 0.4968 - val_loss: 0.7150\n",
            "Epoch 40/50\n",
            "118/118 [==============================] - 0s 2ms/step - loss: 0.4989 - val_loss: 0.7535\n",
            "Epoch 41/50\n",
            "118/118 [==============================] - 0s 2ms/step - loss: 0.4770 - val_loss: 0.7451\n",
            "Epoch 42/50\n",
            "118/118 [==============================] - 0s 2ms/step - loss: 0.5042 - val_loss: 0.7091\n",
            "Epoch 43/50\n",
            "118/118 [==============================] - 0s 2ms/step - loss: 0.4963 - val_loss: 0.7128\n",
            "Epoch 44/50\n",
            "118/118 [==============================] - 0s 2ms/step - loss: 0.4777 - val_loss: 0.7606\n",
            "Epoch 45/50\n",
            "118/118 [==============================] - 0s 2ms/step - loss: 0.4916 - val_loss: 0.7729\n",
            "Epoch 46/50\n",
            "118/118 [==============================] - 0s 2ms/step - loss: 0.4626 - val_loss: 0.7820\n",
            "Epoch 47/50\n",
            "118/118 [==============================] - 0s 2ms/step - loss: 0.4796 - val_loss: 0.7530\n",
            "Epoch 48/50\n",
            "118/118 [==============================] - 0s 2ms/step - loss: 0.4908 - val_loss: 0.7575\n",
            "Epoch 49/50\n",
            "118/118 [==============================] - 0s 2ms/step - loss: 0.4759 - val_loss: 0.7699\n",
            "Epoch 50/50\n",
            "118/118 [==============================] - 0s 2ms/step - loss: 0.4379 - val_loss: 0.7522\n"
          ]
        },
        {
          "output_type": "execute_result",
          "data": {
            "text/plain": [
              "<keras.callbacks.History at 0x7f3f47eda4d0>"
            ]
          },
          "metadata": {},
          "execution_count": 86
        }
      ]
    },
    {
      "cell_type": "code",
      "source": [
        "lossdf = pd.DataFrame(ann.history.history)\n",
        "lossdf.plot()"
      ],
      "metadata": {
        "colab": {
          "base_uri": "https://localhost:8080/",
          "height": 283
        },
        "id": "qvTpBVDlLMrL",
        "outputId": "af1edf1b-34e4-4962-ef79-10ff1e410a5b"
      },
      "execution_count": 87,
      "outputs": [
        {
          "output_type": "execute_result",
          "data": {
            "text/plain": [
              "<matplotlib.axes._subplots.AxesSubplot at 0x7f3f47f755d0>"
            ]
          },
          "metadata": {},
          "execution_count": 87
        },
        {
          "output_type": "display_data",
          "data": {
            "image/png": "[encoded data removed]",
            "text/plain": [
              "<Figure size 432x288 with 1 Axes>"
            ]
          },
          "metadata": {
            "needs_background": "light"
          }
        }
      ]
    },
    {
      "cell_type": "code",
      "source": [
        "#step5: make predictions\n",
        "ypred = ann.predict(xtest)\n",
        "\n",
        "#step6: set the threshold\n",
        "ypred = ypred > 0.5"
      ],
      "metadata": {
        "id": "IEWgK79bLV1F"
      },
      "execution_count": 88,
      "outputs": []
    },
    {
      "cell_type": "code",
      "source": [
        "print(classification_report(ytest,ypred))"
      ],
      "metadata": {
        "id": "taekc_nX0DGj",
        "colab": {
          "base_uri": "https://localhost:8080/",
          "height": 0
        },
        "outputId": "3a15a6de-5cc9-4c5e-c718-ef483f567f05"
      },
      "execution_count": 89,
      "outputs": [
        {
          "output_type": "stream",
          "name": "stdout",
          "text": [
            "              precision    recall  f1-score   support\n",
            "\n",
            "           0       0.77      0.55      0.64        55\n",
            "           1       0.74      0.89      0.81        81\n",
            "\n",
            "    accuracy                           0.75       136\n",
            "   macro avg       0.76      0.72      0.72       136\n",
            "weighted avg       0.75      0.75      0.74       136\n",
            "\n"
          ]
        }
      ]
    },
    {
      "cell_type": "code",
      "source": [
        "#step1: Initialise ANN model\n",
        "ann = Sequential()\n",
        "\n",
        "#step2: Add layers\n",
        "ann.add (Dense (units = 40, activation ='relu')) #hidden layer: relu=rectified linear unit\n",
        "ann.add(Dropout(rate=0.2))\n",
        "\n",
        "ann.add (Dense (units = 30, activation ='relu'))\n",
        "ann.add(Dropout(rate=0.2))\n",
        "\n",
        "ann.add (Dense (units = 20, activation ='relu'))\n",
        "ann.add(Dropout(rate=0.2))\n",
        "\n",
        "ann.add (Dense (units = 12, activation ='relu'))\n",
        "ann.add(Dropout(rate=0.2))\n",
        "\n",
        "\n",
        "ann.add (Dense (units = 1, activation ='sigmoid')) #output layer:\n",
        "\n",
        "#step3: Establish connection between layers\n",
        "ann.compile (optimizer ='adam', loss='binary_crossentropy') #adam=advance version of gradient descent\n",
        "\n",
        "#step4: train the model\n",
        "ann.fit (xtrain1, ytrain1, batch_size = 10, epochs = 50,validation_data=(xtest,ytest))"
      ],
      "metadata": {
        "colab": {
          "base_uri": "https://localhost:8080/",
          "height": 0
        },
        "id": "RCpxrMWsQj3M",
        "outputId": "3f909cec-4581-4dbf-8033-904693f55910"
      },
      "execution_count": 90,
      "outputs": [
        {
          "output_type": "stream",
          "name": "stdout",
          "text": [
            "Epoch 1/50\n",
            "59/59 [==============================] - 1s 5ms/step - loss: 0.6790 - val_loss: 0.6441\n",
            "Epoch 2/50\n",
            "59/59 [==============================] - 0s 2ms/step - loss: 0.6343 - val_loss: 0.5956\n",
            "Epoch 3/50\n",
            "59/59 [==============================] - 0s 3ms/step - loss: 0.6257 - val_loss: 0.5731\n",
            "Epoch 4/50\n",
            "59/59 [==============================] - 0s 3ms/step - loss: 0.6114 - val_loss: 0.5546\n",
            "Epoch 5/50\n",
            "59/59 [==============================] - 0s 3ms/step - loss: 0.5901 - val_loss: 0.5473\n",
            "Epoch 6/50\n",
            "59/59 [==============================] - 0s 3ms/step - loss: 0.5741 - val_loss: 0.5386\n",
            "Epoch 7/50\n",
            "59/59 [==============================] - 0s 3ms/step - loss: 0.5726 - val_loss: 0.5421\n",
            "Epoch 8/50\n",
            "59/59 [==============================] - 0s 3ms/step - loss: 0.5729 - val_loss: 0.5365\n",
            "Epoch 9/50\n",
            "59/59 [==============================] - 0s 3ms/step - loss: 0.5614 - val_loss: 0.5352\n",
            "Epoch 10/50\n",
            "59/59 [==============================] - 0s 3ms/step - loss: 0.5411 - val_loss: 0.5328\n",
            "Epoch 11/50\n",
            "59/59 [==============================] - 0s 3ms/step - loss: 0.5402 - val_loss: 0.5334\n",
            "Epoch 12/50\n",
            "59/59 [==============================] - 0s 3ms/step - loss: 0.5425 - val_loss: 0.5451\n",
            "Epoch 13/50\n",
            "59/59 [==============================] - 0s 3ms/step - loss: 0.5328 - val_loss: 0.5398\n",
            "Epoch 14/50\n",
            "59/59 [==============================] - 0s 3ms/step - loss: 0.5267 - val_loss: 0.5420\n",
            "Epoch 15/50\n",
            "59/59 [==============================] - 0s 3ms/step - loss: 0.5432 - val_loss: 0.5460\n",
            "Epoch 16/50\n",
            "59/59 [==============================] - 0s 3ms/step - loss: 0.5231 - val_loss: 0.5482\n",
            "Epoch 17/50\n",
            "59/59 [==============================] - 0s 3ms/step - loss: 0.5195 - val_loss: 0.5541\n",
            "Epoch 18/50\n",
            "59/59 [==============================] - 0s 3ms/step - loss: 0.5127 - val_loss: 0.5648\n",
            "Epoch 19/50\n",
            "59/59 [==============================] - 0s 3ms/step - loss: 0.5325 - val_loss: 0.5736\n",
            "Epoch 20/50\n",
            "59/59 [==============================] - 0s 3ms/step - loss: 0.5272 - val_loss: 0.5771\n",
            "Epoch 21/50\n",
            "59/59 [==============================] - 0s 3ms/step - loss: 0.5249 - val_loss: 0.5998\n",
            "Epoch 22/50\n",
            "59/59 [==============================] - 0s 3ms/step - loss: 0.4928 - val_loss: 0.6234\n",
            "Epoch 23/50\n",
            "59/59 [==============================] - 0s 3ms/step - loss: 0.4967 - val_loss: 0.6266\n",
            "Epoch 24/50\n",
            "59/59 [==============================] - 0s 3ms/step - loss: 0.4826 - val_loss: 0.6349\n",
            "Epoch 25/50\n",
            "59/59 [==============================] - 0s 3ms/step - loss: 0.4791 - val_loss: 0.6493\n",
            "Epoch 26/50\n",
            "59/59 [==============================] - 0s 3ms/step - loss: 0.5073 - val_loss: 0.6389\n",
            "Epoch 27/50\n",
            "59/59 [==============================] - 0s 3ms/step - loss: 0.4779 - val_loss: 0.6426\n",
            "Epoch 28/50\n",
            "59/59 [==============================] - 0s 3ms/step - loss: 0.4728 - val_loss: 0.6509\n",
            "Epoch 29/50\n",
            "59/59 [==============================] - 0s 2ms/step - loss: 0.4766 - val_loss: 0.6511\n",
            "Epoch 30/50\n",
            "59/59 [==============================] - 0s 3ms/step - loss: 0.4899 - val_loss: 0.6546\n",
            "Epoch 31/50\n",
            "59/59 [==============================] - 0s 3ms/step - loss: 0.4750 - val_loss: 0.6540\n",
            "Epoch 32/50\n",
            "59/59 [==============================] - 0s 3ms/step - loss: 0.4700 - val_loss: 0.6769\n",
            "Epoch 33/50\n",
            "59/59 [==============================] - 0s 3ms/step - loss: 0.4704 - val_loss: 0.6800\n",
            "Epoch 34/50\n",
            "59/59 [==============================] - 0s 3ms/step - loss: 0.4669 - val_loss: 0.6936\n",
            "Epoch 35/50\n",
            "59/59 [==============================] - 0s 3ms/step - loss: 0.4663 - val_loss: 0.6960\n",
            "Epoch 36/50\n",
            "59/59 [==============================] - 0s 3ms/step - loss: 0.4558 - val_loss: 0.7188\n",
            "Epoch 37/50\n",
            "59/59 [==============================] - 0s 3ms/step - loss: 0.4391 - val_loss: 0.7269\n",
            "Epoch 38/50\n",
            "59/59 [==============================] - 0s 3ms/step - loss: 0.4201 - val_loss: 0.7886\n",
            "Epoch 39/50\n",
            "59/59 [==============================] - 0s 3ms/step - loss: 0.4230 - val_loss: 0.8043\n",
            "Epoch 40/50\n",
            "59/59 [==============================] - 0s 3ms/step - loss: 0.4511 - val_loss: 0.7505\n",
            "Epoch 41/50\n",
            "59/59 [==============================] - 0s 3ms/step - loss: 0.4724 - val_loss: 0.7687\n",
            "Epoch 42/50\n",
            "59/59 [==============================] - 0s 3ms/step - loss: 0.4175 - val_loss: 0.7709\n",
            "Epoch 43/50\n",
            "59/59 [==============================] - 0s 3ms/step - loss: 0.4403 - val_loss: 0.7751\n",
            "Epoch 44/50\n",
            "59/59 [==============================] - 0s 3ms/step - loss: 0.4014 - val_loss: 0.8172\n",
            "Epoch 45/50\n",
            "59/59 [==============================] - 0s 3ms/step - loss: 0.4199 - val_loss: 0.8112\n",
            "Epoch 46/50\n",
            "59/59 [==============================] - 0s 3ms/step - loss: 0.4250 - val_loss: 0.8243\n",
            "Epoch 47/50\n",
            "59/59 [==============================] - 0s 3ms/step - loss: 0.4145 - val_loss: 0.8008\n",
            "Epoch 48/50\n",
            "59/59 [==============================] - 0s 3ms/step - loss: 0.4193 - val_loss: 0.8314\n",
            "Epoch 49/50\n",
            "59/59 [==============================] - 0s 3ms/step - loss: 0.4235 - val_loss: 0.8312\n",
            "Epoch 50/50\n",
            "59/59 [==============================] - 0s 3ms/step - loss: 0.4208 - val_loss: 0.8688\n"
          ]
        },
        {
          "output_type": "execute_result",
          "data": {
            "text/plain": [
              "<keras.callbacks.History at 0x7f3f47b8ea50>"
            ]
          },
          "metadata": {},
          "execution_count": 90
        }
      ]
    },
    {
      "cell_type": "code",
      "source": [
        "lossdf = pd.DataFrame(ann.history.history)\n",
        "lossdf.plot()"
      ],
      "metadata": {
        "colab": {
          "base_uri": "https://localhost:8080/",
          "height": 283
        },
        "id": "lXPYV91BN50H",
        "outputId": "a810cf83-c063-425e-fdb9-3efb849e40bf"
      },
      "execution_count": 91,
      "outputs": [
        {
          "output_type": "execute_result",
          "data": {
            "text/plain": [
              "<matplotlib.axes._subplots.AxesSubplot at 0x7f3f47a30350>"
            ]
          },
          "metadata": {},
          "execution_count": 91
        },
        {
          "output_type": "display_data",
          "data": {
            "image/png": "[encoded data removed]",
            "text/plain": [
              "<Figure size 432x288 with 1 Axes>"
            ]
          },
          "metadata": {
            "needs_background": "light"
          }
        }
      ]
    },
    {
      "cell_type": "code",
      "source": [
        "#step5: make predictions\n",
        "ypred = ann.predict(xtest)\n",
        "\n",
        "#step6: set the threshold\n",
        "ypred = ypred > 0.5"
      ],
      "metadata": {
        "id": "kg-xswVyQqzZ"
      },
      "execution_count": 92,
      "outputs": []
    },
    {
      "cell_type": "code",
      "source": [
        "print(classification_report(ytest,ypred))"
      ],
      "metadata": {
        "colab": {
          "base_uri": "https://localhost:8080/",
          "height": 0
        },
        "id": "kDRxV-CSQuEy",
        "outputId": "6180614b-399d-4b54-9370-bdec357888f1"
      },
      "execution_count": 93,
      "outputs": [
        {
          "output_type": "stream",
          "name": "stdout",
          "text": [
            "              precision    recall  f1-score   support\n",
            "\n",
            "           0       0.86      0.56      0.68        55\n",
            "           1       0.76      0.94      0.84        81\n",
            "\n",
            "    accuracy                           0.79       136\n",
            "   macro avg       0.81      0.75      0.76       136\n",
            "weighted avg       0.80      0.79      0.78       136\n",
            "\n"
          ]
        }
      ]
    },
    {
      "cell_type": "code",
      "source": [
        ""
      ],
      "metadata": {
        "id": "OYikZGkBQzYn"
      },
      "execution_count": 93,
      "outputs": []
    }
  ]
}