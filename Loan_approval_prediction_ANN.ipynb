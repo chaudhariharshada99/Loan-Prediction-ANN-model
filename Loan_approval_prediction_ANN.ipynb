{
  "nbformat": 4,
  "nbformat_minor": 0,
  "metadata": {
    "colab": {
      "name": "Loan_prediction.ipynb",
      "provenance": []
    },
    "kernelspec": {
      "name": "python3",
      "display_name": "Python 3"
    },
    "language_info": {
      "name": "python"
    }
  },
  "cells": [
    {
      "cell_type": "markdown",
      "source": [
        "# DL Project on Loan_Prediction.csv "
      ],
      "metadata": {
        "id": "U4mVEs75Sf3-"
      }
    },
    {
      "cell_type": "code",
      "execution_count": 1,
      "metadata": {
        "id": "9pfap-94ZEVb"
      },
      "outputs": [],
      "source": [
        "import numpy as np\n",
        "import pandas as pd\n",
        "import matplotlib.pyplot as plt\n",
        "import seaborn as sns\n",
        "import warnings\n",
        "warnings.filterwarnings('ignore')\n",
        "\n",
        "import tensorflow as tf\n",
        "from tensorflow.keras import Sequential \n",
        "from tensorflow.keras.layers import Dense \n",
        "from sklearn.metrics import classification_report "
      ]
    },
    {
      "cell_type": "code",
      "source": [
        "df = pd.read_csv('Loan_Train.csv')"
      ],
      "metadata": {
        "id": "uyOWHuiwZIU-"
      },
      "execution_count": 2,
      "outputs": []
    },
    {
      "cell_type": "markdown",
      "source": [
        "## EDA:"
      ],
      "metadata": {
        "id": "vlDfB-6eCE9s"
      }
    },
    {
      "cell_type": "code",
      "source": [
        "df.head()"
      ],
      "metadata": {
        "colab": {
          "base_uri": "https://localhost:8080/",
          "height": 250
        },
        "id": "K_EEDERpZSgi",
        "outputId": "a069a470-c55e-4347-efc7-b930d2243f50"
      },
      "execution_count": 3,
      "outputs": [
        {
          "output_type": "execute_result",
          "data": {
            "text/html": [
              "\n",
              "  <div id=\"df-71a22ea3-9bdd-46ff-9e11-1792466c97d3\">\n",
              "    <div class=\"colab-df-container\">\n",
              "      <div>\n",
              "<style scoped>\n",
              "    .dataframe tbody tr th:only-of-type {\n",
              "        vertical-align: middle;\n",
              "    }\n",
              "\n",
              "    .dataframe tbody tr th {\n",
              "        vertical-align: top;\n",
              "    }\n",
              "\n",
              "    .dataframe thead th {\n",
              "        text-align: right;\n",
              "    }\n",
              "</style>\n",
              "<table border=\"1\" class=\"dataframe\">\n",
              "  <thead>\n",
              "    <tr style=\"text-align: right;\">\n",
              "      <th></th>\n",
              "      <th>Loan_ID</th>\n",
              "      <th>Gender</th>\n",
              "      <th>Married</th>\n",
              "      <th>Dependents</th>\n",
              "      <th>Education</th>\n",
              "      <th>Self_Employed</th>\n",
              "      <th>ApplicantIncome</th>\n",
              "      <th>CoapplicantIncome</th>\n",
              "      <th>LoanAmount</th>\n",
              "      <th>Loan_Amount_Term</th>\n",
              "      <th>Credit_History</th>\n",
              "      <th>Property_Area</th>\n",
              "      <th>Loan_Status</th>\n",
              "    </tr>\n",
              "  </thead>\n",
              "  <tbody>\n",
              "    <tr>\n",
              "      <th>0</th>\n",
              "      <td>LP001002</td>\n",
              "      <td>Male</td>\n",
              "      <td>No</td>\n",
              "      <td>0</td>\n",
              "      <td>Graduate</td>\n",
              "      <td>No</td>\n",
              "      <td>5849</td>\n",
              "      <td>0.0</td>\n",
              "      <td>NaN</td>\n",
              "      <td>360.0</td>\n",
              "      <td>1.0</td>\n",
              "      <td>Urban</td>\n",
              "      <td>Y</td>\n",
              "    </tr>\n",
              "    <tr>\n",
              "      <th>1</th>\n",
              "      <td>LP001003</td>\n",
              "      <td>Male</td>\n",
              "      <td>Yes</td>\n",
              "      <td>1</td>\n",
              "      <td>Graduate</td>\n",
              "      <td>No</td>\n",
              "      <td>4583</td>\n",
              "      <td>1508.0</td>\n",
              "      <td>128.0</td>\n",
              "      <td>360.0</td>\n",
              "      <td>1.0</td>\n",
              "      <td>Rural</td>\n",
              "      <td>N</td>\n",
              "    </tr>\n",
              "    <tr>\n",
              "      <th>2</th>\n",
              "      <td>LP001005</td>\n",
              "      <td>Male</td>\n",
              "      <td>Yes</td>\n",
              "      <td>0</td>\n",
              "      <td>Graduate</td>\n",
              "      <td>Yes</td>\n",
              "      <td>3000</td>\n",
              "      <td>0.0</td>\n",
              "      <td>66.0</td>\n",
              "      <td>360.0</td>\n",
              "      <td>1.0</td>\n",
              "      <td>Urban</td>\n",
              "      <td>Y</td>\n",
              "    </tr>\n",
              "    <tr>\n",
              "      <th>3</th>\n",
              "      <td>LP001006</td>\n",
              "      <td>Male</td>\n",
              "      <td>Yes</td>\n",
              "      <td>0</td>\n",
              "      <td>Not Graduate</td>\n",
              "      <td>No</td>\n",
              "      <td>2583</td>\n",
              "      <td>2358.0</td>\n",
              "      <td>120.0</td>\n",
              "      <td>360.0</td>\n",
              "      <td>1.0</td>\n",
              "      <td>Urban</td>\n",
              "      <td>Y</td>\n",
              "    </tr>\n",
              "    <tr>\n",
              "      <th>4</th>\n",
              "      <td>LP001008</td>\n",
              "      <td>Male</td>\n",
              "      <td>No</td>\n",
              "      <td>0</td>\n",
              "      <td>Graduate</td>\n",
              "      <td>No</td>\n",
              "      <td>6000</td>\n",
              "      <td>0.0</td>\n",
              "      <td>141.0</td>\n",
              "      <td>360.0</td>\n",
              "      <td>1.0</td>\n",
              "      <td>Urban</td>\n",
              "      <td>Y</td>\n",
              "    </tr>\n",
              "  </tbody>\n",
              "</table>\n",
              "</div>\n",
              "      <button class=\"colab-df-convert\" onclick=\"convertToInteractive('df-71a22ea3-9bdd-46ff-9e11-1792466c97d3')\"\n",
              "              title=\"Convert this dataframe to an interactive table.\"\n",
              "              style=\"display:none;\">\n",
              "        \n",
              "  <svg xmlns=\"http://www.w3.org/2000/svg\" height=\"24px\"viewBox=\"0 0 24 24\"\n",
              "       width=\"24px\">\n",
              "    <path d=\"M0 0h24v24H0V0z\" fill=\"none\"/>\n",
              "    <path d=\"M18.56 5.44l.94 2.06.94-2.06 2.06-.94-2.06-.94-.94-2.06-.94 2.06-2.06.94zm-11 1L8.5 8.5l.94-2.06 2.06-.94-2.06-.94L8.5 2.5l-.94 2.06-2.06.94zm10 10l.94 2.06.94-2.06 2.06-.94-2.06-.94-.94-2.06-.94 2.06-2.06.94z\"/><path d=\"M17.41 7.96l-1.37-1.37c-.4-.4-.92-.59-1.43-.59-.52 0-1.04.2-1.43.59L10.3 9.45l-7.72 7.72c-.78.78-.78 2.05 0 2.83L4 21.41c.39.39.9.59 1.41.59.51 0 1.02-.2 1.41-.59l7.78-7.78 2.81-2.81c.8-.78.8-2.07 0-2.86zM5.41 20L4 18.59l7.72-7.72 1.47 1.35L5.41 20z\"/>\n",
              "  </svg>\n",
              "      </button>\n",
              "      \n",
              "  <style>\n",
              "    .colab-df-container {\n",
              "      display:flex;\n",
              "      flex-wrap:wrap;\n",
              "      gap: 12px;\n",
              "    }\n",
              "\n",
              "    .colab-df-convert {\n",
              "      background-color: #E8F0FE;\n",
              "      border: none;\n",
              "      border-radius: 50%;\n",
              "      cursor: pointer;\n",
              "      display: none;\n",
              "      fill: #1967D2;\n",
              "      height: 32px;\n",
              "      padding: 0 0 0 0;\n",
              "      width: 32px;\n",
              "    }\n",
              "\n",
              "    .colab-df-convert:hover {\n",
              "      background-color: #E2EBFA;\n",
              "      box-shadow: 0px 1px 2px rgba(60, 64, 67, 0.3), 0px 1px 3px 1px rgba(60, 64, 67, 0.15);\n",
              "      fill: #174EA6;\n",
              "    }\n",
              "\n",
              "    [theme=dark] .colab-df-convert {\n",
              "      background-color: #3B4455;\n",
              "      fill: #D2E3FC;\n",
              "    }\n",
              "\n",
              "    [theme=dark] .colab-df-convert:hover {\n",
              "      background-color: #434B5C;\n",
              "      box-shadow: 0px 1px 3px 1px rgba(0, 0, 0, 0.15);\n",
              "      filter: drop-shadow(0px 1px 2px rgba(0, 0, 0, 0.3));\n",
              "      fill: #FFFFFF;\n",
              "    }\n",
              "  </style>\n",
              "\n",
              "      <script>\n",
              "        const buttonEl =\n",
              "          document.querySelector('#df-71a22ea3-9bdd-46ff-9e11-1792466c97d3 button.colab-df-convert');\n",
              "        buttonEl.style.display =\n",
              "          google.colab.kernel.accessAllowed ? 'block' : 'none';\n",
              "\n",
              "        async function convertToInteractive(key) {\n",
              "          const element = document.querySelector('#df-71a22ea3-9bdd-46ff-9e11-1792466c97d3');\n",
              "          const dataTable =\n",
              "            await google.colab.kernel.invokeFunction('convertToInteractive',\n",
              "                                                     [key], {});\n",
              "          if (!dataTable) return;\n",
              "\n",
              "          const docLinkHtml = 'Like what you see? Visit the ' +\n",
              "            '<a target=\"_blank\" href=https://colab.research.google.com/notebooks/data_table.ipynb>data table notebook</a>'\n",
              "            + ' to learn more about interactive tables.';\n",
              "          element.innerHTML = '';\n",
              "          dataTable['output_type'] = 'display_data';\n",
              "          await google.colab.output.renderOutput(dataTable, element);\n",
              "          const docLink = document.createElement('div');\n",
              "          docLink.innerHTML = docLinkHtml;\n",
              "          element.appendChild(docLink);\n",
              "        }\n",
              "      </script>\n",
              "    </div>\n",
              "  </div>\n",
              "  "
            ],
            "text/plain": [
              "    Loan_ID Gender Married  ... Credit_History Property_Area Loan_Status\n",
              "0  LP001002   Male      No  ...            1.0         Urban           Y\n",
              "1  LP001003   Male     Yes  ...            1.0         Rural           N\n",
              "2  LP001005   Male     Yes  ...            1.0         Urban           Y\n",
              "3  LP001006   Male     Yes  ...            1.0         Urban           Y\n",
              "4  LP001008   Male      No  ...            1.0         Urban           Y\n",
              "\n",
              "[5 rows x 13 columns]"
            ]
          },
          "metadata": {},
          "execution_count": 3
        }
      ]
    },
    {
      "cell_type": "code",
      "source": [
        " df.info()"
      ],
      "metadata": {
        "colab": {
          "base_uri": "https://localhost:8080/"
        },
        "id": "5ck3De3iZUYD",
        "outputId": "a03a8d0b-1144-4099-c9cc-fe27ef1b3318"
      },
      "execution_count": 4,
      "outputs": [
        {
          "output_type": "stream",
          "name": "stdout",
          "text": [
            "<class 'pandas.core.frame.DataFrame'>\n",
            "RangeIndex: 614 entries, 0 to 613\n",
            "Data columns (total 13 columns):\n",
            " #   Column             Non-Null Count  Dtype  \n",
            "---  ------             --------------  -----  \n",
            " 0   Loan_ID            614 non-null    object \n",
            " 1   Gender             601 non-null    object \n",
            " 2   Married            611 non-null    object \n",
            " 3   Dependents         599 non-null    object \n",
            " 4   Education          614 non-null    object \n",
            " 5   Self_Employed      582 non-null    object \n",
            " 6   ApplicantIncome    614 non-null    int64  \n",
            " 7   CoapplicantIncome  614 non-null    float64\n",
            " 8   LoanAmount         592 non-null    float64\n",
            " 9   Loan_Amount_Term   600 non-null    float64\n",
            " 10  Credit_History     564 non-null    float64\n",
            " 11  Property_Area      614 non-null    object \n",
            " 12  Loan_Status        614 non-null    object \n",
            "dtypes: float64(4), int64(1), object(8)\n",
            "memory usage: 62.5+ KB\n"
          ]
        }
      ]
    },
    {
      "cell_type": "markdown",
      "source": [
        "## Data Cleaning and Preprocessing:"
      ],
      "metadata": {
        "id": "-ZfHCBeUCPFh"
      }
    },
    {
      "cell_type": "markdown",
      "source": [
        "- Column Loan_ID, we can drop, as it will not help \n",
        "predicting Target."
      ],
      "metadata": {
        "id": "TbrZLPPYTgzU"
      }
    },
    {
      "cell_type": "code",
      "source": [
        "df.drop(columns='Loan_ID',axis=1, inplace=True)"
      ],
      "metadata": {
        "id": "Lq-6lh-FTfTm"
      },
      "execution_count": 5,
      "outputs": []
    },
    {
      "cell_type": "markdown",
      "source": [
        "- Now we have 12 columns in our dataframe.\n",
        "- In dependent column, values are numeric but datatype is showing Object. So, lets check the unique values it has. "
      ],
      "metadata": {
        "id": "WfBNDrzuUSk-"
      }
    },
    {
      "cell_type": "code",
      "source": [
        "df['Dependents'].value_counts()"
      ],
      "metadata": {
        "colab": {
          "base_uri": "https://localhost:8080/"
        },
        "id": "PsNWNtKhUn72",
        "outputId": "de4cc4f4-d8e1-4d3e-f375-e2de87a11f7a"
      },
      "execution_count": 6,
      "outputs": [
        {
          "output_type": "execute_result",
          "data": {
            "text/plain": [
              "0     345\n",
              "1     102\n",
              "2     101\n",
              "3+     51\n",
              "Name: Dependents, dtype: int64"
            ]
          },
          "metadata": {},
          "execution_count": 6
        }
      ]
    },
    {
      "cell_type": "markdown",
      "source": [
        "- We can see here 3+ is not numeric value. So lets change this value to 3 and change the datatype of column to float."
      ],
      "metadata": {
        "id": "HzDufYJ6UtdV"
      }
    },
    {
      "cell_type": "code",
      "source": [
        "df.replace({\"Dependents\":{'3+':3},\"Loan_Status\":{'Y':1,'N':0}},inplace=True)"
      ],
      "metadata": {
        "id": "tKAhC36WUE3N"
      },
      "execution_count": 7,
      "outputs": []
    },
    {
      "cell_type": "code",
      "source": [
        "df['Dependents'].value_counts()"
      ],
      "metadata": {
        "colab": {
          "base_uri": "https://localhost:8080/"
        },
        "id": "J0_D6WwIVpfU",
        "outputId": "86055660-9a92-4362-bcd1-4f26ed1d31ee"
      },
      "execution_count": 8,
      "outputs": [
        {
          "output_type": "execute_result",
          "data": {
            "text/plain": [
              "0    345\n",
              "1    102\n",
              "2    101\n",
              "3     51\n",
              "Name: Dependents, dtype: int64"
            ]
          },
          "metadata": {},
          "execution_count": 8
        }
      ]
    },
    {
      "cell_type": "code",
      "source": [
        "df['Dependents'].dtype"
      ],
      "metadata": {
        "colab": {
          "base_uri": "https://localhost:8080/"
        },
        "id": "g_qOJSMbVpU0",
        "outputId": "a20526f1-08fa-491a-ea84-f6b638cccfad"
      },
      "execution_count": 9,
      "outputs": [
        {
          "output_type": "execute_result",
          "data": {
            "text/plain": [
              "dtype('O')"
            ]
          },
          "metadata": {},
          "execution_count": 9
        }
      ]
    },
    {
      "cell_type": "code",
      "source": [
        "df['Dependents'] = df['Dependents'].astype('float')"
      ],
      "metadata": {
        "id": "7YxuiPSXVpMG"
      },
      "execution_count": 10,
      "outputs": []
    },
    {
      "cell_type": "code",
      "source": [
        "df.info()"
      ],
      "metadata": {
        "colab": {
          "base_uri": "https://localhost:8080/"
        },
        "id": "7iT9n_lGztAr",
        "outputId": "fb846b09-9de1-408b-dc41-8cbc968991bb"
      },
      "execution_count": 11,
      "outputs": [
        {
          "output_type": "stream",
          "name": "stdout",
          "text": [
            "<class 'pandas.core.frame.DataFrame'>\n",
            "RangeIndex: 614 entries, 0 to 613\n",
            "Data columns (total 12 columns):\n",
            " #   Column             Non-Null Count  Dtype  \n",
            "---  ------             --------------  -----  \n",
            " 0   Gender             601 non-null    object \n",
            " 1   Married            611 non-null    object \n",
            " 2   Dependents         599 non-null    float64\n",
            " 3   Education          614 non-null    object \n",
            " 4   Self_Employed      582 non-null    object \n",
            " 5   ApplicantIncome    614 non-null    int64  \n",
            " 6   CoapplicantIncome  614 non-null    float64\n",
            " 7   LoanAmount         592 non-null    float64\n",
            " 8   Loan_Amount_Term   600 non-null    float64\n",
            " 9   Credit_History     564 non-null    float64\n",
            " 10  Property_Area      614 non-null    object \n",
            " 11  Loan_Status        614 non-null    int64  \n",
            "dtypes: float64(5), int64(2), object(5)\n",
            "memory usage: 57.7+ KB\n"
          ]
        }
      ]
    },
    {
      "cell_type": "code",
      "source": [
        "df['Loan_Status'].value_counts()"
      ],
      "metadata": {
        "colab": {
          "base_uri": "https://localhost:8080/"
        },
        "id": "brr-ceVYGJml",
        "outputId": "a2af6668-d313-43b3-b7b5-b1cbe6332f77"
      },
      "execution_count": 12,
      "outputs": [
        {
          "output_type": "execute_result",
          "data": {
            "text/plain": [
              "1    422\n",
              "0    192\n",
              "Name: Loan_Status, dtype: int64"
            ]
          },
          "metadata": {},
          "execution_count": 12
        }
      ]
    },
    {
      "cell_type": "code",
      "source": [
        "df.describe()"
      ],
      "metadata": {
        "colab": {
          "base_uri": "https://localhost:8080/",
          "height": 300
        },
        "id": "2ERyZI6BC_UA",
        "outputId": "dd1d80aa-a9e4-43d0-db66-747e09a74a17"
      },
      "execution_count": 13,
      "outputs": [
        {
          "output_type": "execute_result",
          "data": {
            "text/html": [
              "\n",
              "  <div id=\"df-1fbd9ad9-e8d3-4d4c-bfa0-eb84fba118d3\">\n",
              "    <div class=\"colab-df-container\">\n",
              "      <div>\n",
              "<style scoped>\n",
              "    .dataframe tbody tr th:only-of-type {\n",
              "        vertical-align: middle;\n",
              "    }\n",
              "\n",
              "    .dataframe tbody tr th {\n",
              "        vertical-align: top;\n",
              "    }\n",
              "\n",
              "    .dataframe thead th {\n",
              "        text-align: right;\n",
              "    }\n",
              "</style>\n",
              "<table border=\"1\" class=\"dataframe\">\n",
              "  <thead>\n",
              "    <tr style=\"text-align: right;\">\n",
              "      <th></th>\n",
              "      <th>Dependents</th>\n",
              "      <th>ApplicantIncome</th>\n",
              "      <th>CoapplicantIncome</th>\n",
              "      <th>LoanAmount</th>\n",
              "      <th>Loan_Amount_Term</th>\n",
              "      <th>Credit_History</th>\n",
              "      <th>Loan_Status</th>\n",
              "    </tr>\n",
              "  </thead>\n",
              "  <tbody>\n",
              "    <tr>\n",
              "      <th>count</th>\n",
              "      <td>599.000000</td>\n",
              "      <td>614.000000</td>\n",
              "      <td>614.000000</td>\n",
              "      <td>592.000000</td>\n",
              "      <td>600.00000</td>\n",
              "      <td>564.000000</td>\n",
              "      <td>614.000000</td>\n",
              "    </tr>\n",
              "    <tr>\n",
              "      <th>mean</th>\n",
              "      <td>0.762938</td>\n",
              "      <td>5403.459283</td>\n",
              "      <td>1621.245798</td>\n",
              "      <td>146.412162</td>\n",
              "      <td>342.00000</td>\n",
              "      <td>0.842199</td>\n",
              "      <td>0.687296</td>\n",
              "    </tr>\n",
              "    <tr>\n",
              "      <th>std</th>\n",
              "      <td>1.015216</td>\n",
              "      <td>6109.041673</td>\n",
              "      <td>2926.248369</td>\n",
              "      <td>85.587325</td>\n",
              "      <td>65.12041</td>\n",
              "      <td>0.364878</td>\n",
              "      <td>0.463973</td>\n",
              "    </tr>\n",
              "    <tr>\n",
              "      <th>min</th>\n",
              "      <td>0.000000</td>\n",
              "      <td>150.000000</td>\n",
              "      <td>0.000000</td>\n",
              "      <td>9.000000</td>\n",
              "      <td>12.00000</td>\n",
              "      <td>0.000000</td>\n",
              "      <td>0.000000</td>\n",
              "    </tr>\n",
              "    <tr>\n",
              "      <th>25%</th>\n",
              "      <td>0.000000</td>\n",
              "      <td>2877.500000</td>\n",
              "      <td>0.000000</td>\n",
              "      <td>100.000000</td>\n",
              "      <td>360.00000</td>\n",
              "      <td>1.000000</td>\n",
              "      <td>0.000000</td>\n",
              "    </tr>\n",
              "    <tr>\n",
              "      <th>50%</th>\n",
              "      <td>0.000000</td>\n",
              "      <td>3812.500000</td>\n",
              "      <td>1188.500000</td>\n",
              "      <td>128.000000</td>\n",
              "      <td>360.00000</td>\n",
              "      <td>1.000000</td>\n",
              "      <td>1.000000</td>\n",
              "    </tr>\n",
              "    <tr>\n",
              "      <th>75%</th>\n",
              "      <td>2.000000</td>\n",
              "      <td>5795.000000</td>\n",
              "      <td>2297.250000</td>\n",
              "      <td>168.000000</td>\n",
              "      <td>360.00000</td>\n",
              "      <td>1.000000</td>\n",
              "      <td>1.000000</td>\n",
              "    </tr>\n",
              "    <tr>\n",
              "      <th>max</th>\n",
              "      <td>3.000000</td>\n",
              "      <td>81000.000000</td>\n",
              "      <td>41667.000000</td>\n",
              "      <td>700.000000</td>\n",
              "      <td>480.00000</td>\n",
              "      <td>1.000000</td>\n",
              "      <td>1.000000</td>\n",
              "    </tr>\n",
              "  </tbody>\n",
              "</table>\n",
              "</div>\n",
              "      <button class=\"colab-df-convert\" onclick=\"convertToInteractive('df-1fbd9ad9-e8d3-4d4c-bfa0-eb84fba118d3')\"\n",
              "              title=\"Convert this dataframe to an interactive table.\"\n",
              "              style=\"display:none;\">\n",
              "        \n",
              "  <svg xmlns=\"http://www.w3.org/2000/svg\" height=\"24px\"viewBox=\"0 0 24 24\"\n",
              "       width=\"24px\">\n",
              "    <path d=\"M0 0h24v24H0V0z\" fill=\"none\"/>\n",
              "    <path d=\"M18.56 5.44l.94 2.06.94-2.06 2.06-.94-2.06-.94-.94-2.06-.94 2.06-2.06.94zm-11 1L8.5 8.5l.94-2.06 2.06-.94-2.06-.94L8.5 2.5l-.94 2.06-2.06.94zm10 10l.94 2.06.94-2.06 2.06-.94-2.06-.94-.94-2.06-.94 2.06-2.06.94z\"/><path d=\"M17.41 7.96l-1.37-1.37c-.4-.4-.92-.59-1.43-.59-.52 0-1.04.2-1.43.59L10.3 9.45l-7.72 7.72c-.78.78-.78 2.05 0 2.83L4 21.41c.39.39.9.59 1.41.59.51 0 1.02-.2 1.41-.59l7.78-7.78 2.81-2.81c.8-.78.8-2.07 0-2.86zM5.41 20L4 18.59l7.72-7.72 1.47 1.35L5.41 20z\"/>\n",
              "  </svg>\n",
              "      </button>\n",
              "      \n",
              "  <style>\n",
              "    .colab-df-container {\n",
              "      display:flex;\n",
              "      flex-wrap:wrap;\n",
              "      gap: 12px;\n",
              "    }\n",
              "\n",
              "    .colab-df-convert {\n",
              "      background-color: #E8F0FE;\n",
              "      border: none;\n",
              "      border-radius: 50%;\n",
              "      cursor: pointer;\n",
              "      display: none;\n",
              "      fill: #1967D2;\n",
              "      height: 32px;\n",
              "      padding: 0 0 0 0;\n",
              "      width: 32px;\n",
              "    }\n",
              "\n",
              "    .colab-df-convert:hover {\n",
              "      background-color: #E2EBFA;\n",
              "      box-shadow: 0px 1px 2px rgba(60, 64, 67, 0.3), 0px 1px 3px 1px rgba(60, 64, 67, 0.15);\n",
              "      fill: #174EA6;\n",
              "    }\n",
              "\n",
              "    [theme=dark] .colab-df-convert {\n",
              "      background-color: #3B4455;\n",
              "      fill: #D2E3FC;\n",
              "    }\n",
              "\n",
              "    [theme=dark] .colab-df-convert:hover {\n",
              "      background-color: #434B5C;\n",
              "      box-shadow: 0px 1px 3px 1px rgba(0, 0, 0, 0.15);\n",
              "      filter: drop-shadow(0px 1px 2px rgba(0, 0, 0, 0.3));\n",
              "      fill: #FFFFFF;\n",
              "    }\n",
              "  </style>\n",
              "\n",
              "      <script>\n",
              "        const buttonEl =\n",
              "          document.querySelector('#df-1fbd9ad9-e8d3-4d4c-bfa0-eb84fba118d3 button.colab-df-convert');\n",
              "        buttonEl.style.display =\n",
              "          google.colab.kernel.accessAllowed ? 'block' : 'none';\n",
              "\n",
              "        async function convertToInteractive(key) {\n",
              "          const element = document.querySelector('#df-1fbd9ad9-e8d3-4d4c-bfa0-eb84fba118d3');\n",
              "          const dataTable =\n",
              "            await google.colab.kernel.invokeFunction('convertToInteractive',\n",
              "                                                     [key], {});\n",
              "          if (!dataTable) return;\n",
              "\n",
              "          const docLinkHtml = 'Like what you see? Visit the ' +\n",
              "            '<a target=\"_blank\" href=https://colab.research.google.com/notebooks/data_table.ipynb>data table notebook</a>'\n",
              "            + ' to learn more about interactive tables.';\n",
              "          element.innerHTML = '';\n",
              "          dataTable['output_type'] = 'display_data';\n",
              "          await google.colab.output.renderOutput(dataTable, element);\n",
              "          const docLink = document.createElement('div');\n",
              "          docLink.innerHTML = docLinkHtml;\n",
              "          element.appendChild(docLink);\n",
              "        }\n",
              "      </script>\n",
              "    </div>\n",
              "  </div>\n",
              "  "
            ],
            "text/plain": [
              "       Dependents  ApplicantIncome  ...  Credit_History  Loan_Status\n",
              "count  599.000000       614.000000  ...      564.000000   614.000000\n",
              "mean     0.762938      5403.459283  ...        0.842199     0.687296\n",
              "std      1.015216      6109.041673  ...        0.364878     0.463973\n",
              "min      0.000000       150.000000  ...        0.000000     0.000000\n",
              "25%      0.000000      2877.500000  ...        1.000000     0.000000\n",
              "50%      0.000000      3812.500000  ...        1.000000     1.000000\n",
              "75%      2.000000      5795.000000  ...        1.000000     1.000000\n",
              "max      3.000000     81000.000000  ...        1.000000     1.000000\n",
              "\n",
              "[8 rows x 7 columns]"
            ]
          },
          "metadata": {},
          "execution_count": 13
        }
      ]
    },
    {
      "cell_type": "code",
      "source": [
        "df.isnull().sum()"
      ],
      "metadata": {
        "colab": {
          "base_uri": "https://localhost:8080/"
        },
        "id": "tgQlNsEPSHjd",
        "outputId": "3043fcd9-34f5-4e73-f121-d454da7b8ece"
      },
      "execution_count": 14,
      "outputs": [
        {
          "output_type": "execute_result",
          "data": {
            "text/plain": [
              "Gender               13\n",
              "Married               3\n",
              "Dependents           15\n",
              "Education             0\n",
              "Self_Employed        32\n",
              "ApplicantIncome       0\n",
              "CoapplicantIncome     0\n",
              "LoanAmount           22\n",
              "Loan_Amount_Term     14\n",
              "Credit_History       50\n",
              "Property_Area         0\n",
              "Loan_Status           0\n",
              "dtype: int64"
            ]
          },
          "metadata": {},
          "execution_count": 14
        }
      ]
    },
    {
      "cell_type": "code",
      "source": [
        "df.isna().sum()/df.shape[0]*100"
      ],
      "metadata": {
        "colab": {
          "base_uri": "https://localhost:8080/"
        },
        "id": "I08zAp23RbDK",
        "outputId": "a56fd142-c556-45de-d56d-f45fde68666a"
      },
      "execution_count": 15,
      "outputs": [
        {
          "output_type": "execute_result",
          "data": {
            "text/plain": [
              "Gender               2.117264\n",
              "Married              0.488599\n",
              "Dependents           2.442997\n",
              "Education            0.000000\n",
              "Self_Employed        5.211726\n",
              "ApplicantIncome      0.000000\n",
              "CoapplicantIncome    0.000000\n",
              "LoanAmount           3.583062\n",
              "Loan_Amount_Term     2.280130\n",
              "Credit_History       8.143322\n",
              "Property_Area        0.000000\n",
              "Loan_Status          0.000000\n",
              "dtype: float64"
            ]
          },
          "metadata": {},
          "execution_count": 15
        }
      ]
    },
    {
      "cell_type": "code",
      "source": [
        "df.corr()['Loan_Status']"
      ],
      "metadata": {
        "colab": {
          "base_uri": "https://localhost:8080/"
        },
        "id": "TVMNIQEKFNxF",
        "outputId": "35c1b73a-0c12-45d6-f8c3-12df9bf78756"
      },
      "execution_count": 16,
      "outputs": [
        {
          "output_type": "execute_result",
          "data": {
            "text/plain": [
              "Dependents           0.006781\n",
              "ApplicantIncome     -0.004710\n",
              "CoapplicantIncome   -0.059187\n",
              "LoanAmount          -0.037318\n",
              "Loan_Amount_Term    -0.021268\n",
              "Credit_History       0.561678\n",
              "Loan_Status          1.000000\n",
              "Name: Loan_Status, dtype: float64"
            ]
          },
          "metadata": {},
          "execution_count": 16
        }
      ]
    },
    {
      "cell_type": "code",
      "source": [
        "sns.pairplot(df,hue='Loan_Status',size=5)"
      ],
      "metadata": {
        "colab": {
          "base_uri": "https://localhost:8080/",
          "height": 1000
        },
        "id": "DMa-ndDfCNI2",
        "outputId": "667ddf9a-ebc9-43b9-965d-4b810b1314c5"
      },
      "execution_count": 17,
      "outputs": [
        {
          "output_type": "execute_result",
          "data": {
            "text/plain": [
              "<seaborn.axisgrid.PairGrid at 0x7ff1d1bf6150>"
            ]
          },
          "metadata": {},
          "execution_count": 17
        },
        {
          "output_type": "display_data",
          "data": {
            "image/png": "[encoded data removed]",
            "text/plain": [
              "<Figure size 2228.62x2160 with 42 Axes>"
            ]
          },
          "metadata": {
            "needs_background": "light"
          }
        }
      ]
    },
    {
      "cell_type": "markdown",
      "source": [
        "- Among numeric columns, credit history has the best correlation with Target.\n",
        "## Encoding"
      ],
      "metadata": {
        "id": "WVz2swFOCsOk"
      }
    },
    {
      "cell_type": "code",
      "source": [
        "df.tail(7)"
      ],
      "metadata": {
        "colab": {
          "base_uri": "https://localhost:8080/",
          "height": 268
        },
        "id": "Y4piHXhYEq2M",
        "outputId": "0bdad122-0d94-4896-ba7c-78550e4f568d"
      },
      "execution_count": 18,
      "outputs": [
        {
          "output_type": "execute_result",
          "data": {
            "text/html": [
              "\n",
              "  <div id=\"df-7784826e-904b-4d52-bb62-e15f34756ec4\">\n",
              "    <div class=\"colab-df-container\">\n",
              "      <div>\n",
              "<style scoped>\n",
              "    .dataframe tbody tr th:only-of-type {\n",
              "        vertical-align: middle;\n",
              "    }\n",
              "\n",
              "    .dataframe tbody tr th {\n",
              "        vertical-align: top;\n",
              "    }\n",
              "\n",
              "    .dataframe thead th {\n",
              "        text-align: right;\n",
              "    }\n",
              "</style>\n",
              "<table border=\"1\" class=\"dataframe\">\n",
              "  <thead>\n",
              "    <tr style=\"text-align: right;\">\n",
              "      <th></th>\n",
              "      <th>Gender</th>\n",
              "      <th>Married</th>\n",
              "      <th>Dependents</th>\n",
              "      <th>Education</th>\n",
              "      <th>Self_Employed</th>\n",
              "      <th>ApplicantIncome</th>\n",
              "      <th>CoapplicantIncome</th>\n",
              "      <th>LoanAmount</th>\n",
              "      <th>Loan_Amount_Term</th>\n",
              "      <th>Credit_History</th>\n",
              "      <th>Property_Area</th>\n",
              "      <th>Loan_Status</th>\n",
              "    </tr>\n",
              "  </thead>\n",
              "  <tbody>\n",
              "    <tr>\n",
              "      <th>607</th>\n",
              "      <td>Male</td>\n",
              "      <td>Yes</td>\n",
              "      <td>2.0</td>\n",
              "      <td>Not Graduate</td>\n",
              "      <td>No</td>\n",
              "      <td>3987</td>\n",
              "      <td>1411.0</td>\n",
              "      <td>157.0</td>\n",
              "      <td>360.0</td>\n",
              "      <td>1.0</td>\n",
              "      <td>Rural</td>\n",
              "      <td>1</td>\n",
              "    </tr>\n",
              "    <tr>\n",
              "      <th>608</th>\n",
              "      <td>Male</td>\n",
              "      <td>Yes</td>\n",
              "      <td>0.0</td>\n",
              "      <td>Graduate</td>\n",
              "      <td>No</td>\n",
              "      <td>3232</td>\n",
              "      <td>1950.0</td>\n",
              "      <td>108.0</td>\n",
              "      <td>360.0</td>\n",
              "      <td>1.0</td>\n",
              "      <td>Rural</td>\n",
              "      <td>1</td>\n",
              "    </tr>\n",
              "    <tr>\n",
              "      <th>609</th>\n",
              "      <td>Female</td>\n",
              "      <td>No</td>\n",
              "      <td>0.0</td>\n",
              "      <td>Graduate</td>\n",
              "      <td>No</td>\n",
              "      <td>2900</td>\n",
              "      <td>0.0</td>\n",
              "      <td>71.0</td>\n",
              "      <td>360.0</td>\n",
              "      <td>1.0</td>\n",
              "      <td>Rural</td>\n",
              "      <td>1</td>\n",
              "    </tr>\n",
              "    <tr>\n",
              "      <th>610</th>\n",
              "      <td>Male</td>\n",
              "      <td>Yes</td>\n",
              "      <td>3.0</td>\n",
              "      <td>Graduate</td>\n",
              "      <td>No</td>\n",
              "      <td>4106</td>\n",
              "      <td>0.0</td>\n",
              "      <td>40.0</td>\n",
              "      <td>180.0</td>\n",
              "      <td>1.0</td>\n",
              "      <td>Rural</td>\n",
              "      <td>1</td>\n",
              "    </tr>\n",
              "    <tr>\n",
              "      <th>611</th>\n",
              "      <td>Male</td>\n",
              "      <td>Yes</td>\n",
              "      <td>1.0</td>\n",
              "      <td>Graduate</td>\n",
              "      <td>No</td>\n",
              "      <td>8072</td>\n",
              "      <td>240.0</td>\n",
              "      <td>253.0</td>\n",
              "      <td>360.0</td>\n",
              "      <td>1.0</td>\n",
              "      <td>Urban</td>\n",
              "      <td>1</td>\n",
              "    </tr>\n",
              "    <tr>\n",
              "      <th>612</th>\n",
              "      <td>Male</td>\n",
              "      <td>Yes</td>\n",
              "      <td>2.0</td>\n",
              "      <td>Graduate</td>\n",
              "      <td>No</td>\n",
              "      <td>7583</td>\n",
              "      <td>0.0</td>\n",
              "      <td>187.0</td>\n",
              "      <td>360.0</td>\n",
              "      <td>1.0</td>\n",
              "      <td>Urban</td>\n",
              "      <td>1</td>\n",
              "    </tr>\n",
              "    <tr>\n",
              "      <th>613</th>\n",
              "      <td>Female</td>\n",
              "      <td>No</td>\n",
              "      <td>0.0</td>\n",
              "      <td>Graduate</td>\n",
              "      <td>Yes</td>\n",
              "      <td>4583</td>\n",
              "      <td>0.0</td>\n",
              "      <td>133.0</td>\n",
              "      <td>360.0</td>\n",
              "      <td>0.0</td>\n",
              "      <td>Semiurban</td>\n",
              "      <td>0</td>\n",
              "    </tr>\n",
              "  </tbody>\n",
              "</table>\n",
              "</div>\n",
              "      <button class=\"colab-df-convert\" onclick=\"convertToInteractive('df-7784826e-904b-4d52-bb62-e15f34756ec4')\"\n",
              "              title=\"Convert this dataframe to an interactive table.\"\n",
              "              style=\"display:none;\">\n",
              "        \n",
              "  <svg xmlns=\"http://www.w3.org/2000/svg\" height=\"24px\"viewBox=\"0 0 24 24\"\n",
              "       width=\"24px\">\n",
              "    <path d=\"M0 0h24v24H0V0z\" fill=\"none\"/>\n",
              "    <path d=\"M18.56 5.44l.94 2.06.94-2.06 2.06-.94-2.06-.94-.94-2.06-.94 2.06-2.06.94zm-11 1L8.5 8.5l.94-2.06 2.06-.94-2.06-.94L8.5 2.5l-.94 2.06-2.06.94zm10 10l.94 2.06.94-2.06 2.06-.94-2.06-.94-.94-2.06-.94 2.06-2.06.94z\"/><path d=\"M17.41 7.96l-1.37-1.37c-.4-.4-.92-.59-1.43-.59-.52 0-1.04.2-1.43.59L10.3 9.45l-7.72 7.72c-.78.78-.78 2.05 0 2.83L4 21.41c.39.39.9.59 1.41.59.51 0 1.02-.2 1.41-.59l7.78-7.78 2.81-2.81c.8-.78.8-2.07 0-2.86zM5.41 20L4 18.59l7.72-7.72 1.47 1.35L5.41 20z\"/>\n",
              "  </svg>\n",
              "      </button>\n",
              "      \n",
              "  <style>\n",
              "    .colab-df-container {\n",
              "      display:flex;\n",
              "      flex-wrap:wrap;\n",
              "      gap: 12px;\n",
              "    }\n",
              "\n",
              "    .colab-df-convert {\n",
              "      background-color: #E8F0FE;\n",
              "      border: none;\n",
              "      border-radius: 50%;\n",
              "      cursor: pointer;\n",
              "      display: none;\n",
              "      fill: #1967D2;\n",
              "      height: 32px;\n",
              "      padding: 0 0 0 0;\n",
              "      width: 32px;\n",
              "    }\n",
              "\n",
              "    .colab-df-convert:hover {\n",
              "      background-color: #E2EBFA;\n",
              "      box-shadow: 0px 1px 2px rgba(60, 64, 67, 0.3), 0px 1px 3px 1px rgba(60, 64, 67, 0.15);\n",
              "      fill: #174EA6;\n",
              "    }\n",
              "\n",
              "    [theme=dark] .colab-df-convert {\n",
              "      background-color: #3B4455;\n",
              "      fill: #D2E3FC;\n",
              "    }\n",
              "\n",
              "    [theme=dark] .colab-df-convert:hover {\n",
              "      background-color: #434B5C;\n",
              "      box-shadow: 0px 1px 3px 1px rgba(0, 0, 0, 0.15);\n",
              "      filter: drop-shadow(0px 1px 2px rgba(0, 0, 0, 0.3));\n",
              "      fill: #FFFFFF;\n",
              "    }\n",
              "  </style>\n",
              "\n",
              "      <script>\n",
              "        const buttonEl =\n",
              "          document.querySelector('#df-7784826e-904b-4d52-bb62-e15f34756ec4 button.colab-df-convert');\n",
              "        buttonEl.style.display =\n",
              "          google.colab.kernel.accessAllowed ? 'block' : 'none';\n",
              "\n",
              "        async function convertToInteractive(key) {\n",
              "          const element = document.querySelector('#df-7784826e-904b-4d52-bb62-e15f34756ec4');\n",
              "          const dataTable =\n",
              "            await google.colab.kernel.invokeFunction('convertToInteractive',\n",
              "                                                     [key], {});\n",
              "          if (!dataTable) return;\n",
              "\n",
              "          const docLinkHtml = 'Like what you see? Visit the ' +\n",
              "            '<a target=\"_blank\" href=https://colab.research.google.com/notebooks/data_table.ipynb>data table notebook</a>'\n",
              "            + ' to learn more about interactive tables.';\n",
              "          element.innerHTML = '';\n",
              "          dataTable['output_type'] = 'display_data';\n",
              "          await google.colab.output.renderOutput(dataTable, element);\n",
              "          const docLink = document.createElement('div');\n",
              "          docLink.innerHTML = docLinkHtml;\n",
              "          element.appendChild(docLink);\n",
              "        }\n",
              "      </script>\n",
              "    </div>\n",
              "  </div>\n",
              "  "
            ],
            "text/plain": [
              "     Gender Married  Dependents  ... Credit_History Property_Area  Loan_Status\n",
              "607    Male     Yes         2.0  ...            1.0         Rural            1\n",
              "608    Male     Yes         0.0  ...            1.0         Rural            1\n",
              "609  Female      No         0.0  ...            1.0         Rural            1\n",
              "610    Male     Yes         3.0  ...            1.0         Rural            1\n",
              "611    Male     Yes         1.0  ...            1.0         Urban            1\n",
              "612    Male     Yes         2.0  ...            1.0         Urban            1\n",
              "613  Female      No         0.0  ...            0.0     Semiurban            0\n",
              "\n",
              "[7 rows x 12 columns]"
            ]
          },
          "metadata": {},
          "execution_count": 18
        }
      ]
    },
    {
      "cell_type": "code",
      "source": [
        "df.replace({\"Gender\":{'Female':0,'Male':1},\"Married\":{'Yes':1,'No':0},\"Education\":{'Not Graduate':0,'Graduate':1},\n",
        "            \"Self_Employed\":{'No':0,'Yes':1},\"Property_Area\":{'Rural':0,'Semiurban':1,'Urban':2}},inplace=True)"
      ],
      "metadata": {
        "id": "FxGA5FbFD7Qd"
      },
      "execution_count": 19,
      "outputs": []
    },
    {
      "cell_type": "code",
      "source": [
        "df.head()"
      ],
      "metadata": {
        "id": "6aTQlbBrJryk",
        "colab": {
          "base_uri": "https://localhost:8080/",
          "height": 206
        },
        "outputId": "1170c079-a3e7-4be5-a694-8b10eb72763a"
      },
      "execution_count": 20,
      "outputs": [
        {
          "output_type": "execute_result",
          "data": {
            "text/html": [
              "\n",
              "  <div id=\"df-a23125c2-96ea-413e-9b56-eb395203990c\">\n",
              "    <div class=\"colab-df-container\">\n",
              "      <div>\n",
              "<style scoped>\n",
              "    .dataframe tbody tr th:only-of-type {\n",
              "        vertical-align: middle;\n",
              "    }\n",
              "\n",
              "    .dataframe tbody tr th {\n",
              "        vertical-align: top;\n",
              "    }\n",
              "\n",
              "    .dataframe thead th {\n",
              "        text-align: right;\n",
              "    }\n",
              "</style>\n",
              "<table border=\"1\" class=\"dataframe\">\n",
              "  <thead>\n",
              "    <tr style=\"text-align: right;\">\n",
              "      <th></th>\n",
              "      <th>Gender</th>\n",
              "      <th>Married</th>\n",
              "      <th>Dependents</th>\n",
              "      <th>Education</th>\n",
              "      <th>Self_Employed</th>\n",
              "      <th>ApplicantIncome</th>\n",
              "      <th>CoapplicantIncome</th>\n",
              "      <th>LoanAmount</th>\n",
              "      <th>Loan_Amount_Term</th>\n",
              "      <th>Credit_History</th>\n",
              "      <th>Property_Area</th>\n",
              "      <th>Loan_Status</th>\n",
              "    </tr>\n",
              "  </thead>\n",
              "  <tbody>\n",
              "    <tr>\n",
              "      <th>0</th>\n",
              "      <td>1.0</td>\n",
              "      <td>0.0</td>\n",
              "      <td>0.0</td>\n",
              "      <td>1</td>\n",
              "      <td>0.0</td>\n",
              "      <td>5849</td>\n",
              "      <td>0.0</td>\n",
              "      <td>NaN</td>\n",
              "      <td>360.0</td>\n",
              "      <td>1.0</td>\n",
              "      <td>2</td>\n",
              "      <td>1</td>\n",
              "    </tr>\n",
              "    <tr>\n",
              "      <th>1</th>\n",
              "      <td>1.0</td>\n",
              "      <td>1.0</td>\n",
              "      <td>1.0</td>\n",
              "      <td>1</td>\n",
              "      <td>0.0</td>\n",
              "      <td>4583</td>\n",
              "      <td>1508.0</td>\n",
              "      <td>128.0</td>\n",
              "      <td>360.0</td>\n",
              "      <td>1.0</td>\n",
              "      <td>0</td>\n",
              "      <td>0</td>\n",
              "    </tr>\n",
              "    <tr>\n",
              "      <th>2</th>\n",
              "      <td>1.0</td>\n",
              "      <td>1.0</td>\n",
              "      <td>0.0</td>\n",
              "      <td>1</td>\n",
              "      <td>1.0</td>\n",
              "      <td>3000</td>\n",
              "      <td>0.0</td>\n",
              "      <td>66.0</td>\n",
              "      <td>360.0</td>\n",
              "      <td>1.0</td>\n",
              "      <td>2</td>\n",
              "      <td>1</td>\n",
              "    </tr>\n",
              "    <tr>\n",
              "      <th>3</th>\n",
              "      <td>1.0</td>\n",
              "      <td>1.0</td>\n",
              "      <td>0.0</td>\n",
              "      <td>0</td>\n",
              "      <td>0.0</td>\n",
              "      <td>2583</td>\n",
              "      <td>2358.0</td>\n",
              "      <td>120.0</td>\n",
              "      <td>360.0</td>\n",
              "      <td>1.0</td>\n",
              "      <td>2</td>\n",
              "      <td>1</td>\n",
              "    </tr>\n",
              "    <tr>\n",
              "      <th>4</th>\n",
              "      <td>1.0</td>\n",
              "      <td>0.0</td>\n",
              "      <td>0.0</td>\n",
              "      <td>1</td>\n",
              "      <td>0.0</td>\n",
              "      <td>6000</td>\n",
              "      <td>0.0</td>\n",
              "      <td>141.0</td>\n",
              "      <td>360.0</td>\n",
              "      <td>1.0</td>\n",
              "      <td>2</td>\n",
              "      <td>1</td>\n",
              "    </tr>\n",
              "  </tbody>\n",
              "</table>\n",
              "</div>\n",
              "      <button class=\"colab-df-convert\" onclick=\"convertToInteractive('df-a23125c2-96ea-413e-9b56-eb395203990c')\"\n",
              "              title=\"Convert this dataframe to an interactive table.\"\n",
              "              style=\"display:none;\">\n",
              "        \n",
              "  <svg xmlns=\"http://www.w3.org/2000/svg\" height=\"24px\"viewBox=\"0 0 24 24\"\n",
              "       width=\"24px\">\n",
              "    <path d=\"M0 0h24v24H0V0z\" fill=\"none\"/>\n",
              "    <path d=\"M18.56 5.44l.94 2.06.94-2.06 2.06-.94-2.06-.94-.94-2.06-.94 2.06-2.06.94zm-11 1L8.5 8.5l.94-2.06 2.06-.94-2.06-.94L8.5 2.5l-.94 2.06-2.06.94zm10 10l.94 2.06.94-2.06 2.06-.94-2.06-.94-.94-2.06-.94 2.06-2.06.94z\"/><path d=\"M17.41 7.96l-1.37-1.37c-.4-.4-.92-.59-1.43-.59-.52 0-1.04.2-1.43.59L10.3 9.45l-7.72 7.72c-.78.78-.78 2.05 0 2.83L4 21.41c.39.39.9.59 1.41.59.51 0 1.02-.2 1.41-.59l7.78-7.78 2.81-2.81c.8-.78.8-2.07 0-2.86zM5.41 20L4 18.59l7.72-7.72 1.47 1.35L5.41 20z\"/>\n",
              "  </svg>\n",
              "      </button>\n",
              "      \n",
              "  <style>\n",
              "    .colab-df-container {\n",
              "      display:flex;\n",
              "      flex-wrap:wrap;\n",
              "      gap: 12px;\n",
              "    }\n",
              "\n",
              "    .colab-df-convert {\n",
              "      background-color: #E8F0FE;\n",
              "      border: none;\n",
              "      border-radius: 50%;\n",
              "      cursor: pointer;\n",
              "      display: none;\n",
              "      fill: #1967D2;\n",
              "      height: 32px;\n",
              "      padding: 0 0 0 0;\n",
              "      width: 32px;\n",
              "    }\n",
              "\n",
              "    .colab-df-convert:hover {\n",
              "      background-color: #E2EBFA;\n",
              "      box-shadow: 0px 1px 2px rgba(60, 64, 67, 0.3), 0px 1px 3px 1px rgba(60, 64, 67, 0.15);\n",
              "      fill: #174EA6;\n",
              "    }\n",
              "\n",
              "    [theme=dark] .colab-df-convert {\n",
              "      background-color: #3B4455;\n",
              "      fill: #D2E3FC;\n",
              "    }\n",
              "\n",
              "    [theme=dark] .colab-df-convert:hover {\n",
              "      background-color: #434B5C;\n",
              "      box-shadow: 0px 1px 3px 1px rgba(0, 0, 0, 0.15);\n",
              "      filter: drop-shadow(0px 1px 2px rgba(0, 0, 0, 0.3));\n",
              "      fill: #FFFFFF;\n",
              "    }\n",
              "  </style>\n",
              "\n",
              "      <script>\n",
              "        const buttonEl =\n",
              "          document.querySelector('#df-a23125c2-96ea-413e-9b56-eb395203990c button.colab-df-convert');\n",
              "        buttonEl.style.display =\n",
              "          google.colab.kernel.accessAllowed ? 'block' : 'none';\n",
              "\n",
              "        async function convertToInteractive(key) {\n",
              "          const element = document.querySelector('#df-a23125c2-96ea-413e-9b56-eb395203990c');\n",
              "          const dataTable =\n",
              "            await google.colab.kernel.invokeFunction('convertToInteractive',\n",
              "                                                     [key], {});\n",
              "          if (!dataTable) return;\n",
              "\n",
              "          const docLinkHtml = 'Like what you see? Visit the ' +\n",
              "            '<a target=\"_blank\" href=https://colab.research.google.com/notebooks/data_table.ipynb>data table notebook</a>'\n",
              "            + ' to learn more about interactive tables.';\n",
              "          element.innerHTML = '';\n",
              "          dataTable['output_type'] = 'display_data';\n",
              "          await google.colab.output.renderOutput(dataTable, element);\n",
              "          const docLink = document.createElement('div');\n",
              "          docLink.innerHTML = docLinkHtml;\n",
              "          element.appendChild(docLink);\n",
              "        }\n",
              "      </script>\n",
              "    </div>\n",
              "  </div>\n",
              "  "
            ],
            "text/plain": [
              "   Gender  Married  Dependents  ...  Credit_History  Property_Area  Loan_Status\n",
              "0     1.0      0.0         0.0  ...             1.0              2            1\n",
              "1     1.0      1.0         1.0  ...             1.0              0            0\n",
              "2     1.0      1.0         0.0  ...             1.0              2            1\n",
              "3     1.0      1.0         0.0  ...             1.0              2            1\n",
              "4     1.0      0.0         0.0  ...             1.0              2            1\n",
              "\n",
              "[5 rows x 12 columns]"
            ]
          },
          "metadata": {},
          "execution_count": 20
        }
      ]
    },
    {
      "cell_type": "code",
      "source": [
        "sns.countplot(data = df, x='Loan_Status',hue='Gender')"
      ],
      "metadata": {
        "colab": {
          "base_uri": "https://localhost:8080/",
          "height": 300
        },
        "id": "bzHY4rVlA_ND",
        "outputId": "1382caa5-3a6f-4157-e49b-9677de934e6f"
      },
      "execution_count": 21,
      "outputs": [
        {
          "output_type": "execute_result",
          "data": {
            "text/plain": [
              "<matplotlib.axes._subplots.AxesSubplot at 0x7ff1c53884d0>"
            ]
          },
          "metadata": {},
          "execution_count": 21
        },
        {
          "output_type": "display_data",
          "data": {
            "image/png": "[encoded data removed]",
            "text/plain": [
              "<Figure size 432x288 with 1 Axes>"
            ]
          },
          "metadata": {
            "needs_background": "light"
          }
        }
      ]
    },
    {
      "cell_type": "code",
      "source": [
        "sns.countplot(data = df, x='Loan_Status',hue='Married')"
      ],
      "metadata": {
        "colab": {
          "base_uri": "https://localhost:8080/",
          "height": 298
        },
        "id": "SA4co1OSEyGD",
        "outputId": "66bc29ac-112b-44f0-d940-9be28bc271e8"
      },
      "execution_count": 22,
      "outputs": [
        {
          "output_type": "execute_result",
          "data": {
            "text/plain": [
              "<matplotlib.axes._subplots.AxesSubplot at 0x7ff1c4df3a90>"
            ]
          },
          "metadata": {},
          "execution_count": 22
        },
        {
          "output_type": "display_data",
          "data": {
            "image/png": "[encoded data removed]",
            "text/plain": [
              "<Figure size 432x288 with 1 Axes>"
            ]
          },
          "metadata": {
            "needs_background": "light"
          }
        }
      ]
    },
    {
      "cell_type": "code",
      "source": [
        "sns.countplot(data = df, x='Loan_Status',hue='Education')"
      ],
      "metadata": {
        "colab": {
          "base_uri": "https://localhost:8080/",
          "height": 298
        },
        "id": "VliwlnZNEh9v",
        "outputId": "51cea28e-95fa-4c30-81a5-1fddddc9cb03"
      },
      "execution_count": 23,
      "outputs": [
        {
          "output_type": "execute_result",
          "data": {
            "text/plain": [
              "<matplotlib.axes._subplots.AxesSubplot at 0x7ff1c35a7f50>"
            ]
          },
          "metadata": {},
          "execution_count": 23
        },
        {
          "output_type": "display_data",
          "data": {
            "image/png": "[encoded data removed]",
            "text/plain": [
              "<Figure size 432x288 with 1 Axes>"
            ]
          },
          "metadata": {
            "needs_background": "light"
          }
        }
      ]
    },
    {
      "cell_type": "code",
      "source": [
        "sns.scatterplot(data = df, x='ApplicantIncome',y='LoanAmount')          "
      ],
      "metadata": {
        "colab": {
          "base_uri": "https://localhost:8080/",
          "height": 297
        },
        "id": "5UbrGM8BFN0e",
        "outputId": "58f78f81-240e-41d2-83e6-20b25ee34f0f"
      },
      "execution_count": 24,
      "outputs": [
        {
          "output_type": "execute_result",
          "data": {
            "text/plain": [
              "<matplotlib.axes._subplots.AxesSubplot at 0x7ff1c4de7790>"
            ]
          },
          "metadata": {},
          "execution_count": 24
        },
        {
          "output_type": "display_data",
          "data": {
            "image/png": "[encoded data removed]",
            "text/plain": [
              "<Figure size 432x288 with 1 Axes>"
            ]
          },
          "metadata": {
            "needs_background": "light"
          }
        }
      ]
    },
    {
      "cell_type": "code",
      "source": [
        "sns.scatterplot(data = df, x='ApplicantIncome',y='LoanAmount',hue='Loan_Status')          "
      ],
      "metadata": {
        "colab": {
          "base_uri": "https://localhost:8080/",
          "height": 297
        },
        "id": "vKAuci5LBra-",
        "outputId": "dbec16c6-2c0e-4aeb-bbe8-0ce8c45b4eef"
      },
      "execution_count": 25,
      "outputs": [
        {
          "output_type": "execute_result",
          "data": {
            "text/plain": [
              "<matplotlib.axes._subplots.AxesSubplot at 0x7ff1c349e0d0>"
            ]
          },
          "metadata": {},
          "execution_count": 25
        },
        {
          "output_type": "display_data",
          "data": {
            "image/png": "[encoded data removed]",
            "text/plain": [
              "<Figure size 432x288 with 1 Axes>"
            ]
          },
          "metadata": {
            "needs_background": "light"
          }
        }
      ]
    },
    {
      "cell_type": "code",
      "source": [
        "sns.countplot(data = df, x='Loan_Status',hue='Property_Area')"
      ],
      "metadata": {
        "colab": {
          "base_uri": "https://localhost:8080/",
          "height": 298
        },
        "id": "CJmD_PFKGJE1",
        "outputId": "e13d5869-2761-48cb-b7c3-04f38d8468fd"
      },
      "execution_count": 26,
      "outputs": [
        {
          "output_type": "execute_result",
          "data": {
            "text/plain": [
              "<matplotlib.axes._subplots.AxesSubplot at 0x7ff1c33cef10>"
            ]
          },
          "metadata": {},
          "execution_count": 26
        },
        {
          "output_type": "display_data",
          "data": {
            "image/png": "[encoded data removed]",
            "text/plain": [
              "<Figure size 432x288 with 1 Axes>"
            ]
          },
          "metadata": {
            "needs_background": "light"
          }
        }
      ]
    },
    {
      "cell_type": "code",
      "source": [
        "sns.countplot(data = df, x='Loan_Status',hue='Self_Employed')"
      ],
      "metadata": {
        "colab": {
          "base_uri": "https://localhost:8080/",
          "height": 298
        },
        "id": "-CFAK3L0GqRr",
        "outputId": "f48601fb-5a63-4df2-cbd6-072606fc7aa2"
      },
      "execution_count": 27,
      "outputs": [
        {
          "output_type": "execute_result",
          "data": {
            "text/plain": [
              "<matplotlib.axes._subplots.AxesSubplot at 0x7ff1c341da50>"
            ]
          },
          "metadata": {},
          "execution_count": 27
        },
        {
          "output_type": "display_data",
          "data": {
            "image/png": "[encoded data removed]",
            "text/plain": [
              "<Figure size 432x288 with 1 Axes>"
            ]
          },
          "metadata": {
            "needs_background": "light"
          }
        }
      ]
    },
    {
      "cell_type": "code",
      "source": [
        "sns.countplot(data = df, x='Loan_Status',hue='Credit_History')"
      ],
      "metadata": {
        "colab": {
          "base_uri": "https://localhost:8080/",
          "height": 298
        },
        "id": "E5KBXK7VGPFk",
        "outputId": "c380a04a-5356-4ca3-fae4-c87fad8b729e"
      },
      "execution_count": 28,
      "outputs": [
        {
          "output_type": "execute_result",
          "data": {
            "text/plain": [
              "<matplotlib.axes._subplots.AxesSubplot at 0x7ff1d01501d0>"
            ]
          },
          "metadata": {},
          "execution_count": 28
        },
        {
          "output_type": "display_data",
          "data": {
            "image/png": "[encoded data removed]",
            "text/plain": [
              "<Figure size 432x288 with 1 Axes>"
            ]
          },
          "metadata": {
            "needs_background": "light"
          }
        }
      ]
    },
    {
      "cell_type": "code",
      "source": [
        "df.corr()['Loan_Status']"
      ],
      "metadata": {
        "colab": {
          "base_uri": "https://localhost:8080/"
        },
        "id": "TvLSSHLcGfmb",
        "outputId": "f8d09c58-a28e-4c1a-f83a-e15e81f692af"
      },
      "execution_count": 29,
      "outputs": [
        {
          "output_type": "execute_result",
          "data": {
            "text/plain": [
              "Gender               0.019857\n",
              "Married              0.089280\n",
              "Dependents           0.006781\n",
              "Education            0.085884\n",
              "Self_Employed       -0.002303\n",
              "ApplicantIncome     -0.004710\n",
              "CoapplicantIncome   -0.059187\n",
              "LoanAmount          -0.037318\n",
              "Loan_Amount_Term    -0.021268\n",
              "Credit_History       0.561678\n",
              "Property_Area        0.032112\n",
              "Loan_Status          1.000000\n",
              "Name: Loan_Status, dtype: float64"
            ]
          },
          "metadata": {},
          "execution_count": 29
        }
      ]
    },
    {
      "cell_type": "code",
      "source": [
        "df.isna().sum()"
      ],
      "metadata": {
        "id": "2mRAUb7KD7Nu",
        "colab": {
          "base_uri": "https://localhost:8080/"
        },
        "outputId": "c00ccca1-f327-467c-e0d0-a5c68909da7d"
      },
      "execution_count": 30,
      "outputs": [
        {
          "output_type": "execute_result",
          "data": {
            "text/plain": [
              "Gender               13\n",
              "Married               3\n",
              "Dependents           15\n",
              "Education             0\n",
              "Self_Employed        32\n",
              "ApplicantIncome       0\n",
              "CoapplicantIncome     0\n",
              "LoanAmount           22\n",
              "Loan_Amount_Term     14\n",
              "Credit_History       50\n",
              "Property_Area         0\n",
              "Loan_Status           0\n",
              "dtype: int64"
            ]
          },
          "metadata": {},
          "execution_count": 30
        }
      ]
    },
    {
      "cell_type": "markdown",
      "source": [
        "- Now, we have all columns in numeric datatype.\n",
        "## Handling Null Values:\n",
        "1. Gender, married, dependent, loan amount term columns has less than 3% null values so we can delete the rows having null values.\n",
        "2. Loan_ID, Education, Applicant Income, Coapplicant income, property area, loan_status are the columns with No null values.\n",
        "3. We will have to fill null values of columns: Self_Employed, Loan Amount, Credit_History. As there are 5.21,3.58,8.14 percent null values accordingly.\n"
      ],
      "metadata": {
        "id": "IBDNI59KfKdN"
      }
    },
    {
      "cell_type": "code",
      "source": [
        "#Dropping null rows of column Gender\n",
        "df[df['Gender'].isna()]"
      ],
      "metadata": {
        "colab": {
          "base_uri": "https://localhost:8080/",
          "height": 456
        },
        "id": "kI0UX_Zo6wKM",
        "outputId": "141ed861-c6c0-46a6-a3a7-e166d6a35d44"
      },
      "execution_count": 31,
      "outputs": [
        {
          "output_type": "execute_result",
          "data": {
            "text/html": [
              "\n",
              "  <div id=\"df-2f82e6cc-6441-4b3c-a291-b4bd3a878401\">\n",
              "    <div class=\"colab-df-container\">\n",
              "      <div>\n",
              "<style scoped>\n",
              "    .dataframe tbody tr th:only-of-type {\n",
              "        vertical-align: middle;\n",
              "    }\n",
              "\n",
              "    .dataframe tbody tr th {\n",
              "        vertical-align: top;\n",
              "    }\n",
              "\n",
              "    .dataframe thead th {\n",
              "        text-align: right;\n",
              "    }\n",
              "</style>\n",
              "<table border=\"1\" class=\"dataframe\">\n",
              "  <thead>\n",
              "    <tr style=\"text-align: right;\">\n",
              "      <th></th>\n",
              "      <th>Gender</th>\n",
              "      <th>Married</th>\n",
              "      <th>Dependents</th>\n",
              "      <th>Education</th>\n",
              "      <th>Self_Employed</th>\n",
              "      <th>ApplicantIncome</th>\n",
              "      <th>CoapplicantIncome</th>\n",
              "      <th>LoanAmount</th>\n",
              "      <th>Loan_Amount_Term</th>\n",
              "      <th>Credit_History</th>\n",
              "      <th>Property_Area</th>\n",
              "      <th>Loan_Status</th>\n",
              "    </tr>\n",
              "  </thead>\n",
              "  <tbody>\n",
              "    <tr>\n",
              "      <th>23</th>\n",
              "      <td>NaN</td>\n",
              "      <td>1.0</td>\n",
              "      <td>2.0</td>\n",
              "      <td>0</td>\n",
              "      <td>0.0</td>\n",
              "      <td>3365</td>\n",
              "      <td>1917.0</td>\n",
              "      <td>112.0</td>\n",
              "      <td>360.0</td>\n",
              "      <td>0.0</td>\n",
              "      <td>0</td>\n",
              "      <td>0</td>\n",
              "    </tr>\n",
              "    <tr>\n",
              "      <th>126</th>\n",
              "      <td>NaN</td>\n",
              "      <td>1.0</td>\n",
              "      <td>3.0</td>\n",
              "      <td>1</td>\n",
              "      <td>0.0</td>\n",
              "      <td>23803</td>\n",
              "      <td>0.0</td>\n",
              "      <td>370.0</td>\n",
              "      <td>360.0</td>\n",
              "      <td>1.0</td>\n",
              "      <td>0</td>\n",
              "      <td>1</td>\n",
              "    </tr>\n",
              "    <tr>\n",
              "      <th>171</th>\n",
              "      <td>NaN</td>\n",
              "      <td>1.0</td>\n",
              "      <td>3.0</td>\n",
              "      <td>1</td>\n",
              "      <td>0.0</td>\n",
              "      <td>51763</td>\n",
              "      <td>0.0</td>\n",
              "      <td>700.0</td>\n",
              "      <td>300.0</td>\n",
              "      <td>1.0</td>\n",
              "      <td>2</td>\n",
              "      <td>1</td>\n",
              "    </tr>\n",
              "    <tr>\n",
              "      <th>188</th>\n",
              "      <td>NaN</td>\n",
              "      <td>1.0</td>\n",
              "      <td>0.0</td>\n",
              "      <td>1</td>\n",
              "      <td>1.0</td>\n",
              "      <td>674</td>\n",
              "      <td>5296.0</td>\n",
              "      <td>168.0</td>\n",
              "      <td>360.0</td>\n",
              "      <td>1.0</td>\n",
              "      <td>0</td>\n",
              "      <td>1</td>\n",
              "    </tr>\n",
              "    <tr>\n",
              "      <th>314</th>\n",
              "      <td>NaN</td>\n",
              "      <td>1.0</td>\n",
              "      <td>0.0</td>\n",
              "      <td>1</td>\n",
              "      <td>0.0</td>\n",
              "      <td>2473</td>\n",
              "      <td>1843.0</td>\n",
              "      <td>159.0</td>\n",
              "      <td>360.0</td>\n",
              "      <td>1.0</td>\n",
              "      <td>0</td>\n",
              "      <td>0</td>\n",
              "    </tr>\n",
              "    <tr>\n",
              "      <th>334</th>\n",
              "      <td>NaN</td>\n",
              "      <td>1.0</td>\n",
              "      <td>1.0</td>\n",
              "      <td>1</td>\n",
              "      <td>1.0</td>\n",
              "      <td>9833</td>\n",
              "      <td>1833.0</td>\n",
              "      <td>182.0</td>\n",
              "      <td>180.0</td>\n",
              "      <td>1.0</td>\n",
              "      <td>2</td>\n",
              "      <td>1</td>\n",
              "    </tr>\n",
              "    <tr>\n",
              "      <th>460</th>\n",
              "      <td>NaN</td>\n",
              "      <td>1.0</td>\n",
              "      <td>0.0</td>\n",
              "      <td>1</td>\n",
              "      <td>1.0</td>\n",
              "      <td>2083</td>\n",
              "      <td>4083.0</td>\n",
              "      <td>160.0</td>\n",
              "      <td>360.0</td>\n",
              "      <td>NaN</td>\n",
              "      <td>1</td>\n",
              "      <td>1</td>\n",
              "    </tr>\n",
              "    <tr>\n",
              "      <th>467</th>\n",
              "      <td>NaN</td>\n",
              "      <td>1.0</td>\n",
              "      <td>0.0</td>\n",
              "      <td>1</td>\n",
              "      <td>0.0</td>\n",
              "      <td>16692</td>\n",
              "      <td>0.0</td>\n",
              "      <td>110.0</td>\n",
              "      <td>360.0</td>\n",
              "      <td>1.0</td>\n",
              "      <td>1</td>\n",
              "      <td>1</td>\n",
              "    </tr>\n",
              "    <tr>\n",
              "      <th>477</th>\n",
              "      <td>NaN</td>\n",
              "      <td>1.0</td>\n",
              "      <td>2.0</td>\n",
              "      <td>1</td>\n",
              "      <td>0.0</td>\n",
              "      <td>2873</td>\n",
              "      <td>1872.0</td>\n",
              "      <td>132.0</td>\n",
              "      <td>360.0</td>\n",
              "      <td>0.0</td>\n",
              "      <td>1</td>\n",
              "      <td>0</td>\n",
              "    </tr>\n",
              "    <tr>\n",
              "      <th>507</th>\n",
              "      <td>NaN</td>\n",
              "      <td>0.0</td>\n",
              "      <td>0.0</td>\n",
              "      <td>1</td>\n",
              "      <td>0.0</td>\n",
              "      <td>3583</td>\n",
              "      <td>0.0</td>\n",
              "      <td>96.0</td>\n",
              "      <td>360.0</td>\n",
              "      <td>1.0</td>\n",
              "      <td>2</td>\n",
              "      <td>0</td>\n",
              "    </tr>\n",
              "    <tr>\n",
              "      <th>576</th>\n",
              "      <td>NaN</td>\n",
              "      <td>1.0</td>\n",
              "      <td>0.0</td>\n",
              "      <td>1</td>\n",
              "      <td>0.0</td>\n",
              "      <td>3087</td>\n",
              "      <td>2210.0</td>\n",
              "      <td>136.0</td>\n",
              "      <td>360.0</td>\n",
              "      <td>0.0</td>\n",
              "      <td>1</td>\n",
              "      <td>0</td>\n",
              "    </tr>\n",
              "    <tr>\n",
              "      <th>588</th>\n",
              "      <td>NaN</td>\n",
              "      <td>0.0</td>\n",
              "      <td>0.0</td>\n",
              "      <td>1</td>\n",
              "      <td>0.0</td>\n",
              "      <td>4750</td>\n",
              "      <td>0.0</td>\n",
              "      <td>94.0</td>\n",
              "      <td>360.0</td>\n",
              "      <td>1.0</td>\n",
              "      <td>1</td>\n",
              "      <td>1</td>\n",
              "    </tr>\n",
              "    <tr>\n",
              "      <th>592</th>\n",
              "      <td>NaN</td>\n",
              "      <td>0.0</td>\n",
              "      <td>3.0</td>\n",
              "      <td>1</td>\n",
              "      <td>1.0</td>\n",
              "      <td>9357</td>\n",
              "      <td>0.0</td>\n",
              "      <td>292.0</td>\n",
              "      <td>360.0</td>\n",
              "      <td>1.0</td>\n",
              "      <td>1</td>\n",
              "      <td>1</td>\n",
              "    </tr>\n",
              "  </tbody>\n",
              "</table>\n",
              "</div>\n",
              "      <button class=\"colab-df-convert\" onclick=\"convertToInteractive('df-2f82e6cc-6441-4b3c-a291-b4bd3a878401')\"\n",
              "              title=\"Convert this dataframe to an interactive table.\"\n",
              "              style=\"display:none;\">\n",
              "        \n",
              "  <svg xmlns=\"http://www.w3.org/2000/svg\" height=\"24px\"viewBox=\"0 0 24 24\"\n",
              "       width=\"24px\">\n",
              "    <path d=\"M0 0h24v24H0V0z\" fill=\"none\"/>\n",
              "    <path d=\"M18.56 5.44l.94 2.06.94-2.06 2.06-.94-2.06-.94-.94-2.06-.94 2.06-2.06.94zm-11 1L8.5 8.5l.94-2.06 2.06-.94-2.06-.94L8.5 2.5l-.94 2.06-2.06.94zm10 10l.94 2.06.94-2.06 2.06-.94-2.06-.94-.94-2.06-.94 2.06-2.06.94z\"/><path d=\"M17.41 7.96l-1.37-1.37c-.4-.4-.92-.59-1.43-.59-.52 0-1.04.2-1.43.59L10.3 9.45l-7.72 7.72c-.78.78-.78 2.05 0 2.83L4 21.41c.39.39.9.59 1.41.59.51 0 1.02-.2 1.41-.59l7.78-7.78 2.81-2.81c.8-.78.8-2.07 0-2.86zM5.41 20L4 18.59l7.72-7.72 1.47 1.35L5.41 20z\"/>\n",
              "  </svg>\n",
              "      </button>\n",
              "      \n",
              "  <style>\n",
              "    .colab-df-container {\n",
              "      display:flex;\n",
              "      flex-wrap:wrap;\n",
              "      gap: 12px;\n",
              "    }\n",
              "\n",
              "    .colab-df-convert {\n",
              "      background-color: #E8F0FE;\n",
              "      border: none;\n",
              "      border-radius: 50%;\n",
              "      cursor: pointer;\n",
              "      display: none;\n",
              "      fill: #1967D2;\n",
              "      height: 32px;\n",
              "      padding: 0 0 0 0;\n",
              "      width: 32px;\n",
              "    }\n",
              "\n",
              "    .colab-df-convert:hover {\n",
              "      background-color: #E2EBFA;\n",
              "      box-shadow: 0px 1px 2px rgba(60, 64, 67, 0.3), 0px 1px 3px 1px rgba(60, 64, 67, 0.15);\n",
              "      fill: #174EA6;\n",
              "    }\n",
              "\n",
              "    [theme=dark] .colab-df-convert {\n",
              "      background-color: #3B4455;\n",
              "      fill: #D2E3FC;\n",
              "    }\n",
              "\n",
              "    [theme=dark] .colab-df-convert:hover {\n",
              "      background-color: #434B5C;\n",
              "      box-shadow: 0px 1px 3px 1px rgba(0, 0, 0, 0.15);\n",
              "      filter: drop-shadow(0px 1px 2px rgba(0, 0, 0, 0.3));\n",
              "      fill: #FFFFFF;\n",
              "    }\n",
              "  </style>\n",
              "\n",
              "      <script>\n",
              "        const buttonEl =\n",
              "          document.querySelector('#df-2f82e6cc-6441-4b3c-a291-b4bd3a878401 button.colab-df-convert');\n",
              "        buttonEl.style.display =\n",
              "          google.colab.kernel.accessAllowed ? 'block' : 'none';\n",
              "\n",
              "        async function convertToInteractive(key) {\n",
              "          const element = document.querySelector('#df-2f82e6cc-6441-4b3c-a291-b4bd3a878401');\n",
              "          const dataTable =\n",
              "            await google.colab.kernel.invokeFunction('convertToInteractive',\n",
              "                                                     [key], {});\n",
              "          if (!dataTable) return;\n",
              "\n",
              "          const docLinkHtml = 'Like what you see? Visit the ' +\n",
              "            '<a target=\"_blank\" href=https://colab.research.google.com/notebooks/data_table.ipynb>data table notebook</a>'\n",
              "            + ' to learn more about interactive tables.';\n",
              "          element.innerHTML = '';\n",
              "          dataTable['output_type'] = 'display_data';\n",
              "          await google.colab.output.renderOutput(dataTable, element);\n",
              "          const docLink = document.createElement('div');\n",
              "          docLink.innerHTML = docLinkHtml;\n",
              "          element.appendChild(docLink);\n",
              "        }\n",
              "      </script>\n",
              "    </div>\n",
              "  </div>\n",
              "  "
            ],
            "text/plain": [
              "     Gender  Married  Dependents  ...  Credit_History  Property_Area  Loan_Status\n",
              "23      NaN      1.0         2.0  ...             0.0              0            0\n",
              "126     NaN      1.0         3.0  ...             1.0              0            1\n",
              "171     NaN      1.0         3.0  ...             1.0              2            1\n",
              "188     NaN      1.0         0.0  ...             1.0              0            1\n",
              "314     NaN      1.0         0.0  ...             1.0              0            0\n",
              "334     NaN      1.0         1.0  ...             1.0              2            1\n",
              "460     NaN      1.0         0.0  ...             NaN              1            1\n",
              "467     NaN      1.0         0.0  ...             1.0              1            1\n",
              "477     NaN      1.0         2.0  ...             0.0              1            0\n",
              "507     NaN      0.0         0.0  ...             1.0              2            0\n",
              "576     NaN      1.0         0.0  ...             0.0              1            0\n",
              "588     NaN      0.0         0.0  ...             1.0              1            1\n",
              "592     NaN      0.0         3.0  ...             1.0              1            1\n",
              "\n",
              "[13 rows x 12 columns]"
            ]
          },
          "metadata": {},
          "execution_count": 31
        }
      ]
    },
    {
      "cell_type": "code",
      "source": [
        "df.drop([23,126,171,188,314,334,460,467,477,507,576,588,592],inplace=True)"
      ],
      "metadata": {
        "id": "Z2pC2TAo74eW"
      },
      "execution_count": 32,
      "outputs": []
    },
    {
      "cell_type": "code",
      "source": [
        "df['Gender'].isna().sum()"
      ],
      "metadata": {
        "id": "Cb6AYpjg8NuE",
        "colab": {
          "base_uri": "https://localhost:8080/"
        },
        "outputId": "bfb85cfa-0142-43f0-cf05-1ead18631471"
      },
      "execution_count": 33,
      "outputs": [
        {
          "output_type": "execute_result",
          "data": {
            "text/plain": [
              "0"
            ]
          },
          "metadata": {},
          "execution_count": 33
        }
      ]
    },
    {
      "cell_type": "code",
      "source": [
        "#Dropping null rows of column married\n",
        "df[df['Married'].isna()]"
      ],
      "metadata": {
        "id": "cbwnevYM8Uec",
        "colab": {
          "base_uri": "https://localhost:8080/",
          "height": 143
        },
        "outputId": "c9e99325-facc-4bc9-8950-0ae8273daccc"
      },
      "execution_count": 34,
      "outputs": [
        {
          "output_type": "execute_result",
          "data": {
            "text/html": [
              "\n",
              "  <div id=\"df-4368c7ee-75ca-4966-8243-0bc40c59cdb3\">\n",
              "    <div class=\"colab-df-container\">\n",
              "      <div>\n",
              "<style scoped>\n",
              "    .dataframe tbody tr th:only-of-type {\n",
              "        vertical-align: middle;\n",
              "    }\n",
              "\n",
              "    .dataframe tbody tr th {\n",
              "        vertical-align: top;\n",
              "    }\n",
              "\n",
              "    .dataframe thead th {\n",
              "        text-align: right;\n",
              "    }\n",
              "</style>\n",
              "<table border=\"1\" class=\"dataframe\">\n",
              "  <thead>\n",
              "    <tr style=\"text-align: right;\">\n",
              "      <th></th>\n",
              "      <th>Gender</th>\n",
              "      <th>Married</th>\n",
              "      <th>Dependents</th>\n",
              "      <th>Education</th>\n",
              "      <th>Self_Employed</th>\n",
              "      <th>ApplicantIncome</th>\n",
              "      <th>CoapplicantIncome</th>\n",
              "      <th>LoanAmount</th>\n",
              "      <th>Loan_Amount_Term</th>\n",
              "      <th>Credit_History</th>\n",
              "      <th>Property_Area</th>\n",
              "      <th>Loan_Status</th>\n",
              "    </tr>\n",
              "  </thead>\n",
              "  <tbody>\n",
              "    <tr>\n",
              "      <th>104</th>\n",
              "      <td>1.0</td>\n",
              "      <td>NaN</td>\n",
              "      <td>NaN</td>\n",
              "      <td>1</td>\n",
              "      <td>0.0</td>\n",
              "      <td>3816</td>\n",
              "      <td>754.0</td>\n",
              "      <td>160.0</td>\n",
              "      <td>360.0</td>\n",
              "      <td>1.0</td>\n",
              "      <td>2</td>\n",
              "      <td>1</td>\n",
              "    </tr>\n",
              "    <tr>\n",
              "      <th>228</th>\n",
              "      <td>1.0</td>\n",
              "      <td>NaN</td>\n",
              "      <td>NaN</td>\n",
              "      <td>1</td>\n",
              "      <td>0.0</td>\n",
              "      <td>4758</td>\n",
              "      <td>0.0</td>\n",
              "      <td>158.0</td>\n",
              "      <td>480.0</td>\n",
              "      <td>1.0</td>\n",
              "      <td>1</td>\n",
              "      <td>1</td>\n",
              "    </tr>\n",
              "    <tr>\n",
              "      <th>435</th>\n",
              "      <td>0.0</td>\n",
              "      <td>NaN</td>\n",
              "      <td>NaN</td>\n",
              "      <td>1</td>\n",
              "      <td>0.0</td>\n",
              "      <td>10047</td>\n",
              "      <td>0.0</td>\n",
              "      <td>NaN</td>\n",
              "      <td>240.0</td>\n",
              "      <td>1.0</td>\n",
              "      <td>1</td>\n",
              "      <td>1</td>\n",
              "    </tr>\n",
              "  </tbody>\n",
              "</table>\n",
              "</div>\n",
              "      <button class=\"colab-df-convert\" onclick=\"convertToInteractive('df-4368c7ee-75ca-4966-8243-0bc40c59cdb3')\"\n",
              "              title=\"Convert this dataframe to an interactive table.\"\n",
              "              style=\"display:none;\">\n",
              "        \n",
              "  <svg xmlns=\"http://www.w3.org/2000/svg\" height=\"24px\"viewBox=\"0 0 24 24\"\n",
              "       width=\"24px\">\n",
              "    <path d=\"M0 0h24v24H0V0z\" fill=\"none\"/>\n",
              "    <path d=\"M18.56 5.44l.94 2.06.94-2.06 2.06-.94-2.06-.94-.94-2.06-.94 2.06-2.06.94zm-11 1L8.5 8.5l.94-2.06 2.06-.94-2.06-.94L8.5 2.5l-.94 2.06-2.06.94zm10 10l.94 2.06.94-2.06 2.06-.94-2.06-.94-.94-2.06-.94 2.06-2.06.94z\"/><path d=\"M17.41 7.96l-1.37-1.37c-.4-.4-.92-.59-1.43-.59-.52 0-1.04.2-1.43.59L10.3 9.45l-7.72 7.72c-.78.78-.78 2.05 0 2.83L4 21.41c.39.39.9.59 1.41.59.51 0 1.02-.2 1.41-.59l7.78-7.78 2.81-2.81c.8-.78.8-2.07 0-2.86zM5.41 20L4 18.59l7.72-7.72 1.47 1.35L5.41 20z\"/>\n",
              "  </svg>\n",
              "      </button>\n",
              "      \n",
              "  <style>\n",
              "    .colab-df-container {\n",
              "      display:flex;\n",
              "      flex-wrap:wrap;\n",
              "      gap: 12px;\n",
              "    }\n",
              "\n",
              "    .colab-df-convert {\n",
              "      background-color: #E8F0FE;\n",
              "      border: none;\n",
              "      border-radius: 50%;\n",
              "      cursor: pointer;\n",
              "      display: none;\n",
              "      fill: #1967D2;\n",
              "      height: 32px;\n",
              "      padding: 0 0 0 0;\n",
              "      width: 32px;\n",
              "    }\n",
              "\n",
              "    .colab-df-convert:hover {\n",
              "      background-color: #E2EBFA;\n",
              "      box-shadow: 0px 1px 2px rgba(60, 64, 67, 0.3), 0px 1px 3px 1px rgba(60, 64, 67, 0.15);\n",
              "      fill: #174EA6;\n",
              "    }\n",
              "\n",
              "    [theme=dark] .colab-df-convert {\n",
              "      background-color: #3B4455;\n",
              "      fill: #D2E3FC;\n",
              "    }\n",
              "\n",
              "    [theme=dark] .colab-df-convert:hover {\n",
              "      background-color: #434B5C;\n",
              "      box-shadow: 0px 1px 3px 1px rgba(0, 0, 0, 0.15);\n",
              "      filter: drop-shadow(0px 1px 2px rgba(0, 0, 0, 0.3));\n",
              "      fill: #FFFFFF;\n",
              "    }\n",
              "  </style>\n",
              "\n",
              "      <script>\n",
              "        const buttonEl =\n",
              "          document.querySelector('#df-4368c7ee-75ca-4966-8243-0bc40c59cdb3 button.colab-df-convert');\n",
              "        buttonEl.style.display =\n",
              "          google.colab.kernel.accessAllowed ? 'block' : 'none';\n",
              "\n",
              "        async function convertToInteractive(key) {\n",
              "          const element = document.querySelector('#df-4368c7ee-75ca-4966-8243-0bc40c59cdb3');\n",
              "          const dataTable =\n",
              "            await google.colab.kernel.invokeFunction('convertToInteractive',\n",
              "                                                     [key], {});\n",
              "          if (!dataTable) return;\n",
              "\n",
              "          const docLinkHtml = 'Like what you see? Visit the ' +\n",
              "            '<a target=\"_blank\" href=https://colab.research.google.com/notebooks/data_table.ipynb>data table notebook</a>'\n",
              "            + ' to learn more about interactive tables.';\n",
              "          element.innerHTML = '';\n",
              "          dataTable['output_type'] = 'display_data';\n",
              "          await google.colab.output.renderOutput(dataTable, element);\n",
              "          const docLink = document.createElement('div');\n",
              "          docLink.innerHTML = docLinkHtml;\n",
              "          element.appendChild(docLink);\n",
              "        }\n",
              "      </script>\n",
              "    </div>\n",
              "  </div>\n",
              "  "
            ],
            "text/plain": [
              "     Gender  Married  Dependents  ...  Credit_History  Property_Area  Loan_Status\n",
              "104     1.0      NaN         NaN  ...             1.0              2            1\n",
              "228     1.0      NaN         NaN  ...             1.0              1            1\n",
              "435     0.0      NaN         NaN  ...             1.0              1            1\n",
              "\n",
              "[3 rows x 12 columns]"
            ]
          },
          "metadata": {},
          "execution_count": 34
        }
      ]
    },
    {
      "cell_type": "code",
      "source": [
        "df.drop([104,228,435],inplace=True)"
      ],
      "metadata": {
        "id": "0V5-rSng8im6"
      },
      "execution_count": 35,
      "outputs": []
    },
    {
      "cell_type": "code",
      "source": [
        "df['Married'].isna().sum()"
      ],
      "metadata": {
        "id": "TVzCE9jb8ikf",
        "colab": {
          "base_uri": "https://localhost:8080/"
        },
        "outputId": "076676ca-bd05-422a-c1e4-bf9adb3433d4"
      },
      "execution_count": 36,
      "outputs": [
        {
          "output_type": "execute_result",
          "data": {
            "text/plain": [
              "0"
            ]
          },
          "metadata": {},
          "execution_count": 36
        }
      ]
    },
    {
      "cell_type": "code",
      "source": [
        "#Dropping null rows of column Dependents           \n",
        "df[df['Dependents'].isna()]"
      ],
      "metadata": {
        "id": "IURqQz3J8iiB",
        "colab": {
          "base_uri": "https://localhost:8080/",
          "height": 425
        },
        "outputId": "273bef4b-e7f5-4628-c615-9619b29e4b5b"
      },
      "execution_count": 37,
      "outputs": [
        {
          "output_type": "execute_result",
          "data": {
            "text/html": [
              "\n",
              "  <div id=\"df-206d8380-7ffd-4414-a6a1-26157e04b907\">\n",
              "    <div class=\"colab-df-container\">\n",
              "      <div>\n",
              "<style scoped>\n",
              "    .dataframe tbody tr th:only-of-type {\n",
              "        vertical-align: middle;\n",
              "    }\n",
              "\n",
              "    .dataframe tbody tr th {\n",
              "        vertical-align: top;\n",
              "    }\n",
              "\n",
              "    .dataframe thead th {\n",
              "        text-align: right;\n",
              "    }\n",
              "</style>\n",
              "<table border=\"1\" class=\"dataframe\">\n",
              "  <thead>\n",
              "    <tr style=\"text-align: right;\">\n",
              "      <th></th>\n",
              "      <th>Gender</th>\n",
              "      <th>Married</th>\n",
              "      <th>Dependents</th>\n",
              "      <th>Education</th>\n",
              "      <th>Self_Employed</th>\n",
              "      <th>ApplicantIncome</th>\n",
              "      <th>CoapplicantIncome</th>\n",
              "      <th>LoanAmount</th>\n",
              "      <th>Loan_Amount_Term</th>\n",
              "      <th>Credit_History</th>\n",
              "      <th>Property_Area</th>\n",
              "      <th>Loan_Status</th>\n",
              "    </tr>\n",
              "  </thead>\n",
              "  <tbody>\n",
              "    <tr>\n",
              "      <th>102</th>\n",
              "      <td>1.0</td>\n",
              "      <td>1.0</td>\n",
              "      <td>NaN</td>\n",
              "      <td>1</td>\n",
              "      <td>0.0</td>\n",
              "      <td>13650</td>\n",
              "      <td>0.0</td>\n",
              "      <td>NaN</td>\n",
              "      <td>360.0</td>\n",
              "      <td>1.0</td>\n",
              "      <td>2</td>\n",
              "      <td>1</td>\n",
              "    </tr>\n",
              "    <tr>\n",
              "      <th>120</th>\n",
              "      <td>1.0</td>\n",
              "      <td>1.0</td>\n",
              "      <td>NaN</td>\n",
              "      <td>1</td>\n",
              "      <td>0.0</td>\n",
              "      <td>5667</td>\n",
              "      <td>2667.0</td>\n",
              "      <td>180.0</td>\n",
              "      <td>360.0</td>\n",
              "      <td>1.0</td>\n",
              "      <td>0</td>\n",
              "      <td>1</td>\n",
              "    </tr>\n",
              "    <tr>\n",
              "      <th>226</th>\n",
              "      <td>1.0</td>\n",
              "      <td>1.0</td>\n",
              "      <td>NaN</td>\n",
              "      <td>0</td>\n",
              "      <td>1.0</td>\n",
              "      <td>4735</td>\n",
              "      <td>0.0</td>\n",
              "      <td>138.0</td>\n",
              "      <td>360.0</td>\n",
              "      <td>1.0</td>\n",
              "      <td>2</td>\n",
              "      <td>0</td>\n",
              "    </tr>\n",
              "    <tr>\n",
              "      <th>293</th>\n",
              "      <td>0.0</td>\n",
              "      <td>0.0</td>\n",
              "      <td>NaN</td>\n",
              "      <td>1</td>\n",
              "      <td>0.0</td>\n",
              "      <td>5417</td>\n",
              "      <td>0.0</td>\n",
              "      <td>143.0</td>\n",
              "      <td>480.0</td>\n",
              "      <td>0.0</td>\n",
              "      <td>2</td>\n",
              "      <td>0</td>\n",
              "    </tr>\n",
              "    <tr>\n",
              "      <th>301</th>\n",
              "      <td>1.0</td>\n",
              "      <td>1.0</td>\n",
              "      <td>NaN</td>\n",
              "      <td>0</td>\n",
              "      <td>0.0</td>\n",
              "      <td>2875</td>\n",
              "      <td>1750.0</td>\n",
              "      <td>105.0</td>\n",
              "      <td>360.0</td>\n",
              "      <td>1.0</td>\n",
              "      <td>1</td>\n",
              "      <td>1</td>\n",
              "    </tr>\n",
              "    <tr>\n",
              "      <th>332</th>\n",
              "      <td>1.0</td>\n",
              "      <td>0.0</td>\n",
              "      <td>NaN</td>\n",
              "      <td>1</td>\n",
              "      <td>0.0</td>\n",
              "      <td>2833</td>\n",
              "      <td>0.0</td>\n",
              "      <td>71.0</td>\n",
              "      <td>360.0</td>\n",
              "      <td>1.0</td>\n",
              "      <td>2</td>\n",
              "      <td>1</td>\n",
              "    </tr>\n",
              "    <tr>\n",
              "      <th>335</th>\n",
              "      <td>1.0</td>\n",
              "      <td>1.0</td>\n",
              "      <td>NaN</td>\n",
              "      <td>1</td>\n",
              "      <td>1.0</td>\n",
              "      <td>5503</td>\n",
              "      <td>4490.0</td>\n",
              "      <td>70.0</td>\n",
              "      <td>NaN</td>\n",
              "      <td>1.0</td>\n",
              "      <td>1</td>\n",
              "      <td>1</td>\n",
              "    </tr>\n",
              "    <tr>\n",
              "      <th>346</th>\n",
              "      <td>1.0</td>\n",
              "      <td>1.0</td>\n",
              "      <td>NaN</td>\n",
              "      <td>0</td>\n",
              "      <td>0.0</td>\n",
              "      <td>3523</td>\n",
              "      <td>3230.0</td>\n",
              "      <td>152.0</td>\n",
              "      <td>360.0</td>\n",
              "      <td>0.0</td>\n",
              "      <td>0</td>\n",
              "      <td>0</td>\n",
              "    </tr>\n",
              "    <tr>\n",
              "      <th>355</th>\n",
              "      <td>0.0</td>\n",
              "      <td>0.0</td>\n",
              "      <td>NaN</td>\n",
              "      <td>1</td>\n",
              "      <td>0.0</td>\n",
              "      <td>3813</td>\n",
              "      <td>0.0</td>\n",
              "      <td>116.0</td>\n",
              "      <td>180.0</td>\n",
              "      <td>1.0</td>\n",
              "      <td>2</td>\n",
              "      <td>1</td>\n",
              "    </tr>\n",
              "    <tr>\n",
              "      <th>517</th>\n",
              "      <td>1.0</td>\n",
              "      <td>1.0</td>\n",
              "      <td>NaN</td>\n",
              "      <td>0</td>\n",
              "      <td>0.0</td>\n",
              "      <td>3074</td>\n",
              "      <td>1800.0</td>\n",
              "      <td>123.0</td>\n",
              "      <td>360.0</td>\n",
              "      <td>0.0</td>\n",
              "      <td>1</td>\n",
              "      <td>0</td>\n",
              "    </tr>\n",
              "    <tr>\n",
              "      <th>571</th>\n",
              "      <td>1.0</td>\n",
              "      <td>1.0</td>\n",
              "      <td>NaN</td>\n",
              "      <td>1</td>\n",
              "      <td>0.0</td>\n",
              "      <td>5116</td>\n",
              "      <td>1451.0</td>\n",
              "      <td>165.0</td>\n",
              "      <td>360.0</td>\n",
              "      <td>0.0</td>\n",
              "      <td>2</td>\n",
              "      <td>0</td>\n",
              "    </tr>\n",
              "    <tr>\n",
              "      <th>597</th>\n",
              "      <td>1.0</td>\n",
              "      <td>0.0</td>\n",
              "      <td>NaN</td>\n",
              "      <td>1</td>\n",
              "      <td>0.0</td>\n",
              "      <td>2987</td>\n",
              "      <td>0.0</td>\n",
              "      <td>88.0</td>\n",
              "      <td>360.0</td>\n",
              "      <td>0.0</td>\n",
              "      <td>1</td>\n",
              "      <td>0</td>\n",
              "    </tr>\n",
              "  </tbody>\n",
              "</table>\n",
              "</div>\n",
              "      <button class=\"colab-df-convert\" onclick=\"convertToInteractive('df-206d8380-7ffd-4414-a6a1-26157e04b907')\"\n",
              "              title=\"Convert this dataframe to an interactive table.\"\n",
              "              style=\"display:none;\">\n",
              "        \n",
              "  <svg xmlns=\"http://www.w3.org/2000/svg\" height=\"24px\"viewBox=\"0 0 24 24\"\n",
              "       width=\"24px\">\n",
              "    <path d=\"M0 0h24v24H0V0z\" fill=\"none\"/>\n",
              "    <path d=\"M18.56 5.44l.94 2.06.94-2.06 2.06-.94-2.06-.94-.94-2.06-.94 2.06-2.06.94zm-11 1L8.5 8.5l.94-2.06 2.06-.94-2.06-.94L8.5 2.5l-.94 2.06-2.06.94zm10 10l.94 2.06.94-2.06 2.06-.94-2.06-.94-.94-2.06-.94 2.06-2.06.94z\"/><path d=\"M17.41 7.96l-1.37-1.37c-.4-.4-.92-.59-1.43-.59-.52 0-1.04.2-1.43.59L10.3 9.45l-7.72 7.72c-.78.78-.78 2.05 0 2.83L4 21.41c.39.39.9.59 1.41.59.51 0 1.02-.2 1.41-.59l7.78-7.78 2.81-2.81c.8-.78.8-2.07 0-2.86zM5.41 20L4 18.59l7.72-7.72 1.47 1.35L5.41 20z\"/>\n",
              "  </svg>\n",
              "      </button>\n",
              "      \n",
              "  <style>\n",
              "    .colab-df-container {\n",
              "      display:flex;\n",
              "      flex-wrap:wrap;\n",
              "      gap: 12px;\n",
              "    }\n",
              "\n",
              "    .colab-df-convert {\n",
              "      background-color: #E8F0FE;\n",
              "      border: none;\n",
              "      border-radius: 50%;\n",
              "      cursor: pointer;\n",
              "      display: none;\n",
              "      fill: #1967D2;\n",
              "      height: 32px;\n",
              "      padding: 0 0 0 0;\n",
              "      width: 32px;\n",
              "    }\n",
              "\n",
              "    .colab-df-convert:hover {\n",
              "      background-color: #E2EBFA;\n",
              "      box-shadow: 0px 1px 2px rgba(60, 64, 67, 0.3), 0px 1px 3px 1px rgba(60, 64, 67, 0.15);\n",
              "      fill: #174EA6;\n",
              "    }\n",
              "\n",
              "    [theme=dark] .colab-df-convert {\n",
              "      background-color: #3B4455;\n",
              "      fill: #D2E3FC;\n",
              "    }\n",
              "\n",
              "    [theme=dark] .colab-df-convert:hover {\n",
              "      background-color: #434B5C;\n",
              "      box-shadow: 0px 1px 3px 1px rgba(0, 0, 0, 0.15);\n",
              "      filter: drop-shadow(0px 1px 2px rgba(0, 0, 0, 0.3));\n",
              "      fill: #FFFFFF;\n",
              "    }\n",
              "  </style>\n",
              "\n",
              "      <script>\n",
              "        const buttonEl =\n",
              "          document.querySelector('#df-206d8380-7ffd-4414-a6a1-26157e04b907 button.colab-df-convert');\n",
              "        buttonEl.style.display =\n",
              "          google.colab.kernel.accessAllowed ? 'block' : 'none';\n",
              "\n",
              "        async function convertToInteractive(key) {\n",
              "          const element = document.querySelector('#df-206d8380-7ffd-4414-a6a1-26157e04b907');\n",
              "          const dataTable =\n",
              "            await google.colab.kernel.invokeFunction('convertToInteractive',\n",
              "                                                     [key], {});\n",
              "          if (!dataTable) return;\n",
              "\n",
              "          const docLinkHtml = 'Like what you see? Visit the ' +\n",
              "            '<a target=\"_blank\" href=https://colab.research.google.com/notebooks/data_table.ipynb>data table notebook</a>'\n",
              "            + ' to learn more about interactive tables.';\n",
              "          element.innerHTML = '';\n",
              "          dataTable['output_type'] = 'display_data';\n",
              "          await google.colab.output.renderOutput(dataTable, element);\n",
              "          const docLink = document.createElement('div');\n",
              "          docLink.innerHTML = docLinkHtml;\n",
              "          element.appendChild(docLink);\n",
              "        }\n",
              "      </script>\n",
              "    </div>\n",
              "  </div>\n",
              "  "
            ],
            "text/plain": [
              "     Gender  Married  Dependents  ...  Credit_History  Property_Area  Loan_Status\n",
              "102     1.0      1.0         NaN  ...             1.0              2            1\n",
              "120     1.0      1.0         NaN  ...             1.0              0            1\n",
              "226     1.0      1.0         NaN  ...             1.0              2            0\n",
              "293     0.0      0.0         NaN  ...             0.0              2            0\n",
              "301     1.0      1.0         NaN  ...             1.0              1            1\n",
              "332     1.0      0.0         NaN  ...             1.0              2            1\n",
              "335     1.0      1.0         NaN  ...             1.0              1            1\n",
              "346     1.0      1.0         NaN  ...             0.0              0            0\n",
              "355     0.0      0.0         NaN  ...             1.0              2            1\n",
              "517     1.0      1.0         NaN  ...             0.0              1            0\n",
              "571     1.0      1.0         NaN  ...             0.0              2            0\n",
              "597     1.0      0.0         NaN  ...             0.0              1            0\n",
              "\n",
              "[12 rows x 12 columns]"
            ]
          },
          "metadata": {},
          "execution_count": 37
        }
      ]
    },
    {
      "cell_type": "code",
      "source": [
        "df.drop([102,120,226,293,301,332,335,346,355,517,571,597],inplace=True)"
      ],
      "metadata": {
        "id": "OKK7npsV8ifm"
      },
      "execution_count": 38,
      "outputs": []
    },
    {
      "cell_type": "code",
      "source": [
        "df['Dependents'].isna().sum()"
      ],
      "metadata": {
        "id": "Cc6fML_j8ibH",
        "colab": {
          "base_uri": "https://localhost:8080/"
        },
        "outputId": "9df6eae7-35a4-4c7f-a5c7-ea6626c5d9d8"
      },
      "execution_count": 39,
      "outputs": [
        {
          "output_type": "execute_result",
          "data": {
            "text/plain": [
              "0"
            ]
          },
          "metadata": {},
          "execution_count": 39
        }
      ]
    },
    {
      "cell_type": "code",
      "source": [
        "#Dropping null rows of Loan_Amount_Term                \n",
        "df[df['Loan_Amount_Term'].isna()]"
      ],
      "metadata": {
        "id": "pYhjSnUU8iY1",
        "colab": {
          "base_uri": "https://localhost:8080/",
          "height": 456
        },
        "outputId": "9a275d13-eb1e-4ace-cd64-7e6fc9895f68"
      },
      "execution_count": 40,
      "outputs": [
        {
          "output_type": "execute_result",
          "data": {
            "text/html": [
              "\n",
              "  <div id=\"df-dc8b4f6f-d567-449e-a33b-1c5e90c2adfa\">\n",
              "    <div class=\"colab-df-container\">\n",
              "      <div>\n",
              "<style scoped>\n",
              "    .dataframe tbody tr th:only-of-type {\n",
              "        vertical-align: middle;\n",
              "    }\n",
              "\n",
              "    .dataframe tbody tr th {\n",
              "        vertical-align: top;\n",
              "    }\n",
              "\n",
              "    .dataframe thead th {\n",
              "        text-align: right;\n",
              "    }\n",
              "</style>\n",
              "<table border=\"1\" class=\"dataframe\">\n",
              "  <thead>\n",
              "    <tr style=\"text-align: right;\">\n",
              "      <th></th>\n",
              "      <th>Gender</th>\n",
              "      <th>Married</th>\n",
              "      <th>Dependents</th>\n",
              "      <th>Education</th>\n",
              "      <th>Self_Employed</th>\n",
              "      <th>ApplicantIncome</th>\n",
              "      <th>CoapplicantIncome</th>\n",
              "      <th>LoanAmount</th>\n",
              "      <th>Loan_Amount_Term</th>\n",
              "      <th>Credit_History</th>\n",
              "      <th>Property_Area</th>\n",
              "      <th>Loan_Status</th>\n",
              "    </tr>\n",
              "  </thead>\n",
              "  <tbody>\n",
              "    <tr>\n",
              "      <th>19</th>\n",
              "      <td>1.0</td>\n",
              "      <td>1.0</td>\n",
              "      <td>0.0</td>\n",
              "      <td>1</td>\n",
              "      <td>NaN</td>\n",
              "      <td>2600</td>\n",
              "      <td>3500.0</td>\n",
              "      <td>115.0</td>\n",
              "      <td>NaN</td>\n",
              "      <td>1.0</td>\n",
              "      <td>2</td>\n",
              "      <td>1</td>\n",
              "    </tr>\n",
              "    <tr>\n",
              "      <th>36</th>\n",
              "      <td>1.0</td>\n",
              "      <td>1.0</td>\n",
              "      <td>0.0</td>\n",
              "      <td>1</td>\n",
              "      <td>0.0</td>\n",
              "      <td>1828</td>\n",
              "      <td>1330.0</td>\n",
              "      <td>100.0</td>\n",
              "      <td>NaN</td>\n",
              "      <td>0.0</td>\n",
              "      <td>2</td>\n",
              "      <td>0</td>\n",
              "    </tr>\n",
              "    <tr>\n",
              "      <th>44</th>\n",
              "      <td>1.0</td>\n",
              "      <td>1.0</td>\n",
              "      <td>0.0</td>\n",
              "      <td>0</td>\n",
              "      <td>1.0</td>\n",
              "      <td>4695</td>\n",
              "      <td>0.0</td>\n",
              "      <td>96.0</td>\n",
              "      <td>NaN</td>\n",
              "      <td>1.0</td>\n",
              "      <td>2</td>\n",
              "      <td>1</td>\n",
              "    </tr>\n",
              "    <tr>\n",
              "      <th>45</th>\n",
              "      <td>0.0</td>\n",
              "      <td>0.0</td>\n",
              "      <td>0.0</td>\n",
              "      <td>1</td>\n",
              "      <td>0.0</td>\n",
              "      <td>3410</td>\n",
              "      <td>0.0</td>\n",
              "      <td>88.0</td>\n",
              "      <td>NaN</td>\n",
              "      <td>1.0</td>\n",
              "      <td>2</td>\n",
              "      <td>1</td>\n",
              "    </tr>\n",
              "    <tr>\n",
              "      <th>73</th>\n",
              "      <td>1.0</td>\n",
              "      <td>1.0</td>\n",
              "      <td>3.0</td>\n",
              "      <td>0</td>\n",
              "      <td>0.0</td>\n",
              "      <td>4755</td>\n",
              "      <td>0.0</td>\n",
              "      <td>95.0</td>\n",
              "      <td>NaN</td>\n",
              "      <td>0.0</td>\n",
              "      <td>1</td>\n",
              "      <td>0</td>\n",
              "    </tr>\n",
              "    <tr>\n",
              "      <th>112</th>\n",
              "      <td>1.0</td>\n",
              "      <td>1.0</td>\n",
              "      <td>0.0</td>\n",
              "      <td>0</td>\n",
              "      <td>0.0</td>\n",
              "      <td>3572</td>\n",
              "      <td>4114.0</td>\n",
              "      <td>152.0</td>\n",
              "      <td>NaN</td>\n",
              "      <td>0.0</td>\n",
              "      <td>0</td>\n",
              "      <td>0</td>\n",
              "    </tr>\n",
              "    <tr>\n",
              "      <th>165</th>\n",
              "      <td>1.0</td>\n",
              "      <td>1.0</td>\n",
              "      <td>0.0</td>\n",
              "      <td>1</td>\n",
              "      <td>0.0</td>\n",
              "      <td>3707</td>\n",
              "      <td>3166.0</td>\n",
              "      <td>182.0</td>\n",
              "      <td>NaN</td>\n",
              "      <td>1.0</td>\n",
              "      <td>0</td>\n",
              "      <td>1</td>\n",
              "    </tr>\n",
              "    <tr>\n",
              "      <th>197</th>\n",
              "      <td>0.0</td>\n",
              "      <td>0.0</td>\n",
              "      <td>0.0</td>\n",
              "      <td>0</td>\n",
              "      <td>0.0</td>\n",
              "      <td>1907</td>\n",
              "      <td>2365.0</td>\n",
              "      <td>120.0</td>\n",
              "      <td>NaN</td>\n",
              "      <td>1.0</td>\n",
              "      <td>2</td>\n",
              "      <td>1</td>\n",
              "    </tr>\n",
              "    <tr>\n",
              "      <th>223</th>\n",
              "      <td>1.0</td>\n",
              "      <td>1.0</td>\n",
              "      <td>0.0</td>\n",
              "      <td>1</td>\n",
              "      <td>0.0</td>\n",
              "      <td>7578</td>\n",
              "      <td>1010.0</td>\n",
              "      <td>175.0</td>\n",
              "      <td>NaN</td>\n",
              "      <td>1.0</td>\n",
              "      <td>1</td>\n",
              "      <td>1</td>\n",
              "    </tr>\n",
              "    <tr>\n",
              "      <th>232</th>\n",
              "      <td>1.0</td>\n",
              "      <td>0.0</td>\n",
              "      <td>0.0</td>\n",
              "      <td>0</td>\n",
              "      <td>0.0</td>\n",
              "      <td>3189</td>\n",
              "      <td>2598.0</td>\n",
              "      <td>120.0</td>\n",
              "      <td>NaN</td>\n",
              "      <td>1.0</td>\n",
              "      <td>0</td>\n",
              "      <td>1</td>\n",
              "    </tr>\n",
              "    <tr>\n",
              "      <th>367</th>\n",
              "      <td>1.0</td>\n",
              "      <td>0.0</td>\n",
              "      <td>0.0</td>\n",
              "      <td>1</td>\n",
              "      <td>0.0</td>\n",
              "      <td>5124</td>\n",
              "      <td>0.0</td>\n",
              "      <td>124.0</td>\n",
              "      <td>NaN</td>\n",
              "      <td>0.0</td>\n",
              "      <td>0</td>\n",
              "      <td>0</td>\n",
              "    </tr>\n",
              "    <tr>\n",
              "      <th>421</th>\n",
              "      <td>0.0</td>\n",
              "      <td>0.0</td>\n",
              "      <td>0.0</td>\n",
              "      <td>0</td>\n",
              "      <td>0.0</td>\n",
              "      <td>2720</td>\n",
              "      <td>0.0</td>\n",
              "      <td>80.0</td>\n",
              "      <td>NaN</td>\n",
              "      <td>0.0</td>\n",
              "      <td>2</td>\n",
              "      <td>0</td>\n",
              "    </tr>\n",
              "    <tr>\n",
              "      <th>423</th>\n",
              "      <td>1.0</td>\n",
              "      <td>1.0</td>\n",
              "      <td>1.0</td>\n",
              "      <td>1</td>\n",
              "      <td>0.0</td>\n",
              "      <td>7250</td>\n",
              "      <td>1667.0</td>\n",
              "      <td>110.0</td>\n",
              "      <td>NaN</td>\n",
              "      <td>0.0</td>\n",
              "      <td>2</td>\n",
              "      <td>0</td>\n",
              "    </tr>\n",
              "  </tbody>\n",
              "</table>\n",
              "</div>\n",
              "      <button class=\"colab-df-convert\" onclick=\"convertToInteractive('df-dc8b4f6f-d567-449e-a33b-1c5e90c2adfa')\"\n",
              "              title=\"Convert this dataframe to an interactive table.\"\n",
              "              style=\"display:none;\">\n",
              "        \n",
              "  <svg xmlns=\"http://www.w3.org/2000/svg\" height=\"24px\"viewBox=\"0 0 24 24\"\n",
              "       width=\"24px\">\n",
              "    <path d=\"M0 0h24v24H0V0z\" fill=\"none\"/>\n",
              "    <path d=\"M18.56 5.44l.94 2.06.94-2.06 2.06-.94-2.06-.94-.94-2.06-.94 2.06-2.06.94zm-11 1L8.5 8.5l.94-2.06 2.06-.94-2.06-.94L8.5 2.5l-.94 2.06-2.06.94zm10 10l.94 2.06.94-2.06 2.06-.94-2.06-.94-.94-2.06-.94 2.06-2.06.94z\"/><path d=\"M17.41 7.96l-1.37-1.37c-.4-.4-.92-.59-1.43-.59-.52 0-1.04.2-1.43.59L10.3 9.45l-7.72 7.72c-.78.78-.78 2.05 0 2.83L4 21.41c.39.39.9.59 1.41.59.51 0 1.02-.2 1.41-.59l7.78-7.78 2.81-2.81c.8-.78.8-2.07 0-2.86zM5.41 20L4 18.59l7.72-7.72 1.47 1.35L5.41 20z\"/>\n",
              "  </svg>\n",
              "      </button>\n",
              "      \n",
              "  <style>\n",
              "    .colab-df-container {\n",
              "      display:flex;\n",
              "      flex-wrap:wrap;\n",
              "      gap: 12px;\n",
              "    }\n",
              "\n",
              "    .colab-df-convert {\n",
              "      background-color: #E8F0FE;\n",
              "      border: none;\n",
              "      border-radius: 50%;\n",
              "      cursor: pointer;\n",
              "      display: none;\n",
              "      fill: #1967D2;\n",
              "      height: 32px;\n",
              "      padding: 0 0 0 0;\n",
              "      width: 32px;\n",
              "    }\n",
              "\n",
              "    .colab-df-convert:hover {\n",
              "      background-color: #E2EBFA;\n",
              "      box-shadow: 0px 1px 2px rgba(60, 64, 67, 0.3), 0px 1px 3px 1px rgba(60, 64, 67, 0.15);\n",
              "      fill: #174EA6;\n",
              "    }\n",
              "\n",
              "    [theme=dark] .colab-df-convert {\n",
              "      background-color: #3B4455;\n",
              "      fill: #D2E3FC;\n",
              "    }\n",
              "\n",
              "    [theme=dark] .colab-df-convert:hover {\n",
              "      background-color: #434B5C;\n",
              "      box-shadow: 0px 1px 3px 1px rgba(0, 0, 0, 0.15);\n",
              "      filter: drop-shadow(0px 1px 2px rgba(0, 0, 0, 0.3));\n",
              "      fill: #FFFFFF;\n",
              "    }\n",
              "  </style>\n",
              "\n",
              "      <script>\n",
              "        const buttonEl =\n",
              "          document.querySelector('#df-dc8b4f6f-d567-449e-a33b-1c5e90c2adfa button.colab-df-convert');\n",
              "        buttonEl.style.display =\n",
              "          google.colab.kernel.accessAllowed ? 'block' : 'none';\n",
              "\n",
              "        async function convertToInteractive(key) {\n",
              "          const element = document.querySelector('#df-dc8b4f6f-d567-449e-a33b-1c5e90c2adfa');\n",
              "          const dataTable =\n",
              "            await google.colab.kernel.invokeFunction('convertToInteractive',\n",
              "                                                     [key], {});\n",
              "          if (!dataTable) return;\n",
              "\n",
              "          const docLinkHtml = 'Like what you see? Visit the ' +\n",
              "            '<a target=\"_blank\" href=https://colab.research.google.com/notebooks/data_table.ipynb>data table notebook</a>'\n",
              "            + ' to learn more about interactive tables.';\n",
              "          element.innerHTML = '';\n",
              "          dataTable['output_type'] = 'display_data';\n",
              "          await google.colab.output.renderOutput(dataTable, element);\n",
              "          const docLink = document.createElement('div');\n",
              "          docLink.innerHTML = docLinkHtml;\n",
              "          element.appendChild(docLink);\n",
              "        }\n",
              "      </script>\n",
              "    </div>\n",
              "  </div>\n",
              "  "
            ],
            "text/plain": [
              "     Gender  Married  Dependents  ...  Credit_History  Property_Area  Loan_Status\n",
              "19      1.0      1.0         0.0  ...             1.0              2            1\n",
              "36      1.0      1.0         0.0  ...             0.0              2            0\n",
              "44      1.0      1.0         0.0  ...             1.0              2            1\n",
              "45      0.0      0.0         0.0  ...             1.0              2            1\n",
              "73      1.0      1.0         3.0  ...             0.0              1            0\n",
              "112     1.0      1.0         0.0  ...             0.0              0            0\n",
              "165     1.0      1.0         0.0  ...             1.0              0            1\n",
              "197     0.0      0.0         0.0  ...             1.0              2            1\n",
              "223     1.0      1.0         0.0  ...             1.0              1            1\n",
              "232     1.0      0.0         0.0  ...             1.0              0            1\n",
              "367     1.0      0.0         0.0  ...             0.0              0            0\n",
              "421     0.0      0.0         0.0  ...             0.0              2            0\n",
              "423     1.0      1.0         1.0  ...             0.0              2            0\n",
              "\n",
              "[13 rows x 12 columns]"
            ]
          },
          "metadata": {},
          "execution_count": 40
        }
      ]
    },
    {
      "cell_type": "code",
      "source": [
        "df.drop([19,36,44,45,73,112,165,197,223,232,367,421,423],inplace=True)"
      ],
      "metadata": {
        "id": "L5nb6_pl8iWc"
      },
      "execution_count": 41,
      "outputs": []
    },
    {
      "cell_type": "code",
      "source": [
        "df['Loan_Amount_Term'].isna().sum()"
      ],
      "metadata": {
        "id": "ky-KTdbh9MIU",
        "colab": {
          "base_uri": "https://localhost:8080/"
        },
        "outputId": "37869970-715e-4604-86ca-67ff43b6bd67"
      },
      "execution_count": 42,
      "outputs": [
        {
          "output_type": "execute_result",
          "data": {
            "text/plain": [
              "0"
            ]
          },
          "metadata": {},
          "execution_count": 42
        }
      ]
    },
    {
      "cell_type": "markdown",
      "source": [
        "#### Filling null values of column LoanAmount by mean\n",
        "\n"
      ],
      "metadata": {
        "id": "wNnFgnlnHGEE"
      }
    },
    {
      "cell_type": "code",
      "source": [
        "#Imputing column LoanAmount\n",
        "df['LoanAmount'].isna().sum()"
      ],
      "metadata": {
        "id": "os6mfvE_KIky",
        "colab": {
          "base_uri": "https://localhost:8080/"
        },
        "outputId": "e9069c82-cdaa-4cb8-fa64-f5eee0d82184"
      },
      "execution_count": 43,
      "outputs": [
        {
          "output_type": "execute_result",
          "data": {
            "text/plain": [
              "20"
            ]
          },
          "metadata": {},
          "execution_count": 43
        }
      ]
    },
    {
      "cell_type": "code",
      "source": [
        "LAmean = df['LoanAmount'].mean()\n",
        "df['LoanAmount'].fillna(LAmean, inplace=True)"
      ],
      "metadata": {
        "id": "feYdHMMFKIf2"
      },
      "execution_count": 44,
      "outputs": []
    },
    {
      "cell_type": "code",
      "source": [
        "df['LoanAmount'].isna().sum()"
      ],
      "metadata": {
        "id": "STvVP-AYKS5k",
        "colab": {
          "base_uri": "https://localhost:8080/"
        },
        "outputId": "dcd0404a-c279-408e-a71d-9f60772dc83a"
      },
      "execution_count": 45,
      "outputs": [
        {
          "output_type": "execute_result",
          "data": {
            "text/plain": [
              "0"
            ]
          },
          "metadata": {},
          "execution_count": 45
        }
      ]
    },
    {
      "cell_type": "code",
      "source": [
        "df = df.dropna(axis=0, subset=['Self_Employed'])"
      ],
      "metadata": {
        "id": "p-TUuAcxkLxd"
      },
      "execution_count": 46,
      "outputs": []
    },
    {
      "cell_type": "code",
      "source": [
        "df.isna().sum()"
      ],
      "metadata": {
        "id": "ncm0NyGl9MGY",
        "colab": {
          "base_uri": "https://localhost:8080/"
        },
        "outputId": "e87318d2-9896-4292-b681-ed3f8aa3f987"
      },
      "execution_count": 47,
      "outputs": [
        {
          "output_type": "execute_result",
          "data": {
            "text/plain": [
              "Gender                0\n",
              "Married               0\n",
              "Dependents            0\n",
              "Education             0\n",
              "Self_Employed         0\n",
              "ApplicantIncome       0\n",
              "CoapplicantIncome     0\n",
              "LoanAmount            0\n",
              "Loan_Amount_Term      0\n",
              "Credit_History       43\n",
              "Property_Area         0\n",
              "Loan_Status           0\n",
              "dtype: int64"
            ]
          },
          "metadata": {},
          "execution_count": 47
        }
      ]
    },
    {
      "cell_type": "markdown",
      "source": [
        "- Credit_History has highest corr value with target.\n",
        "- There are 8.14 % null values in the column, so will should fill null values instead of dropping rows. Also, this column has categorical data.\n",
        "- Trying to fill null values by predicting them using KNN model.\n",
        "#### Filling null values of Crdit_History column by prediction using KNN algorithm"
      ],
      "metadata": {
        "id": "TvkZmKUzldU-"
      }
    },
    {
      "cell_type": "code",
      "source": [
        "# Created new dataframe without null values of credit_history\n",
        "df_CRHS = df.dropna(axis=0, subset=['Credit_History'])"
      ],
      "metadata": {
        "id": "LmSw5QCrQ8I1"
      },
      "execution_count": 48,
      "outputs": []
    },
    {
      "cell_type": "code",
      "source": [
        "df_CRHS.isna().sum()"
      ],
      "metadata": {
        "id": "UopgrS79TQKs",
        "colab": {
          "base_uri": "https://localhost:8080/"
        },
        "outputId": "3fd67acc-6d84-4e7b-c2dd-4b111c766d1e"
      },
      "execution_count": 49,
      "outputs": [
        {
          "output_type": "execute_result",
          "data": {
            "text/plain": [
              "Gender               0\n",
              "Married              0\n",
              "Dependents           0\n",
              "Education            0\n",
              "Self_Employed        0\n",
              "ApplicantIncome      0\n",
              "CoapplicantIncome    0\n",
              "LoanAmount           0\n",
              "Loan_Amount_Term     0\n",
              "Credit_History       0\n",
              "Property_Area        0\n",
              "Loan_Status          0\n",
              "dtype: int64"
            ]
          },
          "metadata": {},
          "execution_count": 49
        }
      ]
    },
    {
      "cell_type": "code",
      "source": [
        "# Seperated Credit_History column for making predictions\n",
        "x_crhs = df_CRHS.iloc[:,[0,1,2,3,4,5,6,7,8,10,11]]\n",
        "y_crhs = df_CRHS.iloc[:,9]"
      ],
      "metadata": {
        "id": "zoDD-4sr9L7C"
      },
      "execution_count": 50,
      "outputs": []
    },
    {
      "cell_type": "code",
      "source": [
        "from sklearn.model_selection import train_test_split\n",
        "x_ctrain, x_ctest, y_ctrain, y_ctest = train_test_split(x_crhs,y_crhs, test_size = 0.3, random_state=1)"
      ],
      "metadata": {
        "id": "_LtPvkHc9L4n"
      },
      "execution_count": 51,
      "outputs": []
    },
    {
      "cell_type": "code",
      "source": [
        "from sklearn.neighbors import KNeighborsClassifier\n",
        "knn_c = KNeighborsClassifier(n_neighbors=9)\n",
        "knn_c.fit(x_ctrain,y_ctrain)\n",
        "y_cpred = knn_c.predict(x_ctest)  \n",
        "\n",
        "from sklearn.metrics import accuracy_score,classification_report\n",
        "print(f\"Accuracy Score:{accuracy_score(y_ctest,y_cpred)}\\n\\n\")\n",
        "print(classification_report(y_ctest,y_cpred))"
      ],
      "metadata": {
        "id": "vuhhjj849L2k",
        "colab": {
          "base_uri": "https://localhost:8080/"
        },
        "outputId": "e68b55df-218b-4899-bf4f-f241e1075fce"
      },
      "execution_count": 52,
      "outputs": [
        {
          "output_type": "stream",
          "name": "stdout",
          "text": [
            "Accuracy Score:0.8466666666666667\n",
            "\n",
            "\n",
            "              precision    recall  f1-score   support\n",
            "\n",
            "         0.0       0.00      0.00      0.00        23\n",
            "         1.0       0.85      1.00      0.92       127\n",
            "\n",
            "    accuracy                           0.85       150\n",
            "   macro avg       0.42      0.50      0.46       150\n",
            "weighted avg       0.72      0.85      0.78       150\n",
            "\n"
          ]
        }
      ]
    },
    {
      "cell_type": "code",
      "source": [
        "#Predicting Null values of credit_history\n",
        "df_CRHS_new = df.iloc[:,:]"
      ],
      "metadata": {
        "id": "HSwLvHvaTyMS"
      },
      "execution_count": 53,
      "outputs": []
    },
    {
      "cell_type": "code",
      "source": [
        "df_CRHS_new.isna().sum()"
      ],
      "metadata": {
        "id": "PyVvW-xRT4Hq",
        "colab": {
          "base_uri": "https://localhost:8080/"
        },
        "outputId": "0c328a3a-7f54-4a59-b6c5-755a0bd0b13f"
      },
      "execution_count": 54,
      "outputs": [
        {
          "output_type": "execute_result",
          "data": {
            "text/plain": [
              "Gender                0\n",
              "Married               0\n",
              "Dependents            0\n",
              "Education             0\n",
              "Self_Employed         0\n",
              "ApplicantIncome       0\n",
              "CoapplicantIncome     0\n",
              "LoanAmount            0\n",
              "Loan_Amount_Term      0\n",
              "Credit_History       43\n",
              "Property_Area         0\n",
              "Loan_Status           0\n",
              "dtype: int64"
            ]
          },
          "metadata": {},
          "execution_count": 54
        }
      ]
    },
    {
      "cell_type": "code",
      "source": [
        "df_CRHS_new_test = df_CRHS_new[df_CRHS_new['Credit_History'].isna()]"
      ],
      "metadata": {
        "id": "A_fAvuRzT44n"
      },
      "execution_count": 55,
      "outputs": []
    },
    {
      "cell_type": "code",
      "source": [
        "x_df_CRHS_test = df_CRHS_new_test.iloc[:,[0,1,2,3,4,5,6,7,8,10,11]]\n",
        "y_df_CRHS_test = pd.DataFrame(df_CRHS_new_test.iloc[:,9])"
      ],
      "metadata": {
        "id": "-GZyAvf4VK_F"
      },
      "execution_count": 56,
      "outputs": []
    },
    {
      "cell_type": "code",
      "source": [
        "#Predicted NULL Values of Credit history\n",
        "y_df_CRHS_pred = knn_c.predict(x_df_CRHS_test)"
      ],
      "metadata": {
        "id": "bfkeoT3gViVA"
      },
      "execution_count": 57,
      "outputs": []
    },
    {
      "cell_type": "code",
      "source": [
        "y_df_CRHS_test['Credit_History'] = y_df_CRHS_pred"
      ],
      "metadata": {
        "id": "1idqdEAvbIAD"
      },
      "execution_count": 58,
      "outputs": []
    },
    {
      "cell_type": "code",
      "source": [
        "df_CRHS_fna = pd.concat( [x_df_CRHS_test, y_df_CRHS_test] , axis=1) #this is the dataset of Credit History without null values"
      ],
      "metadata": {
        "id": "6uX2XBftYKXS"
      },
      "execution_count": 59,
      "outputs": []
    },
    {
      "cell_type": "code",
      "source": [
        "x_df_CRHS_test.shape"
      ],
      "metadata": {
        "id": "A8osFcF9YyXr",
        "colab": {
          "base_uri": "https://localhost:8080/"
        },
        "outputId": "48f97f27-bc16-4b32-875d-ded648b83e9c"
      },
      "execution_count": 60,
      "outputs": [
        {
          "output_type": "execute_result",
          "data": {
            "text/plain": [
              "(43, 11)"
            ]
          },
          "metadata": {},
          "execution_count": 60
        }
      ]
    },
    {
      "cell_type": "code",
      "source": [
        "y_df_CRHS_test.shape"
      ],
      "metadata": {
        "id": "i-qyobBjb3dB",
        "colab": {
          "base_uri": "https://localhost:8080/"
        },
        "outputId": "87b12124-31ad-46fd-f66f-9f1b7e7daf86"
      },
      "execution_count": 61,
      "outputs": [
        {
          "output_type": "execute_result",
          "data": {
            "text/plain": [
              "(43, 1)"
            ]
          },
          "metadata": {},
          "execution_count": 61
        }
      ]
    },
    {
      "cell_type": "code",
      "source": [
        "df.shape"
      ],
      "metadata": {
        "id": "jaOoV97tv6cL",
        "colab": {
          "base_uri": "https://localhost:8080/"
        },
        "outputId": "4022eedf-69fc-4bb2-98ca-e0bfd4de07b4"
      },
      "execution_count": 62,
      "outputs": [
        {
          "output_type": "execute_result",
          "data": {
            "text/plain": [
              "(542, 12)"
            ]
          },
          "metadata": {},
          "execution_count": 62
        }
      ]
    },
    {
      "cell_type": "markdown",
      "source": [
        "- Splitting dataframe"
      ],
      "metadata": {
        "id": "v-g4tuy9chdB"
      }
    },
    {
      "cell_type": "code",
      "source": [
        "df_null = df[df['Credit_History'].isna()]"
      ],
      "metadata": {
        "id": "JgMGZ-i1clhW"
      },
      "execution_count": 63,
      "outputs": []
    },
    {
      "cell_type": "code",
      "source": [
        "mask = df.notnull() # this gives boolean values w.r.t null\n",
        "\n",
        "df_all = df.where(mask).dropna()"
      ],
      "metadata": {
        "id": "5IUszNiMfJcN"
      },
      "execution_count": 64,
      "outputs": []
    },
    {
      "cell_type": "code",
      "source": [
        "df_new = pd.concat([df_all, df_CRHS_fna], axis=0)"
      ],
      "metadata": {
        "id": "qAK3gLs_gCut"
      },
      "execution_count": 65,
      "outputs": []
    },
    {
      "cell_type": "code",
      "source": [
        "df_new.isna().sum()"
      ],
      "metadata": {
        "id": "nXOTBJcuhlW9",
        "colab": {
          "base_uri": "https://localhost:8080/"
        },
        "outputId": "e11cd52f-8d94-451e-9d12-2679a07a5414"
      },
      "execution_count": 66,
      "outputs": [
        {
          "output_type": "execute_result",
          "data": {
            "text/plain": [
              "Gender               0\n",
              "Married              0\n",
              "Dependents           0\n",
              "Education            0\n",
              "Self_Employed        0\n",
              "ApplicantIncome      0\n",
              "CoapplicantIncome    0\n",
              "LoanAmount           0\n",
              "Loan_Amount_Term     0\n",
              "Credit_History       0\n",
              "Property_Area        0\n",
              "Loan_Status          0\n",
              "dtype: int64"
            ]
          },
          "metadata": {},
          "execution_count": 66
        }
      ]
    },
    {
      "cell_type": "markdown",
      "source": [
        "#### - Finally we got dataframe without null values"
      ],
      "metadata": {
        "id": "9WThCMC1iEwK"
      }
    },
    {
      "cell_type": "code",
      "source": [
        "# Splitting data for training and testing\n",
        "x = df_new.iloc[:,:-1]\n",
        "y = df_new.iloc[:,-1]"
      ],
      "metadata": {
        "id": "ps00yLXawzNj"
      },
      "execution_count": 67,
      "outputs": []
    },
    {
      "cell_type": "code",
      "source": [
        "from sklearn.preprocessing import StandardScaler\n",
        "sc = StandardScaler()\n",
        "x = sc.fit_transform(x)"
      ],
      "metadata": {
        "id": "_h__5-oou2Ya"
      },
      "execution_count": 68,
      "outputs": []
    },
    {
      "cell_type": "code",
      "source": [
        "xtrain, xtest, ytrain, ytest = train_test_split (x, y, test_size=0.25, random_state=1)"
      ],
      "metadata": {
        "id": "j86mFGLjwSWc"
      },
      "execution_count": 69,
      "outputs": []
    },
    {
      "cell_type": "markdown",
      "source": [
        "## Applying ANN on dataset"
      ],
      "metadata": {
        "id": "LXywnfLY7BMk"
      }
    },
    {
      "cell_type": "code",
      "source": [
        "#step1: Initialise ANN model\n",
        "ann = Sequential()\n",
        "\n",
        "#step2: Add layers\n",
        "ann.add (Dense (units = 12, activation ='relu')) #hidden layer: relu=rectified linear unit\n",
        "ann.add (Dense (units = 12, activation ='relu'))\n",
        "ann.add (Dense (units = 1, activation ='sigmoid')) #output layer:\n",
        "\n",
        "#step3: Establish connection between layers\n",
        "ann.compile (optimizer ='adam', loss='binary_crossentropy') #adam=advance version of gradient descent\n",
        "\n",
        "#step4: train the model\n",
        "ann.fit (xtrain, ytrain, batch_size = 10, epochs = 100,validation_data= (xtest, ytest))"
      ],
      "metadata": {
        "id": "ZghzqVGmxFKR",
        "colab": {
          "base_uri": "https://localhost:8080/"
        },
        "outputId": "1da459b9-d5b0-417a-c319-124d79758af5"
      },
      "execution_count": 70,
      "outputs": [
        {
          "output_type": "stream",
          "name": "stdout",
          "text": [
            "Epoch 1/100\n",
            "41/41 [==============================] - 1s 6ms/step - loss: 0.7656 - val_loss: 0.6959\n",
            "Epoch 2/100\n",
            "41/41 [==============================] - 0s 3ms/step - loss: 0.6456 - val_loss: 0.6807\n",
            "Epoch 3/100\n",
            "41/41 [==============================] - 0s 3ms/step - loss: 0.5948 - val_loss: 0.6856\n",
            "Epoch 4/100\n",
            "41/41 [==============================] - 0s 2ms/step - loss: 0.5676 - val_loss: 0.6859\n",
            "Epoch 5/100\n",
            "41/41 [==============================] - 0s 3ms/step - loss: 0.5484 - val_loss: 0.6750\n",
            "Epoch 6/100\n",
            "41/41 [==============================] - 0s 3ms/step - loss: 0.5291 - val_loss: 0.6633\n",
            "Epoch 7/100\n",
            "41/41 [==============================] - 0s 2ms/step - loss: 0.5123 - val_loss: 0.6600\n",
            "Epoch 8/100\n",
            "41/41 [==============================] - 0s 2ms/step - loss: 0.4991 - val_loss: 0.6631\n",
            "Epoch 9/100\n",
            "41/41 [==============================] - 0s 3ms/step - loss: 0.4860 - val_loss: 0.6539\n",
            "Epoch 10/100\n",
            "41/41 [==============================] - 0s 3ms/step - loss: 0.4770 - val_loss: 0.6484\n",
            "Epoch 11/100\n",
            "41/41 [==============================] - 0s 2ms/step - loss: 0.4691 - val_loss: 0.6499\n",
            "Epoch 12/100\n",
            "41/41 [==============================] - 0s 3ms/step - loss: 0.4635 - val_loss: 0.6516\n",
            "Epoch 13/100\n",
            "41/41 [==============================] - 0s 3ms/step - loss: 0.4592 - val_loss: 0.6547\n",
            "Epoch 14/100\n",
            "41/41 [==============================] - 0s 3ms/step - loss: 0.4548 - val_loss: 0.6590\n",
            "Epoch 15/100\n",
            "41/41 [==============================] - 0s 4ms/step - loss: 0.4521 - val_loss: 0.6598\n",
            "Epoch 16/100\n",
            "41/41 [==============================] - 0s 3ms/step - loss: 0.4498 - val_loss: 0.6667\n",
            "Epoch 17/100\n",
            "41/41 [==============================] - 0s 3ms/step - loss: 0.4459 - val_loss: 0.6610\n",
            "Epoch 18/100\n",
            "41/41 [==============================] - 0s 3ms/step - loss: 0.4453 - val_loss: 0.6706\n",
            "Epoch 19/100\n",
            "41/41 [==============================] - 0s 3ms/step - loss: 0.4426 - val_loss: 0.6633\n",
            "Epoch 20/100\n",
            "41/41 [==============================] - 0s 3ms/step - loss: 0.4402 - val_loss: 0.6707\n",
            "Epoch 21/100\n",
            "41/41 [==============================] - 0s 2ms/step - loss: 0.4376 - val_loss: 0.6707\n",
            "Epoch 22/100\n",
            "41/41 [==============================] - 0s 3ms/step - loss: 0.4365 - val_loss: 0.6736\n",
            "Epoch 23/100\n",
            "41/41 [==============================] - 0s 2ms/step - loss: 0.4351 - val_loss: 0.6823\n",
            "Epoch 24/100\n",
            "41/41 [==============================] - 0s 3ms/step - loss: 0.4329 - val_loss: 0.6736\n",
            "Epoch 25/100\n",
            "41/41 [==============================] - 0s 3ms/step - loss: 0.4321 - val_loss: 0.6709\n",
            "Epoch 26/100\n",
            "41/41 [==============================] - 0s 3ms/step - loss: 0.4307 - val_loss: 0.6812\n",
            "Epoch 27/100\n",
            "41/41 [==============================] - 0s 2ms/step - loss: 0.4297 - val_loss: 0.6865\n",
            "Epoch 28/100\n",
            "41/41 [==============================] - 0s 3ms/step - loss: 0.4283 - val_loss: 0.6783\n",
            "Epoch 29/100\n",
            "41/41 [==============================] - 0s 2ms/step - loss: 0.4269 - val_loss: 0.6754\n",
            "Epoch 30/100\n",
            "41/41 [==============================] - 0s 3ms/step - loss: 0.4258 - val_loss: 0.6725\n",
            "Epoch 31/100\n",
            "41/41 [==============================] - 0s 3ms/step - loss: 0.4247 - val_loss: 0.6792\n",
            "Epoch 32/100\n",
            "41/41 [==============================] - 0s 2ms/step - loss: 0.4236 - val_loss: 0.6784\n",
            "Epoch 33/100\n",
            "41/41 [==============================] - 0s 3ms/step - loss: 0.4232 - val_loss: 0.6844\n",
            "Epoch 34/100\n",
            "41/41 [==============================] - 0s 2ms/step - loss: 0.4209 - val_loss: 0.6765\n",
            "Epoch 35/100\n",
            "41/41 [==============================] - 0s 2ms/step - loss: 0.4195 - val_loss: 0.6855\n",
            "Epoch 36/100\n",
            "41/41 [==============================] - 0s 2ms/step - loss: 0.4197 - val_loss: 0.6785\n",
            "Epoch 37/100\n",
            "41/41 [==============================] - 0s 3ms/step - loss: 0.4172 - val_loss: 0.6816\n",
            "Epoch 38/100\n",
            "41/41 [==============================] - 0s 3ms/step - loss: 0.4183 - val_loss: 0.6767\n",
            "Epoch 39/100\n",
            "41/41 [==============================] - 0s 2ms/step - loss: 0.4173 - val_loss: 0.6857\n",
            "Epoch 40/100\n",
            "41/41 [==============================] - 0s 3ms/step - loss: 0.4149 - val_loss: 0.6890\n",
            "Epoch 41/100\n",
            "41/41 [==============================] - 0s 2ms/step - loss: 0.4145 - val_loss: 0.6903\n",
            "Epoch 42/100\n",
            "41/41 [==============================] - 0s 2ms/step - loss: 0.4119 - val_loss: 0.6877\n",
            "Epoch 43/100\n",
            "41/41 [==============================] - 0s 2ms/step - loss: 0.4115 - val_loss: 0.6869\n",
            "Epoch 44/100\n",
            "41/41 [==============================] - 0s 2ms/step - loss: 0.4119 - val_loss: 0.6879\n",
            "Epoch 45/100\n",
            "41/41 [==============================] - 0s 3ms/step - loss: 0.4095 - val_loss: 0.6881\n",
            "Epoch 46/100\n",
            "41/41 [==============================] - 0s 3ms/step - loss: 0.4088 - val_loss: 0.6834\n",
            "Epoch 47/100\n",
            "41/41 [==============================] - 0s 3ms/step - loss: 0.4085 - val_loss: 0.6952\n",
            "Epoch 48/100\n",
            "41/41 [==============================] - 0s 3ms/step - loss: 0.4066 - val_loss: 0.6834\n",
            "Epoch 49/100\n",
            "41/41 [==============================] - 0s 3ms/step - loss: 0.4053 - val_loss: 0.6935\n",
            "Epoch 50/100\n",
            "41/41 [==============================] - 0s 3ms/step - loss: 0.4037 - val_loss: 0.6953\n",
            "Epoch 51/100\n",
            "41/41 [==============================] - 0s 3ms/step - loss: 0.4027 - val_loss: 0.6907\n",
            "Epoch 52/100\n",
            "41/41 [==============================] - 0s 3ms/step - loss: 0.4015 - val_loss: 0.6946\n",
            "Epoch 53/100\n",
            "41/41 [==============================] - 0s 3ms/step - loss: 0.4003 - val_loss: 0.6955\n",
            "Epoch 54/100\n",
            "41/41 [==============================] - 0s 3ms/step - loss: 0.3995 - val_loss: 0.6916\n",
            "Epoch 55/100\n",
            "41/41 [==============================] - 0s 3ms/step - loss: 0.3972 - val_loss: 0.6931\n",
            "Epoch 56/100\n",
            "41/41 [==============================] - 0s 2ms/step - loss: 0.3963 - val_loss: 0.6954\n",
            "Epoch 57/100\n",
            "41/41 [==============================] - 0s 3ms/step - loss: 0.3953 - val_loss: 0.7054\n",
            "Epoch 58/100\n",
            "41/41 [==============================] - 0s 3ms/step - loss: 0.3952 - val_loss: 0.6997\n",
            "Epoch 59/100\n",
            "41/41 [==============================] - 0s 3ms/step - loss: 0.3935 - val_loss: 0.6997\n",
            "Epoch 60/100\n",
            "41/41 [==============================] - 0s 3ms/step - loss: 0.3917 - val_loss: 0.6929\n",
            "Epoch 61/100\n",
            "41/41 [==============================] - 0s 2ms/step - loss: 0.3904 - val_loss: 0.6984\n",
            "Epoch 62/100\n",
            "41/41 [==============================] - 0s 2ms/step - loss: 0.3894 - val_loss: 0.6971\n",
            "Epoch 63/100\n",
            "41/41 [==============================] - 0s 3ms/step - loss: 0.3875 - val_loss: 0.7012\n",
            "Epoch 64/100\n",
            "41/41 [==============================] - 0s 2ms/step - loss: 0.3879 - val_loss: 0.6980\n",
            "Epoch 65/100\n",
            "41/41 [==============================] - 0s 3ms/step - loss: 0.3846 - val_loss: 0.7062\n",
            "Epoch 66/100\n",
            "41/41 [==============================] - 0s 2ms/step - loss: 0.3842 - val_loss: 0.7063\n",
            "Epoch 67/100\n",
            "41/41 [==============================] - 0s 3ms/step - loss: 0.3836 - val_loss: 0.7107\n",
            "Epoch 68/100\n",
            "41/41 [==============================] - 0s 3ms/step - loss: 0.3818 - val_loss: 0.7101\n",
            "Epoch 69/100\n",
            "41/41 [==============================] - 0s 3ms/step - loss: 0.3808 - val_loss: 0.7093\n",
            "Epoch 70/100\n",
            "41/41 [==============================] - 0s 2ms/step - loss: 0.3801 - val_loss: 0.7154\n",
            "Epoch 71/100\n",
            "41/41 [==============================] - 0s 3ms/step - loss: 0.3780 - val_loss: 0.7146\n",
            "Epoch 72/100\n",
            "41/41 [==============================] - 0s 3ms/step - loss: 0.3779 - val_loss: 0.7211\n",
            "Epoch 73/100\n",
            "41/41 [==============================] - 0s 2ms/step - loss: 0.3751 - val_loss: 0.7175\n",
            "Epoch 74/100\n",
            "41/41 [==============================] - 0s 3ms/step - loss: 0.3728 - val_loss: 0.7254\n",
            "Epoch 75/100\n",
            "41/41 [==============================] - 0s 2ms/step - loss: 0.3711 - val_loss: 0.7246\n",
            "Epoch 76/100\n",
            "41/41 [==============================] - 0s 2ms/step - loss: 0.3710 - val_loss: 0.7289\n",
            "Epoch 77/100\n",
            "41/41 [==============================] - 0s 3ms/step - loss: 0.3686 - val_loss: 0.7275\n",
            "Epoch 78/100\n",
            "41/41 [==============================] - 0s 3ms/step - loss: 0.3678 - val_loss: 0.7239\n",
            "Epoch 79/100\n",
            "41/41 [==============================] - 0s 2ms/step - loss: 0.3669 - val_loss: 0.7271\n",
            "Epoch 80/100\n",
            "41/41 [==============================] - 0s 3ms/step - loss: 0.3664 - val_loss: 0.7277\n",
            "Epoch 81/100\n",
            "41/41 [==============================] - 0s 3ms/step - loss: 0.3647 - val_loss: 0.7372\n",
            "Epoch 82/100\n",
            "41/41 [==============================] - 0s 2ms/step - loss: 0.3635 - val_loss: 0.7366\n",
            "Epoch 83/100\n",
            "41/41 [==============================] - 0s 3ms/step - loss: 0.3614 - val_loss: 0.7351\n",
            "Epoch 84/100\n",
            "41/41 [==============================] - 0s 3ms/step - loss: 0.3606 - val_loss: 0.7445\n",
            "Epoch 85/100\n",
            "41/41 [==============================] - 0s 3ms/step - loss: 0.3593 - val_loss: 0.7328\n",
            "Epoch 86/100\n",
            "41/41 [==============================] - 0s 3ms/step - loss: 0.3588 - val_loss: 0.7427\n",
            "Epoch 87/100\n",
            "41/41 [==============================] - 0s 3ms/step - loss: 0.3579 - val_loss: 0.7442\n",
            "Epoch 88/100\n",
            "41/41 [==============================] - 0s 2ms/step - loss: 0.3558 - val_loss: 0.7489\n",
            "Epoch 89/100\n",
            "41/41 [==============================] - 0s 3ms/step - loss: 0.3550 - val_loss: 0.7570\n",
            "Epoch 90/100\n",
            "41/41 [==============================] - 0s 3ms/step - loss: 0.3543 - val_loss: 0.7562\n",
            "Epoch 91/100\n",
            "41/41 [==============================] - 0s 3ms/step - loss: 0.3520 - val_loss: 0.7546\n",
            "Epoch 92/100\n",
            "41/41 [==============================] - 0s 3ms/step - loss: 0.3523 - val_loss: 0.7612\n",
            "Epoch 93/100\n",
            "41/41 [==============================] - 0s 3ms/step - loss: 0.3503 - val_loss: 0.7538\n",
            "Epoch 94/100\n",
            "41/41 [==============================] - 0s 3ms/step - loss: 0.3496 - val_loss: 0.7639\n",
            "Epoch 95/100\n",
            "41/41 [==============================] - 0s 2ms/step - loss: 0.3475 - val_loss: 0.7659\n",
            "Epoch 96/100\n",
            "41/41 [==============================] - 0s 3ms/step - loss: 0.3478 - val_loss: 0.7672\n",
            "Epoch 97/100\n",
            "41/41 [==============================] - 0s 3ms/step - loss: 0.3460 - val_loss: 0.7522\n",
            "Epoch 98/100\n",
            "41/41 [==============================] - 0s 2ms/step - loss: 0.3454 - val_loss: 0.7632\n",
            "Epoch 99/100\n",
            "41/41 [==============================] - 0s 2ms/step - loss: 0.3430 - val_loss: 0.7718\n",
            "Epoch 100/100\n",
            "41/41 [==============================] - 0s 3ms/step - loss: 0.3421 - val_loss: 0.7759\n"
          ]
        },
        {
          "output_type": "execute_result",
          "data": {
            "text/plain": [
              "<keras.callbacks.History at 0x7ff1bebca150>"
            ]
          },
          "metadata": {},
          "execution_count": 70
        }
      ]
    },
    {
      "cell_type": "code",
      "source": [
        "lossdf = pd.DataFrame(ann.history.history)\n",
        "lossdf.plot()"
      ],
      "metadata": {
        "colab": {
          "base_uri": "https://localhost:8080/",
          "height": 283
        },
        "id": "qjZjDdlyAI1U",
        "outputId": "aed05678-1fcd-4fb4-a4ac-49e03ba993d0"
      },
      "execution_count": 71,
      "outputs": [
        {
          "output_type": "execute_result",
          "data": {
            "text/plain": [
              "<matplotlib.axes._subplots.AxesSubplot at 0x7ff1beb5ddd0>"
            ]
          },
          "metadata": {},
          "execution_count": 71
        },
        {
          "output_type": "display_data",
          "data": {
            "image/png": "[encoded data removed]",
            "text/plain": [
              "<Figure size 432x288 with 1 Axes>"
            ]
          },
          "metadata": {
            "needs_background": "light"
          }
        }
      ]
    },
    {
      "cell_type": "code",
      "source": [
        "#step5: make predictions\n",
        "ypred = ann.predict(xtest)\n",
        "\n",
        "#step6: set the threshold\n",
        "ypred = ypred > 0.5"
      ],
      "metadata": {
        "id": "I9IZxFHAAoUF"
      },
      "execution_count": 72,
      "outputs": []
    },
    {
      "cell_type": "code",
      "source": [
        "print(classification_report(ytest,ypred))"
      ],
      "metadata": {
        "id": "KRgM8bJ4xaXU",
        "colab": {
          "base_uri": "https://localhost:8080/"
        },
        "outputId": "8d4fc176-de1d-4f04-a904-08ec321332a3"
      },
      "execution_count": 73,
      "outputs": [
        {
          "output_type": "stream",
          "name": "stdout",
          "text": [
            "              precision    recall  f1-score   support\n",
            "\n",
            "           0       0.96      0.40      0.56        55\n",
            "           1       0.71      0.99      0.82        81\n",
            "\n",
            "    accuracy                           0.75       136\n",
            "   macro avg       0.83      0.69      0.69       136\n",
            "weighted avg       0.81      0.75      0.72       136\n",
            "\n"
          ]
        }
      ]
    },
    {
      "cell_type": "code",
      "source": [
        "df_new['Loan_Status'].value_counts()"
      ],
      "metadata": {
        "colab": {
          "base_uri": "https://localhost:8080/"
        },
        "id": "E02rmxvR9VDx",
        "outputId": "e0741368-3f3b-402b-927a-323e6d638aff"
      },
      "execution_count": 74,
      "outputs": [
        {
          "output_type": "execute_result",
          "data": {
            "text/plain": [
              "1    376\n",
              "0    166\n",
              "Name: Loan_Status, dtype: int64"
            ]
          },
          "metadata": {},
          "execution_count": 74
        }
      ]
    },
    {
      "cell_type": "code",
      "source": [
        "sns.countplot(data=df,x=\"Loan_Status\")\n",
        "c=df[\"Loan_Status\"].value_counts()\n",
        "plt.yticks(c)\n",
        "plt.show()"
      ],
      "metadata": {
        "colab": {
          "base_uri": "https://localhost:8080/",
          "height": 280
        },
        "id": "C9KiSFvV9U29",
        "outputId": "b6b9d146-6bed-4d2a-9828-b148b50499d3"
      },
      "execution_count": 75,
      "outputs": [
        {
          "output_type": "display_data",
          "data": {
            "image/png": "[encoded data removed]",
            "text/plain": [
              "<Figure size 432x288 with 1 Axes>"
            ]
          },
          "metadata": {
            "needs_background": "light"
          }
        }
      ]
    },
    {
      "cell_type": "code",
      "source": [
        "from imblearn.over_sampling import RandomOverSampler"
      ],
      "metadata": {
        "id": "122-HEn-9T5K"
      },
      "execution_count": 76,
      "outputs": []
    },
    {
      "cell_type": "code",
      "source": [
        "#apply sampling technique \n",
        "#Oversampler\n",
        "#create object of  RandomOverSampler() class\n",
        "ros = RandomOverSampler() \n",
        "#increase records of minority class here yes is minority class "
      ],
      "metadata": {
        "id": "Pzh-YtFw8tu_"
      },
      "execution_count": 77,
      "outputs": []
    },
    {
      "cell_type": "code",
      "source": [
        "#apply randomoversampling for balance\n",
        "xtrain1,ytrain1=ros.fit_resample(xtrain,ytrain)"
      ],
      "metadata": {
        "id": "jQ4ef-sK8yqg"
      },
      "execution_count": 78,
      "outputs": []
    },
    {
      "cell_type": "code",
      "source": [
        "pd.Series(ytrain1).value_counts()"
      ],
      "metadata": {
        "colab": {
          "base_uri": "https://localhost:8080/"
        },
        "id": "6F_mlj8I858q",
        "outputId": "3a7584d4-cf85-4d5f-cec4-0d6e16ec7d3a"
      },
      "execution_count": 79,
      "outputs": [
        {
          "output_type": "execute_result",
          "data": {
            "text/plain": [
              "1    295\n",
              "0    295\n",
              "Name: Loan_Status, dtype: int64"
            ]
          },
          "metadata": {},
          "execution_count": 79
        }
      ]
    },
    {
      "cell_type": "code",
      "source": [
        "#step1: Initialise ANN model\n",
        "ann = Sequential()\n",
        "\n",
        "#step2: Add layers\n",
        "ann.add (Dense (units = 5, activation ='relu')) #hidden layer: relu=rectified linear unit\n",
        "ann.add (Dense (units = 5, activation ='relu'))\n",
        "ann.add (Dense (units = 1, activation ='sigmoid')) #output layer:\n",
        "\n",
        "#step3: Establish connection between layers\n",
        "ann.compile (optimizer ='adam', loss='binary_crossentropy') #adam=advance version of gradient descent\n",
        "\n",
        "#step4: train the model\n",
        "ann.fit (xtrain1, ytrain1, batch_size = 10, epochs = 100,validation_data=(xtest,ytest))"
      ],
      "metadata": {
        "colab": {
          "base_uri": "https://localhost:8080/"
        },
        "id": "StWHBXjB9lUt",
        "outputId": "175bf326-bd04-484e-fd5f-3f3620e77839"
      },
      "execution_count": 80,
      "outputs": [
        {
          "output_type": "stream",
          "name": "stdout",
          "text": [
            "Epoch 1/100\n",
            "59/59 [==============================] - 1s 5ms/step - loss: 0.9727 - val_loss: 0.8475\n",
            "Epoch 2/100\n",
            "59/59 [==============================] - 0s 2ms/step - loss: 0.8383 - val_loss: 0.7848\n",
            "Epoch 3/100\n",
            "59/59 [==============================] - 0s 2ms/step - loss: 0.7703 - val_loss: 0.7448\n",
            "Epoch 4/100\n",
            "59/59 [==============================] - 0s 2ms/step - loss: 0.7321 - val_loss: 0.7258\n",
            "Epoch 5/100\n",
            "59/59 [==============================] - 0s 2ms/step - loss: 0.7120 - val_loss: 0.7137\n",
            "Epoch 6/100\n",
            "59/59 [==============================] - 0s 2ms/step - loss: 0.7001 - val_loss: 0.7053\n",
            "Epoch 7/100\n",
            "59/59 [==============================] - 0s 2ms/step - loss: 0.6918 - val_loss: 0.6990\n",
            "Epoch 8/100\n",
            "59/59 [==============================] - 0s 2ms/step - loss: 0.6848 - val_loss: 0.6938\n",
            "Epoch 9/100\n",
            "59/59 [==============================] - 0s 2ms/step - loss: 0.6783 - val_loss: 0.6886\n",
            "Epoch 10/100\n",
            "59/59 [==============================] - 0s 2ms/step - loss: 0.6716 - val_loss: 0.6836\n",
            "Epoch 11/100\n",
            "59/59 [==============================] - 0s 2ms/step - loss: 0.6650 - val_loss: 0.6781\n",
            "Epoch 12/100\n",
            "59/59 [==============================] - 0s 3ms/step - loss: 0.6588 - val_loss: 0.6727\n",
            "Epoch 13/100\n",
            "59/59 [==============================] - 0s 2ms/step - loss: 0.6526 - val_loss: 0.6676\n",
            "Epoch 14/100\n",
            "59/59 [==============================] - 0s 2ms/step - loss: 0.6468 - val_loss: 0.6623\n",
            "Epoch 15/100\n",
            "59/59 [==============================] - 0s 2ms/step - loss: 0.6390 - val_loss: 0.6548\n",
            "Epoch 16/100\n",
            "59/59 [==============================] - 0s 2ms/step - loss: 0.6305 - val_loss: 0.6447\n",
            "Epoch 17/100\n",
            "59/59 [==============================] - 0s 2ms/step - loss: 0.6197 - val_loss: 0.6323\n",
            "Epoch 18/100\n",
            "59/59 [==============================] - 0s 2ms/step - loss: 0.6102 - val_loss: 0.6226\n",
            "Epoch 19/100\n",
            "59/59 [==============================] - 0s 2ms/step - loss: 0.6021 - val_loss: 0.6118\n",
            "Epoch 20/100\n",
            "59/59 [==============================] - 0s 2ms/step - loss: 0.5935 - val_loss: 0.6009\n",
            "Epoch 21/100\n",
            "59/59 [==============================] - 0s 2ms/step - loss: 0.5848 - val_loss: 0.5909\n",
            "Epoch 22/100\n",
            "59/59 [==============================] - 0s 2ms/step - loss: 0.5765 - val_loss: 0.5835\n",
            "Epoch 23/100\n",
            "59/59 [==============================] - 0s 2ms/step - loss: 0.5681 - val_loss: 0.5745\n",
            "Epoch 24/100\n",
            "59/59 [==============================] - 0s 2ms/step - loss: 0.5607 - val_loss: 0.5663\n",
            "Epoch 25/100\n",
            "59/59 [==============================] - 0s 2ms/step - loss: 0.5532 - val_loss: 0.5588\n",
            "Epoch 26/100\n",
            "59/59 [==============================] - 0s 2ms/step - loss: 0.5468 - val_loss: 0.5530\n",
            "Epoch 27/100\n",
            "59/59 [==============================] - 0s 2ms/step - loss: 0.5417 - val_loss: 0.5471\n",
            "Epoch 28/100\n",
            "59/59 [==============================] - 0s 2ms/step - loss: 0.5361 - val_loss: 0.5434\n",
            "Epoch 29/100\n",
            "59/59 [==============================] - 0s 2ms/step - loss: 0.5321 - val_loss: 0.5394\n",
            "Epoch 30/100\n",
            "59/59 [==============================] - 0s 2ms/step - loss: 0.5288 - val_loss: 0.5369\n",
            "Epoch 31/100\n",
            "59/59 [==============================] - 0s 2ms/step - loss: 0.5255 - val_loss: 0.5344\n",
            "Epoch 32/100\n",
            "59/59 [==============================] - 0s 2ms/step - loss: 0.5227 - val_loss: 0.5319\n",
            "Epoch 33/100\n",
            "59/59 [==============================] - 0s 2ms/step - loss: 0.5198 - val_loss: 0.5303\n",
            "Epoch 34/100\n",
            "59/59 [==============================] - 0s 2ms/step - loss: 0.5175 - val_loss: 0.5273\n",
            "Epoch 35/100\n",
            "59/59 [==============================] - 0s 2ms/step - loss: 0.5153 - val_loss: 0.5270\n",
            "Epoch 36/100\n",
            "59/59 [==============================] - 0s 2ms/step - loss: 0.5140 - val_loss: 0.5273\n",
            "Epoch 37/100\n",
            "59/59 [==============================] - 0s 2ms/step - loss: 0.5119 - val_loss: 0.5258\n",
            "Epoch 38/100\n",
            "59/59 [==============================] - 0s 2ms/step - loss: 0.5105 - val_loss: 0.5250\n",
            "Epoch 39/100\n",
            "59/59 [==============================] - 0s 2ms/step - loss: 0.5102 - val_loss: 0.5250\n",
            "Epoch 40/100\n",
            "59/59 [==============================] - 0s 2ms/step - loss: 0.5086 - val_loss: 0.5251\n",
            "Epoch 41/100\n",
            "59/59 [==============================] - 0s 2ms/step - loss: 0.5064 - val_loss: 0.5251\n",
            "Epoch 42/100\n",
            "59/59 [==============================] - 0s 2ms/step - loss: 0.5052 - val_loss: 0.5267\n",
            "Epoch 43/100\n",
            "59/59 [==============================] - 0s 2ms/step - loss: 0.5042 - val_loss: 0.5260\n",
            "Epoch 44/100\n",
            "59/59 [==============================] - 0s 2ms/step - loss: 0.5030 - val_loss: 0.5279\n",
            "Epoch 45/100\n",
            "59/59 [==============================] - 0s 2ms/step - loss: 0.5017 - val_loss: 0.5282\n",
            "Epoch 46/100\n",
            "59/59 [==============================] - 0s 2ms/step - loss: 0.5007 - val_loss: 0.5284\n",
            "Epoch 47/100\n",
            "59/59 [==============================] - 0s 2ms/step - loss: 0.4991 - val_loss: 0.5301\n",
            "Epoch 48/100\n",
            "59/59 [==============================] - 0s 2ms/step - loss: 0.4995 - val_loss: 0.5304\n",
            "Epoch 49/100\n",
            "59/59 [==============================] - 0s 2ms/step - loss: 0.4969 - val_loss: 0.5321\n",
            "Epoch 50/100\n",
            "59/59 [==============================] - 0s 2ms/step - loss: 0.4954 - val_loss: 0.5327\n",
            "Epoch 51/100\n",
            "59/59 [==============================] - 0s 2ms/step - loss: 0.4946 - val_loss: 0.5330\n",
            "Epoch 52/100\n",
            "59/59 [==============================] - 0s 2ms/step - loss: 0.4932 - val_loss: 0.5346\n",
            "Epoch 53/100\n",
            "59/59 [==============================] - 0s 2ms/step - loss: 0.4923 - val_loss: 0.5362\n",
            "Epoch 54/100\n",
            "59/59 [==============================] - 0s 2ms/step - loss: 0.4910 - val_loss: 0.5364\n",
            "Epoch 55/100\n",
            "59/59 [==============================] - 0s 2ms/step - loss: 0.4905 - val_loss: 0.5365\n",
            "Epoch 56/100\n",
            "59/59 [==============================] - 0s 2ms/step - loss: 0.4895 - val_loss: 0.5351\n",
            "Epoch 57/100\n",
            "59/59 [==============================] - 0s 2ms/step - loss: 0.4896 - val_loss: 0.5356\n",
            "Epoch 58/100\n",
            "59/59 [==============================] - 0s 2ms/step - loss: 0.4875 - val_loss: 0.5366\n",
            "Epoch 59/100\n",
            "59/59 [==============================] - 0s 2ms/step - loss: 0.4868 - val_loss: 0.5366\n",
            "Epoch 60/100\n",
            "59/59 [==============================] - 0s 2ms/step - loss: 0.4856 - val_loss: 0.5357\n",
            "Epoch 61/100\n",
            "59/59 [==============================] - 0s 2ms/step - loss: 0.4849 - val_loss: 0.5370\n",
            "Epoch 62/100\n",
            "59/59 [==============================] - 0s 2ms/step - loss: 0.4840 - val_loss: 0.5374\n",
            "Epoch 63/100\n",
            "59/59 [==============================] - 0s 2ms/step - loss: 0.4828 - val_loss: 0.5379\n",
            "Epoch 64/100\n",
            "59/59 [==============================] - 0s 2ms/step - loss: 0.4818 - val_loss: 0.5371\n",
            "Epoch 65/100\n",
            "59/59 [==============================] - 0s 2ms/step - loss: 0.4800 - val_loss: 0.5372\n",
            "Epoch 66/100\n",
            "59/59 [==============================] - 0s 2ms/step - loss: 0.4794 - val_loss: 0.5375\n",
            "Epoch 67/100\n",
            "59/59 [==============================] - 0s 2ms/step - loss: 0.4782 - val_loss: 0.5366\n",
            "Epoch 68/100\n",
            "59/59 [==============================] - 0s 2ms/step - loss: 0.4774 - val_loss: 0.5369\n",
            "Epoch 69/100\n",
            "59/59 [==============================] - 0s 2ms/step - loss: 0.4759 - val_loss: 0.5368\n",
            "Epoch 70/100\n",
            "59/59 [==============================] - 0s 2ms/step - loss: 0.4743 - val_loss: 0.5391\n",
            "Epoch 71/100\n",
            "59/59 [==============================] - 0s 2ms/step - loss: 0.4743 - val_loss: 0.5388\n",
            "Epoch 72/100\n",
            "59/59 [==============================] - 0s 2ms/step - loss: 0.4735 - val_loss: 0.5377\n",
            "Epoch 73/100\n",
            "59/59 [==============================] - 0s 2ms/step - loss: 0.4710 - val_loss: 0.5398\n",
            "Epoch 74/100\n",
            "59/59 [==============================] - 0s 2ms/step - loss: 0.4706 - val_loss: 0.5414\n",
            "Epoch 75/100\n",
            "59/59 [==============================] - 0s 2ms/step - loss: 0.4690 - val_loss: 0.5409\n",
            "Epoch 76/100\n",
            "59/59 [==============================] - 0s 2ms/step - loss: 0.4688 - val_loss: 0.5419\n",
            "Epoch 77/100\n",
            "59/59 [==============================] - 0s 3ms/step - loss: 0.4676 - val_loss: 0.5425\n",
            "Epoch 78/100\n",
            "59/59 [==============================] - 0s 2ms/step - loss: 0.4662 - val_loss: 0.5420\n",
            "Epoch 79/100\n",
            "59/59 [==============================] - 0s 2ms/step - loss: 0.4662 - val_loss: 0.5434\n",
            "Epoch 80/100\n",
            "59/59 [==============================] - 0s 2ms/step - loss: 0.4641 - val_loss: 0.5414\n",
            "Epoch 81/100\n",
            "59/59 [==============================] - 0s 2ms/step - loss: 0.4634 - val_loss: 0.5432\n",
            "Epoch 82/100\n",
            "59/59 [==============================] - 0s 2ms/step - loss: 0.4625 - val_loss: 0.5421\n",
            "Epoch 83/100\n",
            "59/59 [==============================] - 0s 2ms/step - loss: 0.4621 - val_loss: 0.5453\n",
            "Epoch 84/100\n",
            "59/59 [==============================] - 0s 2ms/step - loss: 0.4606 - val_loss: 0.5440\n",
            "Epoch 85/100\n",
            "59/59 [==============================] - 0s 2ms/step - loss: 0.4603 - val_loss: 0.5453\n",
            "Epoch 86/100\n",
            "59/59 [==============================] - 0s 2ms/step - loss: 0.4593 - val_loss: 0.5453\n",
            "Epoch 87/100\n",
            "59/59 [==============================] - 0s 2ms/step - loss: 0.4590 - val_loss: 0.5474\n",
            "Epoch 88/100\n",
            "59/59 [==============================] - 0s 2ms/step - loss: 0.4584 - val_loss: 0.5475\n",
            "Epoch 89/100\n",
            "59/59 [==============================] - 0s 2ms/step - loss: 0.4564 - val_loss: 0.5497\n",
            "Epoch 90/100\n",
            "59/59 [==============================] - 0s 2ms/step - loss: 0.4563 - val_loss: 0.5503\n",
            "Epoch 91/100\n",
            "59/59 [==============================] - 0s 2ms/step - loss: 0.4556 - val_loss: 0.5500\n",
            "Epoch 92/100\n",
            "59/59 [==============================] - 0s 2ms/step - loss: 0.4547 - val_loss: 0.5525\n",
            "Epoch 93/100\n",
            "59/59 [==============================] - 0s 2ms/step - loss: 0.4549 - val_loss: 0.5541\n",
            "Epoch 94/100\n",
            "59/59 [==============================] - 0s 2ms/step - loss: 0.4534 - val_loss: 0.5564\n",
            "Epoch 95/100\n",
            "59/59 [==============================] - 0s 2ms/step - loss: 0.4528 - val_loss: 0.5583\n",
            "Epoch 96/100\n",
            "59/59 [==============================] - 0s 2ms/step - loss: 0.4526 - val_loss: 0.5589\n",
            "Epoch 97/100\n",
            "59/59 [==============================] - 0s 2ms/step - loss: 0.4516 - val_loss: 0.5601\n",
            "Epoch 98/100\n",
            "59/59 [==============================] - 0s 2ms/step - loss: 0.4510 - val_loss: 0.5644\n",
            "Epoch 99/100\n",
            "59/59 [==============================] - 0s 2ms/step - loss: 0.4497 - val_loss: 0.5623\n",
            "Epoch 100/100\n",
            "59/59 [==============================] - 0s 2ms/step - loss: 0.4492 - val_loss: 0.5653\n"
          ]
        },
        {
          "output_type": "execute_result",
          "data": {
            "text/plain": [
              "<keras.callbacks.History at 0x7ff1bbacaa50>"
            ]
          },
          "metadata": {},
          "execution_count": 80
        }
      ]
    },
    {
      "cell_type": "code",
      "source": [
        "lossdf = pd.DataFrame(ann.history.history)\n",
        "lossdf.plot()"
      ],
      "metadata": {
        "colab": {
          "base_uri": "https://localhost:8080/",
          "height": 283
        },
        "id": "50F9hrtcIfBi",
        "outputId": "3b0cdec9-d2d2-47dd-e64c-eeebfee6894b"
      },
      "execution_count": 81,
      "outputs": [
        {
          "output_type": "execute_result",
          "data": {
            "text/plain": [
              "<matplotlib.axes._subplots.AxesSubplot at 0x7ff1b7b70fd0>"
            ]
          },
          "metadata": {},
          "execution_count": 81
        },
        {
          "output_type": "display_data",
          "data": {
            "image/png": "[encoded data removed]",
            "text/plain": [
              "<Figure size 432x288 with 1 Axes>"
            ]
          },
          "metadata": {
            "needs_background": "light"
          }
        }
      ]
    },
    {
      "cell_type": "code",
      "source": [
        "#step5: make predictions\n",
        "ypred = ann.predict(xtest)\n",
        "\n",
        "#step6: set the threshold\n",
        "ypred = ypred > 0.5"
      ],
      "metadata": {
        "id": "yH4kWWKCIwK0"
      },
      "execution_count": 82,
      "outputs": []
    },
    {
      "cell_type": "code",
      "source": [
        "print(classification_report(ytest,ypred))"
      ],
      "metadata": {
        "colab": {
          "base_uri": "https://localhost:8080/"
        },
        "id": "xHaR8lBb9viJ",
        "outputId": "5556f90d-8ec4-4994-9d03-d4c347caf88f"
      },
      "execution_count": 83,
      "outputs": [
        {
          "output_type": "stream",
          "name": "stdout",
          "text": [
            "              precision    recall  f1-score   support\n",
            "\n",
            "           0       0.90      0.51      0.65        55\n",
            "           1       0.74      0.96      0.84        81\n",
            "\n",
            "    accuracy                           0.78       136\n",
            "   macro avg       0.82      0.74      0.74       136\n",
            "weighted avg       0.81      0.78      0.76       136\n",
            "\n"
          ]
        }
      ]
    },
    {
      "cell_type": "markdown",
      "source": [
        "## Using Earlystop"
      ],
      "metadata": {
        "id": "iVl-3-d-7Hdg"
      }
    },
    {
      "cell_type": "code",
      "source": [
        "from tensorflow.keras.callbacks import EarlyStopping\n",
        "\n",
        "earlystop = EarlyStopping(monitor='val_loss', mode='min', verbose=1, patience= 25)\n",
        "ann.fit(xtrain1, ytrain1, epochs=300,  validation_data=(xtest,ytest),callbacks=[earlystop])"
      ],
      "metadata": {
        "id": "fqayWleWxyyR",
        "colab": {
          "base_uri": "https://localhost:8080/"
        },
        "outputId": "c2776898-0bf3-466d-96d8-bd2717fac576"
      },
      "execution_count": 84,
      "outputs": [
        {
          "output_type": "stream",
          "name": "stdout",
          "text": [
            "Epoch 1/300\n",
            "19/19 [==============================] - 0s 6ms/step - loss: 0.4464 - val_loss: 0.5652\n",
            "Epoch 2/300\n",
            "19/19 [==============================] - 0s 3ms/step - loss: 0.4461 - val_loss: 0.5654\n",
            "Epoch 3/300\n",
            "19/19 [==============================] - 0s 4ms/step - loss: 0.4455 - val_loss: 0.5661\n",
            "Epoch 4/300\n",
            "19/19 [==============================] - 0s 5ms/step - loss: 0.4453 - val_loss: 0.5669\n",
            "Epoch 5/300\n",
            "19/19 [==============================] - 0s 3ms/step - loss: 0.4451 - val_loss: 0.5675\n",
            "Epoch 6/300\n",
            "19/19 [==============================] - 0s 3ms/step - loss: 0.4450 - val_loss: 0.5682\n",
            "Epoch 7/300\n",
            "19/19 [==============================] - 0s 4ms/step - loss: 0.4444 - val_loss: 0.5687\n",
            "Epoch 8/300\n",
            "19/19 [==============================] - 0s 3ms/step - loss: 0.4445 - val_loss: 0.5698\n",
            "Epoch 9/300\n",
            "19/19 [==============================] - 0s 3ms/step - loss: 0.4439 - val_loss: 0.5702\n",
            "Epoch 10/300\n",
            "19/19 [==============================] - 0s 4ms/step - loss: 0.4435 - val_loss: 0.5706\n",
            "Epoch 11/300\n",
            "19/19 [==============================] - 0s 4ms/step - loss: 0.4434 - val_loss: 0.5711\n",
            "Epoch 12/300\n",
            "19/19 [==============================] - 0s 3ms/step - loss: 0.4431 - val_loss: 0.5722\n",
            "Epoch 13/300\n",
            "19/19 [==============================] - 0s 3ms/step - loss: 0.4429 - val_loss: 0.5737\n",
            "Epoch 14/300\n",
            "19/19 [==============================] - 0s 4ms/step - loss: 0.4424 - val_loss: 0.5733\n",
            "Epoch 15/300\n",
            "19/19 [==============================] - 0s 3ms/step - loss: 0.4425 - val_loss: 0.5755\n",
            "Epoch 16/300\n",
            "19/19 [==============================] - 0s 4ms/step - loss: 0.4424 - val_loss: 0.5750\n",
            "Epoch 17/300\n",
            "19/19 [==============================] - 0s 4ms/step - loss: 0.4417 - val_loss: 0.5767\n",
            "Epoch 18/300\n",
            "19/19 [==============================] - 0s 4ms/step - loss: 0.4413 - val_loss: 0.5769\n",
            "Epoch 19/300\n",
            "19/19 [==============================] - 0s 4ms/step - loss: 0.4415 - val_loss: 0.5769\n",
            "Epoch 20/300\n",
            "19/19 [==============================] - 0s 4ms/step - loss: 0.4412 - val_loss: 0.5782\n",
            "Epoch 21/300\n",
            "19/19 [==============================] - 0s 4ms/step - loss: 0.4411 - val_loss: 0.5784\n",
            "Epoch 22/300\n",
            "19/19 [==============================] - 0s 4ms/step - loss: 0.4405 - val_loss: 0.5800\n",
            "Epoch 23/300\n",
            "19/19 [==============================] - 0s 4ms/step - loss: 0.4403 - val_loss: 0.5798\n",
            "Epoch 24/300\n",
            "19/19 [==============================] - 0s 4ms/step - loss: 0.4402 - val_loss: 0.5803\n",
            "Epoch 25/300\n",
            "19/19 [==============================] - 0s 4ms/step - loss: 0.4400 - val_loss: 0.5819\n",
            "Epoch 26/300\n",
            "19/19 [==============================] - 0s 3ms/step - loss: 0.4394 - val_loss: 0.5828\n",
            "Epoch 00026: early stopping\n"
          ]
        },
        {
          "output_type": "execute_result",
          "data": {
            "text/plain": [
              "<keras.callbacks.History at 0x7ff1bab58e50>"
            ]
          },
          "metadata": {},
          "execution_count": 84
        }
      ]
    },
    {
      "cell_type": "code",
      "source": [
        "lossdf = pd.DataFrame(ann.history.history)\n",
        "lossdf.plot()"
      ],
      "metadata": {
        "colab": {
          "base_uri": "https://localhost:8080/",
          "height": 283
        },
        "id": "sdP9UVLhJRDj",
        "outputId": "5dca0800-0b65-4673-92b8-d3f63312c1c2"
      },
      "execution_count": 85,
      "outputs": [
        {
          "output_type": "execute_result",
          "data": {
            "text/plain": [
              "<matplotlib.axes._subplots.AxesSubplot at 0x7ff1baa99750>"
            ]
          },
          "metadata": {},
          "execution_count": 85
        },
        {
          "output_type": "display_data",
          "data": {
            "image/png": "[encoded data removed]",
            "text/plain": [
              "<Figure size 432x288 with 1 Axes>"
            ]
          },
          "metadata": {
            "needs_background": "light"
          }
        }
      ]
    },
    {
      "cell_type": "code",
      "source": [
        "print(classification_report(ytest,ypred))"
      ],
      "metadata": {
        "id": "KnJIZ5uwzgqP",
        "colab": {
          "base_uri": "https://localhost:8080/"
        },
        "outputId": "229250c9-441e-4e28-8d54-bb26a2c9f488"
      },
      "execution_count": 86,
      "outputs": [
        {
          "output_type": "stream",
          "name": "stdout",
          "text": [
            "              precision    recall  f1-score   support\n",
            "\n",
            "           0       0.90      0.51      0.65        55\n",
            "           1       0.74      0.96      0.84        81\n",
            "\n",
            "    accuracy                           0.78       136\n",
            "   macro avg       0.82      0.74      0.74       136\n",
            "weighted avg       0.81      0.78      0.76       136\n",
            "\n"
          ]
        }
      ]
    },
    {
      "cell_type": "code",
      "source": [
        "from tensorflow.keras.layers import Dropout"
      ],
      "metadata": {
        "id": "lrTCnGHizyyE"
      },
      "execution_count": 87,
      "outputs": []
    },
    {
      "cell_type": "code",
      "source": [
        "#step1: Initialise ANN model\n",
        "ann = Sequential()\n",
        "\n",
        "#step2: Add layers\n",
        "ann.add (Dense (units = 5, activation ='relu')) #hidden layer: relu=rectified linear unit\n",
        "ann.add(Dropout(rate=0.2))\n",
        "\n",
        "ann.add (Dense (units = 5, activation ='relu'))\n",
        "ann.add(Dropout(rate=0.2))\n",
        "\n",
        "ann.add (Dense (units = 5, activation ='relu'))\n",
        "ann.add(Dropout(rate=0.2))\n",
        "\n",
        "ann.add (Dense (units = 5, activation ='relu'))\n",
        "ann.add(Dropout(rate=0.2))\n",
        "\n",
        "\n",
        "ann.add (Dense (units = 1, activation ='sigmoid')) #output layer:\n",
        "\n",
        "#step3: Establish connection between layers\n",
        "ann.compile (optimizer ='rmsprop', loss='binary_crossentropy') #adam=advance version of gradient descent\n",
        "\n",
        "#step4: train the model\n",
        "ann.fit (xtrain1, ytrain1, batch_size = 5, epochs = 50,validation_data=(xtest,ytest))"
      ],
      "metadata": {
        "id": "Gmys-wz7z3g-",
        "colab": {
          "base_uri": "https://localhost:8080/"
        },
        "outputId": "9bc4eb3c-0b85-4c1f-e8a8-1be9173be8ee"
      },
      "execution_count": 88,
      "outputs": [
        {
          "output_type": "stream",
          "name": "stdout",
          "text": [
            "Epoch 1/50\n",
            "118/118 [==============================] - 1s 4ms/step - loss: 0.7159 - val_loss: 0.6885\n",
            "Epoch 2/50\n",
            "118/118 [==============================] - 0s 2ms/step - loss: 0.7051 - val_loss: 0.6900\n",
            "Epoch 3/50\n",
            "118/118 [==============================] - 0s 2ms/step - loss: 0.7026 - val_loss: 0.6911\n",
            "Epoch 4/50\n",
            "118/118 [==============================] - 0s 2ms/step - loss: 0.6916 - val_loss: 0.6892\n",
            "Epoch 5/50\n",
            "118/118 [==============================] - 0s 2ms/step - loss: 0.6958 - val_loss: 0.6869\n",
            "Epoch 6/50\n",
            "118/118 [==============================] - 0s 2ms/step - loss: 0.6892 - val_loss: 0.6853\n",
            "Epoch 7/50\n",
            "118/118 [==============================] - 0s 2ms/step - loss: 0.6904 - val_loss: 0.6821\n",
            "Epoch 8/50\n",
            "118/118 [==============================] - 0s 2ms/step - loss: 0.6856 - val_loss: 0.6789\n",
            "Epoch 9/50\n",
            "118/118 [==============================] - 0s 2ms/step - loss: 0.6786 - val_loss: 0.6724\n",
            "Epoch 10/50\n",
            "118/118 [==============================] - 0s 2ms/step - loss: 0.6592 - val_loss: 0.6589\n",
            "Epoch 11/50\n",
            "118/118 [==============================] - 0s 2ms/step - loss: 0.6578 - val_loss: 0.6464\n",
            "Epoch 12/50\n",
            "118/118 [==============================] - 0s 2ms/step - loss: 0.6473 - val_loss: 0.6335\n",
            "Epoch 13/50\n",
            "118/118 [==============================] - 0s 2ms/step - loss: 0.6697 - val_loss: 0.6325\n",
            "Epoch 14/50\n",
            "118/118 [==============================] - 0s 2ms/step - loss: 0.6490 - val_loss: 0.6225\n",
            "Epoch 15/50\n",
            "118/118 [==============================] - 0s 2ms/step - loss: 0.6473 - val_loss: 0.6199\n",
            "Epoch 16/50\n",
            "118/118 [==============================] - 0s 2ms/step - loss: 0.6436 - val_loss: 0.6161\n",
            "Epoch 17/50\n",
            "118/118 [==============================] - 0s 2ms/step - loss: 0.6433 - val_loss: 0.6127\n",
            "Epoch 18/50\n",
            "118/118 [==============================] - 0s 2ms/step - loss: 0.6370 - val_loss: 0.6091\n",
            "Epoch 19/50\n",
            "118/118 [==============================] - 0s 2ms/step - loss: 0.6328 - val_loss: 0.6037\n",
            "Epoch 20/50\n",
            "118/118 [==============================] - 0s 2ms/step - loss: 0.6276 - val_loss: 0.5978\n",
            "Epoch 21/50\n",
            "118/118 [==============================] - 0s 2ms/step - loss: 0.6292 - val_loss: 0.5920\n",
            "Epoch 22/50\n",
            "118/118 [==============================] - 0s 2ms/step - loss: 0.6227 - val_loss: 0.5916\n",
            "Epoch 23/50\n",
            "118/118 [==============================] - 0s 2ms/step - loss: 0.6247 - val_loss: 0.5839\n",
            "Epoch 24/50\n",
            "118/118 [==============================] - 0s 2ms/step - loss: 0.6165 - val_loss: 0.5845\n",
            "Epoch 25/50\n",
            "118/118 [==============================] - 0s 2ms/step - loss: 0.6163 - val_loss: 0.5823\n",
            "Epoch 26/50\n",
            "118/118 [==============================] - 0s 2ms/step - loss: 0.6153 - val_loss: 0.5802\n",
            "Epoch 27/50\n",
            "118/118 [==============================] - 0s 2ms/step - loss: 0.6103 - val_loss: 0.5800\n",
            "Epoch 28/50\n",
            "118/118 [==============================] - 0s 2ms/step - loss: 0.5934 - val_loss: 0.5760\n",
            "Epoch 29/50\n",
            "118/118 [==============================] - 0s 2ms/step - loss: 0.5720 - val_loss: 0.5683\n",
            "Epoch 30/50\n",
            "118/118 [==============================] - 0s 2ms/step - loss: 0.6219 - val_loss: 0.5705\n",
            "Epoch 31/50\n",
            "118/118 [==============================] - 0s 2ms/step - loss: 0.6064 - val_loss: 0.5674\n",
            "Epoch 32/50\n",
            "118/118 [==============================] - 0s 2ms/step - loss: 0.6014 - val_loss: 0.5712\n",
            "Epoch 33/50\n",
            "118/118 [==============================] - 0s 2ms/step - loss: 0.5606 - val_loss: 0.5683\n",
            "Epoch 34/50\n",
            "118/118 [==============================] - 0s 2ms/step - loss: 0.5863 - val_loss: 0.5726\n",
            "Epoch 35/50\n",
            "118/118 [==============================] - 0s 2ms/step - loss: 0.5721 - val_loss: 0.5732\n",
            "Epoch 36/50\n",
            "118/118 [==============================] - 0s 2ms/step - loss: 0.5924 - val_loss: 0.5720\n",
            "Epoch 37/50\n",
            "118/118 [==============================] - 0s 2ms/step - loss: 0.5917 - val_loss: 0.5705\n",
            "Epoch 38/50\n",
            "118/118 [==============================] - 0s 2ms/step - loss: 0.5779 - val_loss: 0.5711\n",
            "Epoch 39/50\n",
            "118/118 [==============================] - 0s 2ms/step - loss: 0.5795 - val_loss: 0.5687\n",
            "Epoch 40/50\n",
            "118/118 [==============================] - 0s 2ms/step - loss: 0.5844 - val_loss: 0.5726\n",
            "Epoch 41/50\n",
            "118/118 [==============================] - 0s 2ms/step - loss: 0.5763 - val_loss: 0.5771\n",
            "Epoch 42/50\n",
            "118/118 [==============================] - 0s 2ms/step - loss: 0.5654 - val_loss: 0.5774\n",
            "Epoch 43/50\n",
            "118/118 [==============================] - 0s 2ms/step - loss: 0.5846 - val_loss: 0.5793\n",
            "Epoch 44/50\n",
            "118/118 [==============================] - 0s 2ms/step - loss: 0.6022 - val_loss: 0.5789\n",
            "Epoch 45/50\n",
            "118/118 [==============================] - 0s 2ms/step - loss: 0.5919 - val_loss: 0.5776\n",
            "Epoch 46/50\n",
            "118/118 [==============================] - 0s 2ms/step - loss: 0.5793 - val_loss: 0.5817\n",
            "Epoch 47/50\n",
            "118/118 [==============================] - 0s 2ms/step - loss: 0.5718 - val_loss: 0.5817\n",
            "Epoch 48/50\n",
            "118/118 [==============================] - 0s 2ms/step - loss: 0.5686 - val_loss: 0.5825\n",
            "Epoch 49/50\n",
            "118/118 [==============================] - 0s 2ms/step - loss: 0.5650 - val_loss: 0.5828\n",
            "Epoch 50/50\n",
            "118/118 [==============================] - 0s 2ms/step - loss: 0.5631 - val_loss: 0.5839\n"
          ]
        },
        {
          "output_type": "execute_result",
          "data": {
            "text/plain": [
              "<keras.callbacks.History at 0x7ff1baa6bad0>"
            ]
          },
          "metadata": {},
          "execution_count": 88
        }
      ]
    },
    {
      "cell_type": "code",
      "source": [
        "lossdf = pd.DataFrame(ann.history.history)\n",
        "lossdf.plot()"
      ],
      "metadata": {
        "colab": {
          "base_uri": "https://localhost:8080/",
          "height": 283
        },
        "id": "qvTpBVDlLMrL",
        "outputId": "744759db-6e81-4023-abe0-83a60e124fed"
      },
      "execution_count": 89,
      "outputs": [
        {
          "output_type": "execute_result",
          "data": {
            "text/plain": [
              "<matplotlib.axes._subplots.AxesSubplot at 0x7ff1b8b8f590>"
            ]
          },
          "metadata": {},
          "execution_count": 89
        },
        {
          "output_type": "display_data",
          "data": {
            "image/png": "[encoded data removed]",
            "text/plain": [
              "<Figure size 432x288 with 1 Axes>"
            ]
          },
          "metadata": {
            "needs_background": "light"
          }
        }
      ]
    },
    {
      "cell_type": "code",
      "source": [
        "#step5: make predictions\n",
        "ypred = ann.predict(xtest)\n",
        "\n",
        "#step6: set the threshold\n",
        "ypred = ypred > 0.5"
      ],
      "metadata": {
        "id": "IEWgK79bLV1F"
      },
      "execution_count": 90,
      "outputs": []
    },
    {
      "cell_type": "code",
      "source": [
        "print(classification_report(ytest,ypred))"
      ],
      "metadata": {
        "id": "taekc_nX0DGj",
        "colab": {
          "base_uri": "https://localhost:8080/"
        },
        "outputId": "430df0ea-f058-4fd4-b7b6-b56593934a0f"
      },
      "execution_count": 91,
      "outputs": [
        {
          "output_type": "stream",
          "name": "stdout",
          "text": [
            "              precision    recall  f1-score   support\n",
            "\n",
            "           0       0.93      0.45      0.61        55\n",
            "           1       0.72      0.98      0.83        81\n",
            "\n",
            "    accuracy                           0.76       136\n",
            "   macro avg       0.83      0.71      0.72       136\n",
            "weighted avg       0.81      0.76      0.74       136\n",
            "\n"
          ]
        }
      ]
    },
    {
      "cell_type": "code",
      "source": [
        "#step1: Initialise ANN model\n",
        "ann = Sequential()\n",
        "\n",
        "#step2: Add layers\n",
        "ann.add (Dense (units = 12, activation ='relu')) #hidden layer: relu=rectified linear unit\n",
        "ann.add(Dropout(rate=0.2))\n",
        "\n",
        "ann.add (Dense (units = 12, activation ='relu'))\n",
        "ann.add(Dropout(rate=0.2))\n",
        "\n",
        "ann.add (Dense (units = 6, activation ='relu'))\n",
        "ann.add(Dropout(rate=0.2))\n",
        "\n",
        "ann.add (Dense (units = 6, activation ='relu'))\n",
        "ann.add(Dropout(rate=0.2))\n",
        "\n",
        "\n",
        "ann.add (Dense (units = 1, activation ='sigmoid')) #output layer:\n",
        "\n",
        "#step3: Establish connection between layers\n",
        "ann.compile (optimizer ='adam', loss='binary_crossentropy') #adam=advance version of gradient descent\n",
        "\n",
        "#step4: train the model\n",
        "ann.fit (xtrain1, ytrain1, batch_size = 10, epochs = 100,validation_data=(xtest,ytest))"
      ],
      "metadata": {
        "colab": {
          "base_uri": "https://localhost:8080/"
        },
        "id": "RCpxrMWsQj3M",
        "outputId": "92bbcb4d-7022-435c-ef08-e3b0fcc0f11f"
      },
      "execution_count": 92,
      "outputs": [
        {
          "output_type": "stream",
          "name": "stdout",
          "text": [
            "Epoch 1/100\n",
            "59/59 [==============================] - 1s 5ms/step - loss: 0.6996 - val_loss: 0.7034\n",
            "Epoch 2/100\n",
            "59/59 [==============================] - 0s 2ms/step - loss: 0.6869 - val_loss: 0.6966\n",
            "Epoch 3/100\n",
            "59/59 [==============================] - 0s 2ms/step - loss: 0.6927 - val_loss: 0.6896\n",
            "Epoch 4/100\n",
            "59/59 [==============================] - 0s 2ms/step - loss: 0.6869 - val_loss: 0.6857\n",
            "Epoch 5/100\n",
            "59/59 [==============================] - 0s 3ms/step - loss: 0.6842 - val_loss: 0.6772\n",
            "Epoch 6/100\n",
            "59/59 [==============================] - 0s 3ms/step - loss: 0.6710 - val_loss: 0.6636\n",
            "Epoch 7/100\n",
            "59/59 [==============================] - 0s 2ms/step - loss: 0.6618 - val_loss: 0.6471\n",
            "Epoch 8/100\n",
            "59/59 [==============================] - 0s 2ms/step - loss: 0.6479 - val_loss: 0.6267\n",
            "Epoch 9/100\n",
            "59/59 [==============================] - 0s 2ms/step - loss: 0.6329 - val_loss: 0.6043\n",
            "Epoch 10/100\n",
            "59/59 [==============================] - 0s 3ms/step - loss: 0.6233 - val_loss: 0.5866\n",
            "Epoch 11/100\n",
            "59/59 [==============================] - 0s 3ms/step - loss: 0.6035 - val_loss: 0.5664\n",
            "Epoch 12/100\n",
            "59/59 [==============================] - 0s 2ms/step - loss: 0.6114 - val_loss: 0.5608\n",
            "Epoch 13/100\n",
            "59/59 [==============================] - 0s 2ms/step - loss: 0.5944 - val_loss: 0.5504\n",
            "Epoch 14/100\n",
            "59/59 [==============================] - 0s 3ms/step - loss: 0.5883 - val_loss: 0.5466\n",
            "Epoch 15/100\n",
            "59/59 [==============================] - 0s 2ms/step - loss: 0.5952 - val_loss: 0.5460\n",
            "Epoch 16/100\n",
            "59/59 [==============================] - 0s 2ms/step - loss: 0.5748 - val_loss: 0.5433\n",
            "Epoch 17/100\n",
            "59/59 [==============================] - 0s 3ms/step - loss: 0.5609 - val_loss: 0.5388\n",
            "Epoch 18/100\n",
            "59/59 [==============================] - 0s 2ms/step - loss: 0.5655 - val_loss: 0.5354\n",
            "Epoch 19/100\n",
            "59/59 [==============================] - 0s 3ms/step - loss: 0.5688 - val_loss: 0.5333\n",
            "Epoch 20/100\n",
            "59/59 [==============================] - 0s 3ms/step - loss: 0.5705 - val_loss: 0.5338\n",
            "Epoch 21/100\n",
            "59/59 [==============================] - 0s 2ms/step - loss: 0.5838 - val_loss: 0.5344\n",
            "Epoch 22/100\n",
            "59/59 [==============================] - 0s 3ms/step - loss: 0.5641 - val_loss: 0.5331\n",
            "Epoch 23/100\n",
            "59/59 [==============================] - 0s 3ms/step - loss: 0.5579 - val_loss: 0.5292\n",
            "Epoch 24/100\n",
            "59/59 [==============================] - 0s 3ms/step - loss: 0.5689 - val_loss: 0.5298\n",
            "Epoch 25/100\n",
            "59/59 [==============================] - 0s 2ms/step - loss: 0.5684 - val_loss: 0.5282\n",
            "Epoch 26/100\n",
            "59/59 [==============================] - 0s 2ms/step - loss: 0.5593 - val_loss: 0.5266\n",
            "Epoch 27/100\n",
            "59/59 [==============================] - 0s 3ms/step - loss: 0.5593 - val_loss: 0.5284\n",
            "Epoch 28/100\n",
            "59/59 [==============================] - 0s 2ms/step - loss: 0.5463 - val_loss: 0.5286\n",
            "Epoch 29/100\n",
            "59/59 [==============================] - 0s 2ms/step - loss: 0.5310 - val_loss: 0.5267\n",
            "Epoch 30/100\n",
            "59/59 [==============================] - 0s 3ms/step - loss: 0.5521 - val_loss: 0.5272\n",
            "Epoch 31/100\n",
            "59/59 [==============================] - 0s 2ms/step - loss: 0.5445 - val_loss: 0.5265\n",
            "Epoch 32/100\n",
            "59/59 [==============================] - 0s 2ms/step - loss: 0.5461 - val_loss: 0.5276\n",
            "Epoch 33/100\n",
            "59/59 [==============================] - 0s 2ms/step - loss: 0.5418 - val_loss: 0.5262\n",
            "Epoch 34/100\n",
            "59/59 [==============================] - 0s 2ms/step - loss: 0.5378 - val_loss: 0.5250\n",
            "Epoch 35/100\n",
            "59/59 [==============================] - 0s 2ms/step - loss: 0.5484 - val_loss: 0.5239\n",
            "Epoch 36/100\n",
            "59/59 [==============================] - 0s 3ms/step - loss: 0.5331 - val_loss: 0.5226\n",
            "Epoch 37/100\n",
            "59/59 [==============================] - 0s 3ms/step - loss: 0.5202 - val_loss: 0.5223\n",
            "Epoch 38/100\n",
            "59/59 [==============================] - 0s 2ms/step - loss: 0.5220 - val_loss: 0.5254\n",
            "Epoch 39/100\n",
            "59/59 [==============================] - 0s 3ms/step - loss: 0.5430 - val_loss: 0.5257\n",
            "Epoch 40/100\n",
            "59/59 [==============================] - 0s 2ms/step - loss: 0.5167 - val_loss: 0.5251\n",
            "Epoch 41/100\n",
            "59/59 [==============================] - 0s 2ms/step - loss: 0.5190 - val_loss: 0.5242\n",
            "Epoch 42/100\n",
            "59/59 [==============================] - 0s 2ms/step - loss: 0.5256 - val_loss: 0.5214\n",
            "Epoch 43/100\n",
            "59/59 [==============================] - 0s 2ms/step - loss: 0.5154 - val_loss: 0.5243\n",
            "Epoch 44/100\n",
            "59/59 [==============================] - 0s 2ms/step - loss: 0.5136 - val_loss: 0.5239\n",
            "Epoch 45/100\n",
            "59/59 [==============================] - 0s 2ms/step - loss: 0.5156 - val_loss: 0.5226\n",
            "Epoch 46/100\n",
            "59/59 [==============================] - 0s 2ms/step - loss: 0.5112 - val_loss: 0.5181\n",
            "Epoch 47/100\n",
            "59/59 [==============================] - 0s 2ms/step - loss: 0.5160 - val_loss: 0.5230\n",
            "Epoch 48/100\n",
            "59/59 [==============================] - 0s 2ms/step - loss: 0.5083 - val_loss: 0.5273\n",
            "Epoch 49/100\n",
            "59/59 [==============================] - 0s 3ms/step - loss: 0.5304 - val_loss: 0.5186\n",
            "Epoch 50/100\n",
            "59/59 [==============================] - 0s 2ms/step - loss: 0.5165 - val_loss: 0.5210\n",
            "Epoch 51/100\n",
            "59/59 [==============================] - 0s 3ms/step - loss: 0.5047 - val_loss: 0.5215\n",
            "Epoch 52/100\n",
            "59/59 [==============================] - 0s 2ms/step - loss: 0.5152 - val_loss: 0.5209\n",
            "Epoch 53/100\n",
            "59/59 [==============================] - 0s 2ms/step - loss: 0.5081 - val_loss: 0.5211\n",
            "Epoch 54/100\n",
            "59/59 [==============================] - 0s 2ms/step - loss: 0.5108 - val_loss: 0.5262\n",
            "Epoch 55/100\n",
            "59/59 [==============================] - 0s 2ms/step - loss: 0.4904 - val_loss: 0.5262\n",
            "Epoch 56/100\n",
            "59/59 [==============================] - 0s 2ms/step - loss: 0.5048 - val_loss: 0.5249\n",
            "Epoch 57/100\n",
            "59/59 [==============================] - 0s 2ms/step - loss: 0.5113 - val_loss: 0.5257\n",
            "Epoch 58/100\n",
            "59/59 [==============================] - 0s 2ms/step - loss: 0.4998 - val_loss: 0.5303\n",
            "Epoch 59/100\n",
            "59/59 [==============================] - 0s 3ms/step - loss: 0.4971 - val_loss: 0.5321\n",
            "Epoch 60/100\n",
            "59/59 [==============================] - 0s 3ms/step - loss: 0.4998 - val_loss: 0.5316\n",
            "Epoch 61/100\n",
            "59/59 [==============================] - 0s 2ms/step - loss: 0.4830 - val_loss: 0.5297\n",
            "Epoch 62/100\n",
            "59/59 [==============================] - 0s 2ms/step - loss: 0.5168 - val_loss: 0.5278\n",
            "Epoch 63/100\n",
            "59/59 [==============================] - 0s 3ms/step - loss: 0.4946 - val_loss: 0.5331\n",
            "Epoch 64/100\n",
            "59/59 [==============================] - 0s 2ms/step - loss: 0.4983 - val_loss: 0.5315\n",
            "Epoch 65/100\n",
            "59/59 [==============================] - 0s 3ms/step - loss: 0.4847 - val_loss: 0.5346\n",
            "Epoch 66/100\n",
            "59/59 [==============================] - 0s 2ms/step - loss: 0.4856 - val_loss: 0.5303\n",
            "Epoch 67/100\n",
            "59/59 [==============================] - 0s 2ms/step - loss: 0.4875 - val_loss: 0.5325\n",
            "Epoch 68/100\n",
            "59/59 [==============================] - 0s 2ms/step - loss: 0.5197 - val_loss: 0.5301\n",
            "Epoch 69/100\n",
            "59/59 [==============================] - 0s 2ms/step - loss: 0.4917 - val_loss: 0.5258\n",
            "Epoch 70/100\n",
            "59/59 [==============================] - 0s 2ms/step - loss: 0.5013 - val_loss: 0.5290\n",
            "Epoch 71/100\n",
            "59/59 [==============================] - 0s 2ms/step - loss: 0.5045 - val_loss: 0.5293\n",
            "Epoch 72/100\n",
            "59/59 [==============================] - 0s 2ms/step - loss: 0.4987 - val_loss: 0.5283\n",
            "Epoch 73/100\n",
            "59/59 [==============================] - 0s 3ms/step - loss: 0.4891 - val_loss: 0.5364\n",
            "Epoch 74/100\n",
            "59/59 [==============================] - 0s 2ms/step - loss: 0.4736 - val_loss: 0.5412\n",
            "Epoch 75/100\n",
            "59/59 [==============================] - 0s 2ms/step - loss: 0.4729 - val_loss: 0.5437\n",
            "Epoch 76/100\n",
            "59/59 [==============================] - 0s 3ms/step - loss: 0.5078 - val_loss: 0.5406\n",
            "Epoch 77/100\n",
            "59/59 [==============================] - 0s 2ms/step - loss: 0.4940 - val_loss: 0.5468\n",
            "Epoch 78/100\n",
            "59/59 [==============================] - 0s 2ms/step - loss: 0.4917 - val_loss: 0.5308\n",
            "Epoch 79/100\n",
            "59/59 [==============================] - 0s 3ms/step - loss: 0.4838 - val_loss: 0.5340\n",
            "Epoch 80/100\n",
            "59/59 [==============================] - 0s 2ms/step - loss: 0.4773 - val_loss: 0.5361\n",
            "Epoch 81/100\n",
            "59/59 [==============================] - 0s 2ms/step - loss: 0.4968 - val_loss: 0.5362\n",
            "Epoch 82/100\n",
            "59/59 [==============================] - 0s 2ms/step - loss: 0.4968 - val_loss: 0.5362\n",
            "Epoch 83/100\n",
            "59/59 [==============================] - 0s 2ms/step - loss: 0.4973 - val_loss: 0.5396\n",
            "Epoch 84/100\n",
            "59/59 [==============================] - 0s 2ms/step - loss: 0.4957 - val_loss: 0.5342\n",
            "Epoch 85/100\n",
            "59/59 [==============================] - 0s 2ms/step - loss: 0.4886 - val_loss: 0.5441\n",
            "Epoch 86/100\n",
            "59/59 [==============================] - 0s 3ms/step - loss: 0.4826 - val_loss: 0.5433\n",
            "Epoch 87/100\n",
            "59/59 [==============================] - 0s 2ms/step - loss: 0.4835 - val_loss: 0.5440\n",
            "Epoch 88/100\n",
            "59/59 [==============================] - 0s 2ms/step - loss: 0.4882 - val_loss: 0.5431\n",
            "Epoch 89/100\n",
            "59/59 [==============================] - 0s 2ms/step - loss: 0.4573 - val_loss: 0.5465\n",
            "Epoch 90/100\n",
            "59/59 [==============================] - 0s 2ms/step - loss: 0.4614 - val_loss: 0.5507\n",
            "Epoch 91/100\n",
            "59/59 [==============================] - 0s 2ms/step - loss: 0.4745 - val_loss: 0.5496\n",
            "Epoch 92/100\n",
            "59/59 [==============================] - 0s 2ms/step - loss: 0.4664 - val_loss: 0.5444\n",
            "Epoch 93/100\n",
            "59/59 [==============================] - 0s 3ms/step - loss: 0.4500 - val_loss: 0.5493\n",
            "Epoch 94/100\n",
            "59/59 [==============================] - 0s 2ms/step - loss: 0.4788 - val_loss: 0.5518\n",
            "Epoch 95/100\n",
            "59/59 [==============================] - 0s 2ms/step - loss: 0.4754 - val_loss: 0.5491\n",
            "Epoch 96/100\n",
            "59/59 [==============================] - 0s 2ms/step - loss: 0.4720 - val_loss: 0.5481\n",
            "Epoch 97/100\n",
            "59/59 [==============================] - 0s 2ms/step - loss: 0.4744 - val_loss: 0.5491\n",
            "Epoch 98/100\n",
            "59/59 [==============================] - 0s 3ms/step - loss: 0.4777 - val_loss: 0.5485\n",
            "Epoch 99/100\n",
            "59/59 [==============================] - 0s 3ms/step - loss: 0.4855 - val_loss: 0.5547\n",
            "Epoch 100/100\n",
            "59/59 [==============================] - 0s 2ms/step - loss: 0.4668 - val_loss: 0.5550\n"
          ]
        },
        {
          "output_type": "execute_result",
          "data": {
            "text/plain": [
              "<keras.callbacks.History at 0x7ff1ba71ccd0>"
            ]
          },
          "metadata": {},
          "execution_count": 92
        }
      ]
    },
    {
      "cell_type": "code",
      "source": [
        "lossdf = pd.DataFrame(ann.history.history)\n",
        "lossdf.plot()"
      ],
      "metadata": {
        "colab": {
          "base_uri": "https://localhost:8080/",
          "height": 283
        },
        "id": "lXPYV91BN50H",
        "outputId": "e659db06-ab52-43b9-e0de-368945eea5b3"
      },
      "execution_count": 93,
      "outputs": [
        {
          "output_type": "execute_result",
          "data": {
            "text/plain": [
              "<matplotlib.axes._subplots.AxesSubplot at 0x7ff1ba6fe950>"
            ]
          },
          "metadata": {},
          "execution_count": 93
        },
        {
          "output_type": "display_data",
          "data": {
            "image/png": "[encoded data removed]",
            "text/plain": [
              "<Figure size 432x288 with 1 Axes>"
            ]
          },
          "metadata": {
            "needs_background": "light"
          }
        }
      ]
    },
    {
      "cell_type": "code",
      "source": [
        "#step5: make predictions\n",
        "ypred = ann.predict(xtest)\n",
        "\n",
        "#step6: set the threshold\n",
        "ypred = ypred > 0.5"
      ],
      "metadata": {
        "id": "kg-xswVyQqzZ"
      },
      "execution_count": 94,
      "outputs": []
    },
    {
      "cell_type": "code",
      "source": [
        "ypred[0]"
      ],
      "metadata": {
        "colab": {
          "base_uri": "https://localhost:8080/"
        },
        "id": "O1scj82l6i06",
        "outputId": "5286d261-0ee6-4d58-bb54-097471ef268a"
      },
      "execution_count": 95,
      "outputs": [
        {
          "output_type": "execute_result",
          "data": {
            "text/plain": [
              "array([ True])"
            ]
          },
          "metadata": {},
          "execution_count": 95
        }
      ]
    },
    {
      "cell_type": "code",
      "source": [
        "print(classification_report(ytest,ypred))"
      ],
      "metadata": {
        "colab": {
          "base_uri": "https://localhost:8080/"
        },
        "id": "kDRxV-CSQuEy",
        "outputId": "4c1be14c-eead-4cdd-ba2b-1a2840b5ac28"
      },
      "execution_count": 96,
      "outputs": [
        {
          "output_type": "stream",
          "name": "stdout",
          "text": [
            "              precision    recall  f1-score   support\n",
            "\n",
            "           0       0.79      0.47      0.59        55\n",
            "           1       0.72      0.91      0.80        81\n",
            "\n",
            "    accuracy                           0.74       136\n",
            "   macro avg       0.75      0.69      0.70       136\n",
            "weighted avg       0.75      0.74      0.72       136\n",
            "\n"
          ]
        }
      ]
    },
    {
      "cell_type": "markdown",
      "source": [
        "## Predicting for Observations taken from Users:"
      ],
      "metadata": {
        "id": "R3fOvsdp2Db5"
      }
    },
    {
      "cell_type": "code",
      "source": [
        "Gender = float(input(\"Type Your Gender\\nType'0' for female & '1' for male:\"))\n",
        "Married = float(input(\"\\nAre you Married?\\nType '1' if yes else type'0':\"))\n",
        "Dependents = float(input(\"\\nHow many family members are dependent upon you? (Maximum 3):\"))\n",
        "Education = int(input(\"\\nAre you graduate?\\nType '1' if you are graduate else type'0':\"))\n",
        "Self_Employed = float(input(\"\\nAre you self employed?\\nType '1' if yes else type'0':\"))\n",
        "ApplicantIncome = int(input(\"\\nWhat is your monthly income?:\"))\n",
        "CoapplicantIncome = float(input(\"\\nWhat is your coapplicant's monthly income?:\"))\n",
        "LoanAmount = float(input(\"\\nWhat is the Loan amount?:\"))\n",
        "Loan_Amount_Term = float(input(\"\\nEnter the Loan_Amount_Term:\"))\n",
        "Credit_History = float(input(\"\\nWhat is your Credit_History\\n 1 or 0?:\"))\n",
        "Property_Area = int(input(\"\\nWhat is the locality of your property?\\ntype '0' for Rural,'1' for Semiurban and '2' for Urban area:\"))\n",
        "\n",
        "\n",
        "newob = sc.transform([[Gender, Married , Dependents, Education, Self_Employed,ApplicantIncome,CoapplicantIncome,LoanAmount,Loan_Amount_Term,Credit_History,Property_Area]])\n",
        "Status = ann.predict(newob)\n",
        "Status = Status > 0.5\n",
        "if Status==True:\n",
        "  print(f\"\\n\\n\\nGreat!!!\\n\\nYour Loan will be approved.\")\n",
        "else:\n",
        "  print(f\"\\n\\n\\nSorry!! \\n\\nYour Loan wont be approved.\")"
      ],
      "metadata": {
        "colab": {
          "base_uri": "https://localhost:8080/"
        },
        "id": "XhZWV9Gj7Fa5",
        "outputId": "b68d41be-278d-44bb-c8fe-8e4aa1bac9f3"
      },
      "execution_count": 97,
      "outputs": [
        {
          "output_type": "stream",
          "name": "stdout",
          "text": [
            "Type Your Gender\n",
            "Type'0' for female & '1' for male:0\n",
            "\n",
            "Are you Married?\n",
            "Type '1' if yes else type'0':1\n",
            "\n",
            "How many family members are dependent upon you? (Maximum 3):2\n",
            "\n",
            "Are you graduate?\n",
            "Type '1' if you are graduate else type'0':1\n",
            "\n",
            "Are you self employed?\n",
            "Type '1' if yes else type'0':1\n",
            "\n",
            "What is your monthly income?:12345\n",
            "\n",
            "What is your coapplicant's monthly income?:155555\n",
            "\n",
            "What is the Loan amount?:1234\n",
            "\n",
            "Enter the Loan_Amount_Term:360\n",
            "\n",
            "What is your Credit_History\n",
            " 1 or 0?:1\n",
            "\n",
            "What is the locality of your property?\n",
            "type '0' for Rural,'1' for Semiurban and '2' for Urban area:1\n",
            "\n",
            "\n",
            "\n",
            "Great!!!\n",
            "\n",
            "Your Loan will be approved.\n"
          ]
        }
      ]
    },
    {
      "cell_type": "code",
      "source": [
        ""
      ],
      "metadata": {
        "id": "g7J5FFOG3p5A"
      },
      "execution_count": 97,
      "outputs": []
    }
  ]
}